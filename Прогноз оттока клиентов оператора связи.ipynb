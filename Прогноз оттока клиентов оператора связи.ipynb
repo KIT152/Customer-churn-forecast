{
 "cells": [
  {
   "cell_type": "markdown",
   "id": "50e4ff6d",
   "metadata": {},
   "source": [
    "# Прогноз оттока клиентов оператора связи"
   ]
  },
  {
   "cell_type": "markdown",
   "id": "bdda2392",
   "metadata": {},
   "source": [
    "# Описание проекта\n",
    "\n",
    "Оператор связи хочет научиться прогнозировать отток клиентов. Если выяснится, что пользователь планирует уйти, ему будут предложены промокоды и специальные условия. Команда оператора собрала персональные данные о некоторых клиентах, информацию об их тарифах и договорах.\n",
    "\n",
    "# Описание услуг\n",
    "\n",
    "Оператор предоставляет два основных типа услуг: \n",
    "\n",
    "1. Стационарную телефонную связь. Возможно подключение телефонного аппарата к нескольким линиям одновременно.\n",
    "2. Интернет. Подключение может быть двух типов: через телефонную линию (DSL*,* от англ. *digital subscriber line*, «цифровая абонентская линия») или оптоволоконный кабель (*Fiber optic*).  \n",
    "\n",
    "Также доступны такие услуги:\n",
    "\n",
    "- Интернет-безопасность: антивирус (*DeviceProtection*) и блокировка небезопасных сайтов (*OnlineSecurity*);\n",
    "- Выделенная линия технической поддержки (*TechSupport*);\n",
    "- Облачное хранилище файлов для резервного копирования данных (*OnlineBackup*);\n",
    "- Стриминговое телевидение (*StreamingTV*) и каталог фильмов (*StreamingMovies*).\n",
    "\n",
    "За услуги клиенты могут платить каждый месяц или заключить договор на 1–2 года. Доступны различные способы расчёта и возможность получения электронного чека.\n",
    "\n",
    "# Описание данных\n",
    "\n",
    "Данные состоят из файлов, полученных из разных источников:\n",
    "\n",
    "- `contract_new.csv` — информация о договоре;\n",
    "- `personal_new.csv` — персональные данные клиента;\n",
    "- `internet_new.csv` — информация об интернет-услугах;\n",
    "- `phone_new.csv` — информация об услугах телефонии.\n",
    "\n",
    "Описание полей данных\n",
    "\n",
    "Во всех файлах столбец `customerID` содержит код клиента.\n",
    "\n",
    "Информация о договорах актуальна на 1 февраля 2020."
   ]
  },
  {
   "cell_type": "markdown",
   "id": "ddb95fbd",
   "metadata": {},
   "source": [
    "# Цель проекта\n",
    "\n",
    "Научиться прогнозировать отток клиетов с помощью обученной модели для решения задачи классификации"
   ]
  },
  {
   "cell_type": "markdown",
   "id": "0fa08025",
   "metadata": {},
   "source": [
    "# Задачи проекта\n",
    "\n",
    "* Загрузить и изучить данные\n",
    "* Сделать предобработку данных\n",
    "* Провести исследовательский анализ данных\n",
    "* Подготовить данные и обучить модели\n",
    "* Оценить эффективность лучшей модели на тестовой выборке"
   ]
  },
  {
   "cell_type": "markdown",
   "id": "1675f567",
   "metadata": {},
   "source": [
    "# План работы\n",
    "\n",
    "1) Загрузить и изучить данные:\n",
    "* Написать краткий вывод\n",
    "\n",
    "2) Сделать предобработку данных:\n",
    "* Объединить таблицы в одну\n",
    "* Проверить наличие и испраить по возможности пропуски/дубликаты/типы данных/выбросы и тд\n",
    "* Написать обо всех изменениях в выводе.\n",
    "\n",
    "3) Провести исследовательский анализ данных:\n",
    "* Написать общий вывод и гипотезы\n",
    "\n",
    "4) Подготовить данные для обучения модели:\n",
    "* Выделить целевой признак\n",
    "* Исследовать корреляцию признаков\n",
    "* Разделить признаки на обучающую и тестовую выборки\n",
    "* Написать обо всех именениях в выводе\n",
    "\n",
    "5) Создать подходящие модели для исследования с оптимизацией гиперпараметров и оценкой кросс-валидации:\n",
    "* LogisticRegression\n",
    "* DecisionTreeClassifier\n",
    "* RandomForestClassifier\n",
    "* Сделать сводную таблицу с результатами и написать краткий вывод\n",
    "\n",
    "6) Исследовать метрику AUC-ROC:\n",
    "* модели LogisticRegression\n",
    "* модели DecisionTreeClassifier\n",
    "* модели RandomForest\n",
    "* Визуализация графика AUC-ROC\n",
    "* Вывод\n",
    "\n",
    "7) Оценить и Accuracy и AUC-ROC лучшей модели на тестовой выборке \n",
    "\n",
    "8) Общий вывод"
   ]
  },
  {
   "cell_type": "markdown",
   "id": "6bd6f3a7",
   "metadata": {},
   "source": [
    "## Загрузим и изучим данные"
   ]
  },
  {
   "cell_type": "code",
   "execution_count": 1,
   "id": "58a73be8",
   "metadata": {},
   "outputs": [
    {
     "name": "stdout",
     "output_type": "stream",
     "text": [
      "Requirement already satisfied: phik in /opt/conda/lib/python3.9/site-packages (0.12.3)\n",
      "Requirement already satisfied: scipy>=1.5.2 in /opt/conda/lib/python3.9/site-packages (from phik) (1.9.1)\n",
      "Requirement already satisfied: numpy>=1.18.0 in /opt/conda/lib/python3.9/site-packages (from phik) (1.21.1)\n",
      "Requirement already satisfied: joblib>=0.14.1 in /opt/conda/lib/python3.9/site-packages (from phik) (1.1.0)\n",
      "Requirement already satisfied: pandas>=0.25.1 in /opt/conda/lib/python3.9/site-packages (from phik) (1.2.4)\n",
      "Requirement already satisfied: matplotlib>=2.2.3 in /opt/conda/lib/python3.9/site-packages (from phik) (3.3.4)\n",
      "Requirement already satisfied: python-dateutil>=2.1 in /opt/conda/lib/python3.9/site-packages (from matplotlib>=2.2.3->phik) (2.8.1)\n",
      "Requirement already satisfied: kiwisolver>=1.0.1 in /opt/conda/lib/python3.9/site-packages (from matplotlib>=2.2.3->phik) (1.4.4)\n",
      "Requirement already satisfied: cycler>=0.10 in /opt/conda/lib/python3.9/site-packages (from matplotlib>=2.2.3->phik) (0.11.0)\n",
      "Requirement already satisfied: pyparsing!=2.0.4,!=2.1.2,!=2.1.6,>=2.0.3 in /opt/conda/lib/python3.9/site-packages (from matplotlib>=2.2.3->phik) (2.4.7)\n",
      "Requirement already satisfied: pillow>=6.2.0 in /opt/conda/lib/python3.9/site-packages (from matplotlib>=2.2.3->phik) (8.4.0)\n",
      "Requirement already satisfied: pytz>=2017.3 in /opt/conda/lib/python3.9/site-packages (from pandas>=0.25.1->phik) (2021.1)\n",
      "Requirement already satisfied: six>=1.5 in /opt/conda/lib/python3.9/site-packages (from python-dateutil>=2.1->matplotlib>=2.2.3->phik) (1.16.0)\n",
      "Note: you may need to restart the kernel to use updated packages.\n"
     ]
    }
   ],
   "source": [
    "%pip install phik\n",
    "\n",
    "import os\n",
    "import pandas as pd\n",
    "import seaborn as sns\n",
    "import matplotlib.pyplot as plt\n",
    "import numpy as np\n",
    "import phik\n",
    "\n",
    "\n",
    "from sklearn.pipeline import Pipeline\n",
    "from sklearn.metrics import accuracy_score, confusion_matrix, roc_auc_score, roc_curve, make_scorer\n",
    "from sklearn.model_selection import train_test_split, cross_val_score, GridSearchCV, StratifiedKFold\n",
    "from sklearn.ensemble import RandomForestClassifier\n",
    "from sklearn.tree import DecisionTreeClassifier\n",
    "from sklearn.linear_model import LogisticRegression\n",
    "from sklearn.dummy import DummyClassifier\n",
    "from sklearn.preprocessing import StandardScaler\n",
    "from sklearn.preprocessing import OneHotEncoder\n",
    "from sklearn.utils import shuffle\n",
    "from catboost import CatBoostClassifier\n",
    "from catboost import Pool\n",
    "\n",
    "plt.rcParams[\"figure.figsize\"] = (15,5)"
   ]
  },
  {
   "cell_type": "code",
   "execution_count": 2,
   "id": "112cb4cc",
   "metadata": {},
   "outputs": [],
   "source": [
    "contract1 = 'C:\\\\Users\\\\torop\\\\Downloads\\\\contract_new.csv'\n",
    "contract2 = '/datasets/contract_new.csv'\n",
    "\n",
    "personal1 = 'C:\\\\Users\\\\torop\\\\Downloads\\\\personal_new.csv'\n",
    "personal2 = '/datasets/personal_new.csv'\n",
    "\n",
    "internet1 = 'C:\\\\Users\\\\torop\\\\Downloads\\\\internet_new.csv'\n",
    "internet2 = '/datasets/internet_new.csv'\n",
    "\n",
    "phone1 = 'C:\\\\Users\\\\torop\\\\Downloads\\\\phone_new.csv'\n",
    "phone2 = '/datasets/phone_new.csv'"
   ]
  },
  {
   "cell_type": "code",
   "execution_count": 3,
   "id": "868bab61",
   "metadata": {},
   "outputs": [],
   "source": [
    "if os.path.exists(contract1):\n",
    "    contract = pd.read_csv(contract1, parse_dates=['BeginDate'])\n",
    "    personal = pd.read_csv(personal1)\n",
    "    internet = pd.read_csv(internet1)\n",
    "    phone = pd.read_csv(phone1)\n",
    "elif os.path.exists(contract2):\n",
    "    contract = pd.read_csv(contract2, parse_dates=['BeginDate'])\n",
    "    personal = pd.read_csv(personal2)\n",
    "    internet = pd.read_csv(internet2)\n",
    "    phone = pd.read_csv(phone2)\n",
    "else:\n",
    "    print('Something is wrong')"
   ]
  },
  {
   "cell_type": "code",
   "execution_count": 4,
   "id": "73095843",
   "metadata": {},
   "outputs": [],
   "source": [
    "def preview(df):\n",
    "    print('Первые 5 строк')\n",
    "    display(df.head())\n",
    "    print('-'*28)\n",
    "    print('Распределение')\n",
    "    print(df.describe())\n",
    "    print('-'*28)\n",
    "    print('Общая информация')\n",
    "    print(df.info())\n",
    "    print('-'*28)\n",
    "    print('Количество пропусков')\n",
    "    print(df.isna().sum())\n",
    "    print('-'*28)\n",
    "    print('Количество дубликатов:', df.duplicated().sum())\n",
    "    print(df.value_counts().sum())"
   ]
  },
  {
   "cell_type": "code",
   "execution_count": 5,
   "id": "3d43f7a4",
   "metadata": {},
   "outputs": [
    {
     "name": "stdout",
     "output_type": "stream",
     "text": [
      "Первые 5 строк\n"
     ]
    },
    {
     "data": {
      "text/html": [
       "<div>\n",
       "<style scoped>\n",
       "    .dataframe tbody tr th:only-of-type {\n",
       "        vertical-align: middle;\n",
       "    }\n",
       "\n",
       "    .dataframe tbody tr th {\n",
       "        vertical-align: top;\n",
       "    }\n",
       "\n",
       "    .dataframe thead th {\n",
       "        text-align: right;\n",
       "    }\n",
       "</style>\n",
       "<table border=\"1\" class=\"dataframe\">\n",
       "  <thead>\n",
       "    <tr style=\"text-align: right;\">\n",
       "      <th></th>\n",
       "      <th>customerID</th>\n",
       "      <th>BeginDate</th>\n",
       "      <th>EndDate</th>\n",
       "      <th>Type</th>\n",
       "      <th>PaperlessBilling</th>\n",
       "      <th>PaymentMethod</th>\n",
       "      <th>MonthlyCharges</th>\n",
       "      <th>TotalCharges</th>\n",
       "    </tr>\n",
       "  </thead>\n",
       "  <tbody>\n",
       "    <tr>\n",
       "      <th>0</th>\n",
       "      <td>7590-VHVEG</td>\n",
       "      <td>2020-01-01</td>\n",
       "      <td>No</td>\n",
       "      <td>Month-to-month</td>\n",
       "      <td>Yes</td>\n",
       "      <td>Electronic check</td>\n",
       "      <td>29.85</td>\n",
       "      <td>31.04</td>\n",
       "    </tr>\n",
       "    <tr>\n",
       "      <th>1</th>\n",
       "      <td>5575-GNVDE</td>\n",
       "      <td>2017-04-01</td>\n",
       "      <td>No</td>\n",
       "      <td>One year</td>\n",
       "      <td>No</td>\n",
       "      <td>Mailed check</td>\n",
       "      <td>56.95</td>\n",
       "      <td>2071.84</td>\n",
       "    </tr>\n",
       "    <tr>\n",
       "      <th>2</th>\n",
       "      <td>3668-QPYBK</td>\n",
       "      <td>2019-10-01</td>\n",
       "      <td>No</td>\n",
       "      <td>Month-to-month</td>\n",
       "      <td>Yes</td>\n",
       "      <td>Mailed check</td>\n",
       "      <td>53.85</td>\n",
       "      <td>226.17</td>\n",
       "    </tr>\n",
       "    <tr>\n",
       "      <th>3</th>\n",
       "      <td>7795-CFOCW</td>\n",
       "      <td>2016-05-01</td>\n",
       "      <td>No</td>\n",
       "      <td>One year</td>\n",
       "      <td>No</td>\n",
       "      <td>Bank transfer (automatic)</td>\n",
       "      <td>42.30</td>\n",
       "      <td>1960.6</td>\n",
       "    </tr>\n",
       "    <tr>\n",
       "      <th>4</th>\n",
       "      <td>9237-HQITU</td>\n",
       "      <td>2019-09-01</td>\n",
       "      <td>No</td>\n",
       "      <td>Month-to-month</td>\n",
       "      <td>Yes</td>\n",
       "      <td>Electronic check</td>\n",
       "      <td>70.70</td>\n",
       "      <td>353.5</td>\n",
       "    </tr>\n",
       "  </tbody>\n",
       "</table>\n",
       "</div>"
      ],
      "text/plain": [
       "   customerID  BeginDate EndDate            Type PaperlessBilling  \\\n",
       "0  7590-VHVEG 2020-01-01      No  Month-to-month              Yes   \n",
       "1  5575-GNVDE 2017-04-01      No        One year               No   \n",
       "2  3668-QPYBK 2019-10-01      No  Month-to-month              Yes   \n",
       "3  7795-CFOCW 2016-05-01      No        One year               No   \n",
       "4  9237-HQITU 2019-09-01      No  Month-to-month              Yes   \n",
       "\n",
       "               PaymentMethod  MonthlyCharges TotalCharges  \n",
       "0           Electronic check           29.85        31.04  \n",
       "1               Mailed check           56.95      2071.84  \n",
       "2               Mailed check           53.85       226.17  \n",
       "3  Bank transfer (automatic)           42.30       1960.6  \n",
       "4           Electronic check           70.70        353.5  "
      ]
     },
     "metadata": {},
     "output_type": "display_data"
    },
    {
     "name": "stdout",
     "output_type": "stream",
     "text": [
      "----------------------------\n",
      "Распределение\n",
      "       MonthlyCharges\n",
      "count     7043.000000\n",
      "mean        64.761692\n",
      "std         30.090047\n",
      "min         18.250000\n",
      "25%         35.500000\n",
      "50%         70.350000\n",
      "75%         89.850000\n",
      "max        118.750000\n",
      "----------------------------\n",
      "Общая информация\n",
      "<class 'pandas.core.frame.DataFrame'>\n",
      "RangeIndex: 7043 entries, 0 to 7042\n",
      "Data columns (total 8 columns):\n",
      " #   Column            Non-Null Count  Dtype         \n",
      "---  ------            --------------  -----         \n",
      " 0   customerID        7043 non-null   object        \n",
      " 1   BeginDate         7043 non-null   datetime64[ns]\n",
      " 2   EndDate           7043 non-null   object        \n",
      " 3   Type              7043 non-null   object        \n",
      " 4   PaperlessBilling  7043 non-null   object        \n",
      " 5   PaymentMethod     7043 non-null   object        \n",
      " 6   MonthlyCharges    7043 non-null   float64       \n",
      " 7   TotalCharges      7043 non-null   object        \n",
      "dtypes: datetime64[ns](1), float64(1), object(6)\n",
      "memory usage: 440.3+ KB\n",
      "None\n",
      "----------------------------\n",
      "Количество пропусков\n",
      "customerID          0\n",
      "BeginDate           0\n",
      "EndDate             0\n",
      "Type                0\n",
      "PaperlessBilling    0\n",
      "PaymentMethod       0\n",
      "MonthlyCharges      0\n",
      "TotalCharges        0\n",
      "dtype: int64\n",
      "----------------------------\n",
      "Количество дубликатов: 0\n",
      "7043\n"
     ]
    }
   ],
   "source": [
    "preview(contract)"
   ]
  },
  {
   "cell_type": "markdown",
   "id": "fd7bef1d",
   "metadata": {},
   "source": [
    "Первичный анализ:\n",
    "1) customerID - Уникальный идентификационный номер\n",
    "\n",
    "2) BeginDate - Дата начала пользования услугами\n",
    "* Думаю нужно привести к формату datetime\n",
    "    \n",
    "3) EndDate - Дата окончания пользования услугами\n",
    "* На основании этих значений сформируем целевой признак (если значение \"No\" - значит клиент действующий)\n",
    "    \n",
    "4) Type - Тип оплаты (за год или помесячно)\n",
    "\n",
    "5) PaperlessBilling - Безналичный расчет\n",
    "\n",
    "6) PaymentMethod - способ оплаты\n",
    "\n",
    "7) MonthlyCharges - ежемесяный платеж\n",
    "\n",
    "8) TotalCharges - общая сумма платежей\n",
    "* Тип данных object, нужно привести к числовому формату"
   ]
  },
  {
   "cell_type": "code",
   "execution_count": 6,
   "id": "6c824e75",
   "metadata": {},
   "outputs": [
    {
     "name": "stdout",
     "output_type": "stream",
     "text": [
      "Первые 5 строк\n"
     ]
    },
    {
     "data": {
      "text/html": [
       "<div>\n",
       "<style scoped>\n",
       "    .dataframe tbody tr th:only-of-type {\n",
       "        vertical-align: middle;\n",
       "    }\n",
       "\n",
       "    .dataframe tbody tr th {\n",
       "        vertical-align: top;\n",
       "    }\n",
       "\n",
       "    .dataframe thead th {\n",
       "        text-align: right;\n",
       "    }\n",
       "</style>\n",
       "<table border=\"1\" class=\"dataframe\">\n",
       "  <thead>\n",
       "    <tr style=\"text-align: right;\">\n",
       "      <th></th>\n",
       "      <th>customerID</th>\n",
       "      <th>gender</th>\n",
       "      <th>SeniorCitizen</th>\n",
       "      <th>Partner</th>\n",
       "      <th>Dependents</th>\n",
       "    </tr>\n",
       "  </thead>\n",
       "  <tbody>\n",
       "    <tr>\n",
       "      <th>0</th>\n",
       "      <td>7590-VHVEG</td>\n",
       "      <td>Female</td>\n",
       "      <td>0</td>\n",
       "      <td>Yes</td>\n",
       "      <td>No</td>\n",
       "    </tr>\n",
       "    <tr>\n",
       "      <th>1</th>\n",
       "      <td>5575-GNVDE</td>\n",
       "      <td>Male</td>\n",
       "      <td>0</td>\n",
       "      <td>No</td>\n",
       "      <td>No</td>\n",
       "    </tr>\n",
       "    <tr>\n",
       "      <th>2</th>\n",
       "      <td>3668-QPYBK</td>\n",
       "      <td>Male</td>\n",
       "      <td>0</td>\n",
       "      <td>No</td>\n",
       "      <td>No</td>\n",
       "    </tr>\n",
       "    <tr>\n",
       "      <th>3</th>\n",
       "      <td>7795-CFOCW</td>\n",
       "      <td>Male</td>\n",
       "      <td>0</td>\n",
       "      <td>No</td>\n",
       "      <td>No</td>\n",
       "    </tr>\n",
       "    <tr>\n",
       "      <th>4</th>\n",
       "      <td>9237-HQITU</td>\n",
       "      <td>Female</td>\n",
       "      <td>0</td>\n",
       "      <td>No</td>\n",
       "      <td>No</td>\n",
       "    </tr>\n",
       "  </tbody>\n",
       "</table>\n",
       "</div>"
      ],
      "text/plain": [
       "   customerID  gender  SeniorCitizen Partner Dependents\n",
       "0  7590-VHVEG  Female              0     Yes         No\n",
       "1  5575-GNVDE    Male              0      No         No\n",
       "2  3668-QPYBK    Male              0      No         No\n",
       "3  7795-CFOCW    Male              0      No         No\n",
       "4  9237-HQITU  Female              0      No         No"
      ]
     },
     "metadata": {},
     "output_type": "display_data"
    },
    {
     "name": "stdout",
     "output_type": "stream",
     "text": [
      "----------------------------\n",
      "Распределение\n",
      "       SeniorCitizen\n",
      "count    7043.000000\n",
      "mean        0.162147\n",
      "std         0.368612\n",
      "min         0.000000\n",
      "25%         0.000000\n",
      "50%         0.000000\n",
      "75%         0.000000\n",
      "max         1.000000\n",
      "----------------------------\n",
      "Общая информация\n",
      "<class 'pandas.core.frame.DataFrame'>\n",
      "RangeIndex: 7043 entries, 0 to 7042\n",
      "Data columns (total 5 columns):\n",
      " #   Column         Non-Null Count  Dtype \n",
      "---  ------         --------------  ----- \n",
      " 0   customerID     7043 non-null   object\n",
      " 1   gender         7043 non-null   object\n",
      " 2   SeniorCitizen  7043 non-null   int64 \n",
      " 3   Partner        7043 non-null   object\n",
      " 4   Dependents     7043 non-null   object\n",
      "dtypes: int64(1), object(4)\n",
      "memory usage: 275.2+ KB\n",
      "None\n",
      "----------------------------\n",
      "Количество пропусков\n",
      "customerID       0\n",
      "gender           0\n",
      "SeniorCitizen    0\n",
      "Partner          0\n",
      "Dependents       0\n",
      "dtype: int64\n",
      "----------------------------\n",
      "Количество дубликатов: 0\n",
      "7043\n"
     ]
    }
   ],
   "source": [
    "preview(personal)"
   ]
  },
  {
   "cell_type": "markdown",
   "id": "8d1c6280",
   "metadata": {},
   "source": [
    "Первичный анализ:\n",
    "1) customerID - Уникальный идентификационный номер\n",
    "\n",
    "2) gender - пол клиента (Male или Female)\n",
    "\n",
    "3) SeniorCitizen - пенсионер ( 1- да, 0 - нет)\n",
    "\n",
    "4) Partner - Семейное положение\n",
    "\n",
    "5) Dependents - Наличие детей"
   ]
  },
  {
   "cell_type": "code",
   "execution_count": 7,
   "id": "852977ac",
   "metadata": {},
   "outputs": [
    {
     "name": "stdout",
     "output_type": "stream",
     "text": [
      "Первые 5 строк\n"
     ]
    },
    {
     "data": {
      "text/html": [
       "<div>\n",
       "<style scoped>\n",
       "    .dataframe tbody tr th:only-of-type {\n",
       "        vertical-align: middle;\n",
       "    }\n",
       "\n",
       "    .dataframe tbody tr th {\n",
       "        vertical-align: top;\n",
       "    }\n",
       "\n",
       "    .dataframe thead th {\n",
       "        text-align: right;\n",
       "    }\n",
       "</style>\n",
       "<table border=\"1\" class=\"dataframe\">\n",
       "  <thead>\n",
       "    <tr style=\"text-align: right;\">\n",
       "      <th></th>\n",
       "      <th>customerID</th>\n",
       "      <th>InternetService</th>\n",
       "      <th>OnlineSecurity</th>\n",
       "      <th>OnlineBackup</th>\n",
       "      <th>DeviceProtection</th>\n",
       "      <th>TechSupport</th>\n",
       "      <th>StreamingTV</th>\n",
       "      <th>StreamingMovies</th>\n",
       "    </tr>\n",
       "  </thead>\n",
       "  <tbody>\n",
       "    <tr>\n",
       "      <th>0</th>\n",
       "      <td>7590-VHVEG</td>\n",
       "      <td>DSL</td>\n",
       "      <td>No</td>\n",
       "      <td>Yes</td>\n",
       "      <td>No</td>\n",
       "      <td>No</td>\n",
       "      <td>No</td>\n",
       "      <td>No</td>\n",
       "    </tr>\n",
       "    <tr>\n",
       "      <th>1</th>\n",
       "      <td>5575-GNVDE</td>\n",
       "      <td>DSL</td>\n",
       "      <td>Yes</td>\n",
       "      <td>No</td>\n",
       "      <td>Yes</td>\n",
       "      <td>No</td>\n",
       "      <td>No</td>\n",
       "      <td>No</td>\n",
       "    </tr>\n",
       "    <tr>\n",
       "      <th>2</th>\n",
       "      <td>3668-QPYBK</td>\n",
       "      <td>DSL</td>\n",
       "      <td>Yes</td>\n",
       "      <td>Yes</td>\n",
       "      <td>No</td>\n",
       "      <td>No</td>\n",
       "      <td>No</td>\n",
       "      <td>No</td>\n",
       "    </tr>\n",
       "    <tr>\n",
       "      <th>3</th>\n",
       "      <td>7795-CFOCW</td>\n",
       "      <td>DSL</td>\n",
       "      <td>Yes</td>\n",
       "      <td>No</td>\n",
       "      <td>Yes</td>\n",
       "      <td>Yes</td>\n",
       "      <td>No</td>\n",
       "      <td>No</td>\n",
       "    </tr>\n",
       "    <tr>\n",
       "      <th>4</th>\n",
       "      <td>9237-HQITU</td>\n",
       "      <td>Fiber optic</td>\n",
       "      <td>No</td>\n",
       "      <td>No</td>\n",
       "      <td>No</td>\n",
       "      <td>No</td>\n",
       "      <td>No</td>\n",
       "      <td>No</td>\n",
       "    </tr>\n",
       "  </tbody>\n",
       "</table>\n",
       "</div>"
      ],
      "text/plain": [
       "   customerID InternetService OnlineSecurity OnlineBackup DeviceProtection  \\\n",
       "0  7590-VHVEG             DSL             No          Yes               No   \n",
       "1  5575-GNVDE             DSL            Yes           No              Yes   \n",
       "2  3668-QPYBK             DSL            Yes          Yes               No   \n",
       "3  7795-CFOCW             DSL            Yes           No              Yes   \n",
       "4  9237-HQITU     Fiber optic             No           No               No   \n",
       "\n",
       "  TechSupport StreamingTV StreamingMovies  \n",
       "0          No          No              No  \n",
       "1          No          No              No  \n",
       "2          No          No              No  \n",
       "3         Yes          No              No  \n",
       "4          No          No              No  "
      ]
     },
     "metadata": {},
     "output_type": "display_data"
    },
    {
     "name": "stdout",
     "output_type": "stream",
     "text": [
      "----------------------------\n",
      "Распределение\n",
      "        customerID InternetService OnlineSecurity OnlineBackup  \\\n",
      "count         5517            5517           5517         5517   \n",
      "unique        5517               2              2            2   \n",
      "top     8734-FNWVH     Fiber optic             No           No   \n",
      "freq             1            3096           3498         3088   \n",
      "\n",
      "       DeviceProtection TechSupport StreamingTV StreamingMovies  \n",
      "count              5517        5517        5517            5517  \n",
      "unique                2           2           2               2  \n",
      "top                  No          No          No              No  \n",
      "freq               3095        3473        2810            2785  \n",
      "----------------------------\n",
      "Общая информация\n",
      "<class 'pandas.core.frame.DataFrame'>\n",
      "RangeIndex: 5517 entries, 0 to 5516\n",
      "Data columns (total 8 columns):\n",
      " #   Column            Non-Null Count  Dtype \n",
      "---  ------            --------------  ----- \n",
      " 0   customerID        5517 non-null   object\n",
      " 1   InternetService   5517 non-null   object\n",
      " 2   OnlineSecurity    5517 non-null   object\n",
      " 3   OnlineBackup      5517 non-null   object\n",
      " 4   DeviceProtection  5517 non-null   object\n",
      " 5   TechSupport       5517 non-null   object\n",
      " 6   StreamingTV       5517 non-null   object\n",
      " 7   StreamingMovies   5517 non-null   object\n",
      "dtypes: object(8)\n",
      "memory usage: 344.9+ KB\n",
      "None\n",
      "----------------------------\n",
      "Количество пропусков\n",
      "customerID          0\n",
      "InternetService     0\n",
      "OnlineSecurity      0\n",
      "OnlineBackup        0\n",
      "DeviceProtection    0\n",
      "TechSupport         0\n",
      "StreamingTV         0\n",
      "StreamingMovies     0\n",
      "dtype: int64\n",
      "----------------------------\n",
      "Количество дубликатов: 0\n",
      "5517\n"
     ]
    }
   ],
   "source": [
    "preview(internet)"
   ]
  },
  {
   "cell_type": "markdown",
   "id": "628bc2bd",
   "metadata": {},
   "source": [
    "Первичный анализ:\n",
    "\n",
    "В таблице информация об использовании сервиса Интернет, если клиента нет в таблице, значит он не испорльзует сервис"
   ]
  },
  {
   "cell_type": "code",
   "execution_count": 8,
   "id": "a07530fd",
   "metadata": {},
   "outputs": [
    {
     "name": "stdout",
     "output_type": "stream",
     "text": [
      "Первые 5 строк\n"
     ]
    },
    {
     "data": {
      "text/html": [
       "<div>\n",
       "<style scoped>\n",
       "    .dataframe tbody tr th:only-of-type {\n",
       "        vertical-align: middle;\n",
       "    }\n",
       "\n",
       "    .dataframe tbody tr th {\n",
       "        vertical-align: top;\n",
       "    }\n",
       "\n",
       "    .dataframe thead th {\n",
       "        text-align: right;\n",
       "    }\n",
       "</style>\n",
       "<table border=\"1\" class=\"dataframe\">\n",
       "  <thead>\n",
       "    <tr style=\"text-align: right;\">\n",
       "      <th></th>\n",
       "      <th>customerID</th>\n",
       "      <th>MultipleLines</th>\n",
       "    </tr>\n",
       "  </thead>\n",
       "  <tbody>\n",
       "    <tr>\n",
       "      <th>0</th>\n",
       "      <td>5575-GNVDE</td>\n",
       "      <td>No</td>\n",
       "    </tr>\n",
       "    <tr>\n",
       "      <th>1</th>\n",
       "      <td>3668-QPYBK</td>\n",
       "      <td>No</td>\n",
       "    </tr>\n",
       "    <tr>\n",
       "      <th>2</th>\n",
       "      <td>9237-HQITU</td>\n",
       "      <td>No</td>\n",
       "    </tr>\n",
       "    <tr>\n",
       "      <th>3</th>\n",
       "      <td>9305-CDSKC</td>\n",
       "      <td>Yes</td>\n",
       "    </tr>\n",
       "    <tr>\n",
       "      <th>4</th>\n",
       "      <td>1452-KIOVK</td>\n",
       "      <td>Yes</td>\n",
       "    </tr>\n",
       "  </tbody>\n",
       "</table>\n",
       "</div>"
      ],
      "text/plain": [
       "   customerID MultipleLines\n",
       "0  5575-GNVDE            No\n",
       "1  3668-QPYBK            No\n",
       "2  9237-HQITU            No\n",
       "3  9305-CDSKC           Yes\n",
       "4  1452-KIOVK           Yes"
      ]
     },
     "metadata": {},
     "output_type": "display_data"
    },
    {
     "name": "stdout",
     "output_type": "stream",
     "text": [
      "----------------------------\n",
      "Распределение\n",
      "        customerID MultipleLines\n",
      "count         6361          6361\n",
      "unique        6361             2\n",
      "top     5228-EXCET            No\n",
      "freq             1          3390\n",
      "----------------------------\n",
      "Общая информация\n",
      "<class 'pandas.core.frame.DataFrame'>\n",
      "RangeIndex: 6361 entries, 0 to 6360\n",
      "Data columns (total 2 columns):\n",
      " #   Column         Non-Null Count  Dtype \n",
      "---  ------         --------------  ----- \n",
      " 0   customerID     6361 non-null   object\n",
      " 1   MultipleLines  6361 non-null   object\n",
      "dtypes: object(2)\n",
      "memory usage: 99.5+ KB\n",
      "None\n",
      "----------------------------\n",
      "Количество пропусков\n",
      "customerID       0\n",
      "MultipleLines    0\n",
      "dtype: int64\n",
      "----------------------------\n",
      "Количество дубликатов: 0\n",
      "6361\n"
     ]
    }
   ],
   "source": [
    "preview(phone)"
   ]
  },
  {
   "cell_type": "markdown",
   "id": "92445f22",
   "metadata": {},
   "source": [
    "Первичный анализ:\n",
    "\n",
    "В таблице информация об использовании сервиса - Телефон, если клиента нет в таблице, значит он не испорльзует сервис"
   ]
  },
  {
   "cell_type": "markdown",
   "id": "f878cb57",
   "metadata": {},
   "source": [
    "Общий вывод:\n",
    "Нужно поработать с типом данных и объединить таблицы"
   ]
  },
  {
   "cell_type": "markdown",
   "id": "f424026b",
   "metadata": {},
   "source": [
    "## Сделаем предобработку данных"
   ]
  },
  {
   "cell_type": "markdown",
   "id": "951d4c4f",
   "metadata": {},
   "source": [
    "### Объединим таблицы для удобства работы"
   ]
  },
  {
   "cell_type": "code",
   "execution_count": 9,
   "id": "eb7497bd",
   "metadata": {},
   "outputs": [],
   "source": [
    "df = contract.set_index('customerID').join(\n",
    "    personal.set_index('customerID')).join(\n",
    "    internet.set_index('customerID')).join(\n",
    "    phone.set_index('customerID'))\n",
    "             "
   ]
  },
  {
   "cell_type": "code",
   "execution_count": 10,
   "id": "1088e2b7",
   "metadata": {},
   "outputs": [
    {
     "name": "stdout",
     "output_type": "stream",
     "text": [
      "<class 'pandas.core.frame.DataFrame'>\n",
      "Index: 7043 entries, 7590-VHVEG to 3186-AJIEK\n",
      "Data columns (total 19 columns):\n",
      " #   Column            Non-Null Count  Dtype         \n",
      "---  ------            --------------  -----         \n",
      " 0   BeginDate         7043 non-null   datetime64[ns]\n",
      " 1   EndDate           7043 non-null   object        \n",
      " 2   Type              7043 non-null   object        \n",
      " 3   PaperlessBilling  7043 non-null   object        \n",
      " 4   PaymentMethod     7043 non-null   object        \n",
      " 5   MonthlyCharges    7043 non-null   float64       \n",
      " 6   TotalCharges      7043 non-null   object        \n",
      " 7   gender            7043 non-null   object        \n",
      " 8   SeniorCitizen     7043 non-null   int64         \n",
      " 9   Partner           7043 non-null   object        \n",
      " 10  Dependents        7043 non-null   object        \n",
      " 11  InternetService   5517 non-null   object        \n",
      " 12  OnlineSecurity    5517 non-null   object        \n",
      " 13  OnlineBackup      5517 non-null   object        \n",
      " 14  DeviceProtection  5517 non-null   object        \n",
      " 15  TechSupport       5517 non-null   object        \n",
      " 16  StreamingTV       5517 non-null   object        \n",
      " 17  StreamingMovies   5517 non-null   object        \n",
      " 18  MultipleLines     6361 non-null   object        \n",
      "dtypes: datetime64[ns](1), float64(1), int64(1), object(16)\n",
      "memory usage: 1.3+ MB\n"
     ]
    }
   ],
   "source": [
    "df.info()"
   ]
  },
  {
   "cell_type": "markdown",
   "id": "00adb5af",
   "metadata": {},
   "source": [
    "### Приведем названия столбцов к нижнему и змеиному регистру"
   ]
  },
  {
   "cell_type": "markdown",
   "id": "10454bee",
   "metadata": {},
   "source": [
    "Приведем названия столбцов к нижнему и змеиному регистру"
   ]
  },
  {
   "cell_type": "code",
   "execution_count": 11,
   "id": "ba68d613",
   "metadata": {},
   "outputs": [],
   "source": [
    "df = df.rename(columns={\n",
    "    'customerID':'customer_id',\n",
    "    'BeginDate':'Begin_Date',\n",
    "    'EndDate':'End_Date',\n",
    "    'PaperlessBilling':'Paperless_Billing',\n",
    "    'PaymentMethod':'Payment_Method',\n",
    "    'MonthlyCharges':'Monthly_Charges',\n",
    "    'TotalCharges' : 'Total_Charges',\n",
    "    'SeniorCitizen':'Senior_Citizen',\n",
    "    'InternetService':'Internet_Service',\n",
    "    'OnlineSecurity':'Online_Security',\n",
    "    'OnlineBackup':'Online_Backup',\n",
    "    'DeviceProtection':'Device_Protection',\n",
    "    'TechSupport' : 'Tech_Support',\n",
    "    'StreamingTV':'Streaming_TV',\n",
    "    'StreamingMovies':'Streaming_Movies',\n",
    "    'MultipleLines':'Multiple_Lines'\n",
    "})"
   ]
  },
  {
   "cell_type": "code",
   "execution_count": 12,
   "id": "2e998197",
   "metadata": {},
   "outputs": [],
   "source": [
    "df.columns = df.columns.str.lower()"
   ]
  },
  {
   "cell_type": "markdown",
   "id": "735fd3fa",
   "metadata": {},
   "source": [
    "Проверим, все ли поменялось"
   ]
  },
  {
   "cell_type": "code",
   "execution_count": 13,
   "id": "5311c12d",
   "metadata": {},
   "outputs": [
    {
     "data": {
      "text/html": [
       "<div>\n",
       "<style scoped>\n",
       "    .dataframe tbody tr th:only-of-type {\n",
       "        vertical-align: middle;\n",
       "    }\n",
       "\n",
       "    .dataframe tbody tr th {\n",
       "        vertical-align: top;\n",
       "    }\n",
       "\n",
       "    .dataframe thead th {\n",
       "        text-align: right;\n",
       "    }\n",
       "</style>\n",
       "<table border=\"1\" class=\"dataframe\">\n",
       "  <thead>\n",
       "    <tr style=\"text-align: right;\">\n",
       "      <th></th>\n",
       "      <th>begin_date</th>\n",
       "      <th>end_date</th>\n",
       "      <th>type</th>\n",
       "      <th>paperless_billing</th>\n",
       "      <th>payment_method</th>\n",
       "      <th>monthly_charges</th>\n",
       "      <th>total_charges</th>\n",
       "      <th>gender</th>\n",
       "      <th>senior_citizen</th>\n",
       "      <th>partner</th>\n",
       "      <th>dependents</th>\n",
       "      <th>internet_service</th>\n",
       "      <th>online_security</th>\n",
       "      <th>online_backup</th>\n",
       "      <th>device_protection</th>\n",
       "      <th>tech_support</th>\n",
       "      <th>streaming_tv</th>\n",
       "      <th>streaming_movies</th>\n",
       "      <th>multiple_lines</th>\n",
       "    </tr>\n",
       "    <tr>\n",
       "      <th>customerID</th>\n",
       "      <th></th>\n",
       "      <th></th>\n",
       "      <th></th>\n",
       "      <th></th>\n",
       "      <th></th>\n",
       "      <th></th>\n",
       "      <th></th>\n",
       "      <th></th>\n",
       "      <th></th>\n",
       "      <th></th>\n",
       "      <th></th>\n",
       "      <th></th>\n",
       "      <th></th>\n",
       "      <th></th>\n",
       "      <th></th>\n",
       "      <th></th>\n",
       "      <th></th>\n",
       "      <th></th>\n",
       "      <th></th>\n",
       "    </tr>\n",
       "  </thead>\n",
       "  <tbody>\n",
       "    <tr>\n",
       "      <th>7590-VHVEG</th>\n",
       "      <td>2020-01-01</td>\n",
       "      <td>No</td>\n",
       "      <td>Month-to-month</td>\n",
       "      <td>Yes</td>\n",
       "      <td>Electronic check</td>\n",
       "      <td>29.85</td>\n",
       "      <td>31.04</td>\n",
       "      <td>Female</td>\n",
       "      <td>0</td>\n",
       "      <td>Yes</td>\n",
       "      <td>No</td>\n",
       "      <td>DSL</td>\n",
       "      <td>No</td>\n",
       "      <td>Yes</td>\n",
       "      <td>No</td>\n",
       "      <td>No</td>\n",
       "      <td>No</td>\n",
       "      <td>No</td>\n",
       "      <td>NaN</td>\n",
       "    </tr>\n",
       "    <tr>\n",
       "      <th>5575-GNVDE</th>\n",
       "      <td>2017-04-01</td>\n",
       "      <td>No</td>\n",
       "      <td>One year</td>\n",
       "      <td>No</td>\n",
       "      <td>Mailed check</td>\n",
       "      <td>56.95</td>\n",
       "      <td>2071.84</td>\n",
       "      <td>Male</td>\n",
       "      <td>0</td>\n",
       "      <td>No</td>\n",
       "      <td>No</td>\n",
       "      <td>DSL</td>\n",
       "      <td>Yes</td>\n",
       "      <td>No</td>\n",
       "      <td>Yes</td>\n",
       "      <td>No</td>\n",
       "      <td>No</td>\n",
       "      <td>No</td>\n",
       "      <td>No</td>\n",
       "    </tr>\n",
       "    <tr>\n",
       "      <th>3668-QPYBK</th>\n",
       "      <td>2019-10-01</td>\n",
       "      <td>No</td>\n",
       "      <td>Month-to-month</td>\n",
       "      <td>Yes</td>\n",
       "      <td>Mailed check</td>\n",
       "      <td>53.85</td>\n",
       "      <td>226.17</td>\n",
       "      <td>Male</td>\n",
       "      <td>0</td>\n",
       "      <td>No</td>\n",
       "      <td>No</td>\n",
       "      <td>DSL</td>\n",
       "      <td>Yes</td>\n",
       "      <td>Yes</td>\n",
       "      <td>No</td>\n",
       "      <td>No</td>\n",
       "      <td>No</td>\n",
       "      <td>No</td>\n",
       "      <td>No</td>\n",
       "    </tr>\n",
       "    <tr>\n",
       "      <th>7795-CFOCW</th>\n",
       "      <td>2016-05-01</td>\n",
       "      <td>No</td>\n",
       "      <td>One year</td>\n",
       "      <td>No</td>\n",
       "      <td>Bank transfer (automatic)</td>\n",
       "      <td>42.30</td>\n",
       "      <td>1960.6</td>\n",
       "      <td>Male</td>\n",
       "      <td>0</td>\n",
       "      <td>No</td>\n",
       "      <td>No</td>\n",
       "      <td>DSL</td>\n",
       "      <td>Yes</td>\n",
       "      <td>No</td>\n",
       "      <td>Yes</td>\n",
       "      <td>Yes</td>\n",
       "      <td>No</td>\n",
       "      <td>No</td>\n",
       "      <td>NaN</td>\n",
       "    </tr>\n",
       "    <tr>\n",
       "      <th>9237-HQITU</th>\n",
       "      <td>2019-09-01</td>\n",
       "      <td>No</td>\n",
       "      <td>Month-to-month</td>\n",
       "      <td>Yes</td>\n",
       "      <td>Electronic check</td>\n",
       "      <td>70.70</td>\n",
       "      <td>353.5</td>\n",
       "      <td>Female</td>\n",
       "      <td>0</td>\n",
       "      <td>No</td>\n",
       "      <td>No</td>\n",
       "      <td>Fiber optic</td>\n",
       "      <td>No</td>\n",
       "      <td>No</td>\n",
       "      <td>No</td>\n",
       "      <td>No</td>\n",
       "      <td>No</td>\n",
       "      <td>No</td>\n",
       "      <td>No</td>\n",
       "    </tr>\n",
       "  </tbody>\n",
       "</table>\n",
       "</div>"
      ],
      "text/plain": [
       "           begin_date end_date            type paperless_billing  \\\n",
       "customerID                                                         \n",
       "7590-VHVEG 2020-01-01       No  Month-to-month               Yes   \n",
       "5575-GNVDE 2017-04-01       No        One year                No   \n",
       "3668-QPYBK 2019-10-01       No  Month-to-month               Yes   \n",
       "7795-CFOCW 2016-05-01       No        One year                No   \n",
       "9237-HQITU 2019-09-01       No  Month-to-month               Yes   \n",
       "\n",
       "                       payment_method  monthly_charges total_charges  gender  \\\n",
       "customerID                                                                     \n",
       "7590-VHVEG           Electronic check            29.85         31.04  Female   \n",
       "5575-GNVDE               Mailed check            56.95       2071.84    Male   \n",
       "3668-QPYBK               Mailed check            53.85        226.17    Male   \n",
       "7795-CFOCW  Bank transfer (automatic)            42.30        1960.6    Male   \n",
       "9237-HQITU           Electronic check            70.70         353.5  Female   \n",
       "\n",
       "            senior_citizen partner dependents internet_service  \\\n",
       "customerID                                                       \n",
       "7590-VHVEG               0     Yes         No              DSL   \n",
       "5575-GNVDE               0      No         No              DSL   \n",
       "3668-QPYBK               0      No         No              DSL   \n",
       "7795-CFOCW               0      No         No              DSL   \n",
       "9237-HQITU               0      No         No      Fiber optic   \n",
       "\n",
       "           online_security online_backup device_protection tech_support  \\\n",
       "customerID                                                                \n",
       "7590-VHVEG              No           Yes                No           No   \n",
       "5575-GNVDE             Yes            No               Yes           No   \n",
       "3668-QPYBK             Yes           Yes                No           No   \n",
       "7795-CFOCW             Yes            No               Yes          Yes   \n",
       "9237-HQITU              No            No                No           No   \n",
       "\n",
       "           streaming_tv streaming_movies multiple_lines  \n",
       "customerID                                               \n",
       "7590-VHVEG           No               No            NaN  \n",
       "5575-GNVDE           No               No             No  \n",
       "3668-QPYBK           No               No             No  \n",
       "7795-CFOCW           No               No            NaN  \n",
       "9237-HQITU           No               No             No  "
      ]
     },
     "execution_count": 13,
     "metadata": {},
     "output_type": "execute_result"
    }
   ],
   "source": [
    "df.head()"
   ]
  },
  {
   "cell_type": "markdown",
   "id": "e93af0d9",
   "metadata": {},
   "source": [
    "Названия привели в порядок, можно преступать к работе с самими данными"
   ]
  },
  {
   "cell_type": "markdown",
   "id": "baebe003",
   "metadata": {},
   "source": [
    "### Исправим типы данных"
   ]
  },
  {
   "cell_type": "markdown",
   "id": "af19faa5",
   "metadata": {},
   "source": [
    "Так как в столбце total_charges при первичном анализе стоит тип данных object, но не нашли пропуски, предположу что в этом столбце присутствуют неявные пропуски, а именно просто пустые значения. Заменим и попробуем изметить тип данных"
   ]
  },
  {
   "cell_type": "code",
   "execution_count": 14,
   "id": "031e8499",
   "metadata": {},
   "outputs": [
    {
     "name": "stdout",
     "output_type": "stream",
     "text": [
      "<class 'pandas.core.frame.DataFrame'>\n",
      "Index: 7043 entries, 7590-VHVEG to 3186-AJIEK\n",
      "Data columns (total 19 columns):\n",
      " #   Column             Non-Null Count  Dtype         \n",
      "---  ------             --------------  -----         \n",
      " 0   begin_date         7043 non-null   datetime64[ns]\n",
      " 1   end_date           7043 non-null   object        \n",
      " 2   type               7043 non-null   object        \n",
      " 3   paperless_billing  7043 non-null   object        \n",
      " 4   payment_method     7043 non-null   object        \n",
      " 5   monthly_charges    7043 non-null   float64       \n",
      " 6   total_charges      7043 non-null   float64       \n",
      " 7   gender             7043 non-null   object        \n",
      " 8   senior_citizen     7043 non-null   int64         \n",
      " 9   partner            7043 non-null   object        \n",
      " 10  dependents         7043 non-null   object        \n",
      " 11  internet_service   5517 non-null   object        \n",
      " 12  online_security    5517 non-null   object        \n",
      " 13  online_backup      5517 non-null   object        \n",
      " 14  device_protection  5517 non-null   object        \n",
      " 15  tech_support       5517 non-null   object        \n",
      " 16  streaming_tv       5517 non-null   object        \n",
      " 17  streaming_movies   5517 non-null   object        \n",
      " 18  multiple_lines     6361 non-null   object        \n",
      "dtypes: datetime64[ns](1), float64(2), int64(1), object(15)\n",
      "memory usage: 1.3+ MB\n"
     ]
    }
   ],
   "source": [
    "df['total_charges'] = df['total_charges'].replace([' '], 0)\n",
    "df['total_charges'] = df['total_charges'].astype(float)\n",
    "df.info()"
   ]
  },
  {
   "cell_type": "markdown",
   "id": "5e83c870",
   "metadata": {},
   "source": [
    "Попробуем выяснить причину пропусков"
   ]
  },
  {
   "cell_type": "code",
   "execution_count": 15,
   "id": "469087f4",
   "metadata": {},
   "outputs": [
    {
     "data": {
      "text/html": [
       "<div>\n",
       "<style scoped>\n",
       "    .dataframe tbody tr th:only-of-type {\n",
       "        vertical-align: middle;\n",
       "    }\n",
       "\n",
       "    .dataframe tbody tr th {\n",
       "        vertical-align: top;\n",
       "    }\n",
       "\n",
       "    .dataframe thead th {\n",
       "        text-align: right;\n",
       "    }\n",
       "</style>\n",
       "<table border=\"1\" class=\"dataframe\">\n",
       "  <thead>\n",
       "    <tr style=\"text-align: right;\">\n",
       "      <th></th>\n",
       "      <th>begin_date</th>\n",
       "      <th>end_date</th>\n",
       "      <th>type</th>\n",
       "      <th>paperless_billing</th>\n",
       "      <th>payment_method</th>\n",
       "      <th>monthly_charges</th>\n",
       "      <th>total_charges</th>\n",
       "      <th>gender</th>\n",
       "      <th>senior_citizen</th>\n",
       "      <th>partner</th>\n",
       "      <th>dependents</th>\n",
       "      <th>internet_service</th>\n",
       "      <th>online_security</th>\n",
       "      <th>online_backup</th>\n",
       "      <th>device_protection</th>\n",
       "      <th>tech_support</th>\n",
       "      <th>streaming_tv</th>\n",
       "      <th>streaming_movies</th>\n",
       "      <th>multiple_lines</th>\n",
       "    </tr>\n",
       "    <tr>\n",
       "      <th>customerID</th>\n",
       "      <th></th>\n",
       "      <th></th>\n",
       "      <th></th>\n",
       "      <th></th>\n",
       "      <th></th>\n",
       "      <th></th>\n",
       "      <th></th>\n",
       "      <th></th>\n",
       "      <th></th>\n",
       "      <th></th>\n",
       "      <th></th>\n",
       "      <th></th>\n",
       "      <th></th>\n",
       "      <th></th>\n",
       "      <th></th>\n",
       "      <th></th>\n",
       "      <th></th>\n",
       "      <th></th>\n",
       "      <th></th>\n",
       "    </tr>\n",
       "  </thead>\n",
       "  <tbody>\n",
       "    <tr>\n",
       "      <th>4472-LVYGI</th>\n",
       "      <td>2020-02-01</td>\n",
       "      <td>No</td>\n",
       "      <td>Two year</td>\n",
       "      <td>Yes</td>\n",
       "      <td>Bank transfer (automatic)</td>\n",
       "      <td>52.55</td>\n",
       "      <td>0.0</td>\n",
       "      <td>Female</td>\n",
       "      <td>0</td>\n",
       "      <td>Yes</td>\n",
       "      <td>Yes</td>\n",
       "      <td>DSL</td>\n",
       "      <td>Yes</td>\n",
       "      <td>No</td>\n",
       "      <td>Yes</td>\n",
       "      <td>Yes</td>\n",
       "      <td>Yes</td>\n",
       "      <td>No</td>\n",
       "      <td>NaN</td>\n",
       "    </tr>\n",
       "    <tr>\n",
       "      <th>3115-CZMZD</th>\n",
       "      <td>2020-02-01</td>\n",
       "      <td>No</td>\n",
       "      <td>Two year</td>\n",
       "      <td>No</td>\n",
       "      <td>Mailed check</td>\n",
       "      <td>20.25</td>\n",
       "      <td>0.0</td>\n",
       "      <td>Male</td>\n",
       "      <td>0</td>\n",
       "      <td>No</td>\n",
       "      <td>Yes</td>\n",
       "      <td>NaN</td>\n",
       "      <td>NaN</td>\n",
       "      <td>NaN</td>\n",
       "      <td>NaN</td>\n",
       "      <td>NaN</td>\n",
       "      <td>NaN</td>\n",
       "      <td>NaN</td>\n",
       "      <td>No</td>\n",
       "    </tr>\n",
       "    <tr>\n",
       "      <th>5709-LVOEQ</th>\n",
       "      <td>2020-02-01</td>\n",
       "      <td>No</td>\n",
       "      <td>Two year</td>\n",
       "      <td>No</td>\n",
       "      <td>Mailed check</td>\n",
       "      <td>80.85</td>\n",
       "      <td>0.0</td>\n",
       "      <td>Female</td>\n",
       "      <td>0</td>\n",
       "      <td>Yes</td>\n",
       "      <td>Yes</td>\n",
       "      <td>DSL</td>\n",
       "      <td>Yes</td>\n",
       "      <td>Yes</td>\n",
       "      <td>Yes</td>\n",
       "      <td>No</td>\n",
       "      <td>Yes</td>\n",
       "      <td>Yes</td>\n",
       "      <td>No</td>\n",
       "    </tr>\n",
       "    <tr>\n",
       "      <th>4367-NUYAO</th>\n",
       "      <td>2020-02-01</td>\n",
       "      <td>No</td>\n",
       "      <td>Two year</td>\n",
       "      <td>No</td>\n",
       "      <td>Mailed check</td>\n",
       "      <td>25.75</td>\n",
       "      <td>0.0</td>\n",
       "      <td>Male</td>\n",
       "      <td>0</td>\n",
       "      <td>Yes</td>\n",
       "      <td>Yes</td>\n",
       "      <td>NaN</td>\n",
       "      <td>NaN</td>\n",
       "      <td>NaN</td>\n",
       "      <td>NaN</td>\n",
       "      <td>NaN</td>\n",
       "      <td>NaN</td>\n",
       "      <td>NaN</td>\n",
       "      <td>Yes</td>\n",
       "    </tr>\n",
       "    <tr>\n",
       "      <th>1371-DWPAZ</th>\n",
       "      <td>2020-02-01</td>\n",
       "      <td>No</td>\n",
       "      <td>Two year</td>\n",
       "      <td>No</td>\n",
       "      <td>Credit card (automatic)</td>\n",
       "      <td>56.05</td>\n",
       "      <td>0.0</td>\n",
       "      <td>Female</td>\n",
       "      <td>0</td>\n",
       "      <td>Yes</td>\n",
       "      <td>Yes</td>\n",
       "      <td>DSL</td>\n",
       "      <td>Yes</td>\n",
       "      <td>Yes</td>\n",
       "      <td>Yes</td>\n",
       "      <td>Yes</td>\n",
       "      <td>Yes</td>\n",
       "      <td>No</td>\n",
       "      <td>NaN</td>\n",
       "    </tr>\n",
       "    <tr>\n",
       "      <th>7644-OMVMY</th>\n",
       "      <td>2020-02-01</td>\n",
       "      <td>No</td>\n",
       "      <td>Two year</td>\n",
       "      <td>No</td>\n",
       "      <td>Mailed check</td>\n",
       "      <td>19.85</td>\n",
       "      <td>0.0</td>\n",
       "      <td>Male</td>\n",
       "      <td>0</td>\n",
       "      <td>Yes</td>\n",
       "      <td>Yes</td>\n",
       "      <td>NaN</td>\n",
       "      <td>NaN</td>\n",
       "      <td>NaN</td>\n",
       "      <td>NaN</td>\n",
       "      <td>NaN</td>\n",
       "      <td>NaN</td>\n",
       "      <td>NaN</td>\n",
       "      <td>No</td>\n",
       "    </tr>\n",
       "    <tr>\n",
       "      <th>3213-VVOLG</th>\n",
       "      <td>2020-02-01</td>\n",
       "      <td>No</td>\n",
       "      <td>Two year</td>\n",
       "      <td>No</td>\n",
       "      <td>Mailed check</td>\n",
       "      <td>25.35</td>\n",
       "      <td>0.0</td>\n",
       "      <td>Male</td>\n",
       "      <td>0</td>\n",
       "      <td>Yes</td>\n",
       "      <td>Yes</td>\n",
       "      <td>NaN</td>\n",
       "      <td>NaN</td>\n",
       "      <td>NaN</td>\n",
       "      <td>NaN</td>\n",
       "      <td>NaN</td>\n",
       "      <td>NaN</td>\n",
       "      <td>NaN</td>\n",
       "      <td>Yes</td>\n",
       "    </tr>\n",
       "    <tr>\n",
       "      <th>2520-SGTTA</th>\n",
       "      <td>2020-02-01</td>\n",
       "      <td>No</td>\n",
       "      <td>Two year</td>\n",
       "      <td>No</td>\n",
       "      <td>Mailed check</td>\n",
       "      <td>20.00</td>\n",
       "      <td>0.0</td>\n",
       "      <td>Female</td>\n",
       "      <td>0</td>\n",
       "      <td>Yes</td>\n",
       "      <td>Yes</td>\n",
       "      <td>NaN</td>\n",
       "      <td>NaN</td>\n",
       "      <td>NaN</td>\n",
       "      <td>NaN</td>\n",
       "      <td>NaN</td>\n",
       "      <td>NaN</td>\n",
       "      <td>NaN</td>\n",
       "      <td>No</td>\n",
       "    </tr>\n",
       "    <tr>\n",
       "      <th>2923-ARZLG</th>\n",
       "      <td>2020-02-01</td>\n",
       "      <td>No</td>\n",
       "      <td>One year</td>\n",
       "      <td>Yes</td>\n",
       "      <td>Mailed check</td>\n",
       "      <td>19.70</td>\n",
       "      <td>0.0</td>\n",
       "      <td>Male</td>\n",
       "      <td>0</td>\n",
       "      <td>Yes</td>\n",
       "      <td>Yes</td>\n",
       "      <td>NaN</td>\n",
       "      <td>NaN</td>\n",
       "      <td>NaN</td>\n",
       "      <td>NaN</td>\n",
       "      <td>NaN</td>\n",
       "      <td>NaN</td>\n",
       "      <td>NaN</td>\n",
       "      <td>No</td>\n",
       "    </tr>\n",
       "    <tr>\n",
       "      <th>4075-WKNIU</th>\n",
       "      <td>2020-02-01</td>\n",
       "      <td>No</td>\n",
       "      <td>Two year</td>\n",
       "      <td>No</td>\n",
       "      <td>Mailed check</td>\n",
       "      <td>73.35</td>\n",
       "      <td>0.0</td>\n",
       "      <td>Female</td>\n",
       "      <td>0</td>\n",
       "      <td>Yes</td>\n",
       "      <td>Yes</td>\n",
       "      <td>DSL</td>\n",
       "      <td>No</td>\n",
       "      <td>Yes</td>\n",
       "      <td>Yes</td>\n",
       "      <td>Yes</td>\n",
       "      <td>Yes</td>\n",
       "      <td>No</td>\n",
       "      <td>Yes</td>\n",
       "    </tr>\n",
       "    <tr>\n",
       "      <th>2775-SEFEE</th>\n",
       "      <td>2020-02-01</td>\n",
       "      <td>No</td>\n",
       "      <td>Two year</td>\n",
       "      <td>Yes</td>\n",
       "      <td>Bank transfer (automatic)</td>\n",
       "      <td>61.90</td>\n",
       "      <td>0.0</td>\n",
       "      <td>Male</td>\n",
       "      <td>0</td>\n",
       "      <td>No</td>\n",
       "      <td>Yes</td>\n",
       "      <td>DSL</td>\n",
       "      <td>Yes</td>\n",
       "      <td>Yes</td>\n",
       "      <td>No</td>\n",
       "      <td>Yes</td>\n",
       "      <td>No</td>\n",
       "      <td>No</td>\n",
       "      <td>Yes</td>\n",
       "    </tr>\n",
       "  </tbody>\n",
       "</table>\n",
       "</div>"
      ],
      "text/plain": [
       "           begin_date end_date      type paperless_billing  \\\n",
       "customerID                                                   \n",
       "4472-LVYGI 2020-02-01       No  Two year               Yes   \n",
       "3115-CZMZD 2020-02-01       No  Two year                No   \n",
       "5709-LVOEQ 2020-02-01       No  Two year                No   \n",
       "4367-NUYAO 2020-02-01       No  Two year                No   \n",
       "1371-DWPAZ 2020-02-01       No  Two year                No   \n",
       "7644-OMVMY 2020-02-01       No  Two year                No   \n",
       "3213-VVOLG 2020-02-01       No  Two year                No   \n",
       "2520-SGTTA 2020-02-01       No  Two year                No   \n",
       "2923-ARZLG 2020-02-01       No  One year               Yes   \n",
       "4075-WKNIU 2020-02-01       No  Two year                No   \n",
       "2775-SEFEE 2020-02-01       No  Two year               Yes   \n",
       "\n",
       "                       payment_method  monthly_charges  total_charges  gender  \\\n",
       "customerID                                                                      \n",
       "4472-LVYGI  Bank transfer (automatic)            52.55            0.0  Female   \n",
       "3115-CZMZD               Mailed check            20.25            0.0    Male   \n",
       "5709-LVOEQ               Mailed check            80.85            0.0  Female   \n",
       "4367-NUYAO               Mailed check            25.75            0.0    Male   \n",
       "1371-DWPAZ    Credit card (automatic)            56.05            0.0  Female   \n",
       "7644-OMVMY               Mailed check            19.85            0.0    Male   \n",
       "3213-VVOLG               Mailed check            25.35            0.0    Male   \n",
       "2520-SGTTA               Mailed check            20.00            0.0  Female   \n",
       "2923-ARZLG               Mailed check            19.70            0.0    Male   \n",
       "4075-WKNIU               Mailed check            73.35            0.0  Female   \n",
       "2775-SEFEE  Bank transfer (automatic)            61.90            0.0    Male   \n",
       "\n",
       "            senior_citizen partner dependents internet_service  \\\n",
       "customerID                                                       \n",
       "4472-LVYGI               0     Yes        Yes              DSL   \n",
       "3115-CZMZD               0      No        Yes              NaN   \n",
       "5709-LVOEQ               0     Yes        Yes              DSL   \n",
       "4367-NUYAO               0     Yes        Yes              NaN   \n",
       "1371-DWPAZ               0     Yes        Yes              DSL   \n",
       "7644-OMVMY               0     Yes        Yes              NaN   \n",
       "3213-VVOLG               0     Yes        Yes              NaN   \n",
       "2520-SGTTA               0     Yes        Yes              NaN   \n",
       "2923-ARZLG               0     Yes        Yes              NaN   \n",
       "4075-WKNIU               0     Yes        Yes              DSL   \n",
       "2775-SEFEE               0      No        Yes              DSL   \n",
       "\n",
       "           online_security online_backup device_protection tech_support  \\\n",
       "customerID                                                                \n",
       "4472-LVYGI             Yes            No               Yes          Yes   \n",
       "3115-CZMZD             NaN           NaN               NaN          NaN   \n",
       "5709-LVOEQ             Yes           Yes               Yes           No   \n",
       "4367-NUYAO             NaN           NaN               NaN          NaN   \n",
       "1371-DWPAZ             Yes           Yes               Yes          Yes   \n",
       "7644-OMVMY             NaN           NaN               NaN          NaN   \n",
       "3213-VVOLG             NaN           NaN               NaN          NaN   \n",
       "2520-SGTTA             NaN           NaN               NaN          NaN   \n",
       "2923-ARZLG             NaN           NaN               NaN          NaN   \n",
       "4075-WKNIU              No           Yes               Yes          Yes   \n",
       "2775-SEFEE             Yes           Yes                No          Yes   \n",
       "\n",
       "           streaming_tv streaming_movies multiple_lines  \n",
       "customerID                                               \n",
       "4472-LVYGI          Yes               No            NaN  \n",
       "3115-CZMZD          NaN              NaN             No  \n",
       "5709-LVOEQ          Yes              Yes             No  \n",
       "4367-NUYAO          NaN              NaN            Yes  \n",
       "1371-DWPAZ          Yes               No            NaN  \n",
       "7644-OMVMY          NaN              NaN             No  \n",
       "3213-VVOLG          NaN              NaN            Yes  \n",
       "2520-SGTTA          NaN              NaN             No  \n",
       "2923-ARZLG          NaN              NaN             No  \n",
       "4075-WKNIU          Yes               No            Yes  \n",
       "2775-SEFEE           No               No            Yes  "
      ]
     },
     "execution_count": 15,
     "metadata": {},
     "output_type": "execute_result"
    }
   ],
   "source": [
    "df.query('total_charges == 0')"
   ]
  },
  {
   "cell_type": "markdown",
   "id": "3611918b",
   "metadata": {},
   "source": [
    "Как видно из таблицы, все клиенты действоющие, но их немного, поэтому считаю правильным их удалить, чтобы они не влияли на предсказания"
   ]
  },
  {
   "cell_type": "code",
   "execution_count": 16,
   "id": "65891396",
   "metadata": {},
   "outputs": [
    {
     "name": "stdout",
     "output_type": "stream",
     "text": [
      "<class 'pandas.core.frame.DataFrame'>\n",
      "Index: 7032 entries, 7590-VHVEG to 3186-AJIEK\n",
      "Data columns (total 19 columns):\n",
      " #   Column             Non-Null Count  Dtype         \n",
      "---  ------             --------------  -----         \n",
      " 0   begin_date         7032 non-null   datetime64[ns]\n",
      " 1   end_date           7032 non-null   object        \n",
      " 2   type               7032 non-null   object        \n",
      " 3   paperless_billing  7032 non-null   object        \n",
      " 4   payment_method     7032 non-null   object        \n",
      " 5   monthly_charges    7032 non-null   float64       \n",
      " 6   total_charges      7032 non-null   float64       \n",
      " 7   gender             7032 non-null   object        \n",
      " 8   senior_citizen     7032 non-null   int64         \n",
      " 9   partner            7032 non-null   object        \n",
      " 10  dependents         7032 non-null   object        \n",
      " 11  internet_service   5512 non-null   object        \n",
      " 12  online_security    5512 non-null   object        \n",
      " 13  online_backup      5512 non-null   object        \n",
      " 14  device_protection  5512 non-null   object        \n",
      " 15  tech_support       5512 non-null   object        \n",
      " 16  streaming_tv       5512 non-null   object        \n",
      " 17  streaming_movies   5512 non-null   object        \n",
      " 18  multiple_lines     6352 non-null   object        \n",
      "dtypes: datetime64[ns](1), float64(2), int64(1), object(15)\n",
      "memory usage: 1.1+ MB\n"
     ]
    }
   ],
   "source": [
    "df = df.query('total_charges > 0')\n",
    "df.info()"
   ]
  },
  {
   "cell_type": "markdown",
   "id": "3fd271c9",
   "metadata": {},
   "source": [
    "В столбце end_date присутствуют и даты, и значение 'No'. Этот столбец нам очень важен для определения целевого признака, поэтому считаю необходимым привезти его к формату datetime, а для этого заполним значения No заглушкой - датой сбора датасета. После этого уже поменяем формат на datetime"
   ]
  },
  {
   "cell_type": "code",
   "execution_count": 17,
   "id": "4373589a",
   "metadata": {},
   "outputs": [],
   "source": [
    "replacement = '2020-02-02'"
   ]
  },
  {
   "cell_type": "code",
   "execution_count": 18,
   "id": "32529ce5",
   "metadata": {
    "scrolled": false
   },
   "outputs": [
    {
     "name": "stdout",
     "output_type": "stream",
     "text": [
      "<class 'pandas.core.frame.DataFrame'>\n",
      "Index: 7032 entries, 7590-VHVEG to 3186-AJIEK\n",
      "Data columns (total 19 columns):\n",
      " #   Column             Non-Null Count  Dtype         \n",
      "---  ------             --------------  -----         \n",
      " 0   begin_date         7032 non-null   datetime64[ns]\n",
      " 1   end_date           7032 non-null   datetime64[ns]\n",
      " 2   type               7032 non-null   object        \n",
      " 3   paperless_billing  7032 non-null   object        \n",
      " 4   payment_method     7032 non-null   object        \n",
      " 5   monthly_charges    7032 non-null   float64       \n",
      " 6   total_charges      7032 non-null   float64       \n",
      " 7   gender             7032 non-null   object        \n",
      " 8   senior_citizen     7032 non-null   int64         \n",
      " 9   partner            7032 non-null   object        \n",
      " 10  dependents         7032 non-null   object        \n",
      " 11  internet_service   5512 non-null   object        \n",
      " 12  online_security    5512 non-null   object        \n",
      " 13  online_backup      5512 non-null   object        \n",
      " 14  device_protection  5512 non-null   object        \n",
      " 15  tech_support       5512 non-null   object        \n",
      " 16  streaming_tv       5512 non-null   object        \n",
      " 17  streaming_movies   5512 non-null   object        \n",
      " 18  multiple_lines     6352 non-null   object        \n",
      "dtypes: datetime64[ns](2), float64(2), int64(1), object(14)\n",
      "memory usage: 1.1+ MB\n"
     ]
    }
   ],
   "source": [
    "df['end_date'] = df['end_date'].replace(['No'], [replacement])\n",
    "df['end_date'] = pd.to_datetime(df['end_date'], format = '%Y-%m-%d')\n",
    "df.info()"
   ]
  },
  {
   "cell_type": "markdown",
   "id": "8a2b34f7",
   "metadata": {},
   "source": [
    "### Обработаем пропуски"
   ]
  },
  {
   "cell_type": "markdown",
   "id": "41232673",
   "metadata": {},
   "source": [
    "В столбцах с сервисами появились пропуски, эти абоненты ими не пользуются. Почти все столбцы бинарные с ответами 'Yes' и 'No', кроме столбца internet_service (тип подключения к интерету). Считаю правильным заполнить все пропуски значнием 'No', а по полю internet_service модель сможет определить пользователей интернет услугами\n"
   ]
  },
  {
   "cell_type": "code",
   "execution_count": 20,
   "id": "7b296175",
   "metadata": {},
   "outputs": [
    {
     "name": "stdout",
     "output_type": "stream",
     "text": [
      "<class 'pandas.core.frame.DataFrame'>\n",
      "Index: 7032 entries, 7590-VHVEG to 3186-AJIEK\n",
      "Data columns (total 19 columns):\n",
      " #   Column             Non-Null Count  Dtype         \n",
      "---  ------             --------------  -----         \n",
      " 0   begin_date         7032 non-null   datetime64[ns]\n",
      " 1   end_date           7032 non-null   datetime64[ns]\n",
      " 2   type               7032 non-null   object        \n",
      " 3   paperless_billing  7032 non-null   object        \n",
      " 4   payment_method     7032 non-null   object        \n",
      " 5   monthly_charges    7032 non-null   float64       \n",
      " 6   total_charges      7032 non-null   float64       \n",
      " 7   gender             7032 non-null   object        \n",
      " 8   senior_citizen     7032 non-null   int64         \n",
      " 9   partner            7032 non-null   object        \n",
      " 10  dependents         7032 non-null   object        \n",
      " 11  internet_service   7032 non-null   object        \n",
      " 12  online_security    7032 non-null   object        \n",
      " 13  online_backup      7032 non-null   object        \n",
      " 14  device_protection  7032 non-null   object        \n",
      " 15  tech_support       7032 non-null   object        \n",
      " 16  streaming_tv       7032 non-null   object        \n",
      " 17  streaming_movies   7032 non-null   object        \n",
      " 18  multiple_lines     7032 non-null   object        \n",
      "dtypes: datetime64[ns](2), float64(2), int64(1), object(14)\n",
      "memory usage: 1.1+ MB\n"
     ]
    }
   ],
   "source": [
    "df = df.fillna('No')\n",
    "df.info()"
   ]
  },
  {
   "cell_type": "markdown",
   "id": "16f6865a",
   "metadata": {},
   "source": [
    "## Проведем исследовательский анализ данных"
   ]
  },
  {
   "cell_type": "markdown",
   "id": "c17dd941",
   "metadata": {},
   "source": [
    "### Создадим  новые признаки"
   ]
  },
  {
   "cell_type": "markdown",
   "id": "1130a203",
   "metadata": {},
   "source": [
    "Сразу добавим целевой признак"
   ]
  },
  {
   "cell_type": "code",
   "execution_count": 23,
   "id": "b44425c1",
   "metadata": {
    "scrolled": true
   },
   "outputs": [
    {
     "data": {
      "text/plain": [
       "0    5931\n",
       "1    1101\n",
       "Name: exited, dtype: int64"
      ]
     },
     "execution_count": 23,
     "metadata": {},
     "output_type": "execute_result"
    }
   ],
   "source": [
    "df['exited'] = (df['end_date'] != replacement)*1\n",
    "df['exited'].value_counts()"
   ]
  },
  {
   "cell_type": "code",
   "execution_count": 24,
   "id": "0eca4d6c",
   "metadata": {},
   "outputs": [
    {
     "data": {
      "image/png": "[encoded data removed]",
      "text/plain": [
       "<Figure size 360x360 with 1 Axes>"
      ]
     },
     "metadata": {
      "needs_background": "light"
     },
     "output_type": "display_data"
    }
   ],
   "source": [
    "plt.subplots(figsize=(5, 5))\n",
    "exited = sns.countplot(x=df['exited'])\n",
    "plt.setp(exited, xlabel='Остался/ушёл', ylabel='Количество', title='Соотношение ушедших клиентов к оставшимся')\n",
    "plt.show()"
   ]
  },
  {
   "cell_type": "code",
   "execution_count": 25,
   "id": "026faeec",
   "metadata": {},
   "outputs": [
    {
     "name": "stdout",
     "output_type": "stream",
     "text": [
      "Процент ушедших клиентов: 15.656996587030717\n"
     ]
    }
   ],
   "source": [
    "print('Процент ушедших клиентов:', 1101/7032*100)"
   ]
  },
  {
   "cell_type": "markdown",
   "id": "8447a1b5",
   "metadata": {},
   "source": [
    "Вывод: 5931 - действующих пользователей, а вот 1101 - ушли. Присутсвует явный дисбаланс классов. Ушло больше 15% клиентов\n"
   ]
  },
  {
   "cell_type": "markdown",
   "id": "f0c2fe81",
   "metadata": {},
   "source": [
    "Создадим столбец с признаком срока обслуживания"
   ]
  },
  {
   "cell_type": "code",
   "execution_count": 26,
   "id": "ef4b33d1",
   "metadata": {},
   "outputs": [],
   "source": [
    "df['use_date'] = (df['end_date'] - df['begin_date']).dt.days\n",
    "df['use_date'] = df['use_date'].astype('int')"
   ]
  },
  {
   "cell_type": "markdown",
   "id": "6e17f924",
   "metadata": {},
   "source": [
    "### Закодируем признаки"
   ]
  },
  {
   "cell_type": "code",
   "execution_count": 27,
   "id": "c7af007b",
   "metadata": {},
   "outputs": [],
   "source": [
    "cat = ['type', 'paperless_billing', 'payment_method', 'gender', \n",
    "       'senior_citizen', 'partner', 'dependents', 'online_security',\n",
    "       'online_backup', 'device_protection', 'tech_support', \n",
    "      'streaming_tv', 'streaming_movies', 'multiple_lines']\n",
    " \n",
    "num = ['monthly_charges', 'use_date', 'total_charges']\n"
   ]
  },
  {
   "cell_type": "code",
   "execution_count": 28,
   "id": "dce1102b",
   "metadata": {},
   "outputs": [],
   "source": [
    "enc = OneHotEncoder(handle_unknown='error', drop='first')\n",
    "enc.fit(df[cat])\n",
    "df_cat = pd.DataFrame(\n",
    "    enc.fit_transform(df[cat]).toarray(),\n",
    "    columns=enc.get_feature_names(cat),\n",
    "    index=df.index)"
   ]
  },
  {
   "cell_type": "code",
   "execution_count": 29,
   "id": "44e10a55",
   "metadata": {},
   "outputs": [
    {
     "data": {
      "text/html": [
       "<div>\n",
       "<style scoped>\n",
       "    .dataframe tbody tr th:only-of-type {\n",
       "        vertical-align: middle;\n",
       "    }\n",
       "\n",
       "    .dataframe tbody tr th {\n",
       "        vertical-align: top;\n",
       "    }\n",
       "\n",
       "    .dataframe thead th {\n",
       "        text-align: right;\n",
       "    }\n",
       "</style>\n",
       "<table border=\"1\" class=\"dataframe\">\n",
       "  <thead>\n",
       "    <tr style=\"text-align: right;\">\n",
       "      <th></th>\n",
       "      <th>monthly_charges</th>\n",
       "      <th>use_date</th>\n",
       "      <th>total_charges</th>\n",
       "      <th>type_One year</th>\n",
       "      <th>type_Two year</th>\n",
       "      <th>paperless_billing_Yes</th>\n",
       "      <th>payment_method_Credit card (automatic)</th>\n",
       "      <th>payment_method_Electronic check</th>\n",
       "      <th>payment_method_Mailed check</th>\n",
       "      <th>gender_Male</th>\n",
       "      <th>...</th>\n",
       "      <th>partner_Yes</th>\n",
       "      <th>dependents_Yes</th>\n",
       "      <th>online_security_Yes</th>\n",
       "      <th>online_backup_Yes</th>\n",
       "      <th>device_protection_Yes</th>\n",
       "      <th>tech_support_Yes</th>\n",
       "      <th>streaming_tv_Yes</th>\n",
       "      <th>streaming_movies_Yes</th>\n",
       "      <th>multiple_lines_Yes</th>\n",
       "      <th>exited</th>\n",
       "    </tr>\n",
       "    <tr>\n",
       "      <th>customerID</th>\n",
       "      <th></th>\n",
       "      <th></th>\n",
       "      <th></th>\n",
       "      <th></th>\n",
       "      <th></th>\n",
       "      <th></th>\n",
       "      <th></th>\n",
       "      <th></th>\n",
       "      <th></th>\n",
       "      <th></th>\n",
       "      <th></th>\n",
       "      <th></th>\n",
       "      <th></th>\n",
       "      <th></th>\n",
       "      <th></th>\n",
       "      <th></th>\n",
       "      <th></th>\n",
       "      <th></th>\n",
       "      <th></th>\n",
       "      <th></th>\n",
       "      <th></th>\n",
       "    </tr>\n",
       "  </thead>\n",
       "  <tbody>\n",
       "    <tr>\n",
       "      <th>7590-VHVEG</th>\n",
       "      <td>29.85</td>\n",
       "      <td>32</td>\n",
       "      <td>31.04</td>\n",
       "      <td>0.0</td>\n",
       "      <td>0.0</td>\n",
       "      <td>1.0</td>\n",
       "      <td>0.0</td>\n",
       "      <td>1.0</td>\n",
       "      <td>0.0</td>\n",
       "      <td>0.0</td>\n",
       "      <td>...</td>\n",
       "      <td>1.0</td>\n",
       "      <td>0.0</td>\n",
       "      <td>0.0</td>\n",
       "      <td>1.0</td>\n",
       "      <td>0.0</td>\n",
       "      <td>0.0</td>\n",
       "      <td>0.0</td>\n",
       "      <td>0.0</td>\n",
       "      <td>0.0</td>\n",
       "      <td>0</td>\n",
       "    </tr>\n",
       "  </tbody>\n",
       "</table>\n",
       "<p>1 rows × 21 columns</p>\n",
       "</div>"
      ],
      "text/plain": [
       "            monthly_charges  use_date  total_charges  type_One year  \\\n",
       "customerID                                                            \n",
       "7590-VHVEG            29.85        32          31.04            0.0   \n",
       "\n",
       "            type_Two year  paperless_billing_Yes  \\\n",
       "customerID                                         \n",
       "7590-VHVEG            0.0                    1.0   \n",
       "\n",
       "            payment_method_Credit card (automatic)  \\\n",
       "customerID                                           \n",
       "7590-VHVEG                                     0.0   \n",
       "\n",
       "            payment_method_Electronic check  payment_method_Mailed check  \\\n",
       "customerID                                                                 \n",
       "7590-VHVEG                              1.0                          0.0   \n",
       "\n",
       "            gender_Male  ...  partner_Yes  dependents_Yes  \\\n",
       "customerID               ...                                \n",
       "7590-VHVEG          0.0  ...          1.0             0.0   \n",
       "\n",
       "            online_security_Yes  online_backup_Yes  device_protection_Yes  \\\n",
       "customerID                                                                  \n",
       "7590-VHVEG                  0.0                1.0                    0.0   \n",
       "\n",
       "            tech_support_Yes  streaming_tv_Yes  streaming_movies_Yes  \\\n",
       "customerID                                                             \n",
       "7590-VHVEG               0.0               0.0                   0.0   \n",
       "\n",
       "            multiple_lines_Yes  exited  \n",
       "customerID                              \n",
       "7590-VHVEG                 0.0       0  \n",
       "\n",
       "[1 rows x 21 columns]"
      ]
     },
     "execution_count": 29,
     "metadata": {},
     "output_type": "execute_result"
    }
   ],
   "source": [
    "df_ohe = pd.concat((df[num], df_cat, df['exited']), axis = 1)\n",
    "df_ohe.head(1)"
   ]
  },
  {
   "cell_type": "markdown",
   "id": "29d58db3",
   "metadata": {},
   "source": [
    "### Проанализируем признаки"
   ]
  },
  {
   "cell_type": "code",
   "execution_count": 30,
   "id": "7cdf3fb5",
   "metadata": {},
   "outputs": [
    {
     "data": {
      "image/png": "[encoded data removed]",
      "text/plain": [
       "<Figure size 720x360 with 1 Axes>"
      ]
     },
     "metadata": {
      "needs_background": "light"
     },
     "output_type": "display_data"
    }
   ],
   "source": [
    "plt.subplots(figsize=(10, 5))\n",
    "exited = sns.countplot(x=df['gender'], hue='exited', data=df)\n",
    "plt.setp(exited, ylabel='Количество', title='Соотношение ушедших клиентов к оставшимся')\n",
    "plt.show()"
   ]
  },
  {
   "cell_type": "markdown",
   "id": "0d881a4c",
   "metadata": {},
   "source": [
    "Вывод: Уход клиента не зависит от гендерной принадлежности"
   ]
  },
  {
   "cell_type": "code",
   "execution_count": 31,
   "id": "cfe0d94a",
   "metadata": {},
   "outputs": [
    {
     "data": {
      "text/html": [
       "<div>\n",
       "<style scoped>\n",
       "    .dataframe tbody tr th:only-of-type {\n",
       "        vertical-align: middle;\n",
       "    }\n",
       "\n",
       "    .dataframe tbody tr th {\n",
       "        vertical-align: top;\n",
       "    }\n",
       "\n",
       "    .dataframe thead th {\n",
       "        text-align: right;\n",
       "    }\n",
       "</style>\n",
       "<table border=\"1\" class=\"dataframe\">\n",
       "  <thead>\n",
       "    <tr style=\"text-align: right;\">\n",
       "      <th></th>\n",
       "      <th>count</th>\n",
       "      <th>mean</th>\n",
       "      <th>std</th>\n",
       "      <th>min</th>\n",
       "      <th>25%</th>\n",
       "      <th>50%</th>\n",
       "      <th>75%</th>\n",
       "      <th>max</th>\n",
       "    </tr>\n",
       "  </thead>\n",
       "  <tbody>\n",
       "    <tr>\n",
       "      <th>monthly_charges</th>\n",
       "      <td>7032.0</td>\n",
       "      <td>64.798208</td>\n",
       "      <td>30.085974</td>\n",
       "      <td>18.25</td>\n",
       "      <td>35.5875</td>\n",
       "      <td>70.350</td>\n",
       "      <td>89.8625</td>\n",
       "      <td>118.75</td>\n",
       "    </tr>\n",
       "    <tr>\n",
       "      <th>use_date</th>\n",
       "      <td>7032.0</td>\n",
       "      <td>900.804750</td>\n",
       "      <td>682.733162</td>\n",
       "      <td>28.00</td>\n",
       "      <td>277.0000</td>\n",
       "      <td>762.000</td>\n",
       "      <td>1461.0000</td>\n",
       "      <td>2315.00</td>\n",
       "    </tr>\n",
       "    <tr>\n",
       "      <th>total_charges</th>\n",
       "      <td>7032.0</td>\n",
       "      <td>2118.621822</td>\n",
       "      <td>2112.736199</td>\n",
       "      <td>19.05</td>\n",
       "      <td>439.7450</td>\n",
       "      <td>1345.275</td>\n",
       "      <td>3239.3175</td>\n",
       "      <td>9221.38</td>\n",
       "    </tr>\n",
       "    <tr>\n",
       "      <th>type_One year</th>\n",
       "      <td>7032.0</td>\n",
       "      <td>0.209329</td>\n",
       "      <td>0.406858</td>\n",
       "      <td>0.00</td>\n",
       "      <td>0.0000</td>\n",
       "      <td>0.000</td>\n",
       "      <td>0.0000</td>\n",
       "      <td>1.00</td>\n",
       "    </tr>\n",
       "    <tr>\n",
       "      <th>type_Two year</th>\n",
       "      <td>7032.0</td>\n",
       "      <td>0.239619</td>\n",
       "      <td>0.426881</td>\n",
       "      <td>0.00</td>\n",
       "      <td>0.0000</td>\n",
       "      <td>0.000</td>\n",
       "      <td>0.0000</td>\n",
       "      <td>1.00</td>\n",
       "    </tr>\n",
       "    <tr>\n",
       "      <th>paperless_billing_Yes</th>\n",
       "      <td>7032.0</td>\n",
       "      <td>0.592719</td>\n",
       "      <td>0.491363</td>\n",
       "      <td>0.00</td>\n",
       "      <td>0.0000</td>\n",
       "      <td>1.000</td>\n",
       "      <td>1.0000</td>\n",
       "      <td>1.00</td>\n",
       "    </tr>\n",
       "    <tr>\n",
       "      <th>payment_method_Credit card (automatic)</th>\n",
       "      <td>7032.0</td>\n",
       "      <td>0.216297</td>\n",
       "      <td>0.411748</td>\n",
       "      <td>0.00</td>\n",
       "      <td>0.0000</td>\n",
       "      <td>0.000</td>\n",
       "      <td>0.0000</td>\n",
       "      <td>1.00</td>\n",
       "    </tr>\n",
       "    <tr>\n",
       "      <th>payment_method_Electronic check</th>\n",
       "      <td>7032.0</td>\n",
       "      <td>0.336320</td>\n",
       "      <td>0.472483</td>\n",
       "      <td>0.00</td>\n",
       "      <td>0.0000</td>\n",
       "      <td>0.000</td>\n",
       "      <td>1.0000</td>\n",
       "      <td>1.00</td>\n",
       "    </tr>\n",
       "    <tr>\n",
       "      <th>payment_method_Mailed check</th>\n",
       "      <td>7032.0</td>\n",
       "      <td>0.228100</td>\n",
       "      <td>0.419637</td>\n",
       "      <td>0.00</td>\n",
       "      <td>0.0000</td>\n",
       "      <td>0.000</td>\n",
       "      <td>0.0000</td>\n",
       "      <td>1.00</td>\n",
       "    </tr>\n",
       "    <tr>\n",
       "      <th>gender_Male</th>\n",
       "      <td>7032.0</td>\n",
       "      <td>0.504693</td>\n",
       "      <td>0.500014</td>\n",
       "      <td>0.00</td>\n",
       "      <td>0.0000</td>\n",
       "      <td>1.000</td>\n",
       "      <td>1.0000</td>\n",
       "      <td>1.00</td>\n",
       "    </tr>\n",
       "    <tr>\n",
       "      <th>senior_citizen_1</th>\n",
       "      <td>7032.0</td>\n",
       "      <td>0.162400</td>\n",
       "      <td>0.368844</td>\n",
       "      <td>0.00</td>\n",
       "      <td>0.0000</td>\n",
       "      <td>0.000</td>\n",
       "      <td>0.0000</td>\n",
       "      <td>1.00</td>\n",
       "    </tr>\n",
       "    <tr>\n",
       "      <th>partner_Yes</th>\n",
       "      <td>7032.0</td>\n",
       "      <td>0.482509</td>\n",
       "      <td>0.499729</td>\n",
       "      <td>0.00</td>\n",
       "      <td>0.0000</td>\n",
       "      <td>0.000</td>\n",
       "      <td>1.0000</td>\n",
       "      <td>1.00</td>\n",
       "    </tr>\n",
       "    <tr>\n",
       "      <th>dependents_Yes</th>\n",
       "      <td>7032.0</td>\n",
       "      <td>0.298493</td>\n",
       "      <td>0.457629</td>\n",
       "      <td>0.00</td>\n",
       "      <td>0.0000</td>\n",
       "      <td>0.000</td>\n",
       "      <td>1.0000</td>\n",
       "      <td>1.00</td>\n",
       "    </tr>\n",
       "    <tr>\n",
       "      <th>online_security_Yes</th>\n",
       "      <td>7032.0</td>\n",
       "      <td>0.286547</td>\n",
       "      <td>0.452180</td>\n",
       "      <td>0.00</td>\n",
       "      <td>0.0000</td>\n",
       "      <td>0.000</td>\n",
       "      <td>1.0000</td>\n",
       "      <td>1.00</td>\n",
       "    </tr>\n",
       "    <tr>\n",
       "      <th>online_backup_Yes</th>\n",
       "      <td>7032.0</td>\n",
       "      <td>0.344852</td>\n",
       "      <td>0.475354</td>\n",
       "      <td>0.00</td>\n",
       "      <td>0.0000</td>\n",
       "      <td>0.000</td>\n",
       "      <td>1.0000</td>\n",
       "      <td>1.00</td>\n",
       "    </tr>\n",
       "    <tr>\n",
       "      <th>device_protection_Yes</th>\n",
       "      <td>7032.0</td>\n",
       "      <td>0.343857</td>\n",
       "      <td>0.475028</td>\n",
       "      <td>0.00</td>\n",
       "      <td>0.0000</td>\n",
       "      <td>0.000</td>\n",
       "      <td>1.0000</td>\n",
       "      <td>1.00</td>\n",
       "    </tr>\n",
       "    <tr>\n",
       "      <th>tech_support_Yes</th>\n",
       "      <td>7032.0</td>\n",
       "      <td>0.290102</td>\n",
       "      <td>0.453842</td>\n",
       "      <td>0.00</td>\n",
       "      <td>0.0000</td>\n",
       "      <td>0.000</td>\n",
       "      <td>1.0000</td>\n",
       "      <td>1.00</td>\n",
       "    </tr>\n",
       "    <tr>\n",
       "      <th>streaming_tv_Yes</th>\n",
       "      <td>7032.0</td>\n",
       "      <td>0.384386</td>\n",
       "      <td>0.486484</td>\n",
       "      <td>0.00</td>\n",
       "      <td>0.0000</td>\n",
       "      <td>0.000</td>\n",
       "      <td>1.0000</td>\n",
       "      <td>1.00</td>\n",
       "    </tr>\n",
       "    <tr>\n",
       "      <th>streaming_movies_Yes</th>\n",
       "      <td>7032.0</td>\n",
       "      <td>0.388367</td>\n",
       "      <td>0.487414</td>\n",
       "      <td>0.00</td>\n",
       "      <td>0.0000</td>\n",
       "      <td>0.000</td>\n",
       "      <td>1.0000</td>\n",
       "      <td>1.00</td>\n",
       "    </tr>\n",
       "    <tr>\n",
       "      <th>multiple_lines_Yes</th>\n",
       "      <td>7032.0</td>\n",
       "      <td>0.421928</td>\n",
       "      <td>0.493902</td>\n",
       "      <td>0.00</td>\n",
       "      <td>0.0000</td>\n",
       "      <td>0.000</td>\n",
       "      <td>1.0000</td>\n",
       "      <td>1.00</td>\n",
       "    </tr>\n",
       "    <tr>\n",
       "      <th>exited</th>\n",
       "      <td>7032.0</td>\n",
       "      <td>0.156570</td>\n",
       "      <td>0.363421</td>\n",
       "      <td>0.00</td>\n",
       "      <td>0.0000</td>\n",
       "      <td>0.000</td>\n",
       "      <td>0.0000</td>\n",
       "      <td>1.00</td>\n",
       "    </tr>\n",
       "  </tbody>\n",
       "</table>\n",
       "</div>"
      ],
      "text/plain": [
       "                                         count         mean          std  \\\n",
       "monthly_charges                         7032.0    64.798208    30.085974   \n",
       "use_date                                7032.0   900.804750   682.733162   \n",
       "total_charges                           7032.0  2118.621822  2112.736199   \n",
       "type_One year                           7032.0     0.209329     0.406858   \n",
       "type_Two year                           7032.0     0.239619     0.426881   \n",
       "paperless_billing_Yes                   7032.0     0.592719     0.491363   \n",
       "payment_method_Credit card (automatic)  7032.0     0.216297     0.411748   \n",
       "payment_method_Electronic check         7032.0     0.336320     0.472483   \n",
       "payment_method_Mailed check             7032.0     0.228100     0.419637   \n",
       "gender_Male                             7032.0     0.504693     0.500014   \n",
       "senior_citizen_1                        7032.0     0.162400     0.368844   \n",
       "partner_Yes                             7032.0     0.482509     0.499729   \n",
       "dependents_Yes                          7032.0     0.298493     0.457629   \n",
       "online_security_Yes                     7032.0     0.286547     0.452180   \n",
       "online_backup_Yes                       7032.0     0.344852     0.475354   \n",
       "device_protection_Yes                   7032.0     0.343857     0.475028   \n",
       "tech_support_Yes                        7032.0     0.290102     0.453842   \n",
       "streaming_tv_Yes                        7032.0     0.384386     0.486484   \n",
       "streaming_movies_Yes                    7032.0     0.388367     0.487414   \n",
       "multiple_lines_Yes                      7032.0     0.421928     0.493902   \n",
       "exited                                  7032.0     0.156570     0.363421   \n",
       "\n",
       "                                          min       25%       50%        75%  \\\n",
       "monthly_charges                         18.25   35.5875    70.350    89.8625   \n",
       "use_date                                28.00  277.0000   762.000  1461.0000   \n",
       "total_charges                           19.05  439.7450  1345.275  3239.3175   \n",
       "type_One year                            0.00    0.0000     0.000     0.0000   \n",
       "type_Two year                            0.00    0.0000     0.000     0.0000   \n",
       "paperless_billing_Yes                    0.00    0.0000     1.000     1.0000   \n",
       "payment_method_Credit card (automatic)   0.00    0.0000     0.000     0.0000   \n",
       "payment_method_Electronic check          0.00    0.0000     0.000     1.0000   \n",
       "payment_method_Mailed check              0.00    0.0000     0.000     0.0000   \n",
       "gender_Male                              0.00    0.0000     1.000     1.0000   \n",
       "senior_citizen_1                         0.00    0.0000     0.000     0.0000   \n",
       "partner_Yes                              0.00    0.0000     0.000     1.0000   \n",
       "dependents_Yes                           0.00    0.0000     0.000     1.0000   \n",
       "online_security_Yes                      0.00    0.0000     0.000     1.0000   \n",
       "online_backup_Yes                        0.00    0.0000     0.000     1.0000   \n",
       "device_protection_Yes                    0.00    0.0000     0.000     1.0000   \n",
       "tech_support_Yes                         0.00    0.0000     0.000     1.0000   \n",
       "streaming_tv_Yes                         0.00    0.0000     0.000     1.0000   \n",
       "streaming_movies_Yes                     0.00    0.0000     0.000     1.0000   \n",
       "multiple_lines_Yes                       0.00    0.0000     0.000     1.0000   \n",
       "exited                                   0.00    0.0000     0.000     0.0000   \n",
       "\n",
       "                                            max  \n",
       "monthly_charges                          118.75  \n",
       "use_date                                2315.00  \n",
       "total_charges                           9221.38  \n",
       "type_One year                              1.00  \n",
       "type_Two year                              1.00  \n",
       "paperless_billing_Yes                      1.00  \n",
       "payment_method_Credit card (automatic)     1.00  \n",
       "payment_method_Electronic check            1.00  \n",
       "payment_method_Mailed check                1.00  \n",
       "gender_Male                                1.00  \n",
       "senior_citizen_1                           1.00  \n",
       "partner_Yes                                1.00  \n",
       "dependents_Yes                             1.00  \n",
       "online_security_Yes                        1.00  \n",
       "online_backup_Yes                          1.00  \n",
       "device_protection_Yes                      1.00  \n",
       "tech_support_Yes                           1.00  \n",
       "streaming_tv_Yes                           1.00  \n",
       "streaming_movies_Yes                       1.00  \n",
       "multiple_lines_Yes                         1.00  \n",
       "exited                                     1.00  "
      ]
     },
     "execution_count": 31,
     "metadata": {},
     "output_type": "execute_result"
    }
   ],
   "source": [
    "df_ohe.describe().T"
   ]
  },
  {
   "cell_type": "markdown",
   "id": "156b5b59",
   "metadata": {},
   "source": [
    "Вывод:\n",
    "* 59% клиентов предпочитаю безналичные платежи\n",
    "* Распределение по гендеру примерно 50/50\n",
    "* 16% - пенсионеры\n",
    "* Чуть меньше половины клиентов замужем/женаты\n",
    "* У 30% клиентов есть еждевенцы"
   ]
  },
  {
   "cell_type": "code",
   "execution_count": 32,
   "id": "0335f713",
   "metadata": {},
   "outputs": [
    {
     "data": {
      "image/png": "[encoded data removed]",
      "text/plain": [
       "<Figure size 1080x360 with 1 Axes>"
      ]
     },
     "metadata": {
      "needs_background": "light"
     },
     "output_type": "display_data"
    }
   ],
   "source": [
    "sns.histplot(df['monthly_charges'],\n",
    "             alpha=0.5, \n",
    "             binwidth=4,\n",
    "             label='Оставшиеся клиенты')\n",
    "plt.title('Распределение ежемесячны трат')\n",
    "plt.xlabel('Ежемесячные траты')\n",
    "plt.ylabel('Клиенты');"
   ]
  },
  {
   "cell_type": "code",
   "execution_count": 33,
   "id": "890fb409",
   "metadata": {},
   "outputs": [
    {
     "data": {
      "image/png": "[encoded data removed]",
      "text/plain": [
       "<Figure size 1080x360 with 1 Axes>"
      ]
     },
     "metadata": {
      "needs_background": "light"
     },
     "output_type": "display_data"
    }
   ],
   "source": [
    "sns.histplot(df['total_charges'],\n",
    "             alpha=0.5, \n",
    "             binwidth=300,\n",
    "             label='Оставшиеся клиенты')\n",
    "plt.title('Распределение ежемесячны трат')\n",
    "plt.xlabel('Ежемесячные траты')\n",
    "plt.ylabel('Клиенты');"
   ]
  },
  {
   "cell_type": "markdown",
   "id": "cb07ccec",
   "metadata": {},
   "source": [
    "### Исследуем корреляцию признаков"
   ]
  },
  {
   "cell_type": "code",
   "execution_count": 34,
   "id": "70de0a27",
   "metadata": {},
   "outputs": [
    {
     "data": {
      "image/png": "[encoded data removed]",
      "text/plain": [
       "<Figure size 1440x720 with 2 Axes>"
      ]
     },
     "metadata": {
      "needs_background": "light"
     },
     "output_type": "display_data"
    }
   ],
   "source": [
    "corrMatrix = df_ohe.phik_matrix(interval_cols=num)\n",
    "plt.figure(figsize=(20, 10))\n",
    "plt.title('Корреляция признаков')\n",
    "sns.heatmap(corrMatrix, annot=True, cmap='coolwarm');"
   ]
  },
  {
   "cell_type": "markdown",
   "id": "b0ae4bee",
   "metadata": {},
   "source": [
    "Удалим признаки, создающие мультиколлинеарность"
   ]
  },
  {
   "cell_type": "code",
   "execution_count": 35,
   "id": "2dd099b0",
   "metadata": {},
   "outputs": [],
   "source": [
    "df_ohe = df_ohe.drop(['streaming_tv_Yes'], axis=1)\n",
    "df_ohe = df_ohe.drop(['streaming_movies_Yes'], axis=1)\n",
    "df_ohe = df_ohe.drop(['total_charges'], axis=1)"
   ]
  },
  {
   "cell_type": "markdown",
   "id": "939ed6aa",
   "metadata": {},
   "source": [
    "Вывод: \n",
    "* Наличие сервисов так же влияет на месячную и общую оплату\n",
    "* Наличие партнера и еждевенцев так же связано\n",
    "* Уход клиента коррелирует с датой\n",
    "\n",
    "В целом ничего неожиданного в корреляции данных нет"
   ]
  },
  {
   "cell_type": "markdown",
   "id": "c5d07108",
   "metadata": {},
   "source": [
    "## Подготовим данные для обучения модели"
   ]
  },
  {
   "cell_type": "markdown",
   "id": "8fa6a60e",
   "metadata": {},
   "source": [
    "### Разделим признаки на обучающую и тестовую  4:1"
   ]
  },
  {
   "cell_type": "code",
   "execution_count": 36,
   "id": "3918cfd2",
   "metadata": {},
   "outputs": [],
   "source": [
    "random_state = 240423"
   ]
  },
  {
   "cell_type": "code",
   "execution_count": 37,
   "id": "edfc39a5",
   "metadata": {},
   "outputs": [],
   "source": [
    "features = df_ohe.drop(['exited'], axis=1)\n",
    "target = df_ohe['exited']"
   ]
  },
  {
   "cell_type": "code",
   "execution_count": 38,
   "id": "88e6c329",
   "metadata": {},
   "outputs": [],
   "source": [
    "features_train, features_test, target_train, target_test = train_test_split(\n",
    "    features, target, test_size=.25, random_state=random_state\n",
    ")"
   ]
  },
  {
   "cell_type": "code",
   "execution_count": 39,
   "id": "77ff6230",
   "metadata": {},
   "outputs": [
    {
     "name": "stdout",
     "output_type": "stream",
     "text": [
      "(5274, 17)\n",
      "(5274,)\n",
      "(1758, 17)\n",
      "(1758,)\n"
     ]
    }
   ],
   "source": [
    "print(features_train.shape)\n",
    "print(target_train.shape)\n",
    "print(features_test.shape)\n",
    "print(target_test.shape)"
   ]
  },
  {
   "cell_type": "markdown",
   "id": "1e449dd9",
   "metadata": {},
   "source": [
    "### Стандартизируем непрерывные переменные"
   ]
  },
  {
   "cell_type": "code",
   "execution_count": 40,
   "id": "89778992",
   "metadata": {},
   "outputs": [],
   "source": [
    "cat = ['type', 'paperless_billing', 'payment_method', 'gender', \n",
    "       'senior_citizen', 'partner', 'dependents', 'online_security',\n",
    "       'online_backup', 'device_protection', 'tech_support', \n",
    "      'streaming_tv', 'streaming_movies', 'multiple_lines']\n",
    " \n",
    "num = ['monthly_charges', 'use_date']"
   ]
  },
  {
   "cell_type": "code",
   "execution_count": 41,
   "id": "12033b59",
   "metadata": {},
   "outputs": [
    {
     "name": "stderr",
     "output_type": "stream",
     "text": [
      "/tmp/ipykernel_106/363247733.py:2: SettingWithCopyWarning: \n",
      "A value is trying to be set on a copy of a slice from a DataFrame.\n",
      "Try using .loc[row_indexer,col_indexer] = value instead\n",
      "\n",
      "See the caveats in the documentation: https://pandas.pydata.org/pandas-docs/stable/user_guide/indexing.html#returning-a-view-versus-a-copy\n",
      "  features_train[num] = scaler.transform(features_train[num])\n",
      "/opt/conda/lib/python3.9/site-packages/pandas/core/indexing.py:1738: SettingWithCopyWarning: \n",
      "A value is trying to be set on a copy of a slice from a DataFrame.\n",
      "Try using .loc[row_indexer,col_indexer] = value instead\n",
      "\n",
      "See the caveats in the documentation: https://pandas.pydata.org/pandas-docs/stable/user_guide/indexing.html#returning-a-view-versus-a-copy\n",
      "  self._setitem_single_column(loc, value[:, i].tolist(), pi)\n",
      "/tmp/ipykernel_106/363247733.py:3: SettingWithCopyWarning: \n",
      "A value is trying to be set on a copy of a slice from a DataFrame.\n",
      "Try using .loc[row_indexer,col_indexer] = value instead\n",
      "\n",
      "See the caveats in the documentation: https://pandas.pydata.org/pandas-docs/stable/user_guide/indexing.html#returning-a-view-versus-a-copy\n",
      "  features_test[num] = scaler.transform(features_test[num])\n",
      "/opt/conda/lib/python3.9/site-packages/pandas/core/indexing.py:1738: SettingWithCopyWarning: \n",
      "A value is trying to be set on a copy of a slice from a DataFrame.\n",
      "Try using .loc[row_indexer,col_indexer] = value instead\n",
      "\n",
      "See the caveats in the documentation: https://pandas.pydata.org/pandas-docs/stable/user_guide/indexing.html#returning-a-view-versus-a-copy\n",
      "  self._setitem_single_column(loc, value[:, i].tolist(), pi)\n"
     ]
    }
   ],
   "source": [
    "scaler = StandardScaler().fit(features_train[num])\n",
    "features_train[num] = scaler.transform(features_train[num])\n",
    "features_test[num] = scaler.transform(features_test[num])"
   ]
  },
  {
   "cell_type": "markdown",
   "id": "80c3bbae",
   "metadata": {},
   "source": [
    "Закодируем столбцы с категориальными признаками методом OneHotEncoder"
   ]
  },
  {
   "cell_type": "markdown",
   "id": "08cf2e25",
   "metadata": {},
   "source": [
    "## Обучим модели для исследования с оптимизацией гиперпараметров и оценкой кросс-валидации"
   ]
  },
  {
   "cell_type": "markdown",
   "id": "ba152200",
   "metadata": {},
   "source": [
    "### LogisticRegression"
   ]
  },
  {
   "cell_type": "code",
   "execution_count": 43,
   "id": "ae2b45d9",
   "metadata": {},
   "outputs": [
    {
     "name": "stdout",
     "output_type": "stream",
     "text": [
      "Средний показатель ROC-AUC на кросс-валидации: 0.7517893360742186\n",
      "CPU times: user 383 ms, sys: 414 ms, total: 797 ms\n",
      "Wall time: 775 ms\n"
     ]
    }
   ],
   "source": [
    "%%time\n",
    "model_lr = LogisticRegression(random_state=random_state, solver='liblinear')\n",
    "\n",
    "scores = cross_val_score(model_lr, X=features, y=target, cv=5, scoring='roc_auc', n_jobs=-1)\n",
    "\n",
    "print('Средний показатель ROC-AUC на кросс-валидации:', scores.mean())\n"
   ]
  },
  {
   "cell_type": "markdown",
   "id": "160d8dfe",
   "metadata": {},
   "source": [
    "### DecisionTreeClassifier"
   ]
  },
  {
   "cell_type": "code",
   "execution_count": 44,
   "id": "1b0db4d1",
   "metadata": {},
   "outputs": [],
   "source": [
    "dtc = GridSearchCV(DecisionTreeClassifier(class_weight='balanced'),\n",
    "                   {\n",
    "    'max_depth': range(2,10,2),\n",
    "    'min_samples_split' : range(4,28,4),\n",
    "    'min_samples_leaf' : range(3,13,2)\n",
    "}, cv = 5, scoring = 'roc_auc')"
   ]
  },
  {
   "cell_type": "code",
   "execution_count": 45,
   "id": "69b35671",
   "metadata": {},
   "outputs": [
    {
     "name": "stdout",
     "output_type": "stream",
     "text": [
      "Лучшие параметры: {'max_depth': 8, 'min_samples_leaf': 3, 'min_samples_split': 24}\n",
      "Лучший показатель: 0.788718920856388\n",
      "CPU times: user 7.24 s, sys: 58.4 ms, total: 7.3 s\n",
      "Wall time: 7.42 s\n"
     ]
    }
   ],
   "source": [
    "%%time\n",
    "dtc.fit(features_train,target_train)\n",
    "print('Лучшие параметры:', dtc.best_params_)\n",
    "print('Лучший показатель:', dtc.best_score_)"
   ]
  },
  {
   "cell_type": "code",
   "execution_count": 46,
   "id": "400023d9",
   "metadata": {},
   "outputs": [],
   "source": [
    "model_dtc = DecisionTreeClassifier(class_weight = 'balanced',\n",
    "                                     criterion = 'entropy', \n",
    "                                     max_depth=8, \n",
    "                                     min_samples_leaf=5, \n",
    "                                     min_samples_split=24, \n",
    "                                     random_state = random_state)"
   ]
  },
  {
   "cell_type": "markdown",
   "id": "82eb1ee6",
   "metadata": {},
   "source": [
    "### RandomForestClassifier"
   ]
  },
  {
   "cell_type": "code",
   "execution_count": 47,
   "id": "aa5dd2a4",
   "metadata": {},
   "outputs": [],
   "source": [
    "rfc = GridSearchCV(RandomForestClassifier(criterion = 'entropy', class_weight='balanced'),{\n",
    "    'max_depth': range(2,10,2),\n",
    "    'n_estimators': range(50,200,50),\n",
    "    'min_samples_split' : range(4,28,4),\n",
    "    'min_samples_leaf' : range(3,13,2)\n",
    "}, cv = 5, scoring = 'roc_auc')"
   ]
  },
  {
   "cell_type": "code",
   "execution_count": 48,
   "id": "9c12b6fb",
   "metadata": {},
   "outputs": [
    {
     "name": "stdout",
     "output_type": "stream",
     "text": [
      "Лучшие параметры: {'max_depth': 8, 'min_samples_leaf': 5, 'min_samples_split': 4, 'n_estimators': 100}\n",
      "Лучший показатель: 0.8267513091499783\n",
      "CPU times: user 8min 49s, sys: 3.08 s, total: 8min 52s\n",
      "Wall time: 8min 56s\n"
     ]
    }
   ],
   "source": [
    "%%time\n",
    "rfc.fit(features_train,target_train)\n",
    "print('Лучшие параметры:', rfc.best_params_)\n",
    "print('Лучший показатель:', rfc.best_score_)"
   ]
  },
  {
   "cell_type": "code",
   "execution_count": 49,
   "id": "846b5451",
   "metadata": {},
   "outputs": [],
   "source": [
    "model_rfc = RandomForestClassifier(class_weight = 'balanced',\n",
    "                                     criterion = 'entropy', \n",
    "                                     max_depth=8, \n",
    "                                     min_samples_leaf=5, \n",
    "                                     min_samples_split=16, \n",
    "                                     n_estimators = 70, \n",
    "                                     random_state = random_state)"
   ]
  },
  {
   "cell_type": "markdown",
   "id": "fa2df69d",
   "metadata": {},
   "source": [
    "### CatBoostClassifier"
   ]
  },
  {
   "cell_type": "code",
   "execution_count": 50,
   "id": "f0f2306d",
   "metadata": {},
   "outputs": [],
   "source": [
    "model_cbc = CatBoostClassifier(loss_function = 'CrossEntropy',learning_rate = 0.03, random_state = random_state)\n",
    "cbc = GridSearchCV(model_cbc,{\n",
    "    'iterations': [100,200,300,400],\n",
    "    'learning_rate' : [0.03],\n",
    "    'depth' : range(2,10,2),\n",
    "    'verbose' : [False]\n",
    "}, cv = 5,scoring = 'roc_auc')"
   ]
  },
  {
   "cell_type": "code",
   "execution_count": 51,
   "id": "5528bb19",
   "metadata": {},
   "outputs": [
    {
     "name": "stdout",
     "output_type": "stream",
     "text": [
      "Лучшие параметры: {'depth': 6, 'iterations': 400, 'learning_rate': 0.03, 'verbose': False}\n",
      "Лучший показатель: 0.8768200202559806\n",
      "CPU times: user 47.7 s, sys: 1.95 s, total: 49.6 s\n",
      "Wall time: 3min 22s\n"
     ]
    }
   ],
   "source": [
    "%%time\n",
    "cbc.fit(features_train,target_train)\n",
    "print('Лучшие параметры:', cbc.best_params_)\n",
    "print('Лучший показатель:', cbc.best_score_)"
   ]
  },
  {
   "cell_type": "code",
   "execution_count": 52,
   "id": "80ea9d37",
   "metadata": {},
   "outputs": [],
   "source": [
    "model_cbc = CatBoostClassifier(loss_function = 'CrossEntropy',\n",
    "                               iterations = 400, \n",
    "                               depth = 6,\n",
    "                               learning_rate = 0.03, \n",
    "                               random_state = random_state)"
   ]
  },
  {
   "cell_type": "markdown",
   "id": "9a77829f",
   "metadata": {},
   "source": [
    "Вывод: \n",
    "Были созданы 4 модели:\n",
    "* LogisticRegression - Показатель ROC-AUC на кросс-валидации: 0.7517893360742186\n",
    "* DecisionTreeClassifier - Показатель ROC-AUC на кросс-валидации: 0.7877131318805115\n",
    "* RandomForestClassifier - Показатель ROC-AUC на кросс-валидации: 0.8267513091499783\n",
    "* CatBoostClassifier - Показатель ROC-AUC на кросс-валидации: 0.8768200202559806\n",
    "\n",
    "Лучший результат показала модель CatBoostClassifier. "
   ]
  },
  {
   "cell_type": "markdown",
   "id": "c96feca7",
   "metadata": {},
   "source": [
    "## Проверим лучшую модель на тестовой выборке"
   ]
  },
  {
   "cell_type": "code",
   "execution_count": 54,
   "id": "ea457787",
   "metadata": {},
   "outputs": [
    {
     "name": "stdout",
     "output_type": "stream",
     "text": [
      "0:\tlearn: 0.6731987\ttotal: 1.24ms\tremaining: 493ms\n",
      "1:\tlearn: 0.6499432\ttotal: 3.61ms\tremaining: 719ms\n",
      "2:\tlearn: 0.6282555\ttotal: 5.67ms\tremaining: 751ms\n",
      "3:\tlearn: 0.6091068\ttotal: 7.57ms\tremaining: 749ms\n",
      "4:\tlearn: 0.5892092\ttotal: 9.62ms\tremaining: 760ms\n",
      "5:\tlearn: 0.5703491\ttotal: 11.6ms\tremaining: 762ms\n",
      "6:\tlearn: 0.5542189\ttotal: 13.6ms\tremaining: 764ms\n",
      "7:\tlearn: 0.5417572\ttotal: 15.5ms\tremaining: 760ms\n",
      "8:\tlearn: 0.5265663\ttotal: 17.3ms\tremaining: 754ms\n",
      "9:\tlearn: 0.5141155\ttotal: 19.3ms\tremaining: 753ms\n",
      "10:\tlearn: 0.5003629\ttotal: 21.5ms\tremaining: 762ms\n",
      "11:\tlearn: 0.4912993\ttotal: 23.7ms\tremaining: 766ms\n",
      "12:\tlearn: 0.4811059\ttotal: 25.5ms\tremaining: 760ms\n",
      "13:\tlearn: 0.4704290\ttotal: 27.4ms\tremaining: 755ms\n",
      "14:\tlearn: 0.4600057\ttotal: 29.6ms\tremaining: 759ms\n",
      "15:\tlearn: 0.4509481\ttotal: 32.2ms\tremaining: 773ms\n",
      "16:\tlearn: 0.4427517\ttotal: 34.7ms\tremaining: 783ms\n",
      "17:\tlearn: 0.4353673\ttotal: 37.6ms\tremaining: 798ms\n",
      "18:\tlearn: 0.4282080\ttotal: 40.1ms\tremaining: 805ms\n",
      "19:\tlearn: 0.4211417\ttotal: 42.6ms\tremaining: 810ms\n",
      "20:\tlearn: 0.4148298\ttotal: 45.2ms\tremaining: 815ms\n",
      "21:\tlearn: 0.4099318\ttotal: 47.6ms\tremaining: 818ms\n",
      "22:\tlearn: 0.4045871\ttotal: 50.1ms\tremaining: 821ms\n",
      "23:\tlearn: 0.4003551\ttotal: 55.9ms\tremaining: 876ms\n",
      "24:\tlearn: 0.3956396\ttotal: 58ms\tremaining: 869ms\n",
      "25:\tlearn: 0.3910306\ttotal: 60.1ms\tremaining: 865ms\n",
      "26:\tlearn: 0.3865695\ttotal: 62.3ms\tremaining: 861ms\n",
      "27:\tlearn: 0.3829221\ttotal: 64.3ms\tremaining: 854ms\n",
      "28:\tlearn: 0.3798380\ttotal: 66.2ms\tremaining: 846ms\n",
      "29:\tlearn: 0.3765526\ttotal: 68.4ms\tremaining: 843ms\n",
      "30:\tlearn: 0.3738116\ttotal: 70.3ms\tremaining: 837ms\n",
      "31:\tlearn: 0.3707619\ttotal: 72.2ms\tremaining: 831ms\n",
      "32:\tlearn: 0.3683667\ttotal: 74.3ms\tremaining: 826ms\n",
      "33:\tlearn: 0.3658166\ttotal: 76.2ms\tremaining: 821ms\n",
      "34:\tlearn: 0.3630940\ttotal: 78.2ms\tremaining: 815ms\n",
      "35:\tlearn: 0.3610781\ttotal: 80.1ms\tremaining: 810ms\n",
      "36:\tlearn: 0.3586962\ttotal: 82.2ms\tremaining: 806ms\n",
      "37:\tlearn: 0.3566167\ttotal: 84.1ms\tremaining: 801ms\n",
      "38:\tlearn: 0.3542865\ttotal: 86.1ms\tremaining: 797ms\n",
      "39:\tlearn: 0.3527882\ttotal: 88.3ms\tremaining: 794ms\n",
      "40:\tlearn: 0.3507202\ttotal: 90.3ms\tremaining: 791ms\n",
      "41:\tlearn: 0.3484853\ttotal: 92.2ms\tremaining: 786ms\n",
      "42:\tlearn: 0.3470641\ttotal: 94.1ms\tremaining: 781ms\n",
      "43:\tlearn: 0.3453489\ttotal: 96.2ms\tremaining: 779ms\n",
      "44:\tlearn: 0.3440332\ttotal: 98.3ms\tremaining: 775ms\n",
      "45:\tlearn: 0.3433245\ttotal: 99.4ms\tremaining: 765ms\n",
      "46:\tlearn: 0.3419657\ttotal: 101ms\tremaining: 761ms\n",
      "47:\tlearn: 0.3402535\ttotal: 103ms\tremaining: 758ms\n",
      "48:\tlearn: 0.3386702\ttotal: 105ms\tremaining: 756ms\n",
      "49:\tlearn: 0.3374135\ttotal: 108ms\tremaining: 756ms\n",
      "50:\tlearn: 0.3360442\ttotal: 119ms\tremaining: 816ms\n",
      "51:\tlearn: 0.3347613\ttotal: 122ms\tremaining: 814ms\n",
      "52:\tlearn: 0.3335735\ttotal: 124ms\tremaining: 814ms\n",
      "53:\tlearn: 0.3324111\ttotal: 127ms\tremaining: 816ms\n",
      "54:\tlearn: 0.3316315\ttotal: 130ms\tremaining: 815ms\n",
      "55:\tlearn: 0.3306806\ttotal: 133ms\tremaining: 815ms\n",
      "56:\tlearn: 0.3296488\ttotal: 135ms\tremaining: 813ms\n",
      "57:\tlearn: 0.3286922\ttotal: 137ms\tremaining: 809ms\n",
      "58:\tlearn: 0.3277888\ttotal: 139ms\tremaining: 804ms\n",
      "59:\tlearn: 0.3270226\ttotal: 141ms\tremaining: 799ms\n",
      "60:\tlearn: 0.3262072\ttotal: 143ms\tremaining: 795ms\n",
      "61:\tlearn: 0.3253432\ttotal: 145ms\tremaining: 790ms\n",
      "62:\tlearn: 0.3247508\ttotal: 147ms\tremaining: 787ms\n",
      "63:\tlearn: 0.3241912\ttotal: 149ms\tremaining: 783ms\n",
      "64:\tlearn: 0.3236157\ttotal: 151ms\tremaining: 778ms\n",
      "65:\tlearn: 0.3229760\ttotal: 153ms\tremaining: 776ms\n",
      "66:\tlearn: 0.3223429\ttotal: 156ms\tremaining: 773ms\n",
      "67:\tlearn: 0.3217891\ttotal: 157ms\tremaining: 769ms\n",
      "68:\tlearn: 0.3211732\ttotal: 159ms\tremaining: 765ms\n",
      "69:\tlearn: 0.3204245\ttotal: 161ms\tremaining: 761ms\n",
      "70:\tlearn: 0.3196926\ttotal: 163ms\tremaining: 757ms\n",
      "71:\tlearn: 0.3190125\ttotal: 165ms\tremaining: 753ms\n",
      "72:\tlearn: 0.3184336\ttotal: 167ms\tremaining: 749ms\n",
      "73:\tlearn: 0.3177690\ttotal: 169ms\tremaining: 745ms\n",
      "74:\tlearn: 0.3170455\ttotal: 171ms\tremaining: 741ms\n",
      "75:\tlearn: 0.3164996\ttotal: 173ms\tremaining: 737ms\n",
      "76:\tlearn: 0.3159342\ttotal: 175ms\tremaining: 733ms\n",
      "77:\tlearn: 0.3154525\ttotal: 177ms\tremaining: 730ms\n",
      "78:\tlearn: 0.3151084\ttotal: 179ms\tremaining: 726ms\n",
      "79:\tlearn: 0.3145524\ttotal: 181ms\tremaining: 725ms\n",
      "80:\tlearn: 0.3140177\ttotal: 184ms\tremaining: 724ms\n",
      "81:\tlearn: 0.3134415\ttotal: 186ms\tremaining: 723ms\n",
      "82:\tlearn: 0.3129029\ttotal: 189ms\tremaining: 722ms\n",
      "83:\tlearn: 0.3125564\ttotal: 192ms\tremaining: 721ms\n",
      "84:\tlearn: 0.3119630\ttotal: 194ms\tremaining: 720ms\n",
      "85:\tlearn: 0.3114409\ttotal: 197ms\tremaining: 719ms\n",
      "86:\tlearn: 0.3110103\ttotal: 199ms\tremaining: 717ms\n",
      "87:\tlearn: 0.3105702\ttotal: 202ms\tremaining: 715ms\n",
      "88:\tlearn: 0.3101471\ttotal: 204ms\tremaining: 714ms\n",
      "89:\tlearn: 0.3097352\ttotal: 212ms\tremaining: 732ms\n",
      "90:\tlearn: 0.3094851\ttotal: 217ms\tremaining: 736ms\n",
      "91:\tlearn: 0.3091484\ttotal: 219ms\tremaining: 735ms\n",
      "92:\tlearn: 0.3086523\ttotal: 222ms\tremaining: 731ms\n",
      "93:\tlearn: 0.3083112\ttotal: 224ms\tremaining: 728ms\n",
      "94:\tlearn: 0.3080309\ttotal: 226ms\tremaining: 725ms\n",
      "95:\tlearn: 0.3077032\ttotal: 228ms\tremaining: 721ms\n",
      "96:\tlearn: 0.3074288\ttotal: 230ms\tremaining: 717ms\n",
      "97:\tlearn: 0.3071340\ttotal: 232ms\tremaining: 714ms\n",
      "98:\tlearn: 0.3067523\ttotal: 233ms\tremaining: 710ms\n",
      "99:\tlearn: 0.3063606\ttotal: 235ms\tremaining: 706ms\n",
      "100:\tlearn: 0.3059033\ttotal: 237ms\tremaining: 702ms\n",
      "101:\tlearn: 0.3055054\ttotal: 239ms\tremaining: 699ms\n",
      "102:\tlearn: 0.3050187\ttotal: 241ms\tremaining: 696ms\n",
      "103:\tlearn: 0.3047054\ttotal: 243ms\tremaining: 692ms\n",
      "104:\tlearn: 0.3043346\ttotal: 245ms\tremaining: 689ms\n",
      "105:\tlearn: 0.3040276\ttotal: 247ms\tremaining: 685ms\n",
      "106:\tlearn: 0.3037414\ttotal: 249ms\tremaining: 681ms\n",
      "107:\tlearn: 0.3033352\ttotal: 251ms\tremaining: 677ms\n",
      "108:\tlearn: 0.3029872\ttotal: 252ms\tremaining: 674ms\n",
      "109:\tlearn: 0.3025705\ttotal: 254ms\tremaining: 670ms\n",
      "110:\tlearn: 0.3023093\ttotal: 256ms\tremaining: 667ms\n",
      "111:\tlearn: 0.3019460\ttotal: 259ms\tremaining: 667ms\n",
      "112:\tlearn: 0.3015290\ttotal: 261ms\tremaining: 664ms\n",
      "113:\tlearn: 0.3012329\ttotal: 264ms\tremaining: 663ms\n",
      "114:\tlearn: 0.3009798\ttotal: 267ms\tremaining: 661ms\n",
      "115:\tlearn: 0.3006408\ttotal: 270ms\tremaining: 660ms\n",
      "116:\tlearn: 0.3004818\ttotal: 272ms\tremaining: 659ms\n",
      "117:\tlearn: 0.3001420\ttotal: 275ms\tremaining: 657ms\n",
      "118:\tlearn: 0.2996606\ttotal: 278ms\tremaining: 655ms\n",
      "119:\tlearn: 0.2992895\ttotal: 280ms\tremaining: 653ms\n",
      "120:\tlearn: 0.2990259\ttotal: 283ms\tremaining: 652ms\n",
      "121:\tlearn: 0.2988147\ttotal: 285ms\tremaining: 650ms\n",
      "122:\tlearn: 0.2984834\ttotal: 288ms\tremaining: 648ms\n",
      "123:\tlearn: 0.2981801\ttotal: 290ms\tremaining: 646ms\n",
      "124:\tlearn: 0.2979160\ttotal: 293ms\tremaining: 644ms\n",
      "125:\tlearn: 0.2976921\ttotal: 295ms\tremaining: 642ms\n",
      "126:\tlearn: 0.2975022\ttotal: 297ms\tremaining: 639ms\n",
      "127:\tlearn: 0.2971502\ttotal: 299ms\tremaining: 636ms\n",
      "128:\tlearn: 0.2967853\ttotal: 301ms\tremaining: 633ms\n",
      "129:\tlearn: 0.2965029\ttotal: 303ms\tremaining: 630ms\n",
      "130:\tlearn: 0.2961936\ttotal: 305ms\tremaining: 627ms\n",
      "131:\tlearn: 0.2961497\ttotal: 306ms\tremaining: 622ms\n",
      "132:\tlearn: 0.2958855\ttotal: 308ms\tremaining: 619ms\n",
      "133:\tlearn: 0.2955438\ttotal: 310ms\tremaining: 616ms\n",
      "134:\tlearn: 0.2952247\ttotal: 312ms\tremaining: 613ms\n",
      "135:\tlearn: 0.2950068\ttotal: 314ms\tremaining: 609ms\n",
      "136:\tlearn: 0.2946780\ttotal: 316ms\tremaining: 606ms\n",
      "137:\tlearn: 0.2942598\ttotal: 318ms\tremaining: 603ms\n",
      "138:\tlearn: 0.2939944\ttotal: 320ms\tremaining: 600ms\n",
      "139:\tlearn: 0.2937020\ttotal: 322ms\tremaining: 599ms\n",
      "140:\tlearn: 0.2934244\ttotal: 325ms\tremaining: 597ms\n",
      "141:\tlearn: 0.2931449\ttotal: 327ms\tremaining: 595ms\n",
      "142:\tlearn: 0.2928944\ttotal: 330ms\tremaining: 592ms\n",
      "143:\tlearn: 0.2928804\ttotal: 331ms\tremaining: 588ms\n",
      "144:\tlearn: 0.2924695\ttotal: 333ms\tremaining: 586ms\n",
      "145:\tlearn: 0.2922155\ttotal: 336ms\tremaining: 584ms\n",
      "146:\tlearn: 0.2920130\ttotal: 338ms\tremaining: 581ms\n",
      "147:\tlearn: 0.2918158\ttotal: 340ms\tremaining: 579ms\n",
      "148:\tlearn: 0.2915025\ttotal: 342ms\tremaining: 577ms\n",
      "149:\tlearn: 0.2912988\ttotal: 345ms\tremaining: 575ms\n",
      "150:\tlearn: 0.2911211\ttotal: 347ms\tremaining: 573ms\n",
      "151:\tlearn: 0.2907279\ttotal: 350ms\tremaining: 571ms\n",
      "152:\tlearn: 0.2901399\ttotal: 353ms\tremaining: 569ms\n",
      "153:\tlearn: 0.2898172\ttotal: 355ms\tremaining: 567ms\n",
      "154:\tlearn: 0.2895695\ttotal: 358ms\tremaining: 566ms\n",
      "155:\tlearn: 0.2892483\ttotal: 360ms\tremaining: 564ms\n",
      "156:\tlearn: 0.2889327\ttotal: 363ms\tremaining: 562ms\n",
      "157:\tlearn: 0.2888986\ttotal: 364ms\tremaining: 558ms\n",
      "158:\tlearn: 0.2886061\ttotal: 367ms\tremaining: 556ms\n",
      "159:\tlearn: 0.2882967\ttotal: 369ms\tremaining: 554ms\n",
      "160:\tlearn: 0.2880992\ttotal: 371ms\tremaining: 551ms\n",
      "161:\tlearn: 0.2874454\ttotal: 373ms\tremaining: 548ms\n",
      "162:\tlearn: 0.2873275\ttotal: 375ms\tremaining: 545ms\n",
      "163:\tlearn: 0.2867744\ttotal: 377ms\tremaining: 543ms\n",
      "164:\tlearn: 0.2865188\ttotal: 379ms\tremaining: 540ms\n",
      "165:\tlearn: 0.2863436\ttotal: 382ms\tremaining: 538ms\n",
      "166:\tlearn: 0.2859790\ttotal: 384ms\tremaining: 536ms\n",
      "167:\tlearn: 0.2858636\ttotal: 386ms\tremaining: 534ms\n",
      "168:\tlearn: 0.2856595\ttotal: 388ms\tremaining: 531ms\n",
      "169:\tlearn: 0.2854454\ttotal: 390ms\tremaining: 528ms\n",
      "170:\tlearn: 0.2851019\ttotal: 392ms\tremaining: 525ms\n",
      "171:\tlearn: 0.2847487\ttotal: 394ms\tremaining: 522ms\n",
      "172:\tlearn: 0.2845504\ttotal: 396ms\tremaining: 520ms\n",
      "173:\tlearn: 0.2843026\ttotal: 398ms\tremaining: 517ms\n",
      "174:\tlearn: 0.2840271\ttotal: 400ms\tremaining: 514ms\n",
      "175:\tlearn: 0.2837684\ttotal: 402ms\tremaining: 512ms\n",
      "176:\tlearn: 0.2835376\ttotal: 404ms\tremaining: 510ms\n",
      "177:\tlearn: 0.2833607\ttotal: 406ms\tremaining: 507ms\n",
      "178:\tlearn: 0.2831715\ttotal: 408ms\tremaining: 504ms\n",
      "179:\tlearn: 0.2829332\ttotal: 410ms\tremaining: 501ms\n",
      "180:\tlearn: 0.2826821\ttotal: 412ms\tremaining: 499ms\n",
      "181:\tlearn: 0.2822449\ttotal: 414ms\tremaining: 496ms\n",
      "182:\tlearn: 0.2820711\ttotal: 416ms\tremaining: 493ms\n",
      "183:\tlearn: 0.2818554\ttotal: 418ms\tremaining: 490ms\n",
      "184:\tlearn: 0.2816631\ttotal: 420ms\tremaining: 488ms\n",
      "185:\tlearn: 0.2815020\ttotal: 422ms\tremaining: 486ms\n",
      "186:\tlearn: 0.2812409\ttotal: 429ms\tremaining: 489ms\n",
      "187:\tlearn: 0.2809869\ttotal: 436ms\tremaining: 491ms\n",
      "188:\tlearn: 0.2807894\ttotal: 439ms\tremaining: 490ms\n",
      "189:\tlearn: 0.2805180\ttotal: 442ms\tremaining: 488ms\n",
      "190:\tlearn: 0.2803514\ttotal: 445ms\tremaining: 487ms\n",
      "191:\tlearn: 0.2801041\ttotal: 448ms\tremaining: 485ms\n",
      "192:\tlearn: 0.2798502\ttotal: 451ms\tremaining: 484ms\n",
      "193:\tlearn: 0.2796665\ttotal: 454ms\tremaining: 482ms\n",
      "194:\tlearn: 0.2794923\ttotal: 457ms\tremaining: 481ms\n",
      "195:\tlearn: 0.2793109\ttotal: 460ms\tremaining: 479ms\n",
      "196:\tlearn: 0.2791758\ttotal: 463ms\tremaining: 477ms\n",
      "197:\tlearn: 0.2789100\ttotal: 466ms\tremaining: 475ms\n",
      "198:\tlearn: 0.2787514\ttotal: 469ms\tremaining: 474ms\n",
      "199:\tlearn: 0.2785283\ttotal: 472ms\tremaining: 472ms\n",
      "200:\tlearn: 0.2782098\ttotal: 476ms\tremaining: 471ms\n",
      "201:\tlearn: 0.2780052\ttotal: 479ms\tremaining: 469ms\n",
      "202:\tlearn: 0.2778290\ttotal: 482ms\tremaining: 467ms\n",
      "203:\tlearn: 0.2776725\ttotal: 485ms\tremaining: 466ms\n",
      "204:\tlearn: 0.2775196\ttotal: 487ms\tremaining: 463ms\n",
      "205:\tlearn: 0.2773202\ttotal: 490ms\tremaining: 461ms\n",
      "206:\tlearn: 0.2773016\ttotal: 491ms\tremaining: 458ms\n",
      "207:\tlearn: 0.2770775\ttotal: 494ms\tremaining: 456ms\n",
      "208:\tlearn: 0.2768214\ttotal: 498ms\tremaining: 455ms\n",
      "209:\tlearn: 0.2764073\ttotal: 501ms\tremaining: 453ms\n",
      "210:\tlearn: 0.2760186\ttotal: 503ms\tremaining: 451ms\n",
      "211:\tlearn: 0.2756549\ttotal: 506ms\tremaining: 449ms\n",
      "212:\tlearn: 0.2752470\ttotal: 509ms\tremaining: 446ms\n",
      "213:\tlearn: 0.2750070\ttotal: 511ms\tremaining: 444ms\n",
      "214:\tlearn: 0.2748535\ttotal: 514ms\tremaining: 442ms\n",
      "215:\tlearn: 0.2747140\ttotal: 516ms\tremaining: 440ms\n",
      "216:\tlearn: 0.2744122\ttotal: 519ms\tremaining: 437ms\n",
      "217:\tlearn: 0.2741767\ttotal: 521ms\tremaining: 435ms\n",
      "218:\tlearn: 0.2738917\ttotal: 524ms\tremaining: 433ms\n",
      "219:\tlearn: 0.2737676\ttotal: 527ms\tremaining: 431ms\n",
      "220:\tlearn: 0.2735569\ttotal: 529ms\tremaining: 429ms\n",
      "221:\tlearn: 0.2733878\ttotal: 532ms\tremaining: 427ms\n",
      "222:\tlearn: 0.2730082\ttotal: 534ms\tremaining: 424ms\n",
      "223:\tlearn: 0.2726684\ttotal: 536ms\tremaining: 421ms\n",
      "224:\tlearn: 0.2722815\ttotal: 538ms\tremaining: 419ms\n",
      "225:\tlearn: 0.2720322\ttotal: 540ms\tremaining: 416ms\n",
      "226:\tlearn: 0.2718175\ttotal: 542ms\tremaining: 413ms\n",
      "227:\tlearn: 0.2715117\ttotal: 544ms\tremaining: 411ms\n",
      "228:\tlearn: 0.2712811\ttotal: 546ms\tremaining: 408ms\n",
      "229:\tlearn: 0.2709622\ttotal: 548ms\tremaining: 405ms\n",
      "230:\tlearn: 0.2708450\ttotal: 550ms\tremaining: 403ms\n",
      "231:\tlearn: 0.2706598\ttotal: 552ms\tremaining: 400ms\n",
      "232:\tlearn: 0.2704463\ttotal: 554ms\tremaining: 397ms\n",
      "233:\tlearn: 0.2702634\ttotal: 556ms\tremaining: 395ms\n",
      "234:\tlearn: 0.2698640\ttotal: 558ms\tremaining: 392ms\n",
      "235:\tlearn: 0.2696395\ttotal: 560ms\tremaining: 389ms\n",
      "236:\tlearn: 0.2693561\ttotal: 562ms\tremaining: 387ms\n",
      "237:\tlearn: 0.2692651\ttotal: 564ms\tremaining: 384ms\n",
      "238:\tlearn: 0.2689397\ttotal: 566ms\tremaining: 381ms\n",
      "239:\tlearn: 0.2687129\ttotal: 568ms\tremaining: 379ms\n",
      "240:\tlearn: 0.2685256\ttotal: 570ms\tremaining: 376ms\n",
      "241:\tlearn: 0.2683893\ttotal: 572ms\tremaining: 374ms\n",
      "242:\tlearn: 0.2682157\ttotal: 574ms\tremaining: 371ms\n",
      "243:\tlearn: 0.2678914\ttotal: 576ms\tremaining: 368ms\n",
      "244:\tlearn: 0.2676786\ttotal: 579ms\tremaining: 366ms\n",
      "245:\tlearn: 0.2674187\ttotal: 581ms\tremaining: 364ms\n",
      "246:\tlearn: 0.2672855\ttotal: 583ms\tremaining: 361ms\n",
      "247:\tlearn: 0.2671543\ttotal: 586ms\tremaining: 359ms\n",
      "248:\tlearn: 0.2670270\ttotal: 589ms\tremaining: 357ms\n",
      "249:\tlearn: 0.2667412\ttotal: 592ms\tremaining: 355ms\n",
      "250:\tlearn: 0.2665763\ttotal: 595ms\tremaining: 353ms\n",
      "251:\tlearn: 0.2664110\ttotal: 600ms\tremaining: 352ms\n",
      "252:\tlearn: 0.2660492\ttotal: 603ms\tremaining: 350ms\n",
      "253:\tlearn: 0.2657334\ttotal: 606ms\tremaining: 348ms\n",
      "254:\tlearn: 0.2653766\ttotal: 609ms\tremaining: 346ms\n",
      "255:\tlearn: 0.2652333\ttotal: 611ms\tremaining: 343ms\n",
      "256:\tlearn: 0.2649985\ttotal: 613ms\tremaining: 341ms\n",
      "257:\tlearn: 0.2648032\ttotal: 615ms\tremaining: 339ms\n",
      "258:\tlearn: 0.2645991\ttotal: 618ms\tremaining: 337ms\n",
      "259:\tlearn: 0.2644005\ttotal: 620ms\tremaining: 334ms\n",
      "260:\tlearn: 0.2643553\ttotal: 623ms\tremaining: 332ms\n",
      "261:\tlearn: 0.2639458\ttotal: 626ms\tremaining: 330ms\n",
      "262:\tlearn: 0.2637610\ttotal: 629ms\tremaining: 328ms\n",
      "263:\tlearn: 0.2633829\ttotal: 632ms\tremaining: 326ms\n",
      "264:\tlearn: 0.2630426\ttotal: 634ms\tremaining: 323ms\n",
      "265:\tlearn: 0.2629028\ttotal: 637ms\tremaining: 321ms\n",
      "266:\tlearn: 0.2626537\ttotal: 639ms\tremaining: 318ms\n",
      "267:\tlearn: 0.2624150\ttotal: 641ms\tremaining: 316ms\n",
      "268:\tlearn: 0.2621531\ttotal: 644ms\tremaining: 314ms\n",
      "269:\tlearn: 0.2619417\ttotal: 646ms\tremaining: 311ms\n",
      "270:\tlearn: 0.2616264\ttotal: 649ms\tremaining: 309ms\n",
      "271:\tlearn: 0.2615115\ttotal: 652ms\tremaining: 307ms\n",
      "272:\tlearn: 0.2613888\ttotal: 654ms\tremaining: 304ms\n",
      "273:\tlearn: 0.2612038\ttotal: 657ms\tremaining: 302ms\n",
      "274:\tlearn: 0.2608726\ttotal: 659ms\tremaining: 300ms\n",
      "275:\tlearn: 0.2606771\ttotal: 662ms\tremaining: 297ms\n",
      "276:\tlearn: 0.2604215\ttotal: 664ms\tremaining: 295ms\n",
      "277:\tlearn: 0.2602845\ttotal: 667ms\tremaining: 293ms\n",
      "278:\tlearn: 0.2601413\ttotal: 670ms\tremaining: 290ms\n",
      "279:\tlearn: 0.2597951\ttotal: 672ms\tremaining: 288ms\n",
      "280:\tlearn: 0.2594284\ttotal: 675ms\tremaining: 286ms\n",
      "281:\tlearn: 0.2591929\ttotal: 678ms\tremaining: 284ms\n",
      "282:\tlearn: 0.2588995\ttotal: 681ms\tremaining: 281ms\n",
      "283:\tlearn: 0.2586510\ttotal: 683ms\tremaining: 279ms\n",
      "284:\tlearn: 0.2583525\ttotal: 686ms\tremaining: 277ms\n",
      "285:\tlearn: 0.2582447\ttotal: 689ms\tremaining: 275ms\n",
      "286:\tlearn: 0.2579244\ttotal: 691ms\tremaining: 272ms\n",
      "287:\tlearn: 0.2575377\ttotal: 693ms\tremaining: 269ms\n",
      "288:\tlearn: 0.2572460\ttotal: 695ms\tremaining: 267ms\n",
      "289:\tlearn: 0.2569319\ttotal: 697ms\tremaining: 265ms\n",
      "290:\tlearn: 0.2566826\ttotal: 700ms\tremaining: 262ms\n",
      "291:\tlearn: 0.2565841\ttotal: 702ms\tremaining: 260ms\n",
      "292:\tlearn: 0.2563500\ttotal: 704ms\tremaining: 257ms\n",
      "293:\tlearn: 0.2559495\ttotal: 707ms\tremaining: 255ms\n",
      "294:\tlearn: 0.2555473\ttotal: 709ms\tremaining: 252ms\n",
      "295:\tlearn: 0.2551150\ttotal: 712ms\tremaining: 250ms\n",
      "296:\tlearn: 0.2549344\ttotal: 714ms\tremaining: 248ms\n",
      "297:\tlearn: 0.2547684\ttotal: 716ms\tremaining: 245ms\n",
      "298:\tlearn: 0.2546248\ttotal: 718ms\tremaining: 243ms\n",
      "299:\tlearn: 0.2544020\ttotal: 720ms\tremaining: 240ms\n",
      "300:\tlearn: 0.2541054\ttotal: 722ms\tremaining: 237ms\n",
      "301:\tlearn: 0.2538935\ttotal: 724ms\tremaining: 235ms\n",
      "302:\tlearn: 0.2536256\ttotal: 727ms\tremaining: 233ms\n",
      "303:\tlearn: 0.2534687\ttotal: 730ms\tremaining: 231ms\n",
      "304:\tlearn: 0.2531530\ttotal: 733ms\tremaining: 228ms\n",
      "305:\tlearn: 0.2529736\ttotal: 736ms\tremaining: 226ms\n",
      "306:\tlearn: 0.2525044\ttotal: 739ms\tremaining: 224ms\n",
      "307:\tlearn: 0.2520542\ttotal: 742ms\tremaining: 222ms\n",
      "308:\tlearn: 0.2518417\ttotal: 745ms\tremaining: 219ms\n",
      "309:\tlearn: 0.2517016\ttotal: 748ms\tremaining: 217ms\n",
      "310:\tlearn: 0.2513986\ttotal: 751ms\tremaining: 215ms\n",
      "311:\tlearn: 0.2512163\ttotal: 754ms\tremaining: 213ms\n",
      "312:\tlearn: 0.2509467\ttotal: 757ms\tremaining: 210ms\n",
      "313:\tlearn: 0.2507905\ttotal: 760ms\tremaining: 208ms\n",
      "314:\tlearn: 0.2502912\ttotal: 763ms\tremaining: 206ms\n",
      "315:\tlearn: 0.2501659\ttotal: 766ms\tremaining: 204ms\n",
      "316:\tlearn: 0.2500269\ttotal: 768ms\tremaining: 201ms\n",
      "317:\tlearn: 0.2495844\ttotal: 770ms\tremaining: 198ms\n",
      "318:\tlearn: 0.2494970\ttotal: 771ms\tremaining: 196ms\n",
      "319:\tlearn: 0.2490644\ttotal: 773ms\tremaining: 193ms\n",
      "320:\tlearn: 0.2488173\ttotal: 775ms\tremaining: 191ms\n",
      "321:\tlearn: 0.2481921\ttotal: 777ms\tremaining: 188ms\n",
      "322:\tlearn: 0.2480927\ttotal: 779ms\tremaining: 186ms\n",
      "323:\tlearn: 0.2479952\ttotal: 781ms\tremaining: 183ms\n",
      "324:\tlearn: 0.2477726\ttotal: 783ms\tremaining: 181ms\n",
      "325:\tlearn: 0.2474306\ttotal: 785ms\tremaining: 178ms\n",
      "326:\tlearn: 0.2473580\ttotal: 787ms\tremaining: 176ms\n",
      "327:\tlearn: 0.2472262\ttotal: 788ms\tremaining: 173ms\n",
      "328:\tlearn: 0.2467331\ttotal: 790ms\tremaining: 171ms\n",
      "329:\tlearn: 0.2462666\ttotal: 792ms\tremaining: 168ms\n",
      "330:\tlearn: 0.2461592\ttotal: 794ms\tremaining: 166ms\n",
      "331:\tlearn: 0.2457649\ttotal: 797ms\tremaining: 163ms\n",
      "332:\tlearn: 0.2453079\ttotal: 799ms\tremaining: 161ms\n",
      "333:\tlearn: 0.2451952\ttotal: 801ms\tremaining: 158ms\n",
      "334:\tlearn: 0.2446385\ttotal: 803ms\tremaining: 156ms\n",
      "335:\tlearn: 0.2444756\ttotal: 806ms\tremaining: 153ms\n",
      "336:\tlearn: 0.2443353\ttotal: 808ms\tremaining: 151ms\n",
      "337:\tlearn: 0.2442167\ttotal: 810ms\tremaining: 149ms\n",
      "338:\tlearn: 0.2439988\ttotal: 812ms\tremaining: 146ms\n",
      "339:\tlearn: 0.2433532\ttotal: 815ms\tremaining: 144ms\n",
      "340:\tlearn: 0.2429651\ttotal: 820ms\tremaining: 142ms\n",
      "341:\tlearn: 0.2427357\ttotal: 823ms\tremaining: 140ms\n",
      "342:\tlearn: 0.2422690\ttotal: 826ms\tremaining: 137ms\n",
      "343:\tlearn: 0.2414034\ttotal: 828ms\tremaining: 135ms\n",
      "344:\tlearn: 0.2412507\ttotal: 831ms\tremaining: 132ms\n",
      "345:\tlearn: 0.2405789\ttotal: 833ms\tremaining: 130ms\n",
      "346:\tlearn: 0.2404408\ttotal: 836ms\tremaining: 128ms\n",
      "347:\tlearn: 0.2403126\ttotal: 838ms\tremaining: 125ms\n",
      "348:\tlearn: 0.2398537\ttotal: 840ms\tremaining: 123ms\n",
      "349:\tlearn: 0.2397688\ttotal: 843ms\tremaining: 120ms\n",
      "350:\tlearn: 0.2395691\ttotal: 846ms\tremaining: 118ms\n",
      "351:\tlearn: 0.2394496\ttotal: 848ms\tremaining: 116ms\n",
      "352:\tlearn: 0.2389480\ttotal: 851ms\tremaining: 113ms\n",
      "353:\tlearn: 0.2382001\ttotal: 853ms\tremaining: 111ms\n",
      "354:\tlearn: 0.2380841\ttotal: 855ms\tremaining: 108ms\n",
      "355:\tlearn: 0.2379930\ttotal: 858ms\tremaining: 106ms\n",
      "356:\tlearn: 0.2375344\ttotal: 861ms\tremaining: 104ms\n",
      "357:\tlearn: 0.2373080\ttotal: 863ms\tremaining: 101ms\n",
      "358:\tlearn: 0.2366759\ttotal: 865ms\tremaining: 98.8ms\n",
      "359:\tlearn: 0.2360368\ttotal: 868ms\tremaining: 96.4ms\n",
      "360:\tlearn: 0.2353303\ttotal: 870ms\tremaining: 94ms\n",
      "361:\tlearn: 0.2349285\ttotal: 873ms\tremaining: 91.6ms\n",
      "362:\tlearn: 0.2343945\ttotal: 875ms\tremaining: 89.2ms\n",
      "363:\tlearn: 0.2338233\ttotal: 877ms\tremaining: 86.8ms\n",
      "364:\tlearn: 0.2334741\ttotal: 879ms\tremaining: 84.3ms\n",
      "365:\tlearn: 0.2333256\ttotal: 882ms\tremaining: 81.9ms\n",
      "366:\tlearn: 0.2330833\ttotal: 884ms\tremaining: 79.5ms\n",
      "367:\tlearn: 0.2324884\ttotal: 887ms\tremaining: 77.1ms\n",
      "368:\tlearn: 0.2324045\ttotal: 890ms\tremaining: 74.7ms\n",
      "369:\tlearn: 0.2322715\ttotal: 892ms\tremaining: 72.3ms\n",
      "370:\tlearn: 0.2319652\ttotal: 895ms\tremaining: 69.9ms\n",
      "371:\tlearn: 0.2316544\ttotal: 897ms\tremaining: 67.5ms\n",
      "372:\tlearn: 0.2315071\ttotal: 899ms\tremaining: 65.1ms\n",
      "373:\tlearn: 0.2314099\ttotal: 902ms\tremaining: 62.7ms\n",
      "374:\tlearn: 0.2309060\ttotal: 905ms\tremaining: 60.3ms\n",
      "375:\tlearn: 0.2306268\ttotal: 907ms\tremaining: 57.9ms\n",
      "376:\tlearn: 0.2303239\ttotal: 910ms\tremaining: 55.5ms\n",
      "377:\tlearn: 0.2301084\ttotal: 912ms\tremaining: 53.1ms\n",
      "378:\tlearn: 0.2299882\ttotal: 915ms\tremaining: 50.7ms\n",
      "379:\tlearn: 0.2298930\ttotal: 917ms\tremaining: 48.3ms\n",
      "380:\tlearn: 0.2296373\ttotal: 919ms\tremaining: 45.8ms\n",
      "381:\tlearn: 0.2288933\ttotal: 921ms\tremaining: 43.4ms\n",
      "382:\tlearn: 0.2286598\ttotal: 923ms\tremaining: 41ms\n",
      "383:\tlearn: 0.2284348\ttotal: 925ms\tremaining: 38.5ms\n",
      "384:\tlearn: 0.2282701\ttotal: 927ms\tremaining: 36.1ms\n",
      "385:\tlearn: 0.2281091\ttotal: 928ms\tremaining: 33.7ms\n",
      "386:\tlearn: 0.2279578\ttotal: 930ms\tremaining: 31.3ms\n",
      "387:\tlearn: 0.2278774\ttotal: 932ms\tremaining: 28.8ms\n",
      "388:\tlearn: 0.2277640\ttotal: 934ms\tremaining: 26.4ms\n",
      "389:\tlearn: 0.2276610\ttotal: 936ms\tremaining: 24ms\n",
      "390:\tlearn: 0.2275586\ttotal: 938ms\tremaining: 21.6ms\n",
      "391:\tlearn: 0.2274289\ttotal: 940ms\tremaining: 19.2ms\n",
      "392:\tlearn: 0.2271766\ttotal: 942ms\tremaining: 16.8ms\n",
      "393:\tlearn: 0.2268934\ttotal: 944ms\tremaining: 14.4ms\n",
      "394:\tlearn: 0.2268130\ttotal: 946ms\tremaining: 12ms\n",
      "395:\tlearn: 0.2266952\ttotal: 948ms\tremaining: 9.57ms\n",
      "396:\tlearn: 0.2264423\ttotal: 950ms\tremaining: 7.18ms\n",
      "397:\tlearn: 0.2260200\ttotal: 952ms\tremaining: 4.78ms\n",
      "398:\tlearn: 0.2258089\ttotal: 954ms\tremaining: 2.39ms\n",
      "399:\tlearn: 0.2257006\ttotal: 956ms\tremaining: 0us\n",
      "ROC-AUC: 0.8863761947431301\n",
      "Accuracy 0.8748577929465301\n"
     ]
    }
   ],
   "source": [
    "model_cbc.fit(features_train, target_train)\n",
    "predicted_cbc = model_cbc.predict(features_test)\n",
    "probabilities_cbc = model_cbc.predict_proba(features_test)[:, 1]\n",
    "roc_auc_cbc = roc_auc_score(target_test, probabilities_cbc)\n",
    "\n",
    "print('ROC-AUC:', roc_auc_cbc)\n",
    "print('Accuracy',accuracy_score(target_test,predicted_cbc))"
   ]
  },
  {
   "cell_type": "markdown",
   "id": "2fe4324d",
   "metadata": {},
   "source": [
    "## Визуализация графика ROC-AUC"
   ]
  },
  {
   "cell_type": "code",
   "execution_count": 55,
   "id": "2cae620e",
   "metadata": {},
   "outputs": [],
   "source": [
    "fpr_cbc,tpr_cbc,thresholds=roc_curve(target_test,probabilities_cbc)"
   ]
  },
  {
   "cell_type": "code",
   "execution_count": 56,
   "id": "20f4aa46",
   "metadata": {},
   "outputs": [
    {
     "data": {
      "image/png": "[encoded data removed]",
      "text/plain": [
       "<Figure size 720x504 with 1 Axes>"
      ]
     },
     "metadata": {
      "needs_background": "light"
     },
     "output_type": "display_data"
    }
   ],
   "source": [
    "plt.figure(figsize=(10,7))\n",
    "plt.plot([0, 1], [0, 1], linestyle='--')\n",
    "plt.xlim([0.0, 1.0])\n",
    "plt.ylim([0.0, 1.0])\n",
    "plt.plot(fpr_cbc,tpr_cbc)\n",
    "plt.xlabel('False Positive Rate')\n",
    "plt.ylabel('True Positive Rate')\n",
    "plt.title('ROC-кривая')\n",
    "plt.legend(('Случайная модель','CatBoostClassifier',),\n",
    "           loc= 'upper left') \n",
    "plt.show()"
   ]
  },
  {
   "cell_type": "markdown",
   "id": "e3e37d20",
   "metadata": {},
   "source": [
    "## Оценим важность признаков"
   ]
  },
  {
   "cell_type": "code",
   "execution_count": 57,
   "id": "ac8dc363",
   "metadata": {},
   "outputs": [],
   "source": [
    "train = Pool(features_train, target_train)\n",
    "test = Pool(features_test, target_test)"
   ]
  },
  {
   "cell_type": "code",
   "execution_count": 59,
   "id": "840552ec",
   "metadata": {},
   "outputs": [
    {
     "data": {
      "text/html": [
       "<div>\n",
       "<style scoped>\n",
       "    .dataframe tbody tr th:only-of-type {\n",
       "        vertical-align: middle;\n",
       "    }\n",
       "\n",
       "    .dataframe tbody tr th {\n",
       "        vertical-align: top;\n",
       "    }\n",
       "\n",
       "    .dataframe thead th {\n",
       "        text-align: right;\n",
       "    }\n",
       "</style>\n",
       "<table border=\"1\" class=\"dataframe\">\n",
       "  <thead>\n",
       "    <tr style=\"text-align: right;\">\n",
       "      <th></th>\n",
       "      <th>Feature Id</th>\n",
       "      <th>Importances</th>\n",
       "    </tr>\n",
       "  </thead>\n",
       "  <tbody>\n",
       "    <tr>\n",
       "      <th>0</th>\n",
       "      <td>use_date</td>\n",
       "      <td>46.112992</td>\n",
       "    </tr>\n",
       "    <tr>\n",
       "      <th>1</th>\n",
       "      <td>monthly_charges</td>\n",
       "      <td>10.380162</td>\n",
       "    </tr>\n",
       "    <tr>\n",
       "      <th>2</th>\n",
       "      <td>type_Two year</td>\n",
       "      <td>7.951756</td>\n",
       "    </tr>\n",
       "    <tr>\n",
       "      <th>3</th>\n",
       "      <td>type_One year</td>\n",
       "      <td>4.474035</td>\n",
       "    </tr>\n",
       "    <tr>\n",
       "      <th>4</th>\n",
       "      <td>partner_Yes</td>\n",
       "      <td>4.260234</td>\n",
       "    </tr>\n",
       "    <tr>\n",
       "      <th>5</th>\n",
       "      <td>multiple_lines_Yes</td>\n",
       "      <td>4.050049</td>\n",
       "    </tr>\n",
       "    <tr>\n",
       "      <th>6</th>\n",
       "      <td>payment_method_Mailed check</td>\n",
       "      <td>3.853181</td>\n",
       "    </tr>\n",
       "    <tr>\n",
       "      <th>7</th>\n",
       "      <td>online_backup_Yes</td>\n",
       "      <td>3.185846</td>\n",
       "    </tr>\n",
       "    <tr>\n",
       "      <th>8</th>\n",
       "      <td>device_protection_Yes</td>\n",
       "      <td>3.135765</td>\n",
       "    </tr>\n",
       "    <tr>\n",
       "      <th>9</th>\n",
       "      <td>dependents_Yes</td>\n",
       "      <td>2.281458</td>\n",
       "    </tr>\n",
       "    <tr>\n",
       "      <th>10</th>\n",
       "      <td>paperless_billing_Yes</td>\n",
       "      <td>1.751052</td>\n",
       "    </tr>\n",
       "    <tr>\n",
       "      <th>11</th>\n",
       "      <td>tech_support_Yes</td>\n",
       "      <td>1.734135</td>\n",
       "    </tr>\n",
       "    <tr>\n",
       "      <th>12</th>\n",
       "      <td>payment_method_Electronic check</td>\n",
       "      <td>1.594024</td>\n",
       "    </tr>\n",
       "    <tr>\n",
       "      <th>13</th>\n",
       "      <td>online_security_Yes</td>\n",
       "      <td>1.521866</td>\n",
       "    </tr>\n",
       "    <tr>\n",
       "      <th>14</th>\n",
       "      <td>senior_citizen_1</td>\n",
       "      <td>1.484355</td>\n",
       "    </tr>\n",
       "    <tr>\n",
       "      <th>15</th>\n",
       "      <td>payment_method_Credit card (automatic)</td>\n",
       "      <td>1.175942</td>\n",
       "    </tr>\n",
       "    <tr>\n",
       "      <th>16</th>\n",
       "      <td>gender_Male</td>\n",
       "      <td>1.053147</td>\n",
       "    </tr>\n",
       "  </tbody>\n",
       "</table>\n",
       "</div>"
      ],
      "text/plain": [
       "                                Feature Id  Importances\n",
       "0                                 use_date    46.112992\n",
       "1                          monthly_charges    10.380162\n",
       "2                            type_Two year     7.951756\n",
       "3                            type_One year     4.474035\n",
       "4                              partner_Yes     4.260234\n",
       "5                       multiple_lines_Yes     4.050049\n",
       "6              payment_method_Mailed check     3.853181\n",
       "7                        online_backup_Yes     3.185846\n",
       "8                    device_protection_Yes     3.135765\n",
       "9                           dependents_Yes     2.281458\n",
       "10                   paperless_billing_Yes     1.751052\n",
       "11                        tech_support_Yes     1.734135\n",
       "12         payment_method_Electronic check     1.594024\n",
       "13                     online_security_Yes     1.521866\n",
       "14                        senior_citizen_1     1.484355\n",
       "15  payment_method_Credit card (automatic)     1.175942\n",
       "16                             gender_Male     1.053147"
      ]
     },
     "execution_count": 59,
     "metadata": {},
     "output_type": "execute_result"
    },
    {
     "data": {
      "image/png": "[encoded data removed]",
      "text/plain": [
       "<Figure size 1152x648 with 1 Axes>"
      ]
     },
     "metadata": {
      "needs_background": "light"
     },
     "output_type": "display_data"
    }
   ],
   "source": [
    "plt.figure(figsize=(16,9))\n",
    "feature_import = model_cbc.get_feature_importance(train, prettified = True)\n",
    "sns.barplot(x=feature_import['Importances'], y=feature_import['Feature Id'])\n",
    "feature_import"
   ]
  },
  {
   "cell_type": "markdown",
   "id": "6635c905",
   "metadata": {},
   "source": [
    "Вывод:\n",
    "* Лучший результат показала модель CatBoostClassifier с метрикой ROC-AUC: 0,88 на тестовой выборке\n",
    "* График важности признаком показал что созданный признак количества дней нахождения в компании является самым значимым после целевого. Следом идет месячные траты клиентов."
   ]
  },
  {
   "cell_type": "markdown",
   "id": "7b00ab66",
   "metadata": {},
   "source": [
    "# Отчет"
   ]
  },
  {
   "cell_type": "markdown",
   "id": "7b6daf9b",
   "metadata": {},
   "source": [
    "При написании работы были выполненны следующие шаги:\n",
    "1) **Загрузили и изучили данные**\n",
    "* contract_new - Основные данные о клиентах\n",
    "* personal_new - Личные данные клиентов\n",
    "* internet_new - Данные об использовании сервиса интернет\n",
    "* phone_new - Данные об использовании свервиса телефон\n",
    "\n",
    "По результам первичного анализа было выявлено:\n",
    "* несоответсвие типа данных в столбце TotalCharges, как выяснили позже - это связано с неявными пропусками, а именно, вместно значиния стоял пробел.\n",
    "* несоответсвие типа данных в столбце BeginDate и EndDate - необходимо привести к формату даты.\n",
    "\n",
    "2) **Сделали предобработку данных, а именно:**\n",
    "* Объедили таблицы в одну\n",
    "* Привели названия столбцов к нижнему и змеиному регистру\n",
    "* Исправили типы данных\n",
    "* Обработали пропуски: \n",
    "    * Так как все клиенты с пропусками были действующие и их было всего 9, было решено удалить их из таблицы, так как осутсвие этих данных принесет меньший вред для прогноза, чем создание синтетических данных.\n",
    "    * В столбце end_date присутствуют и даты, и значение 'No', означающее что клиент действующий. Было решено заменить это значение на дату следующего дня, после даты сбора данных, а именно '2020-02-02', чтобы привести формат данных к дате.\n",
    "    \n",
    "3) **Провели исследовательский анализ данных:**\n",
    "* Создали новые признаки:\n",
    "    * exited - целевой признак, содержит информацию об уходе клиента (1 - ушел / 0 - не ушел). Выяснили, что 5931 - действующих пользователей, а вот 1101 - ушли. Ушло чуть больше 15% клиентов, а значит присутсвует явный дисбаланс классов\n",
    "    * use_date - содержит количество дней, в течение которых клиент является/являлся клиентом\n",
    "* Закодировали признаки методом OneHotEncoder для удобного анализа и, в дальнейшем, обучения моделей\n",
    "* Проанализировали признаки:\n",
    "    - Уход клиента не зависит от гендерной принадлежности\n",
    "    - 59% клиентов предпочитаю безналичные платежи\n",
    "    - Распределение по гендеру примерно 50/50\n",
    "    - 16% - пенсионеры\n",
    "    - Чуть меньше половины клиентов замужем/женаты\n",
    "    - У 30% клиентов есть еждевенцы\n",
    "* Исследовали корреляцию признаков:\n",
    "    * В результате исследования было обнаруженно что ряд признаков имеют коэффициент корреляции со значением выше 0.8 - это скоррелированные предикторы, которые создают нам мультиколлинеарность. Так как в проекте используется линейная модель, мы избавились от 3-х призаков (streaming_tv, streaming_movies, total_charges). В остальном ничего неожиданного в корреляции данных не обраружили.\n",
    "    \n",
    "4) **Подготовили данные для обучения модели:**\n",
    "* Выделили целевой признак и разделили данные на обучающую и тестовую в соотношении 4:1\n",
    "* Стандартизировали непрерывные переменные\n",
    "\n",
    "5) **Обучили модели для исследования с оптимизацией гиперпараметров и оценкой кросс-валидации**\n",
    "* LogisticRegression. Средний показатель ROC-AUC на кросс-валидации: 0.7517893360742186\n",
    "* DecisionTreeClassifier. Применили подбор гиперпараметров GridSearchCV. Лучший показатель ROC-AUC: 0.788718920856388\n",
    "* RandomForestClassifier. Применили подбор гиперпараметров GridSearchCV. Лучший показатель ROC-AUC: 0.8267513091499783\n",
    "* CatBoostClassifier. Применили подбор гиперпараметров GridSearchCV. Лучший показатель ROC-AUC: 0.8768200202559806\n",
    "* В результате луший результат показала модель CatBoostClassifier, с гиперпараметрами: 'depth': 6, 'iterations': 400, 'learning_rate': 0.03\n",
    "\n",
    "6) **Проверили лучшую модель CatBoostClassifier на тестовой выборке**\n",
    "* Показатель ROC-AUC: 0.8863761947431301, при этом модель показала точность (Accuracy) = 87%\n",
    "\n",
    "7) **Сделали визуализацию графика ROC-AUC**\n",
    "\n",
    "8) **Исследовали важность признаков:**\n",
    "* В результате исследования выяснили, что самым важным признаком является срок пользования услугами, что логично, ведь чем дольше мы пользуемся услугами, тем меньше вероятность что мы куда то уйдем. Причем вероятность ухода пользователей со сроком от 2-х лет, почти в 2 раза ниже тех, кто является клиентом 1 год. Из чего можно сделать вывод, что стоит обратить внимание на клиентов, котороые обслуживаются меньше 2-х лет\n",
    "* На втором месте по важности являются ежемесяные расходы. \n",
    "* Далее наличие партнера, и подключенные сервисы\n",
    "\n",
    "В целом при выполнении работы мы придерживались первоначального плана, но по результатам оценки выбранных моделей, из-за недостаточно высоких результатов, было решено добавить еще одну модель, которая показала достойный результат. \n"
   ]
  }
 ],
 "metadata": {
  "ExecuteTimeLog": [
   {
    "duration": 435,
    "start_time": "2023-04-27T13:43:45.930Z"
   },
   {
    "duration": 100,
    "start_time": "2023-04-27T13:43:46.368Z"
   },
   {
    "duration": 0,
    "start_time": "2023-04-27T13:43:46.469Z"
   },
   {
    "duration": 0,
    "start_time": "2023-04-27T13:43:46.470Z"
   },
   {
    "duration": 0,
    "start_time": "2023-04-27T13:43:46.471Z"
   },
   {
    "duration": 0,
    "start_time": "2023-04-27T13:43:46.473Z"
   },
   {
    "duration": 0,
    "start_time": "2023-04-27T13:43:46.474Z"
   },
   {
    "duration": 473,
    "start_time": "2023-04-27T13:44:51.831Z"
   },
   {
    "duration": 98,
    "start_time": "2023-04-27T13:44:52.306Z"
   },
   {
    "duration": 4,
    "start_time": "2023-04-27T13:44:52.405Z"
   },
   {
    "duration": 58,
    "start_time": "2023-04-27T13:44:52.411Z"
   },
   {
    "duration": 26,
    "start_time": "2023-04-27T13:44:52.471Z"
   },
   {
    "duration": 73,
    "start_time": "2023-04-27T13:44:52.499Z"
   },
   {
    "duration": 27,
    "start_time": "2023-04-27T13:44:52.574Z"
   },
   {
    "duration": 544,
    "start_time": "2023-04-28T18:00:10.804Z"
   },
   {
    "duration": 3,
    "start_time": "2023-04-28T18:00:12.564Z"
   },
   {
    "duration": 122,
    "start_time": "2023-04-28T18:00:13.965Z"
   },
   {
    "duration": 162,
    "start_time": "2023-04-28T18:01:27.461Z"
   },
   {
    "duration": 17,
    "start_time": "2023-04-28T18:03:03.978Z"
   },
   {
    "duration": 11,
    "start_time": "2023-04-28T18:03:25.897Z"
   },
   {
    "duration": 30,
    "start_time": "2023-04-28T18:09:11.679Z"
   },
   {
    "duration": 27,
    "start_time": "2023-04-28T18:09:48.998Z"
   },
   {
    "duration": 76,
    "start_time": "2023-04-28T18:10:31.703Z"
   },
   {
    "duration": 10,
    "start_time": "2023-04-28T18:10:42.057Z"
   },
   {
    "duration": 5,
    "start_time": "2023-04-28T18:10:50.717Z"
   },
   {
    "duration": 5,
    "start_time": "2023-04-28T18:10:51.474Z"
   },
   {
    "duration": 4,
    "start_time": "2023-04-28T18:10:53.055Z"
   },
   {
    "duration": 5,
    "start_time": "2023-04-28T18:10:53.703Z"
   },
   {
    "duration": 47,
    "start_time": "2023-04-28T18:10:54.207Z"
   },
   {
    "duration": 15,
    "start_time": "2023-04-28T18:14:52.387Z"
   },
   {
    "duration": 6,
    "start_time": "2023-04-28T18:14:59.779Z"
   },
   {
    "duration": 12,
    "start_time": "2023-04-28T18:15:01.755Z"
   },
   {
    "duration": 5,
    "start_time": "2023-04-28T18:15:14.615Z"
   },
   {
    "duration": 20,
    "start_time": "2023-04-28T18:15:17.261Z"
   },
   {
    "duration": 96,
    "start_time": "2023-04-28T18:19:16.018Z"
   },
   {
    "duration": 5,
    "start_time": "2023-04-28T18:19:28.709Z"
   },
   {
    "duration": 8,
    "start_time": "2023-04-28T18:19:34.003Z"
   },
   {
    "duration": 214,
    "start_time": "2023-04-28T18:19:53.123Z"
   },
   {
    "duration": 5,
    "start_time": "2023-04-28T18:20:00.077Z"
   },
   {
    "duration": 47,
    "start_time": "2023-04-28T18:20:00.434Z"
   },
   {
    "duration": 51,
    "start_time": "2023-04-28T18:20:01.837Z"
   },
   {
    "duration": 263,
    "start_time": "2023-04-28T18:21:03.945Z"
   },
   {
    "duration": 3,
    "start_time": "2023-04-28T18:21:24.424Z"
   },
   {
    "duration": 11,
    "start_time": "2023-04-28T18:21:24.431Z"
   },
   {
    "duration": 178,
    "start_time": "2023-04-28T18:21:24.445Z"
   },
   {
    "duration": 7,
    "start_time": "2023-04-28T18:21:24.626Z"
   },
   {
    "duration": 55,
    "start_time": "2023-04-28T18:21:24.637Z"
   },
   {
    "duration": 57,
    "start_time": "2023-04-28T18:21:24.695Z"
   },
   {
    "duration": 57,
    "start_time": "2023-04-28T18:21:24.754Z"
   },
   {
    "duration": 68,
    "start_time": "2023-04-28T18:21:24.813Z"
   },
   {
    "duration": 85,
    "start_time": "2023-04-28T18:22:52.274Z"
   },
   {
    "duration": 106,
    "start_time": "2023-04-28T18:24:18.629Z"
   },
   {
    "duration": 163,
    "start_time": "2023-04-28T18:25:58.333Z"
   },
   {
    "duration": 7,
    "start_time": "2023-04-28T18:26:02.523Z"
   },
   {
    "duration": 49,
    "start_time": "2023-04-28T18:26:03.204Z"
   },
   {
    "duration": 3,
    "start_time": "2023-04-28T18:26:34.335Z"
   },
   {
    "duration": 19,
    "start_time": "2023-04-28T18:26:34.341Z"
   },
   {
    "duration": 169,
    "start_time": "2023-04-28T18:26:34.363Z"
   },
   {
    "duration": 5,
    "start_time": "2023-04-28T18:26:34.534Z"
   },
   {
    "duration": 73,
    "start_time": "2023-04-28T18:26:34.541Z"
   },
   {
    "duration": 61,
    "start_time": "2023-04-28T18:26:34.616Z"
   },
   {
    "duration": 68,
    "start_time": "2023-04-28T18:26:34.679Z"
   },
   {
    "duration": 35,
    "start_time": "2023-04-28T18:26:34.749Z"
   },
   {
    "duration": 441,
    "start_time": "2023-04-29T16:24:48.089Z"
   },
   {
    "duration": 3,
    "start_time": "2023-04-29T16:24:48.532Z"
   },
   {
    "duration": 476,
    "start_time": "2023-04-29T16:24:48.536Z"
   },
   {
    "duration": 4,
    "start_time": "2023-04-29T16:24:49.015Z"
   },
   {
    "duration": 39,
    "start_time": "2023-04-29T16:24:49.021Z"
   },
   {
    "duration": 45,
    "start_time": "2023-04-29T16:24:49.061Z"
   },
   {
    "duration": 45,
    "start_time": "2023-04-29T16:24:49.108Z"
   },
   {
    "duration": 24,
    "start_time": "2023-04-29T16:24:49.154Z"
   },
   {
    "duration": 34,
    "start_time": "2023-04-29T16:24:49.179Z"
   },
   {
    "duration": 3,
    "start_time": "2023-04-29T16:24:49.216Z"
   },
   {
    "duration": 4,
    "start_time": "2023-04-29T16:26:41.490Z"
   },
   {
    "duration": 18,
    "start_time": "2023-04-29T16:26:46.797Z"
   },
   {
    "duration": 13,
    "start_time": "2023-04-29T16:27:46.488Z"
   },
   {
    "duration": 13,
    "start_time": "2023-04-29T16:28:43.148Z"
   },
   {
    "duration": 8,
    "start_time": "2023-04-29T16:31:06.785Z"
   },
   {
    "duration": 8,
    "start_time": "2023-04-29T16:31:25.816Z"
   },
   {
    "duration": 5,
    "start_time": "2023-04-29T16:32:41.978Z"
   },
   {
    "duration": 23,
    "start_time": "2023-04-29T16:32:46.704Z"
   },
   {
    "duration": 10,
    "start_time": "2023-04-29T16:33:25.669Z"
   },
   {
    "duration": 32,
    "start_time": "2023-04-29T16:33:42.326Z"
   },
   {
    "duration": 24,
    "start_time": "2023-04-29T16:33:59.450Z"
   },
   {
    "duration": 19,
    "start_time": "2023-04-29T16:34:13.777Z"
   },
   {
    "duration": 802,
    "start_time": "2023-04-29T16:55:36.706Z"
   },
   {
    "duration": 391,
    "start_time": "2023-04-29T16:55:56.380Z"
   },
   {
    "duration": 3,
    "start_time": "2023-04-29T16:55:56.773Z"
   },
   {
    "duration": 110,
    "start_time": "2023-04-29T16:55:56.777Z"
   },
   {
    "duration": 3,
    "start_time": "2023-04-29T16:55:56.889Z"
   },
   {
    "duration": 53,
    "start_time": "2023-04-29T16:55:56.894Z"
   },
   {
    "duration": 8,
    "start_time": "2023-04-29T16:55:56.949Z"
   },
   {
    "duration": 51,
    "start_time": "2023-04-29T16:55:56.958Z"
   },
   {
    "duration": 46,
    "start_time": "2023-04-29T16:55:57.011Z"
   },
   {
    "duration": 45,
    "start_time": "2023-04-29T16:55:57.059Z"
   },
   {
    "duration": 7,
    "start_time": "2023-04-29T16:55:57.107Z"
   },
   {
    "duration": 7,
    "start_time": "2023-04-29T16:55:57.115Z"
   },
   {
    "duration": 22,
    "start_time": "2023-04-29T16:55:57.124Z"
   },
   {
    "duration": 795,
    "start_time": "2023-04-29T16:56:18.918Z"
   },
   {
    "duration": 335,
    "start_time": "2023-04-29T16:56:34.938Z"
   },
   {
    "duration": 3,
    "start_time": "2023-04-29T16:56:36.438Z"
   },
   {
    "duration": 121,
    "start_time": "2023-04-29T16:56:37.306Z"
   },
   {
    "duration": 4,
    "start_time": "2023-04-29T16:56:38.690Z"
   },
   {
    "duration": 44,
    "start_time": "2023-04-29T16:56:39.119Z"
   },
   {
    "duration": 9,
    "start_time": "2023-04-29T16:56:41.270Z"
   },
   {
    "duration": 6,
    "start_time": "2023-04-29T16:57:26.690Z"
   },
   {
    "duration": 6,
    "start_time": "2023-04-29T16:58:02.323Z"
   },
   {
    "duration": 7,
    "start_time": "2023-04-29T16:58:10.099Z"
   },
   {
    "duration": 5,
    "start_time": "2023-04-29T16:58:17.373Z"
   },
   {
    "duration": 3,
    "start_time": "2023-04-29T16:59:01.170Z"
   },
   {
    "duration": 38,
    "start_time": "2023-04-29T16:59:01.175Z"
   },
   {
    "duration": 171,
    "start_time": "2023-04-29T16:59:01.214Z"
   },
   {
    "duration": 5,
    "start_time": "2023-04-29T16:59:01.387Z"
   },
   {
    "duration": 71,
    "start_time": "2023-04-29T16:59:01.395Z"
   },
   {
    "duration": 32,
    "start_time": "2023-04-29T16:59:01.469Z"
   },
   {
    "duration": 46,
    "start_time": "2023-04-29T16:59:01.503Z"
   },
   {
    "duration": 54,
    "start_time": "2023-04-29T16:59:01.551Z"
   },
   {
    "duration": 7,
    "start_time": "2023-04-29T16:59:01.606Z"
   },
   {
    "duration": 37,
    "start_time": "2023-04-29T16:59:01.615Z"
   },
   {
    "duration": 39,
    "start_time": "2023-04-29T16:59:01.654Z"
   },
   {
    "duration": 6,
    "start_time": "2023-04-29T16:59:07.212Z"
   },
   {
    "duration": 86,
    "start_time": "2023-04-29T17:01:02.002Z"
   },
   {
    "duration": 12,
    "start_time": "2023-04-29T17:01:09.681Z"
   },
   {
    "duration": 205,
    "start_time": "2023-04-29T17:01:34.998Z"
   },
   {
    "duration": 5,
    "start_time": "2023-04-29T17:04:38.262Z"
   },
   {
    "duration": 6,
    "start_time": "2023-04-29T17:04:43.302Z"
   },
   {
    "duration": 10,
    "start_time": "2023-04-29T17:04:50.874Z"
   },
   {
    "duration": 15,
    "start_time": "2023-04-29T17:05:11.491Z"
   },
   {
    "duration": 4,
    "start_time": "2023-04-29T17:06:05.290Z"
   },
   {
    "duration": 11,
    "start_time": "2023-04-29T17:06:06.966Z"
   },
   {
    "duration": 24,
    "start_time": "2023-04-29T17:10:31.546Z"
   },
   {
    "duration": 6,
    "start_time": "2023-04-29T17:11:49.424Z"
   },
   {
    "duration": 55,
    "start_time": "2023-04-29T17:11:50.174Z"
   },
   {
    "duration": 4,
    "start_time": "2023-04-29T17:12:15.258Z"
   },
   {
    "duration": 60,
    "start_time": "2023-04-29T17:12:17.474Z"
   },
   {
    "duration": 3,
    "start_time": "2023-04-29T17:20:52.482Z"
   },
   {
    "duration": 4,
    "start_time": "2023-04-29T17:21:25.839Z"
   },
   {
    "duration": 403,
    "start_time": "2023-04-29T17:25:52.778Z"
   },
   {
    "duration": 3,
    "start_time": "2023-04-29T17:25:53.183Z"
   },
   {
    "duration": 113,
    "start_time": "2023-04-29T17:25:53.194Z"
   },
   {
    "duration": 6,
    "start_time": "2023-04-29T17:25:53.309Z"
   },
   {
    "duration": 61,
    "start_time": "2023-04-29T17:25:53.317Z"
   },
   {
    "duration": 44,
    "start_time": "2023-04-29T17:25:53.380Z"
   },
   {
    "duration": 94,
    "start_time": "2023-04-29T17:25:53.426Z"
   },
   {
    "duration": 36,
    "start_time": "2023-04-29T17:25:53.522Z"
   },
   {
    "duration": 18,
    "start_time": "2023-04-29T17:25:56.997Z"
   },
   {
    "duration": 24,
    "start_time": "2023-04-29T17:26:05.357Z"
   },
   {
    "duration": 17,
    "start_time": "2023-04-29T17:26:48.283Z"
   },
   {
    "duration": 68,
    "start_time": "2023-04-29T17:27:45.000Z"
   },
   {
    "duration": 45,
    "start_time": "2023-04-29T17:28:06.310Z"
   },
   {
    "duration": 106,
    "start_time": "2023-04-29T17:29:26.756Z"
   },
   {
    "duration": 52,
    "start_time": "2023-04-29T17:30:37.396Z"
   },
   {
    "duration": 2,
    "start_time": "2023-04-29T17:30:56.392Z"
   },
   {
    "duration": 6,
    "start_time": "2023-04-29T17:30:56.396Z"
   },
   {
    "duration": 120,
    "start_time": "2023-04-29T17:30:56.405Z"
   },
   {
    "duration": 4,
    "start_time": "2023-04-29T17:30:56.526Z"
   },
   {
    "duration": 47,
    "start_time": "2023-04-29T17:30:56.532Z"
   },
   {
    "duration": 37,
    "start_time": "2023-04-29T17:30:56.581Z"
   },
   {
    "duration": 50,
    "start_time": "2023-04-29T17:30:56.621Z"
   },
   {
    "duration": 52,
    "start_time": "2023-04-29T17:30:56.673Z"
   },
   {
    "duration": 49,
    "start_time": "2023-04-29T17:30:58.867Z"
   },
   {
    "duration": 18,
    "start_time": "2023-04-29T17:31:48.897Z"
   },
   {
    "duration": 16,
    "start_time": "2023-04-29T17:32:07.665Z"
   },
   {
    "duration": 24,
    "start_time": "2023-04-29T17:32:08.296Z"
   },
   {
    "duration": 14,
    "start_time": "2023-04-29T17:32:19.188Z"
   },
   {
    "duration": 14,
    "start_time": "2023-04-29T17:33:10.828Z"
   },
   {
    "duration": 17,
    "start_time": "2023-04-29T17:33:11.433Z"
   },
   {
    "duration": 6,
    "start_time": "2023-04-29T17:34:04.880Z"
   },
   {
    "duration": 3,
    "start_time": "2023-04-29T17:34:14.929Z"
   },
   {
    "duration": 24,
    "start_time": "2023-04-29T17:35:02.508Z"
   },
   {
    "duration": 17,
    "start_time": "2023-04-29T17:35:09.924Z"
   },
   {
    "duration": 5,
    "start_time": "2023-04-29T17:36:07.050Z"
   },
   {
    "duration": 4,
    "start_time": "2023-04-29T17:36:07.703Z"
   },
   {
    "duration": 18,
    "start_time": "2023-04-29T17:36:08.278Z"
   },
   {
    "duration": 5,
    "start_time": "2023-04-29T17:36:33.114Z"
   },
   {
    "duration": 17,
    "start_time": "2023-04-29T17:37:20.079Z"
   },
   {
    "duration": 43,
    "start_time": "2023-04-29T17:38:51.717Z"
   },
   {
    "duration": 7,
    "start_time": "2023-04-29T17:39:21.618Z"
   },
   {
    "duration": 69,
    "start_time": "2023-04-29T17:39:31.513Z"
   },
   {
    "duration": 8,
    "start_time": "2023-04-29T17:41:32.119Z"
   },
   {
    "duration": 2,
    "start_time": "2023-04-29T17:41:35.109Z"
   },
   {
    "duration": 20,
    "start_time": "2023-04-29T17:41:35.731Z"
   },
   {
    "duration": 403,
    "start_time": "2023-04-29T19:18:21.157Z"
   },
   {
    "duration": 3,
    "start_time": "2023-04-29T19:18:21.562Z"
   },
   {
    "duration": 425,
    "start_time": "2023-04-29T19:18:21.567Z"
   },
   {
    "duration": 4,
    "start_time": "2023-04-29T19:18:21.994Z"
   },
   {
    "duration": 66,
    "start_time": "2023-04-29T19:18:22.001Z"
   },
   {
    "duration": 56,
    "start_time": "2023-04-29T19:18:22.069Z"
   },
   {
    "duration": 82,
    "start_time": "2023-04-29T19:18:22.127Z"
   },
   {
    "duration": 40,
    "start_time": "2023-04-29T19:18:22.211Z"
   },
   {
    "duration": 46,
    "start_time": "2023-04-29T19:18:22.253Z"
   },
   {
    "duration": 18,
    "start_time": "2023-04-29T19:18:22.300Z"
   },
   {
    "duration": 6,
    "start_time": "2023-04-29T19:18:22.320Z"
   },
   {
    "duration": 5,
    "start_time": "2023-04-29T19:18:22.328Z"
   },
   {
    "duration": 22,
    "start_time": "2023-04-29T19:18:22.335Z"
   },
   {
    "duration": 48,
    "start_time": "2023-04-29T19:18:22.360Z"
   },
   {
    "duration": 23,
    "start_time": "2023-04-29T19:18:22.410Z"
   },
   {
    "duration": 38,
    "start_time": "2023-04-29T19:18:22.435Z"
   },
   {
    "duration": 5,
    "start_time": "2023-04-29T19:21:00.614Z"
   },
   {
    "duration": 15,
    "start_time": "2023-04-29T19:21:11.889Z"
   },
   {
    "duration": 25,
    "start_time": "2023-04-29T19:22:24.641Z"
   },
   {
    "duration": 29,
    "start_time": "2023-04-29T19:22:51.076Z"
   },
   {
    "duration": 6,
    "start_time": "2023-04-29T19:28:07.665Z"
   },
   {
    "duration": 25,
    "start_time": "2023-04-29T19:28:19.874Z"
   },
   {
    "duration": 19,
    "start_time": "2023-04-29T19:28:33.110Z"
   },
   {
    "duration": 6,
    "start_time": "2023-04-29T19:54:36.740Z"
   },
   {
    "duration": 8,
    "start_time": "2023-04-29T19:54:52.119Z"
   },
   {
    "duration": 553,
    "start_time": "2023-04-29T19:55:54.002Z"
   },
   {
    "duration": 27,
    "start_time": "2023-04-29T19:56:52.687Z"
   },
   {
    "duration": 84,
    "start_time": "2023-04-29T20:01:50.652Z"
   },
   {
    "duration": 12,
    "start_time": "2023-04-29T20:02:04.345Z"
   },
   {
    "duration": 17,
    "start_time": "2023-04-29T20:02:19.993Z"
   },
   {
    "duration": 12,
    "start_time": "2023-04-29T20:04:26.890Z"
   },
   {
    "duration": 7,
    "start_time": "2023-04-29T20:06:02.002Z"
   },
   {
    "duration": 23,
    "start_time": "2023-04-29T20:06:16.955Z"
   },
   {
    "duration": 14,
    "start_time": "2023-04-29T20:17:34.332Z"
   },
   {
    "duration": 12,
    "start_time": "2023-04-29T20:17:47.269Z"
   },
   {
    "duration": 737,
    "start_time": "2023-04-29T20:18:01.305Z"
   },
   {
    "duration": 700,
    "start_time": "2023-04-29T20:18:11.803Z"
   },
   {
    "duration": 355,
    "start_time": "2023-04-29T20:18:33.231Z"
   },
   {
    "duration": 3,
    "start_time": "2023-04-29T20:18:33.589Z"
   },
   {
    "duration": 127,
    "start_time": "2023-04-29T20:18:33.594Z"
   },
   {
    "duration": 5,
    "start_time": "2023-04-29T20:18:33.723Z"
   },
   {
    "duration": 70,
    "start_time": "2023-04-29T20:18:33.730Z"
   },
   {
    "duration": 40,
    "start_time": "2023-04-29T20:18:33.803Z"
   },
   {
    "duration": 77,
    "start_time": "2023-04-29T20:18:33.845Z"
   },
   {
    "duration": 33,
    "start_time": "2023-04-29T20:18:33.924Z"
   },
   {
    "duration": 39,
    "start_time": "2023-04-29T20:18:33.958Z"
   },
   {
    "duration": 15,
    "start_time": "2023-04-29T20:18:33.999Z"
   },
   {
    "duration": 5,
    "start_time": "2023-04-29T20:18:34.016Z"
   },
   {
    "duration": 10,
    "start_time": "2023-04-29T20:18:34.022Z"
   },
   {
    "duration": 22,
    "start_time": "2023-04-29T20:18:34.034Z"
   },
   {
    "duration": 33,
    "start_time": "2023-04-29T20:18:34.059Z"
   },
   {
    "duration": 25,
    "start_time": "2023-04-29T20:18:34.094Z"
   },
   {
    "duration": 19,
    "start_time": "2023-04-29T20:18:34.120Z"
   },
   {
    "duration": 3,
    "start_time": "2023-04-29T20:18:34.140Z"
   },
   {
    "duration": 19,
    "start_time": "2023-04-29T20:18:34.144Z"
   },
   {
    "duration": 889,
    "start_time": "2023-04-29T20:18:34.165Z"
   },
   {
    "duration": 0,
    "start_time": "2023-04-29T20:18:35.056Z"
   },
   {
    "duration": 0,
    "start_time": "2023-04-29T20:18:35.057Z"
   },
   {
    "duration": 0,
    "start_time": "2023-04-29T20:18:35.058Z"
   },
   {
    "duration": 10,
    "start_time": "2023-04-29T20:25:44.217Z"
   },
   {
    "duration": 19,
    "start_time": "2023-04-29T20:25:48.726Z"
   },
   {
    "duration": 19,
    "start_time": "2023-04-29T20:26:01.900Z"
   },
   {
    "duration": 25,
    "start_time": "2023-04-29T20:26:19.000Z"
   },
   {
    "duration": 36,
    "start_time": "2023-04-29T20:28:32.115Z"
   },
   {
    "duration": 11,
    "start_time": "2023-04-29T20:28:46.784Z"
   },
   {
    "duration": 23,
    "start_time": "2023-04-29T20:28:50.485Z"
   },
   {
    "duration": 22,
    "start_time": "2023-04-29T20:30:04.389Z"
   },
   {
    "duration": 18,
    "start_time": "2023-04-29T20:30:37.401Z"
   },
   {
    "duration": 51,
    "start_time": "2023-04-29T20:36:45.522Z"
   },
   {
    "duration": 10,
    "start_time": "2023-04-29T20:39:19.304Z"
   },
   {
    "duration": 13,
    "start_time": "2023-04-29T20:39:21.699Z"
   },
   {
    "duration": 46,
    "start_time": "2023-04-29T20:39:37.180Z"
   },
   {
    "duration": 11,
    "start_time": "2023-04-29T21:03:29.941Z"
   },
   {
    "duration": 14,
    "start_time": "2023-04-29T21:03:37.443Z"
   },
   {
    "duration": 4,
    "start_time": "2023-04-29T21:03:40.786Z"
   },
   {
    "duration": 52,
    "start_time": "2023-04-29T21:04:13.828Z"
   },
   {
    "duration": 47,
    "start_time": "2023-04-29T21:04:20.831Z"
   },
   {
    "duration": 754,
    "start_time": "2023-04-29T21:05:25.369Z"
   },
   {
    "duration": 11,
    "start_time": "2023-04-29T21:05:46.913Z"
   },
   {
    "duration": 9,
    "start_time": "2023-04-29T21:08:42.365Z"
   },
   {
    "duration": 24,
    "start_time": "2023-04-29T21:08:59.504Z"
   },
   {
    "duration": 9,
    "start_time": "2023-04-29T21:13:34.981Z"
   },
   {
    "duration": 5,
    "start_time": "2023-04-29T21:14:33.185Z"
   },
   {
    "duration": 32,
    "start_time": "2023-04-29T21:14:37.613Z"
   },
   {
    "duration": 7,
    "start_time": "2023-04-29T21:15:01.842Z"
   },
   {
    "duration": 6,
    "start_time": "2023-04-29T21:15:45.385Z"
   },
   {
    "duration": 1067,
    "start_time": "2023-04-29T21:28:03.603Z"
   },
   {
    "duration": 629,
    "start_time": "2023-04-29T21:28:16.865Z"
   },
   {
    "duration": 12,
    "start_time": "2023-04-29T21:28:28.789Z"
   },
   {
    "duration": 1452,
    "start_time": "2023-04-29T21:32:50.765Z"
   },
   {
    "duration": 1857,
    "start_time": "2023-04-29T21:33:22.269Z"
   },
   {
    "duration": 2,
    "start_time": "2023-04-29T21:47:59.074Z"
   },
   {
    "duration": 9,
    "start_time": "2023-04-29T21:47:59.818Z"
   },
   {
    "duration": 7,
    "start_time": "2023-04-29T21:48:33.161Z"
   },
   {
    "duration": 5,
    "start_time": "2023-04-29T21:48:42.077Z"
   },
   {
    "duration": 24,
    "start_time": "2023-04-29T21:50:10.822Z"
   },
   {
    "duration": 24,
    "start_time": "2023-04-29T21:50:19.404Z"
   },
   {
    "duration": 822,
    "start_time": "2023-04-29T21:52:01.547Z"
   },
   {
    "duration": 10,
    "start_time": "2023-04-29T21:52:41.262Z"
   },
   {
    "duration": 4,
    "start_time": "2023-04-29T21:52:56.856Z"
   },
   {
    "duration": 1575,
    "start_time": "2023-04-29T21:52:59.859Z"
   },
   {
    "duration": 2,
    "start_time": "2023-04-29T21:53:11.299Z"
   },
   {
    "duration": 9,
    "start_time": "2023-04-29T21:53:12.033Z"
   },
   {
    "duration": 14,
    "start_time": "2023-04-29T21:53:12.445Z"
   },
   {
    "duration": 4,
    "start_time": "2023-04-29T21:53:12.846Z"
   },
   {
    "duration": 16,
    "start_time": "2023-04-29T21:53:18.021Z"
   },
   {
    "duration": 2,
    "start_time": "2023-04-29T21:56:42.071Z"
   },
   {
    "duration": 6,
    "start_time": "2023-04-29T21:57:38.290Z"
   },
   {
    "duration": 17,
    "start_time": "2023-04-29T21:58:33.241Z"
   },
   {
    "duration": 16,
    "start_time": "2023-04-29T21:59:32.369Z"
   },
   {
    "duration": 4,
    "start_time": "2023-04-29T22:00:19.471Z"
   },
   {
    "duration": 23,
    "start_time": "2023-04-29T22:00:19.977Z"
   },
   {
    "duration": 21,
    "start_time": "2023-04-29T22:00:20.863Z"
   },
   {
    "duration": 1449,
    "start_time": "2023-04-29T22:02:10.587Z"
   },
   {
    "duration": 3,
    "start_time": "2023-04-29T22:02:12.038Z"
   },
   {
    "duration": 147,
    "start_time": "2023-04-29T22:02:12.043Z"
   },
   {
    "duration": 6,
    "start_time": "2023-04-29T22:02:12.192Z"
   },
   {
    "duration": 62,
    "start_time": "2023-04-29T22:02:12.202Z"
   },
   {
    "duration": 68,
    "start_time": "2023-04-29T22:02:12.266Z"
   },
   {
    "duration": 89,
    "start_time": "2023-04-29T22:02:12.335Z"
   },
   {
    "duration": 66,
    "start_time": "2023-04-29T22:02:12.426Z"
   },
   {
    "duration": 18,
    "start_time": "2023-04-29T22:02:12.494Z"
   },
   {
    "duration": 23,
    "start_time": "2023-04-29T22:02:12.514Z"
   },
   {
    "duration": 7,
    "start_time": "2023-04-29T22:02:12.539Z"
   },
   {
    "duration": 3,
    "start_time": "2023-04-29T22:02:12.548Z"
   },
   {
    "duration": 48,
    "start_time": "2023-04-29T22:02:12.553Z"
   },
   {
    "duration": 26,
    "start_time": "2023-04-29T22:02:12.605Z"
   },
   {
    "duration": 27,
    "start_time": "2023-04-29T22:02:12.633Z"
   },
   {
    "duration": 57,
    "start_time": "2023-04-29T22:02:12.663Z"
   },
   {
    "duration": 3,
    "start_time": "2023-04-29T22:02:12.723Z"
   },
   {
    "duration": 22,
    "start_time": "2023-04-29T22:02:12.727Z"
   },
   {
    "duration": 58,
    "start_time": "2023-04-29T22:02:12.750Z"
   },
   {
    "duration": 92,
    "start_time": "2023-04-29T22:02:12.811Z"
   },
   {
    "duration": 10,
    "start_time": "2023-04-29T22:02:12.906Z"
   },
   {
    "duration": 16,
    "start_time": "2023-04-29T22:02:12.918Z"
   },
   {
    "duration": 80,
    "start_time": "2023-04-29T22:02:12.936Z"
   },
   {
    "duration": 8,
    "start_time": "2023-04-29T22:02:13.018Z"
   },
   {
    "duration": 4,
    "start_time": "2023-04-29T22:02:13.028Z"
   },
   {
    "duration": 1662,
    "start_time": "2023-04-29T22:02:13.034Z"
   },
   {
    "duration": 3,
    "start_time": "2023-04-29T22:02:14.699Z"
   },
   {
    "duration": 14,
    "start_time": "2023-04-29T22:02:14.704Z"
   },
   {
    "duration": 8,
    "start_time": "2023-04-29T22:02:14.722Z"
   },
   {
    "duration": 6,
    "start_time": "2023-04-29T22:02:14.732Z"
   },
   {
    "duration": 5,
    "start_time": "2023-04-29T22:02:14.739Z"
   },
   {
    "duration": 55,
    "start_time": "2023-04-29T22:02:14.746Z"
   },
   {
    "duration": 126,
    "start_time": "2023-04-29T22:02:14.803Z"
   },
   {
    "duration": 3,
    "start_time": "2023-04-29T22:09:11.182Z"
   },
   {
    "duration": 17,
    "start_time": "2023-04-29T22:09:11.889Z"
   },
   {
    "duration": 13,
    "start_time": "2023-04-29T22:09:12.952Z"
   },
   {
    "duration": 3,
    "start_time": "2023-04-29T22:09:24.441Z"
   },
   {
    "duration": 17,
    "start_time": "2023-04-29T22:09:25.113Z"
   },
   {
    "duration": 18,
    "start_time": "2023-04-29T22:09:25.880Z"
   },
   {
    "duration": 3,
    "start_time": "2023-04-29T22:09:35.314Z"
   },
   {
    "duration": 24,
    "start_time": "2023-04-29T22:09:35.671Z"
   },
   {
    "duration": 18,
    "start_time": "2023-04-29T22:09:36.501Z"
   },
   {
    "duration": 3,
    "start_time": "2023-04-29T22:09:45.241Z"
   },
   {
    "duration": 20,
    "start_time": "2023-04-29T22:09:45.639Z"
   },
   {
    "duration": 20,
    "start_time": "2023-04-29T22:09:46.490Z"
   },
   {
    "duration": 4,
    "start_time": "2023-04-29T22:09:56.962Z"
   },
   {
    "duration": 16,
    "start_time": "2023-04-29T22:09:57.573Z"
   },
   {
    "duration": 19,
    "start_time": "2023-04-29T22:09:58.341Z"
   },
   {
    "duration": 4,
    "start_time": "2023-04-29T22:10:48.490Z"
   },
   {
    "duration": 16,
    "start_time": "2023-04-29T22:10:48.970Z"
   },
   {
    "duration": 19,
    "start_time": "2023-04-29T22:10:49.858Z"
   },
   {
    "duration": 3,
    "start_time": "2023-04-29T22:11:07.784Z"
   },
   {
    "duration": 4,
    "start_time": "2023-04-29T22:11:19.074Z"
   },
   {
    "duration": 20,
    "start_time": "2023-04-29T22:11:19.553Z"
   },
   {
    "duration": 29,
    "start_time": "2023-04-29T22:11:20.180Z"
   },
   {
    "duration": 3,
    "start_time": "2023-04-29T22:11:34.329Z"
   },
   {
    "duration": 17,
    "start_time": "2023-04-29T22:11:34.752Z"
   },
   {
    "duration": 22,
    "start_time": "2023-04-29T22:11:35.621Z"
   },
   {
    "duration": 3,
    "start_time": "2023-04-29T22:11:46.001Z"
   },
   {
    "duration": 17,
    "start_time": "2023-04-29T22:11:46.353Z"
   },
   {
    "duration": 17,
    "start_time": "2023-04-29T22:11:47.142Z"
   },
   {
    "duration": 16,
    "start_time": "2023-04-29T22:12:18.589Z"
   },
   {
    "duration": 1442,
    "start_time": "2023-04-29T22:12:49.768Z"
   },
   {
    "duration": 3,
    "start_time": "2023-04-29T22:12:51.213Z"
   },
   {
    "duration": 130,
    "start_time": "2023-04-29T22:12:51.217Z"
   },
   {
    "duration": 4,
    "start_time": "2023-04-29T22:12:51.349Z"
   },
   {
    "duration": 69,
    "start_time": "2023-04-29T22:12:51.355Z"
   },
   {
    "duration": 42,
    "start_time": "2023-04-29T22:12:51.426Z"
   },
   {
    "duration": 78,
    "start_time": "2023-04-29T22:12:51.470Z"
   },
   {
    "duration": 62,
    "start_time": "2023-04-29T22:12:51.550Z"
   },
   {
    "duration": 19,
    "start_time": "2023-04-29T22:12:51.614Z"
   },
   {
    "duration": 20,
    "start_time": "2023-04-29T22:12:51.635Z"
   },
   {
    "duration": 5,
    "start_time": "2023-04-29T22:12:51.657Z"
   },
   {
    "duration": 29,
    "start_time": "2023-04-29T22:12:51.664Z"
   },
   {
    "duration": 37,
    "start_time": "2023-04-29T22:12:51.695Z"
   },
   {
    "duration": 20,
    "start_time": "2023-04-29T22:12:51.735Z"
   },
   {
    "duration": 23,
    "start_time": "2023-04-29T22:12:51.756Z"
   },
   {
    "duration": 25,
    "start_time": "2023-04-29T22:12:51.780Z"
   },
   {
    "duration": 3,
    "start_time": "2023-04-29T22:12:51.807Z"
   },
   {
    "duration": 37,
    "start_time": "2023-04-29T22:12:51.811Z"
   },
   {
    "duration": 21,
    "start_time": "2023-04-29T22:12:51.850Z"
   },
   {
    "duration": 56,
    "start_time": "2023-04-29T22:12:51.873Z"
   },
   {
    "duration": 8,
    "start_time": "2023-04-29T22:12:51.931Z"
   },
   {
    "duration": 21,
    "start_time": "2023-04-29T22:12:51.940Z"
   },
   {
    "duration": 58,
    "start_time": "2023-04-29T22:12:51.963Z"
   },
   {
    "duration": 7,
    "start_time": "2023-04-29T22:12:52.023Z"
   },
   {
    "duration": 13,
    "start_time": "2023-04-29T22:12:52.031Z"
   },
   {
    "duration": 1549,
    "start_time": "2023-04-29T22:12:52.046Z"
   },
   {
    "duration": 3,
    "start_time": "2023-04-29T22:12:53.597Z"
   },
   {
    "duration": 11,
    "start_time": "2023-04-29T22:12:53.602Z"
   },
   {
    "duration": 7,
    "start_time": "2023-04-29T22:12:53.615Z"
   },
   {
    "duration": 6,
    "start_time": "2023-04-29T22:12:53.624Z"
   },
   {
    "duration": 5,
    "start_time": "2023-04-29T22:12:53.631Z"
   },
   {
    "duration": 20,
    "start_time": "2023-04-29T22:12:53.637Z"
   },
   {
    "duration": 175,
    "start_time": "2023-04-29T22:12:53.658Z"
   },
   {
    "duration": 832,
    "start_time": "2023-04-29T22:17:41.924Z"
   },
   {
    "duration": 1385,
    "start_time": "2023-04-29T22:17:51.929Z"
   },
   {
    "duration": 3,
    "start_time": "2023-04-29T22:17:53.316Z"
   },
   {
    "duration": 134,
    "start_time": "2023-04-29T22:17:53.320Z"
   },
   {
    "duration": 4,
    "start_time": "2023-04-29T22:17:53.456Z"
   },
   {
    "duration": 70,
    "start_time": "2023-04-29T22:17:53.461Z"
   },
   {
    "duration": 42,
    "start_time": "2023-04-29T22:17:53.533Z"
   },
   {
    "duration": 59,
    "start_time": "2023-04-29T22:17:53.592Z"
   },
   {
    "duration": 60,
    "start_time": "2023-04-29T22:17:53.653Z"
   },
   {
    "duration": 20,
    "start_time": "2023-04-29T22:17:53.715Z"
   },
   {
    "duration": 18,
    "start_time": "2023-04-29T22:17:53.738Z"
   },
   {
    "duration": 34,
    "start_time": "2023-04-29T22:17:53.758Z"
   },
   {
    "duration": 5,
    "start_time": "2023-04-29T22:17:53.794Z"
   },
   {
    "duration": 25,
    "start_time": "2023-04-29T22:17:53.800Z"
   },
   {
    "duration": 21,
    "start_time": "2023-04-29T22:17:53.827Z"
   },
   {
    "duration": 48,
    "start_time": "2023-04-29T22:17:53.850Z"
   },
   {
    "duration": 20,
    "start_time": "2023-04-29T22:17:53.900Z"
   },
   {
    "duration": 3,
    "start_time": "2023-04-29T22:17:53.921Z"
   },
   {
    "duration": 29,
    "start_time": "2023-04-29T22:17:53.925Z"
   },
   {
    "duration": 38,
    "start_time": "2023-04-29T22:17:53.955Z"
   },
   {
    "duration": 152,
    "start_time": "2023-04-29T22:17:53.994Z"
   },
   {
    "duration": 0,
    "start_time": "2023-04-29T22:17:54.148Z"
   },
   {
    "duration": 0,
    "start_time": "2023-04-29T22:17:54.150Z"
   },
   {
    "duration": 0,
    "start_time": "2023-04-29T22:17:54.151Z"
   },
   {
    "duration": 0,
    "start_time": "2023-04-29T22:17:54.152Z"
   },
   {
    "duration": 0,
    "start_time": "2023-04-29T22:17:54.154Z"
   },
   {
    "duration": 0,
    "start_time": "2023-04-29T22:17:54.155Z"
   },
   {
    "duration": 0,
    "start_time": "2023-04-29T22:17:54.157Z"
   },
   {
    "duration": 0,
    "start_time": "2023-04-29T22:17:54.158Z"
   },
   {
    "duration": 0,
    "start_time": "2023-04-29T22:17:54.159Z"
   },
   {
    "duration": 0,
    "start_time": "2023-04-29T22:17:54.160Z"
   },
   {
    "duration": 0,
    "start_time": "2023-04-29T22:17:54.192Z"
   },
   {
    "duration": 0,
    "start_time": "2023-04-29T22:17:54.194Z"
   },
   {
    "duration": 0,
    "start_time": "2023-04-29T22:17:54.196Z"
   },
   {
    "duration": 24,
    "start_time": "2023-04-29T22:18:09.621Z"
   },
   {
    "duration": 5,
    "start_time": "2023-04-29T22:20:00.432Z"
   },
   {
    "duration": 1572,
    "start_time": "2023-04-29T22:20:07.579Z"
   },
   {
    "duration": 3,
    "start_time": "2023-04-29T22:20:09.153Z"
   },
   {
    "duration": 126,
    "start_time": "2023-04-29T22:20:09.157Z"
   },
   {
    "duration": 5,
    "start_time": "2023-04-29T22:20:09.284Z"
   },
   {
    "duration": 59,
    "start_time": "2023-04-29T22:20:09.291Z"
   },
   {
    "duration": 59,
    "start_time": "2023-04-29T22:20:09.352Z"
   },
   {
    "duration": 57,
    "start_time": "2023-04-29T22:20:09.412Z"
   },
   {
    "duration": 54,
    "start_time": "2023-04-29T22:20:09.471Z"
   },
   {
    "duration": 16,
    "start_time": "2023-04-29T22:20:09.526Z"
   },
   {
    "duration": 15,
    "start_time": "2023-04-29T22:20:09.544Z"
   },
   {
    "duration": 30,
    "start_time": "2023-04-29T22:20:09.561Z"
   },
   {
    "duration": 3,
    "start_time": "2023-04-29T22:20:09.593Z"
   },
   {
    "duration": 19,
    "start_time": "2023-04-29T22:20:09.598Z"
   },
   {
    "duration": 19,
    "start_time": "2023-04-29T22:20:09.620Z"
   },
   {
    "duration": 24,
    "start_time": "2023-04-29T22:20:09.641Z"
   },
   {
    "duration": 20,
    "start_time": "2023-04-29T22:20:09.692Z"
   },
   {
    "duration": 3,
    "start_time": "2023-04-29T22:20:09.713Z"
   },
   {
    "duration": 42,
    "start_time": "2023-04-29T22:20:09.717Z"
   },
   {
    "duration": 33,
    "start_time": "2023-04-29T22:20:09.761Z"
   },
   {
    "duration": 58,
    "start_time": "2023-04-29T22:20:09.795Z"
   },
   {
    "duration": 8,
    "start_time": "2023-04-29T22:20:09.854Z"
   },
   {
    "duration": 32,
    "start_time": "2023-04-29T22:20:09.863Z"
   },
   {
    "duration": 44,
    "start_time": "2023-04-29T22:20:09.897Z"
   },
   {
    "duration": 8,
    "start_time": "2023-04-29T22:20:09.943Z"
   },
   {
    "duration": 6,
    "start_time": "2023-04-29T22:20:09.953Z"
   },
   {
    "duration": 1568,
    "start_time": "2023-04-29T22:20:09.961Z"
   },
   {
    "duration": 3,
    "start_time": "2023-04-29T22:20:11.531Z"
   },
   {
    "duration": 13,
    "start_time": "2023-04-29T22:20:11.535Z"
   },
   {
    "duration": 7,
    "start_time": "2023-04-29T22:20:11.549Z"
   },
   {
    "duration": 10,
    "start_time": "2023-04-29T22:20:11.557Z"
   },
   {
    "duration": 26,
    "start_time": "2023-04-29T22:20:11.569Z"
   },
   {
    "duration": 22,
    "start_time": "2023-04-29T22:20:11.597Z"
   },
   {
    "duration": 30,
    "start_time": "2023-04-29T22:20:11.621Z"
   },
   {
    "duration": 3,
    "start_time": "2023-04-29T22:20:42.064Z"
   },
   {
    "duration": 17,
    "start_time": "2023-04-29T22:20:42.581Z"
   },
   {
    "duration": 33,
    "start_time": "2023-04-29T22:20:43.449Z"
   },
   {
    "duration": 9,
    "start_time": "2023-04-29T22:21:20.901Z"
   },
   {
    "duration": 785,
    "start_time": "2023-04-29T22:26:02.409Z"
   },
   {
    "duration": 29,
    "start_time": "2023-04-29T22:27:11.050Z"
   },
   {
    "duration": 595,
    "start_time": "2023-04-29T22:30:45.305Z"
   },
   {
    "duration": 163,
    "start_time": "2023-04-29T22:33:17.395Z"
   },
   {
    "duration": 1484,
    "start_time": "2023-04-29T22:34:28.661Z"
   },
   {
    "duration": 1500,
    "start_time": "2023-04-29T22:40:28.115Z"
   },
   {
    "duration": 4,
    "start_time": "2023-04-29T22:44:06.140Z"
   },
   {
    "duration": 13,
    "start_time": "2023-04-29T22:44:29.509Z"
   },
   {
    "duration": 6,
    "start_time": "2023-04-29T22:44:43.635Z"
   },
   {
    "duration": 11,
    "start_time": "2023-04-29T22:44:56.009Z"
   },
   {
    "duration": 6,
    "start_time": "2023-04-29T22:44:56.273Z"
   },
   {
    "duration": 19,
    "start_time": "2023-04-29T22:45:01.881Z"
   },
   {
    "duration": 7,
    "start_time": "2023-04-29T22:45:02.232Z"
   },
   {
    "duration": 10,
    "start_time": "2023-04-29T22:45:52.290Z"
   },
   {
    "duration": 10,
    "start_time": "2023-04-29T22:45:52.635Z"
   },
   {
    "duration": 6,
    "start_time": "2023-04-29T22:45:52.980Z"
   },
   {
    "duration": 486,
    "start_time": "2023-04-29T22:45:55.821Z"
   },
   {
    "duration": 155,
    "start_time": "2023-04-29T22:46:00.960Z"
   },
   {
    "duration": 146,
    "start_time": "2023-04-29T22:46:17.004Z"
   },
   {
    "duration": 1499,
    "start_time": "2023-04-29T22:46:19.119Z"
   },
   {
    "duration": 153,
    "start_time": "2023-04-29T22:47:55.233Z"
   },
   {
    "duration": 106,
    "start_time": "2023-04-29T22:48:11.801Z"
   },
   {
    "duration": 53,
    "start_time": "2023-04-29T22:48:23.457Z"
   },
   {
    "duration": 417,
    "start_time": "2023-04-29T22:48:56.508Z"
   },
   {
    "duration": 4689,
    "start_time": "2023-04-29T22:49:50.960Z"
   },
   {
    "duration": 435,
    "start_time": "2023-04-29T22:50:06.221Z"
   },
   {
    "duration": 4426,
    "start_time": "2023-04-29T22:50:09.920Z"
   },
   {
    "duration": 103,
    "start_time": "2023-04-29T22:52:59.492Z"
   },
   {
    "duration": 9,
    "start_time": "2023-04-29T22:53:31.412Z"
   },
   {
    "duration": 29,
    "start_time": "2023-04-29T22:54:02.880Z"
   },
   {
    "duration": 4642,
    "start_time": "2023-04-29T22:57:07.338Z"
   },
   {
    "duration": 11,
    "start_time": "2023-04-29T22:58:47.180Z"
   },
   {
    "duration": 6,
    "start_time": "2023-04-29T22:58:47.522Z"
   },
   {
    "duration": 79,
    "start_time": "2023-04-29T22:58:48.520Z"
   },
   {
    "duration": 344,
    "start_time": "2023-04-29T22:58:49.984Z"
   },
   {
    "duration": 4169,
    "start_time": "2023-04-29T22:58:51.781Z"
   },
   {
    "duration": 10,
    "start_time": "2023-04-29T22:58:57.700Z"
   },
   {
    "duration": 7,
    "start_time": "2023-04-29T22:58:59.494Z"
   },
   {
    "duration": 26,
    "start_time": "2023-04-29T22:59:00.482Z"
   },
   {
    "duration": 52,
    "start_time": "2023-04-29T23:00:04.408Z"
   },
   {
    "duration": 4257,
    "start_time": "2023-04-29T23:00:53.485Z"
   },
   {
    "duration": 4,
    "start_time": "2023-04-29T23:02:13.141Z"
   },
   {
    "duration": 12,
    "start_time": "2023-04-29T23:02:13.740Z"
   },
   {
    "duration": 6,
    "start_time": "2023-04-29T23:02:14.086Z"
   },
   {
    "duration": 10,
    "start_time": "2023-04-29T23:02:21.309Z"
   },
   {
    "duration": 7,
    "start_time": "2023-04-29T23:02:22.012Z"
   },
   {
    "duration": 12,
    "start_time": "2023-04-29T23:02:25.412Z"
   },
   {
    "duration": 5,
    "start_time": "2023-04-29T23:02:25.760Z"
   },
   {
    "duration": 20,
    "start_time": "2023-04-29T23:02:54.920Z"
   },
   {
    "duration": 179,
    "start_time": "2023-04-29T23:03:04.388Z"
   },
   {
    "duration": 2191,
    "start_time": "2023-04-29T23:03:14.833Z"
   },
   {
    "duration": 9,
    "start_time": "2023-04-29T23:03:25.814Z"
   },
   {
    "duration": 8,
    "start_time": "2023-04-29T23:03:26.940Z"
   },
   {
    "duration": 25,
    "start_time": "2023-04-29T23:03:28.000Z"
   },
   {
    "duration": 2232,
    "start_time": "2023-04-29T23:03:36.820Z"
   },
   {
    "duration": 2042,
    "start_time": "2023-04-30T10:19:14.741Z"
   },
   {
    "duration": 8,
    "start_time": "2023-04-30T10:19:19.218Z"
   },
   {
    "duration": 34,
    "start_time": "2023-04-30T10:19:19.230Z"
   },
   {
    "duration": 396,
    "start_time": "2023-04-30T10:19:19.266Z"
   },
   {
    "duration": 5,
    "start_time": "2023-04-30T10:19:19.664Z"
   },
   {
    "duration": 90,
    "start_time": "2023-04-30T10:19:19.671Z"
   },
   {
    "duration": 46,
    "start_time": "2023-04-30T10:19:19.764Z"
   },
   {
    "duration": 95,
    "start_time": "2023-04-30T10:19:19.812Z"
   },
   {
    "duration": 72,
    "start_time": "2023-04-30T10:19:19.909Z"
   },
   {
    "duration": 24,
    "start_time": "2023-04-30T10:19:19.983Z"
   },
   {
    "duration": 42,
    "start_time": "2023-04-30T10:19:20.009Z"
   },
   {
    "duration": 6,
    "start_time": "2023-04-30T10:19:20.053Z"
   },
   {
    "duration": 15,
    "start_time": "2023-04-30T10:19:20.061Z"
   },
   {
    "duration": 59,
    "start_time": "2023-04-30T10:19:20.078Z"
   },
   {
    "duration": 48,
    "start_time": "2023-04-30T10:19:20.140Z"
   },
   {
    "duration": 32,
    "start_time": "2023-04-30T10:19:20.191Z"
   },
   {
    "duration": 30,
    "start_time": "2023-04-30T10:19:20.225Z"
   },
   {
    "duration": 11,
    "start_time": "2023-04-30T10:19:20.256Z"
   },
   {
    "duration": 49,
    "start_time": "2023-04-30T10:19:20.269Z"
   },
   {
    "duration": 36,
    "start_time": "2023-04-30T10:19:20.320Z"
   },
   {
    "duration": 53,
    "start_time": "2023-04-30T10:19:20.358Z"
   },
   {
    "duration": 9,
    "start_time": "2023-04-30T10:19:20.413Z"
   },
   {
    "duration": 51,
    "start_time": "2023-04-30T10:19:20.424Z"
   },
   {
    "duration": 85,
    "start_time": "2023-04-30T10:19:20.478Z"
   },
   {
    "duration": 10,
    "start_time": "2023-04-30T10:19:20.566Z"
   },
   {
    "duration": 19,
    "start_time": "2023-04-30T10:19:20.578Z"
   },
   {
    "duration": 1855,
    "start_time": "2023-04-30T10:19:20.600Z"
   },
   {
    "duration": 4,
    "start_time": "2023-04-30T10:19:22.457Z"
   },
   {
    "duration": 25,
    "start_time": "2023-04-30T10:19:22.464Z"
   },
   {
    "duration": 11,
    "start_time": "2023-04-30T10:19:22.492Z"
   },
   {
    "duration": 17,
    "start_time": "2023-04-30T10:19:22.505Z"
   },
   {
    "duration": 15,
    "start_time": "2023-04-30T10:19:22.524Z"
   },
   {
    "duration": 43,
    "start_time": "2023-04-30T10:19:22.545Z"
   },
   {
    "duration": 39,
    "start_time": "2023-04-30T10:19:22.590Z"
   },
   {
    "duration": 9,
    "start_time": "2023-04-30T10:19:22.631Z"
   },
   {
    "duration": 35,
    "start_time": "2023-04-30T10:19:22.651Z"
   },
   {
    "duration": 12,
    "start_time": "2023-04-30T10:19:22.688Z"
   },
   {
    "duration": 21,
    "start_time": "2023-04-30T10:19:22.702Z"
   },
   {
    "duration": 21,
    "start_time": "2023-04-30T10:19:22.724Z"
   },
   {
    "duration": 98,
    "start_time": "2023-04-30T10:19:22.755Z"
   },
   {
    "duration": 222,
    "start_time": "2023-04-30T10:19:22.862Z"
   },
   {
    "duration": 0,
    "start_time": "2023-04-30T10:19:23.087Z"
   },
   {
    "duration": 0,
    "start_time": "2023-04-30T10:19:23.088Z"
   },
   {
    "duration": 0,
    "start_time": "2023-04-30T10:19:23.089Z"
   },
   {
    "duration": 0,
    "start_time": "2023-04-30T10:19:23.090Z"
   },
   {
    "duration": 0,
    "start_time": "2023-04-30T10:19:23.092Z"
   },
   {
    "duration": 0,
    "start_time": "2023-04-30T10:19:23.092Z"
   },
   {
    "duration": 24,
    "start_time": "2023-04-30T10:21:38.429Z"
   },
   {
    "duration": 13,
    "start_time": "2023-04-30T10:21:55.368Z"
   },
   {
    "duration": 34,
    "start_time": "2023-04-30T10:22:00.452Z"
   },
   {
    "duration": 1661,
    "start_time": "2023-05-01T15:13:03.657Z"
   },
   {
    "duration": 3,
    "start_time": "2023-05-01T15:13:05.320Z"
   },
   {
    "duration": 296,
    "start_time": "2023-05-01T15:13:05.325Z"
   },
   {
    "duration": 5,
    "start_time": "2023-05-01T15:13:05.623Z"
   },
   {
    "duration": 60,
    "start_time": "2023-05-01T15:13:05.630Z"
   },
   {
    "duration": 38,
    "start_time": "2023-05-01T15:13:05.692Z"
   },
   {
    "duration": 76,
    "start_time": "2023-05-01T15:13:05.731Z"
   },
   {
    "duration": 34,
    "start_time": "2023-05-01T15:13:05.809Z"
   },
   {
    "duration": 18,
    "start_time": "2023-05-01T15:13:05.844Z"
   },
   {
    "duration": 36,
    "start_time": "2023-05-01T15:13:05.863Z"
   },
   {
    "duration": 5,
    "start_time": "2023-05-01T15:13:05.901Z"
   },
   {
    "duration": 6,
    "start_time": "2023-05-01T15:13:05.907Z"
   },
   {
    "duration": 17,
    "start_time": "2023-05-01T15:13:05.915Z"
   },
   {
    "duration": 21,
    "start_time": "2023-05-01T15:13:05.935Z"
   },
   {
    "duration": 48,
    "start_time": "2023-05-01T15:13:05.957Z"
   },
   {
    "duration": 18,
    "start_time": "2023-05-01T15:13:06.008Z"
   },
   {
    "duration": 2,
    "start_time": "2023-05-01T15:13:06.028Z"
   },
   {
    "duration": 35,
    "start_time": "2023-05-01T15:13:06.032Z"
   },
   {
    "duration": 34,
    "start_time": "2023-05-01T15:13:06.068Z"
   },
   {
    "duration": 42,
    "start_time": "2023-05-01T15:13:06.105Z"
   },
   {
    "duration": 7,
    "start_time": "2023-05-01T15:13:06.148Z"
   },
   {
    "duration": 16,
    "start_time": "2023-05-01T15:13:06.156Z"
   },
   {
    "duration": 60,
    "start_time": "2023-05-01T15:13:06.173Z"
   },
   {
    "duration": 6,
    "start_time": "2023-05-01T15:13:06.235Z"
   },
   {
    "duration": 6,
    "start_time": "2023-05-01T15:13:06.242Z"
   },
   {
    "duration": 8,
    "start_time": "2023-05-01T15:13:06.250Z"
   },
   {
    "duration": 1689,
    "start_time": "2023-05-01T15:13:06.260Z"
   },
   {
    "duration": 3,
    "start_time": "2023-05-01T15:13:07.950Z"
   },
   {
    "duration": 11,
    "start_time": "2023-05-01T15:13:07.955Z"
   },
   {
    "duration": 29,
    "start_time": "2023-05-01T15:13:07.967Z"
   },
   {
    "duration": 5,
    "start_time": "2023-05-01T15:13:07.997Z"
   },
   {
    "duration": 5,
    "start_time": "2023-05-01T15:13:08.004Z"
   },
   {
    "duration": 18,
    "start_time": "2023-05-01T15:13:08.010Z"
   },
   {
    "duration": 32,
    "start_time": "2023-05-01T15:13:08.030Z"
   },
   {
    "duration": 42,
    "start_time": "2023-05-01T15:13:08.064Z"
   },
   {
    "duration": 60,
    "start_time": "2023-05-01T15:13:08.108Z"
   },
   {
    "duration": 5,
    "start_time": "2023-05-01T15:13:08.170Z"
   },
   {
    "duration": 14,
    "start_time": "2023-05-01T15:13:08.176Z"
   },
   {
    "duration": 5,
    "start_time": "2023-05-01T15:13:08.192Z"
   },
   {
    "duration": 93,
    "start_time": "2023-05-01T15:13:08.199Z"
   },
   {
    "duration": 493,
    "start_time": "2023-05-01T15:13:08.297Z"
   },
   {
    "duration": 4426,
    "start_time": "2023-05-01T15:13:08.792Z"
   },
   {
    "duration": 129,
    "start_time": "2023-05-01T15:13:13.219Z"
   },
   {
    "duration": 0,
    "start_time": "2023-05-01T15:13:13.352Z"
   },
   {
    "duration": 0,
    "start_time": "2023-05-01T15:13:13.354Z"
   },
   {
    "duration": 0,
    "start_time": "2023-05-01T15:13:13.355Z"
   },
   {
    "duration": 729,
    "start_time": "2023-05-01T15:23:09.438Z"
   },
   {
    "duration": 30,
    "start_time": "2023-05-01T15:24:00.607Z"
   },
   {
    "duration": 10,
    "start_time": "2023-05-01T15:24:11.705Z"
   },
   {
    "duration": 7,
    "start_time": "2023-05-01T15:24:14.125Z"
   },
   {
    "duration": 29,
    "start_time": "2023-05-01T15:24:15.149Z"
   },
   {
    "duration": 1431,
    "start_time": "2023-05-01T15:24:35.086Z"
   },
   {
    "duration": 3,
    "start_time": "2023-05-01T15:24:36.519Z"
   },
   {
    "duration": 111,
    "start_time": "2023-05-01T15:24:36.524Z"
   },
   {
    "duration": 5,
    "start_time": "2023-05-01T15:24:36.638Z"
   },
   {
    "duration": 80,
    "start_time": "2023-05-01T15:24:36.645Z"
   },
   {
    "duration": 41,
    "start_time": "2023-05-01T15:24:36.727Z"
   },
   {
    "duration": 90,
    "start_time": "2023-05-01T15:24:36.769Z"
   },
   {
    "duration": 74,
    "start_time": "2023-05-01T15:24:36.861Z"
   },
   {
    "duration": 19,
    "start_time": "2023-05-01T15:24:36.937Z"
   },
   {
    "duration": 33,
    "start_time": "2023-05-01T15:24:36.959Z"
   },
   {
    "duration": 5,
    "start_time": "2023-05-01T15:24:36.994Z"
   },
   {
    "duration": 19,
    "start_time": "2023-05-01T15:24:37.001Z"
   },
   {
    "duration": 31,
    "start_time": "2023-05-01T15:24:37.022Z"
   },
   {
    "duration": 26,
    "start_time": "2023-05-01T15:24:37.055Z"
   },
   {
    "duration": 26,
    "start_time": "2023-05-01T15:24:37.091Z"
   },
   {
    "duration": 22,
    "start_time": "2023-05-01T15:24:37.119Z"
   },
   {
    "duration": 6,
    "start_time": "2023-05-01T15:24:37.143Z"
   },
   {
    "duration": 20,
    "start_time": "2023-05-01T15:24:37.151Z"
   },
   {
    "duration": 38,
    "start_time": "2023-05-01T15:24:37.173Z"
   },
   {
    "duration": 49,
    "start_time": "2023-05-01T15:24:37.212Z"
   },
   {
    "duration": 8,
    "start_time": "2023-05-01T15:24:37.263Z"
   },
   {
    "duration": 14,
    "start_time": "2023-05-01T15:24:37.292Z"
   },
   {
    "duration": 50,
    "start_time": "2023-05-01T15:24:37.308Z"
   },
   {
    "duration": 8,
    "start_time": "2023-05-01T15:24:37.360Z"
   },
   {
    "duration": 58,
    "start_time": "2023-05-01T15:24:37.392Z"
   },
   {
    "duration": 3,
    "start_time": "2023-05-01T15:24:37.453Z"
   },
   {
    "duration": 2014,
    "start_time": "2023-05-01T15:24:37.458Z"
   },
   {
    "duration": 2,
    "start_time": "2023-05-01T15:24:39.476Z"
   },
   {
    "duration": 21,
    "start_time": "2023-05-01T15:24:39.479Z"
   },
   {
    "duration": 9,
    "start_time": "2023-05-01T15:24:39.502Z"
   },
   {
    "duration": 6,
    "start_time": "2023-05-01T15:24:39.512Z"
   },
   {
    "duration": 3,
    "start_time": "2023-05-01T15:24:39.519Z"
   },
   {
    "duration": 24,
    "start_time": "2023-05-01T15:24:39.524Z"
   },
   {
    "duration": 70,
    "start_time": "2023-05-01T15:24:39.550Z"
   },
   {
    "duration": 8,
    "start_time": "2023-05-01T15:24:39.622Z"
   },
   {
    "duration": 34,
    "start_time": "2023-05-01T15:24:39.632Z"
   },
   {
    "duration": 4,
    "start_time": "2023-05-01T15:24:39.668Z"
   },
   {
    "duration": 29,
    "start_time": "2023-05-01T15:24:39.674Z"
   },
   {
    "duration": 6,
    "start_time": "2023-05-01T15:24:39.705Z"
   },
   {
    "duration": 325,
    "start_time": "2023-05-01T15:24:39.713Z"
   },
   {
    "duration": 412,
    "start_time": "2023-05-01T15:24:40.040Z"
   },
   {
    "duration": 4731,
    "start_time": "2023-05-01T15:24:40.454Z"
   },
   {
    "duration": 108,
    "start_time": "2023-05-01T15:24:45.186Z"
   },
   {
    "duration": 13,
    "start_time": "2023-05-01T15:24:45.297Z"
   },
   {
    "duration": 118,
    "start_time": "2023-05-01T15:24:45.312Z"
   },
   {
    "duration": 4679,
    "start_time": "2023-05-01T15:24:45.431Z"
   },
   {
    "duration": 30,
    "start_time": "2023-05-01T15:25:30.832Z"
   },
   {
    "duration": 12,
    "start_time": "2023-05-01T15:26:05.756Z"
   },
   {
    "duration": 32,
    "start_time": "2023-05-01T15:27:59.167Z"
   },
   {
    "duration": 1471,
    "start_time": "2023-05-01T15:28:19.558Z"
   },
   {
    "duration": 3,
    "start_time": "2023-05-01T15:28:21.031Z"
   },
   {
    "duration": 122,
    "start_time": "2023-05-01T15:28:21.035Z"
   },
   {
    "duration": 4,
    "start_time": "2023-05-01T15:28:21.160Z"
   },
   {
    "duration": 74,
    "start_time": "2023-05-01T15:28:21.166Z"
   },
   {
    "duration": 70,
    "start_time": "2023-05-01T15:28:21.241Z"
   },
   {
    "duration": 56,
    "start_time": "2023-05-01T15:28:21.312Z"
   },
   {
    "duration": 58,
    "start_time": "2023-05-01T15:28:21.369Z"
   },
   {
    "duration": 18,
    "start_time": "2023-05-01T15:28:21.429Z"
   },
   {
    "duration": 16,
    "start_time": "2023-05-01T15:28:21.449Z"
   },
   {
    "duration": 39,
    "start_time": "2023-05-01T15:28:21.466Z"
   },
   {
    "duration": 33,
    "start_time": "2023-05-01T15:28:21.507Z"
   },
   {
    "duration": 31,
    "start_time": "2023-05-01T15:28:21.542Z"
   },
   {
    "duration": 34,
    "start_time": "2023-05-01T15:28:21.574Z"
   },
   {
    "duration": 27,
    "start_time": "2023-05-01T15:28:21.610Z"
   },
   {
    "duration": 18,
    "start_time": "2023-05-01T15:28:21.638Z"
   },
   {
    "duration": 16,
    "start_time": "2023-05-01T15:28:21.657Z"
   },
   {
    "duration": 43,
    "start_time": "2023-05-01T15:28:21.675Z"
   },
   {
    "duration": 32,
    "start_time": "2023-05-01T15:28:21.719Z"
   },
   {
    "duration": 56,
    "start_time": "2023-05-01T15:28:21.753Z"
   },
   {
    "duration": 7,
    "start_time": "2023-05-01T15:28:21.811Z"
   },
   {
    "duration": 23,
    "start_time": "2023-05-01T15:28:21.820Z"
   },
   {
    "duration": 61,
    "start_time": "2023-05-01T15:28:21.845Z"
   },
   {
    "duration": 7,
    "start_time": "2023-05-01T15:28:21.908Z"
   },
   {
    "duration": 44,
    "start_time": "2023-05-01T15:28:21.916Z"
   },
   {
    "duration": 6,
    "start_time": "2023-05-01T15:28:21.961Z"
   },
   {
    "duration": 1713,
    "start_time": "2023-05-01T15:28:21.969Z"
   },
   {
    "duration": 7,
    "start_time": "2023-05-01T15:28:23.693Z"
   },
   {
    "duration": 11,
    "start_time": "2023-05-01T15:28:23.705Z"
   },
   {
    "duration": 8,
    "start_time": "2023-05-01T15:28:23.718Z"
   },
   {
    "duration": 12,
    "start_time": "2023-05-01T15:28:23.728Z"
   },
   {
    "duration": 9,
    "start_time": "2023-05-01T15:28:23.741Z"
   },
   {
    "duration": 22,
    "start_time": "2023-05-01T15:28:23.752Z"
   },
   {
    "duration": 59,
    "start_time": "2023-05-01T15:28:23.776Z"
   },
   {
    "duration": 9,
    "start_time": "2023-05-01T15:28:23.837Z"
   },
   {
    "duration": 67,
    "start_time": "2023-05-01T15:28:23.848Z"
   },
   {
    "duration": 4,
    "start_time": "2023-05-01T15:28:23.917Z"
   },
   {
    "duration": 28,
    "start_time": "2023-05-01T15:28:23.923Z"
   },
   {
    "duration": 4,
    "start_time": "2023-05-01T15:28:23.953Z"
   },
   {
    "duration": 133,
    "start_time": "2023-05-01T15:28:23.959Z"
   },
   {
    "duration": 542,
    "start_time": "2023-05-01T15:28:24.096Z"
   },
   {
    "duration": 4826,
    "start_time": "2023-05-01T15:28:24.640Z"
   },
   {
    "duration": 29,
    "start_time": "2023-05-01T15:28:29.467Z"
   },
   {
    "duration": 88,
    "start_time": "2023-05-01T15:28:29.505Z"
   },
   {
    "duration": 35,
    "start_time": "2023-05-01T15:28:29.596Z"
   },
   {
    "duration": 5058,
    "start_time": "2023-05-01T15:28:29.633Z"
   },
   {
    "duration": 820,
    "start_time": "2023-05-01T15:30:10.975Z"
   },
   {
    "duration": 766,
    "start_time": "2023-05-01T15:30:49.389Z"
   },
   {
    "duration": 7,
    "start_time": "2023-05-01T15:31:14.508Z"
   },
   {
    "duration": 33,
    "start_time": "2023-05-01T15:31:20.884Z"
   },
   {
    "duration": 1530,
    "start_time": "2023-05-01T15:31:42.062Z"
   },
   {
    "duration": 3,
    "start_time": "2023-05-01T15:31:43.594Z"
   },
   {
    "duration": 122,
    "start_time": "2023-05-01T15:31:43.600Z"
   },
   {
    "duration": 4,
    "start_time": "2023-05-01T15:31:43.725Z"
   },
   {
    "duration": 82,
    "start_time": "2023-05-01T15:31:43.731Z"
   },
   {
    "duration": 41,
    "start_time": "2023-05-01T15:31:43.815Z"
   },
   {
    "duration": 79,
    "start_time": "2023-05-01T15:31:43.858Z"
   },
   {
    "duration": 65,
    "start_time": "2023-05-01T15:31:43.939Z"
   },
   {
    "duration": 19,
    "start_time": "2023-05-01T15:31:44.005Z"
   },
   {
    "duration": 17,
    "start_time": "2023-05-01T15:31:44.026Z"
   },
   {
    "duration": 6,
    "start_time": "2023-05-01T15:31:44.044Z"
   },
   {
    "duration": 8,
    "start_time": "2023-05-01T15:31:44.051Z"
   },
   {
    "duration": 48,
    "start_time": "2023-05-01T15:31:44.060Z"
   },
   {
    "duration": 19,
    "start_time": "2023-05-01T15:31:44.110Z"
   },
   {
    "duration": 25,
    "start_time": "2023-05-01T15:31:44.130Z"
   },
   {
    "duration": 49,
    "start_time": "2023-05-01T15:31:44.157Z"
   },
   {
    "duration": 3,
    "start_time": "2023-05-01T15:31:44.207Z"
   },
   {
    "duration": 22,
    "start_time": "2023-05-01T15:31:44.211Z"
   },
   {
    "duration": 21,
    "start_time": "2023-05-01T15:31:44.234Z"
   },
   {
    "duration": 73,
    "start_time": "2023-05-01T15:31:44.256Z"
   },
   {
    "duration": 8,
    "start_time": "2023-05-01T15:31:44.330Z"
   },
   {
    "duration": 13,
    "start_time": "2023-05-01T15:31:44.339Z"
   },
   {
    "duration": 65,
    "start_time": "2023-05-01T15:31:44.354Z"
   },
   {
    "duration": 9,
    "start_time": "2023-05-01T15:31:44.421Z"
   },
   {
    "duration": 7,
    "start_time": "2023-05-01T15:31:44.432Z"
   },
   {
    "duration": 28,
    "start_time": "2023-05-01T15:31:44.441Z"
   },
   {
    "duration": 46,
    "start_time": "2023-05-01T15:31:44.472Z"
   },
   {
    "duration": 7,
    "start_time": "2023-05-01T15:31:44.523Z"
   },
   {
    "duration": 1635,
    "start_time": "2023-05-01T15:31:44.532Z"
   },
   {
    "duration": 3,
    "start_time": "2023-05-01T15:31:46.170Z"
   },
   {
    "duration": 26,
    "start_time": "2023-05-01T15:31:46.175Z"
   },
   {
    "duration": 11,
    "start_time": "2023-05-01T15:31:46.203Z"
   },
   {
    "duration": 19,
    "start_time": "2023-05-01T15:31:46.216Z"
   },
   {
    "duration": 17,
    "start_time": "2023-05-01T15:31:46.237Z"
   },
   {
    "duration": 21,
    "start_time": "2023-05-01T15:31:46.256Z"
   },
   {
    "duration": 44,
    "start_time": "2023-05-01T15:31:46.279Z"
   },
   {
    "duration": 9,
    "start_time": "2023-05-01T15:31:46.325Z"
   },
   {
    "duration": 34,
    "start_time": "2023-05-01T15:31:46.336Z"
   },
   {
    "duration": 4,
    "start_time": "2023-05-01T15:31:46.392Z"
   },
   {
    "duration": 15,
    "start_time": "2023-05-01T15:31:46.398Z"
   },
   {
    "duration": 7,
    "start_time": "2023-05-01T15:31:46.417Z"
   },
   {
    "duration": 167,
    "start_time": "2023-05-01T15:31:46.426Z"
   },
   {
    "duration": 483,
    "start_time": "2023-05-01T15:31:46.595Z"
   },
   {
    "duration": 4499,
    "start_time": "2023-05-01T15:31:47.080Z"
   },
   {
    "duration": 16,
    "start_time": "2023-05-01T15:31:51.580Z"
   },
   {
    "duration": 95,
    "start_time": "2023-05-01T15:31:51.598Z"
   },
   {
    "duration": 123,
    "start_time": "2023-05-01T15:31:51.694Z"
   },
   {
    "duration": 4512,
    "start_time": "2023-05-01T15:31:51.820Z"
   },
   {
    "duration": 4,
    "start_time": "2023-05-01T15:33:23.506Z"
   },
   {
    "duration": 1395,
    "start_time": "2023-05-01T15:33:34.122Z"
   },
   {
    "duration": 3,
    "start_time": "2023-05-01T15:33:35.519Z"
   },
   {
    "duration": 133,
    "start_time": "2023-05-01T15:33:35.524Z"
   },
   {
    "duration": 4,
    "start_time": "2023-05-01T15:33:35.659Z"
   },
   {
    "duration": 60,
    "start_time": "2023-05-01T15:33:35.666Z"
   },
   {
    "duration": 39,
    "start_time": "2023-05-01T15:33:35.728Z"
   },
   {
    "duration": 73,
    "start_time": "2023-05-01T15:33:35.768Z"
   },
   {
    "duration": 61,
    "start_time": "2023-05-01T15:33:35.844Z"
   },
   {
    "duration": 21,
    "start_time": "2023-05-01T15:33:35.906Z"
   },
   {
    "duration": 17,
    "start_time": "2023-05-01T15:33:35.929Z"
   },
   {
    "duration": 18,
    "start_time": "2023-05-01T15:33:35.948Z"
   },
   {
    "duration": 5,
    "start_time": "2023-05-01T15:33:35.968Z"
   },
   {
    "duration": 34,
    "start_time": "2023-05-01T15:33:35.975Z"
   },
   {
    "duration": 37,
    "start_time": "2023-05-01T15:33:36.012Z"
   },
   {
    "duration": 38,
    "start_time": "2023-05-01T15:33:36.050Z"
   },
   {
    "duration": 20,
    "start_time": "2023-05-01T15:33:36.090Z"
   },
   {
    "duration": 10,
    "start_time": "2023-05-01T15:33:36.112Z"
   },
   {
    "duration": 35,
    "start_time": "2023-05-01T15:33:36.124Z"
   },
   {
    "duration": 24,
    "start_time": "2023-05-01T15:33:36.161Z"
   },
   {
    "duration": 56,
    "start_time": "2023-05-01T15:33:36.187Z"
   },
   {
    "duration": 9,
    "start_time": "2023-05-01T15:33:36.246Z"
   },
   {
    "duration": 33,
    "start_time": "2023-05-01T15:33:36.257Z"
   },
   {
    "duration": 52,
    "start_time": "2023-05-01T15:33:36.293Z"
   },
   {
    "duration": 10,
    "start_time": "2023-05-01T15:33:36.346Z"
   },
   {
    "duration": 14,
    "start_time": "2023-05-01T15:33:36.359Z"
   },
   {
    "duration": 16,
    "start_time": "2023-05-01T15:33:36.376Z"
   },
   {
    "duration": 46,
    "start_time": "2023-05-01T15:33:36.394Z"
   },
   {
    "duration": 6,
    "start_time": "2023-05-01T15:33:36.442Z"
   },
   {
    "duration": 1775,
    "start_time": "2023-05-01T15:33:36.449Z"
   },
   {
    "duration": 3,
    "start_time": "2023-05-01T15:33:38.226Z"
   },
   {
    "duration": 22,
    "start_time": "2023-05-01T15:33:38.231Z"
   },
   {
    "duration": 8,
    "start_time": "2023-05-01T15:33:38.255Z"
   },
   {
    "duration": 12,
    "start_time": "2023-05-01T15:33:38.265Z"
   },
   {
    "duration": 3,
    "start_time": "2023-05-01T15:33:38.292Z"
   },
   {
    "duration": 187,
    "start_time": "2023-05-01T15:33:38.297Z"
   },
   {
    "duration": 0,
    "start_time": "2023-05-01T15:33:38.486Z"
   },
   {
    "duration": 0,
    "start_time": "2023-05-01T15:33:38.487Z"
   },
   {
    "duration": 0,
    "start_time": "2023-05-01T15:33:38.489Z"
   },
   {
    "duration": 0,
    "start_time": "2023-05-01T15:33:38.490Z"
   },
   {
    "duration": 0,
    "start_time": "2023-05-01T15:33:38.491Z"
   },
   {
    "duration": 0,
    "start_time": "2023-05-01T15:33:38.492Z"
   },
   {
    "duration": 0,
    "start_time": "2023-05-01T15:33:38.493Z"
   },
   {
    "duration": 0,
    "start_time": "2023-05-01T15:33:38.495Z"
   },
   {
    "duration": 0,
    "start_time": "2023-05-01T15:33:38.496Z"
   },
   {
    "duration": 0,
    "start_time": "2023-05-01T15:33:38.497Z"
   },
   {
    "duration": 0,
    "start_time": "2023-05-01T15:33:38.498Z"
   },
   {
    "duration": 0,
    "start_time": "2023-05-01T15:33:38.499Z"
   },
   {
    "duration": 0,
    "start_time": "2023-05-01T15:33:38.500Z"
   },
   {
    "duration": 1312,
    "start_time": "2023-05-01T15:35:13.127Z"
   },
   {
    "duration": 1503,
    "start_time": "2023-05-01T15:35:33.372Z"
   },
   {
    "duration": 3,
    "start_time": "2023-05-01T15:35:34.877Z"
   },
   {
    "duration": 110,
    "start_time": "2023-05-01T15:35:34.882Z"
   },
   {
    "duration": 5,
    "start_time": "2023-05-01T15:35:34.994Z"
   },
   {
    "duration": 63,
    "start_time": "2023-05-01T15:35:35.000Z"
   },
   {
    "duration": 52,
    "start_time": "2023-05-01T15:35:35.065Z"
   },
   {
    "duration": 76,
    "start_time": "2023-05-01T15:35:35.119Z"
   },
   {
    "duration": 38,
    "start_time": "2023-05-01T15:35:35.196Z"
   },
   {
    "duration": 17,
    "start_time": "2023-05-01T15:35:35.236Z"
   },
   {
    "duration": 45,
    "start_time": "2023-05-01T15:35:35.256Z"
   },
   {
    "duration": 5,
    "start_time": "2023-05-01T15:35:35.303Z"
   },
   {
    "duration": 16,
    "start_time": "2023-05-01T15:35:35.309Z"
   },
   {
    "duration": 23,
    "start_time": "2023-05-01T15:35:35.327Z"
   },
   {
    "duration": 18,
    "start_time": "2023-05-01T15:35:35.352Z"
   },
   {
    "duration": 43,
    "start_time": "2023-05-01T15:35:35.372Z"
   },
   {
    "duration": 17,
    "start_time": "2023-05-01T15:35:35.417Z"
   },
   {
    "duration": 2,
    "start_time": "2023-05-01T15:35:35.436Z"
   },
   {
    "duration": 27,
    "start_time": "2023-05-01T15:35:35.439Z"
   },
   {
    "duration": 42,
    "start_time": "2023-05-01T15:35:35.467Z"
   },
   {
    "duration": 48,
    "start_time": "2023-05-01T15:35:35.510Z"
   },
   {
    "duration": 8,
    "start_time": "2023-05-01T15:35:35.560Z"
   },
   {
    "duration": 32,
    "start_time": "2023-05-01T15:35:35.569Z"
   },
   {
    "duration": 46,
    "start_time": "2023-05-01T15:35:35.603Z"
   },
   {
    "duration": 8,
    "start_time": "2023-05-01T15:35:35.650Z"
   },
   {
    "duration": 8,
    "start_time": "2023-05-01T15:35:35.659Z"
   },
   {
    "duration": 857,
    "start_time": "2023-05-01T15:35:35.668Z"
   },
   {
    "duration": 0,
    "start_time": "2023-05-01T15:35:36.528Z"
   },
   {
    "duration": 0,
    "start_time": "2023-05-01T15:35:36.530Z"
   },
   {
    "duration": 0,
    "start_time": "2023-05-01T15:35:36.531Z"
   },
   {
    "duration": 0,
    "start_time": "2023-05-01T15:35:36.533Z"
   },
   {
    "duration": 0,
    "start_time": "2023-05-01T15:35:36.534Z"
   },
   {
    "duration": 0,
    "start_time": "2023-05-01T15:35:36.535Z"
   },
   {
    "duration": 0,
    "start_time": "2023-05-01T15:35:36.536Z"
   },
   {
    "duration": 0,
    "start_time": "2023-05-01T15:35:36.538Z"
   },
   {
    "duration": 0,
    "start_time": "2023-05-01T15:35:36.540Z"
   },
   {
    "duration": 0,
    "start_time": "2023-05-01T15:35:36.541Z"
   },
   {
    "duration": 0,
    "start_time": "2023-05-01T15:35:36.543Z"
   },
   {
    "duration": 0,
    "start_time": "2023-05-01T15:35:36.545Z"
   },
   {
    "duration": 0,
    "start_time": "2023-05-01T15:35:36.546Z"
   },
   {
    "duration": 0,
    "start_time": "2023-05-01T15:35:36.547Z"
   },
   {
    "duration": 0,
    "start_time": "2023-05-01T15:35:36.549Z"
   },
   {
    "duration": 0,
    "start_time": "2023-05-01T15:35:36.551Z"
   },
   {
    "duration": 0,
    "start_time": "2023-05-01T15:35:36.552Z"
   },
   {
    "duration": 0,
    "start_time": "2023-05-01T15:35:36.553Z"
   },
   {
    "duration": 0,
    "start_time": "2023-05-01T15:35:36.555Z"
   },
   {
    "duration": 0,
    "start_time": "2023-05-01T15:35:36.556Z"
   },
   {
    "duration": 0,
    "start_time": "2023-05-01T15:35:36.557Z"
   },
   {
    "duration": 0,
    "start_time": "2023-05-01T15:35:36.558Z"
   },
   {
    "duration": 731,
    "start_time": "2023-05-01T15:36:03.899Z"
   },
   {
    "duration": 1481,
    "start_time": "2023-05-01T15:36:40.955Z"
   },
   {
    "duration": 3,
    "start_time": "2023-05-01T15:36:42.438Z"
   },
   {
    "duration": 108,
    "start_time": "2023-05-01T15:36:42.443Z"
   },
   {
    "duration": 3,
    "start_time": "2023-05-01T15:36:42.553Z"
   },
   {
    "duration": 57,
    "start_time": "2023-05-01T15:36:42.558Z"
   },
   {
    "duration": 38,
    "start_time": "2023-05-01T15:36:42.617Z"
   },
   {
    "duration": 81,
    "start_time": "2023-05-01T15:36:42.657Z"
   },
   {
    "duration": 66,
    "start_time": "2023-05-01T15:36:42.740Z"
   },
   {
    "duration": 21,
    "start_time": "2023-05-01T15:36:42.808Z"
   },
   {
    "duration": 19,
    "start_time": "2023-05-01T15:36:42.831Z"
   },
   {
    "duration": 7,
    "start_time": "2023-05-01T15:36:42.852Z"
   },
   {
    "duration": 4,
    "start_time": "2023-05-01T15:36:42.891Z"
   },
   {
    "duration": 21,
    "start_time": "2023-05-01T15:36:42.898Z"
   },
   {
    "duration": 24,
    "start_time": "2023-05-01T15:36:42.924Z"
   },
   {
    "duration": 62,
    "start_time": "2023-05-01T15:36:42.950Z"
   },
   {
    "duration": 21,
    "start_time": "2023-05-01T15:36:43.014Z"
   },
   {
    "duration": 12,
    "start_time": "2023-05-01T15:36:43.037Z"
   },
   {
    "duration": 33,
    "start_time": "2023-05-01T15:36:43.051Z"
   },
   {
    "duration": 23,
    "start_time": "2023-05-01T15:36:43.092Z"
   },
   {
    "duration": 89,
    "start_time": "2023-05-01T15:36:43.117Z"
   },
   {
    "duration": 8,
    "start_time": "2023-05-01T15:36:43.208Z"
   },
   {
    "duration": 14,
    "start_time": "2023-05-01T15:36:43.218Z"
   },
   {
    "duration": 70,
    "start_time": "2023-05-01T15:36:43.234Z"
   },
   {
    "duration": 9,
    "start_time": "2023-05-01T15:36:43.306Z"
   },
   {
    "duration": 6,
    "start_time": "2023-05-01T15:36:43.317Z"
   },
   {
    "duration": 868,
    "start_time": "2023-05-01T15:36:43.325Z"
   },
   {
    "duration": 0,
    "start_time": "2023-05-01T15:36:44.196Z"
   },
   {
    "duration": 0,
    "start_time": "2023-05-01T15:36:44.197Z"
   },
   {
    "duration": 0,
    "start_time": "2023-05-01T15:36:44.198Z"
   },
   {
    "duration": 0,
    "start_time": "2023-05-01T15:36:44.199Z"
   },
   {
    "duration": 0,
    "start_time": "2023-05-01T15:36:44.201Z"
   },
   {
    "duration": 0,
    "start_time": "2023-05-01T15:36:44.202Z"
   },
   {
    "duration": 0,
    "start_time": "2023-05-01T15:36:44.203Z"
   },
   {
    "duration": 0,
    "start_time": "2023-05-01T15:36:44.204Z"
   },
   {
    "duration": 0,
    "start_time": "2023-05-01T15:36:44.205Z"
   },
   {
    "duration": 0,
    "start_time": "2023-05-01T15:36:44.206Z"
   },
   {
    "duration": 0,
    "start_time": "2023-05-01T15:36:44.208Z"
   },
   {
    "duration": 0,
    "start_time": "2023-05-01T15:36:44.209Z"
   },
   {
    "duration": 0,
    "start_time": "2023-05-01T15:36:44.210Z"
   },
   {
    "duration": 0,
    "start_time": "2023-05-01T15:36:44.211Z"
   },
   {
    "duration": 0,
    "start_time": "2023-05-01T15:36:44.212Z"
   },
   {
    "duration": 0,
    "start_time": "2023-05-01T15:36:44.213Z"
   },
   {
    "duration": 0,
    "start_time": "2023-05-01T15:36:44.215Z"
   },
   {
    "duration": 0,
    "start_time": "2023-05-01T15:36:44.215Z"
   },
   {
    "duration": 0,
    "start_time": "2023-05-01T15:36:44.216Z"
   },
   {
    "duration": 0,
    "start_time": "2023-05-01T15:36:44.217Z"
   },
   {
    "duration": 0,
    "start_time": "2023-05-01T15:36:44.218Z"
   },
   {
    "duration": 0,
    "start_time": "2023-05-01T15:36:44.220Z"
   },
   {
    "duration": 6,
    "start_time": "2023-05-01T15:37:12.327Z"
   },
   {
    "duration": 727,
    "start_time": "2023-05-01T15:37:34.655Z"
   },
   {
    "duration": 1496,
    "start_time": "2023-05-01T15:37:48.279Z"
   },
   {
    "duration": 3,
    "start_time": "2023-05-01T15:37:49.777Z"
   },
   {
    "duration": 128,
    "start_time": "2023-05-01T15:37:49.782Z"
   },
   {
    "duration": 5,
    "start_time": "2023-05-01T15:37:49.913Z"
   },
   {
    "duration": 74,
    "start_time": "2023-05-01T15:37:49.921Z"
   },
   {
    "duration": 43,
    "start_time": "2023-05-01T15:37:49.997Z"
   },
   {
    "duration": 99,
    "start_time": "2023-05-01T15:37:50.042Z"
   },
   {
    "duration": 62,
    "start_time": "2023-05-01T15:37:50.143Z"
   },
   {
    "duration": 20,
    "start_time": "2023-05-01T15:37:50.207Z"
   },
   {
    "duration": 18,
    "start_time": "2023-05-01T15:37:50.228Z"
   },
   {
    "duration": 7,
    "start_time": "2023-05-01T15:37:50.248Z"
   },
   {
    "duration": 36,
    "start_time": "2023-05-01T15:37:50.257Z"
   },
   {
    "duration": 30,
    "start_time": "2023-05-01T15:37:50.295Z"
   },
   {
    "duration": 22,
    "start_time": "2023-05-01T15:37:50.330Z"
   },
   {
    "duration": 58,
    "start_time": "2023-05-01T15:37:50.354Z"
   },
   {
    "duration": 22,
    "start_time": "2023-05-01T15:37:50.414Z"
   },
   {
    "duration": 3,
    "start_time": "2023-05-01T15:37:50.438Z"
   },
   {
    "duration": 24,
    "start_time": "2023-05-01T15:37:50.442Z"
   },
   {
    "duration": 52,
    "start_time": "2023-05-01T15:37:50.468Z"
   },
   {
    "duration": 46,
    "start_time": "2023-05-01T15:37:50.522Z"
   },
   {
    "duration": 27,
    "start_time": "2023-05-01T15:37:50.570Z"
   },
   {
    "duration": 14,
    "start_time": "2023-05-01T15:37:50.599Z"
   },
   {
    "duration": 46,
    "start_time": "2023-05-01T15:37:50.614Z"
   },
   {
    "duration": 7,
    "start_time": "2023-05-01T15:37:50.662Z"
   },
   {
    "duration": 6,
    "start_time": "2023-05-01T15:37:50.692Z"
   },
   {
    "duration": 37,
    "start_time": "2023-05-01T15:37:50.700Z"
   },
   {
    "duration": 6,
    "start_time": "2023-05-01T15:37:50.738Z"
   },
   {
    "duration": 47,
    "start_time": "2023-05-01T15:37:50.746Z"
   },
   {
    "duration": 6,
    "start_time": "2023-05-01T15:37:50.795Z"
   },
   {
    "duration": 1707,
    "start_time": "2023-05-01T15:37:50.802Z"
   },
   {
    "duration": 3,
    "start_time": "2023-05-01T15:37:52.510Z"
   },
   {
    "duration": 22,
    "start_time": "2023-05-01T15:37:52.514Z"
   },
   {
    "duration": 7,
    "start_time": "2023-05-01T15:37:52.537Z"
   },
   {
    "duration": 4,
    "start_time": "2023-05-01T15:37:52.546Z"
   },
   {
    "duration": 3,
    "start_time": "2023-05-01T15:37:52.552Z"
   },
   {
    "duration": 20,
    "start_time": "2023-05-01T15:37:52.557Z"
   },
   {
    "duration": 37,
    "start_time": "2023-05-01T15:37:52.579Z"
   },
   {
    "duration": 8,
    "start_time": "2023-05-01T15:37:52.618Z"
   },
   {
    "duration": 35,
    "start_time": "2023-05-01T15:37:52.627Z"
   },
   {
    "duration": 4,
    "start_time": "2023-05-01T15:37:52.664Z"
   },
   {
    "duration": 15,
    "start_time": "2023-05-01T15:37:52.691Z"
   },
   {
    "duration": 5,
    "start_time": "2023-05-01T15:37:52.708Z"
   },
   {
    "duration": 83,
    "start_time": "2023-05-01T15:37:52.715Z"
   },
   {
    "duration": 347,
    "start_time": "2023-05-01T15:37:52.801Z"
   },
   {
    "duration": 4086,
    "start_time": "2023-05-01T15:37:53.150Z"
   },
   {
    "duration": 153,
    "start_time": "2023-05-01T15:37:57.238Z"
   },
   {
    "duration": 8,
    "start_time": "2023-05-01T15:37:57.393Z"
   },
   {
    "duration": 33,
    "start_time": "2023-05-01T15:37:57.403Z"
   },
   {
    "duration": 4231,
    "start_time": "2023-05-01T15:37:57.438Z"
   },
   {
    "duration": 1472,
    "start_time": "2023-05-01T15:39:05.270Z"
   },
   {
    "duration": 3,
    "start_time": "2023-05-01T15:39:06.745Z"
   },
   {
    "duration": 105,
    "start_time": "2023-05-01T15:39:06.749Z"
   },
   {
    "duration": 4,
    "start_time": "2023-05-01T15:39:06.856Z"
   },
   {
    "duration": 68,
    "start_time": "2023-05-01T15:39:06.863Z"
   },
   {
    "duration": 39,
    "start_time": "2023-05-01T15:39:06.933Z"
   },
   {
    "duration": 60,
    "start_time": "2023-05-01T15:39:06.992Z"
   },
   {
    "duration": 60,
    "start_time": "2023-05-01T15:39:07.053Z"
   },
   {
    "duration": 20,
    "start_time": "2023-05-01T15:39:07.114Z"
   },
   {
    "duration": 16,
    "start_time": "2023-05-01T15:39:07.136Z"
   },
   {
    "duration": 6,
    "start_time": "2023-05-01T15:39:07.153Z"
   },
   {
    "duration": 32,
    "start_time": "2023-05-01T15:39:07.160Z"
   },
   {
    "duration": 20,
    "start_time": "2023-05-01T15:39:07.194Z"
   },
   {
    "duration": 22,
    "start_time": "2023-05-01T15:39:07.217Z"
   },
   {
    "duration": 56,
    "start_time": "2023-05-01T15:39:07.241Z"
   },
   {
    "duration": 21,
    "start_time": "2023-05-01T15:39:07.299Z"
   },
   {
    "duration": 3,
    "start_time": "2023-05-01T15:39:07.322Z"
   },
   {
    "duration": 23,
    "start_time": "2023-05-01T15:39:07.326Z"
   },
   {
    "duration": 60,
    "start_time": "2023-05-01T15:39:07.351Z"
   },
   {
    "duration": 60,
    "start_time": "2023-05-01T15:39:07.413Z"
   },
   {
    "duration": 24,
    "start_time": "2023-05-01T15:39:07.476Z"
   },
   {
    "duration": 18,
    "start_time": "2023-05-01T15:39:07.503Z"
   },
   {
    "duration": 88,
    "start_time": "2023-05-01T15:39:07.523Z"
   },
   {
    "duration": 11,
    "start_time": "2023-05-01T15:39:07.613Z"
   },
   {
    "duration": 168,
    "start_time": "2023-05-01T15:39:07.625Z"
   },
   {
    "duration": 0,
    "start_time": "2023-05-01T15:39:07.794Z"
   },
   {
    "duration": 0,
    "start_time": "2023-05-01T15:39:07.795Z"
   },
   {
    "duration": 0,
    "start_time": "2023-05-01T15:39:07.797Z"
   },
   {
    "duration": 0,
    "start_time": "2023-05-01T15:39:07.798Z"
   },
   {
    "duration": 0,
    "start_time": "2023-05-01T15:39:07.798Z"
   },
   {
    "duration": 0,
    "start_time": "2023-05-01T15:39:07.799Z"
   },
   {
    "duration": 0,
    "start_time": "2023-05-01T15:39:07.801Z"
   },
   {
    "duration": 0,
    "start_time": "2023-05-01T15:39:07.802Z"
   },
   {
    "duration": 0,
    "start_time": "2023-05-01T15:39:07.804Z"
   },
   {
    "duration": 0,
    "start_time": "2023-05-01T15:39:07.805Z"
   },
   {
    "duration": 0,
    "start_time": "2023-05-01T15:39:07.806Z"
   },
   {
    "duration": 0,
    "start_time": "2023-05-01T15:39:07.807Z"
   },
   {
    "duration": 0,
    "start_time": "2023-05-01T15:39:07.808Z"
   },
   {
    "duration": 0,
    "start_time": "2023-05-01T15:39:07.809Z"
   },
   {
    "duration": 0,
    "start_time": "2023-05-01T15:39:07.810Z"
   },
   {
    "duration": 0,
    "start_time": "2023-05-01T15:39:07.812Z"
   },
   {
    "duration": 0,
    "start_time": "2023-05-01T15:39:07.813Z"
   },
   {
    "duration": 0,
    "start_time": "2023-05-01T15:39:07.814Z"
   },
   {
    "duration": 0,
    "start_time": "2023-05-01T15:39:07.816Z"
   },
   {
    "duration": 0,
    "start_time": "2023-05-01T15:39:07.816Z"
   },
   {
    "duration": 0,
    "start_time": "2023-05-01T15:39:07.818Z"
   },
   {
    "duration": 0,
    "start_time": "2023-05-01T15:39:07.819Z"
   },
   {
    "duration": 0,
    "start_time": "2023-05-01T15:39:07.820Z"
   },
   {
    "duration": 0,
    "start_time": "2023-05-01T15:39:07.821Z"
   },
   {
    "duration": 15,
    "start_time": "2023-05-01T15:39:26.142Z"
   },
   {
    "duration": 6,
    "start_time": "2023-05-01T15:41:52.597Z"
   },
   {
    "duration": 31,
    "start_time": "2023-05-01T15:41:55.535Z"
   },
   {
    "duration": 6,
    "start_time": "2023-05-01T15:42:04.989Z"
   },
   {
    "duration": 30,
    "start_time": "2023-05-01T15:42:10.785Z"
   },
   {
    "duration": 1595,
    "start_time": "2023-05-01T15:42:26.872Z"
   },
   {
    "duration": 4,
    "start_time": "2023-05-01T15:42:28.469Z"
   },
   {
    "duration": 125,
    "start_time": "2023-05-01T15:42:28.475Z"
   },
   {
    "duration": 5,
    "start_time": "2023-05-01T15:42:28.603Z"
   },
   {
    "duration": 86,
    "start_time": "2023-05-01T15:42:28.610Z"
   },
   {
    "duration": 42,
    "start_time": "2023-05-01T15:42:28.698Z"
   },
   {
    "duration": 93,
    "start_time": "2023-05-01T15:42:28.743Z"
   },
   {
    "duration": 36,
    "start_time": "2023-05-01T15:42:28.838Z"
   },
   {
    "duration": 28,
    "start_time": "2023-05-01T15:42:28.892Z"
   },
   {
    "duration": 39,
    "start_time": "2023-05-01T15:42:28.924Z"
   },
   {
    "duration": 5,
    "start_time": "2023-05-01T15:42:28.966Z"
   },
   {
    "duration": 4,
    "start_time": "2023-05-01T15:42:28.973Z"
   },
   {
    "duration": 34,
    "start_time": "2023-05-01T15:42:28.978Z"
   },
   {
    "duration": 23,
    "start_time": "2023-05-01T15:42:29.013Z"
   },
   {
    "duration": 27,
    "start_time": "2023-05-01T15:42:29.038Z"
   },
   {
    "duration": 47,
    "start_time": "2023-05-01T15:42:29.066Z"
   },
   {
    "duration": 3,
    "start_time": "2023-05-01T15:42:29.115Z"
   },
   {
    "duration": 32,
    "start_time": "2023-05-01T15:42:29.119Z"
   },
   {
    "duration": 23,
    "start_time": "2023-05-01T15:42:29.153Z"
   },
   {
    "duration": 47,
    "start_time": "2023-05-01T15:42:29.192Z"
   },
   {
    "duration": 10,
    "start_time": "2023-05-01T15:42:29.241Z"
   },
   {
    "duration": 24,
    "start_time": "2023-05-01T15:42:29.253Z"
   },
   {
    "duration": 73,
    "start_time": "2023-05-01T15:42:29.278Z"
   },
   {
    "duration": 8,
    "start_time": "2023-05-01T15:42:29.352Z"
   },
   {
    "duration": 30,
    "start_time": "2023-05-01T15:42:29.361Z"
   },
   {
    "duration": 34,
    "start_time": "2023-05-01T15:42:29.393Z"
   },
   {
    "duration": 5,
    "start_time": "2023-05-01T15:42:29.429Z"
   },
   {
    "duration": 31,
    "start_time": "2023-05-01T15:42:29.438Z"
   },
   {
    "duration": 3,
    "start_time": "2023-05-01T15:42:29.491Z"
   },
   {
    "duration": 2248,
    "start_time": "2023-05-01T15:42:29.496Z"
   },
   {
    "duration": 3,
    "start_time": "2023-05-01T15:42:31.747Z"
   },
   {
    "duration": 16,
    "start_time": "2023-05-01T15:42:31.752Z"
   },
   {
    "duration": 24,
    "start_time": "2023-05-01T15:42:31.770Z"
   },
   {
    "duration": 7,
    "start_time": "2023-05-01T15:42:31.796Z"
   },
   {
    "duration": 5,
    "start_time": "2023-05-01T15:42:31.805Z"
   },
   {
    "duration": 28,
    "start_time": "2023-05-01T15:42:31.813Z"
   },
   {
    "duration": 83,
    "start_time": "2023-05-01T15:42:31.843Z"
   },
   {
    "duration": 10,
    "start_time": "2023-05-01T15:42:31.928Z"
   },
   {
    "duration": 54,
    "start_time": "2023-05-01T15:42:31.939Z"
   },
   {
    "duration": 5,
    "start_time": "2023-05-01T15:42:31.996Z"
   },
   {
    "duration": 23,
    "start_time": "2023-05-01T15:42:32.003Z"
   },
   {
    "duration": 13,
    "start_time": "2023-05-01T15:42:32.028Z"
   },
   {
    "duration": 155,
    "start_time": "2023-05-01T15:42:32.043Z"
   },
   {
    "duration": 407,
    "start_time": "2023-05-01T15:42:32.201Z"
   },
   {
    "duration": 3907,
    "start_time": "2023-05-01T15:42:32.609Z"
   },
   {
    "duration": 8,
    "start_time": "2023-05-01T15:42:36.518Z"
   },
   {
    "duration": 70,
    "start_time": "2023-05-01T15:42:36.527Z"
   },
   {
    "duration": 110,
    "start_time": "2023-05-01T15:42:36.599Z"
   },
   {
    "duration": 4033,
    "start_time": "2023-05-01T15:42:36.711Z"
   },
   {
    "duration": 7,
    "start_time": "2023-05-01T15:52:26.290Z"
   },
   {
    "duration": 31,
    "start_time": "2023-05-01T15:52:26.876Z"
   },
   {
    "duration": 1524,
    "start_time": "2023-05-01T15:52:49.212Z"
   },
   {
    "duration": 3,
    "start_time": "2023-05-01T15:52:50.738Z"
   },
   {
    "duration": 108,
    "start_time": "2023-05-01T15:52:50.743Z"
   },
   {
    "duration": 5,
    "start_time": "2023-05-01T15:52:50.853Z"
   },
   {
    "duration": 67,
    "start_time": "2023-05-01T15:52:50.860Z"
   },
   {
    "duration": 42,
    "start_time": "2023-05-01T15:52:50.929Z"
   },
   {
    "duration": 70,
    "start_time": "2023-05-01T15:52:50.973Z"
   },
   {
    "duration": 60,
    "start_time": "2023-05-01T15:52:51.045Z"
   },
   {
    "duration": 21,
    "start_time": "2023-05-01T15:52:51.107Z"
   },
   {
    "duration": 17,
    "start_time": "2023-05-01T15:52:51.131Z"
   },
   {
    "duration": 6,
    "start_time": "2023-05-01T15:52:51.150Z"
   },
   {
    "duration": 6,
    "start_time": "2023-05-01T15:52:51.158Z"
   },
   {
    "duration": 24,
    "start_time": "2023-05-01T15:52:51.192Z"
   },
   {
    "duration": 28,
    "start_time": "2023-05-01T15:52:51.217Z"
   },
   {
    "duration": 27,
    "start_time": "2023-05-01T15:52:51.247Z"
   },
   {
    "duration": 19,
    "start_time": "2023-05-01T15:52:51.291Z"
   },
   {
    "duration": 3,
    "start_time": "2023-05-01T15:52:51.313Z"
   },
   {
    "duration": 25,
    "start_time": "2023-05-01T15:52:51.318Z"
   },
   {
    "duration": 48,
    "start_time": "2023-05-01T15:52:51.345Z"
   },
   {
    "duration": 49,
    "start_time": "2023-05-01T15:52:51.395Z"
   },
   {
    "duration": 8,
    "start_time": "2023-05-01T15:52:51.446Z"
   },
   {
    "duration": 37,
    "start_time": "2023-05-01T15:52:51.456Z"
   },
   {
    "duration": 47,
    "start_time": "2023-05-01T15:52:51.495Z"
   },
   {
    "duration": 7,
    "start_time": "2023-05-01T15:52:51.544Z"
   },
   {
    "duration": 7,
    "start_time": "2023-05-01T15:52:51.552Z"
   },
   {
    "duration": 55,
    "start_time": "2023-05-01T15:52:51.561Z"
   },
   {
    "duration": 7,
    "start_time": "2023-05-01T15:52:51.618Z"
   },
   {
    "duration": 46,
    "start_time": "2023-05-01T15:52:51.628Z"
   },
   {
    "duration": 5,
    "start_time": "2023-05-01T15:52:51.676Z"
   },
   {
    "duration": 1799,
    "start_time": "2023-05-01T15:52:51.682Z"
   },
   {
    "duration": 3,
    "start_time": "2023-05-01T15:52:53.483Z"
   },
   {
    "duration": 26,
    "start_time": "2023-05-01T15:52:53.488Z"
   },
   {
    "duration": 8,
    "start_time": "2023-05-01T15:52:53.516Z"
   },
   {
    "duration": 5,
    "start_time": "2023-05-01T15:52:53.526Z"
   },
   {
    "duration": 5,
    "start_time": "2023-05-01T15:52:53.533Z"
   },
   {
    "duration": 26,
    "start_time": "2023-05-01T15:52:53.539Z"
   },
   {
    "duration": 52,
    "start_time": "2023-05-01T15:52:53.567Z"
   },
   {
    "duration": 8,
    "start_time": "2023-05-01T15:52:53.621Z"
   },
   {
    "duration": 38,
    "start_time": "2023-05-01T15:52:53.631Z"
   },
   {
    "duration": 21,
    "start_time": "2023-05-01T15:52:53.671Z"
   },
   {
    "duration": 18,
    "start_time": "2023-05-01T15:52:53.694Z"
   },
   {
    "duration": 7,
    "start_time": "2023-05-01T15:52:53.714Z"
   },
   {
    "duration": 74,
    "start_time": "2023-05-01T15:52:53.723Z"
   },
   {
    "duration": 462,
    "start_time": "2023-05-01T15:52:53.799Z"
   },
   {
    "duration": 3986,
    "start_time": "2023-05-01T15:52:54.263Z"
   },
   {
    "duration": 42,
    "start_time": "2023-05-01T15:52:58.251Z"
   },
   {
    "duration": 9,
    "start_time": "2023-05-01T15:52:58.294Z"
   },
   {
    "duration": 103,
    "start_time": "2023-05-01T15:52:58.305Z"
   },
   {
    "duration": 4053,
    "start_time": "2023-05-01T15:52:58.410Z"
   },
   {
    "duration": 1451,
    "start_time": "2023-05-01T16:03:19.422Z"
   },
   {
    "duration": 4,
    "start_time": "2023-05-01T16:03:20.875Z"
   },
   {
    "duration": 122,
    "start_time": "2023-05-01T16:03:20.881Z"
   },
   {
    "duration": 6,
    "start_time": "2023-05-01T16:03:21.004Z"
   },
   {
    "duration": 90,
    "start_time": "2023-05-01T16:03:21.012Z"
   },
   {
    "duration": 60,
    "start_time": "2023-05-01T16:03:21.105Z"
   },
   {
    "duration": 87,
    "start_time": "2023-05-01T16:03:21.167Z"
   },
   {
    "duration": 57,
    "start_time": "2023-05-01T16:03:21.256Z"
   },
   {
    "duration": 27,
    "start_time": "2023-05-01T16:03:21.315Z"
   },
   {
    "duration": 33,
    "start_time": "2023-05-01T16:03:21.344Z"
   },
   {
    "duration": 14,
    "start_time": "2023-05-01T16:03:21.380Z"
   },
   {
    "duration": 6,
    "start_time": "2023-05-01T16:03:21.396Z"
   },
   {
    "duration": 21,
    "start_time": "2023-05-01T16:03:21.404Z"
   },
   {
    "duration": 31,
    "start_time": "2023-05-01T16:03:21.429Z"
   },
   {
    "duration": 42,
    "start_time": "2023-05-01T16:03:21.462Z"
   },
   {
    "duration": 20,
    "start_time": "2023-05-01T16:03:21.506Z"
   },
   {
    "duration": 3,
    "start_time": "2023-05-01T16:03:21.527Z"
   },
   {
    "duration": 40,
    "start_time": "2023-05-01T16:03:21.531Z"
   },
   {
    "duration": 29,
    "start_time": "2023-05-01T16:03:21.573Z"
   },
   {
    "duration": 48,
    "start_time": "2023-05-01T16:03:21.604Z"
   },
   {
    "duration": 10,
    "start_time": "2023-05-01T16:03:21.654Z"
   },
   {
    "duration": 35,
    "start_time": "2023-05-01T16:03:21.666Z"
   },
   {
    "duration": 51,
    "start_time": "2023-05-01T16:03:21.702Z"
   },
   {
    "duration": 7,
    "start_time": "2023-05-01T16:03:21.754Z"
   },
   {
    "duration": 30,
    "start_time": "2023-05-01T16:03:21.763Z"
   },
   {
    "duration": 31,
    "start_time": "2023-05-01T16:03:21.795Z"
   },
   {
    "duration": 5,
    "start_time": "2023-05-01T16:03:21.828Z"
   },
   {
    "duration": 1783,
    "start_time": "2023-05-01T16:03:21.834Z"
   },
   {
    "duration": 2,
    "start_time": "2023-05-01T16:03:23.619Z"
   },
   {
    "duration": 13,
    "start_time": "2023-05-01T16:03:23.623Z"
   },
   {
    "duration": 8,
    "start_time": "2023-05-01T16:03:23.637Z"
   },
   {
    "duration": 6,
    "start_time": "2023-05-01T16:03:23.647Z"
   },
   {
    "duration": 16,
    "start_time": "2023-05-01T16:03:23.655Z"
   },
   {
    "duration": 21,
    "start_time": "2023-05-01T16:03:23.673Z"
   },
   {
    "duration": 136,
    "start_time": "2023-05-01T16:03:23.696Z"
   },
   {
    "duration": 0,
    "start_time": "2023-05-01T16:03:23.834Z"
   },
   {
    "duration": 0,
    "start_time": "2023-05-01T16:03:23.836Z"
   },
   {
    "duration": 0,
    "start_time": "2023-05-01T16:03:23.837Z"
   },
   {
    "duration": 0,
    "start_time": "2023-05-01T16:03:23.838Z"
   },
   {
    "duration": 0,
    "start_time": "2023-05-01T16:03:23.839Z"
   },
   {
    "duration": 0,
    "start_time": "2023-05-01T16:03:23.840Z"
   },
   {
    "duration": 0,
    "start_time": "2023-05-01T16:03:23.841Z"
   },
   {
    "duration": 0,
    "start_time": "2023-05-01T16:03:23.842Z"
   },
   {
    "duration": 0,
    "start_time": "2023-05-01T16:03:23.844Z"
   },
   {
    "duration": 0,
    "start_time": "2023-05-01T16:03:23.845Z"
   },
   {
    "duration": 0,
    "start_time": "2023-05-01T16:03:23.846Z"
   },
   {
    "duration": 0,
    "start_time": "2023-05-01T16:03:23.847Z"
   },
   {
    "duration": 3,
    "start_time": "2023-05-01T16:03:53.114Z"
   },
   {
    "duration": 4,
    "start_time": "2023-05-01T16:03:56.899Z"
   },
   {
    "duration": 28,
    "start_time": "2023-05-01T16:03:56.915Z"
   },
   {
    "duration": 35,
    "start_time": "2023-05-01T16:03:56.945Z"
   },
   {
    "duration": 18,
    "start_time": "2023-05-01T16:03:56.981Z"
   },
   {
    "duration": 47,
    "start_time": "2023-05-01T16:03:57.001Z"
   },
   {
    "duration": 5,
    "start_time": "2023-05-01T16:03:57.050Z"
   },
   {
    "duration": 47,
    "start_time": "2023-05-01T16:03:57.057Z"
   },
   {
    "duration": 7,
    "start_time": "2023-05-01T16:03:57.107Z"
   },
   {
    "duration": 83,
    "start_time": "2023-05-01T16:03:57.116Z"
   },
   {
    "duration": 442,
    "start_time": "2023-05-01T16:03:57.201Z"
   },
   {
    "duration": 4264,
    "start_time": "2023-05-01T16:03:57.645Z"
   },
   {
    "duration": 181,
    "start_time": "2023-05-01T16:04:01.911Z"
   },
   {
    "duration": 65,
    "start_time": "2023-05-01T16:04:02.094Z"
   },
   {
    "duration": 56,
    "start_time": "2023-05-01T16:04:02.161Z"
   },
   {
    "duration": 4319,
    "start_time": "2023-05-01T16:04:02.220Z"
   },
   {
    "duration": 1496,
    "start_time": "2023-05-01T16:04:40.048Z"
   },
   {
    "duration": 4,
    "start_time": "2023-05-01T16:04:41.546Z"
   },
   {
    "duration": 108,
    "start_time": "2023-05-01T16:04:41.552Z"
   },
   {
    "duration": 5,
    "start_time": "2023-05-01T16:04:41.662Z"
   },
   {
    "duration": 64,
    "start_time": "2023-05-01T16:04:41.669Z"
   },
   {
    "duration": 40,
    "start_time": "2023-05-01T16:04:41.735Z"
   },
   {
    "duration": 60,
    "start_time": "2023-05-01T16:04:41.792Z"
   },
   {
    "duration": 65,
    "start_time": "2023-05-01T16:04:41.854Z"
   },
   {
    "duration": 19,
    "start_time": "2023-05-01T16:04:41.921Z"
   },
   {
    "duration": 18,
    "start_time": "2023-05-01T16:04:41.941Z"
   },
   {
    "duration": 35,
    "start_time": "2023-05-01T16:04:41.961Z"
   },
   {
    "duration": 12,
    "start_time": "2023-05-01T16:04:41.998Z"
   },
   {
    "duration": 26,
    "start_time": "2023-05-01T16:04:42.013Z"
   },
   {
    "duration": 42,
    "start_time": "2023-05-01T16:04:42.043Z"
   },
   {
    "duration": 26,
    "start_time": "2023-05-01T16:04:42.087Z"
   },
   {
    "duration": 20,
    "start_time": "2023-05-01T16:04:42.115Z"
   },
   {
    "duration": 3,
    "start_time": "2023-05-01T16:04:42.136Z"
   },
   {
    "duration": 42,
    "start_time": "2023-05-01T16:04:42.140Z"
   },
   {
    "duration": 27,
    "start_time": "2023-05-01T16:04:42.184Z"
   },
   {
    "duration": 58,
    "start_time": "2023-05-01T16:04:42.214Z"
   },
   {
    "duration": 19,
    "start_time": "2023-05-01T16:04:42.274Z"
   },
   {
    "duration": 17,
    "start_time": "2023-05-01T16:04:42.296Z"
   },
   {
    "duration": 64,
    "start_time": "2023-05-01T16:04:42.315Z"
   },
   {
    "duration": 12,
    "start_time": "2023-05-01T16:04:42.381Z"
   },
   {
    "duration": 7,
    "start_time": "2023-05-01T16:04:42.394Z"
   },
   {
    "duration": 41,
    "start_time": "2023-05-01T16:04:42.402Z"
   },
   {
    "duration": 15,
    "start_time": "2023-05-01T16:04:42.445Z"
   },
   {
    "duration": 1684,
    "start_time": "2023-05-01T16:04:42.461Z"
   },
   {
    "duration": 3,
    "start_time": "2023-05-01T16:04:44.147Z"
   },
   {
    "duration": 17,
    "start_time": "2023-05-01T16:04:44.152Z"
   },
   {
    "duration": 27,
    "start_time": "2023-05-01T16:04:44.172Z"
   },
   {
    "duration": 23,
    "start_time": "2023-05-01T16:04:44.201Z"
   },
   {
    "duration": 7,
    "start_time": "2023-05-01T16:04:44.226Z"
   },
   {
    "duration": 144,
    "start_time": "2023-05-01T16:04:44.236Z"
   },
   {
    "duration": 0,
    "start_time": "2023-05-01T16:04:44.382Z"
   },
   {
    "duration": 0,
    "start_time": "2023-05-01T16:04:44.383Z"
   },
   {
    "duration": 0,
    "start_time": "2023-05-01T16:04:44.391Z"
   },
   {
    "duration": 0,
    "start_time": "2023-05-01T16:04:44.392Z"
   },
   {
    "duration": 0,
    "start_time": "2023-05-01T16:04:44.394Z"
   },
   {
    "duration": 0,
    "start_time": "2023-05-01T16:04:44.395Z"
   },
   {
    "duration": 0,
    "start_time": "2023-05-01T16:04:44.396Z"
   },
   {
    "duration": 0,
    "start_time": "2023-05-01T16:04:44.397Z"
   },
   {
    "duration": 0,
    "start_time": "2023-05-01T16:04:44.398Z"
   },
   {
    "duration": 0,
    "start_time": "2023-05-01T16:04:44.399Z"
   },
   {
    "duration": 0,
    "start_time": "2023-05-01T16:04:44.400Z"
   },
   {
    "duration": 0,
    "start_time": "2023-05-01T16:04:44.401Z"
   },
   {
    "duration": 0,
    "start_time": "2023-05-01T16:04:44.402Z"
   },
   {
    "duration": 5,
    "start_time": "2023-05-01T16:04:53.132Z"
   },
   {
    "duration": 3,
    "start_time": "2023-05-01T16:04:56.751Z"
   },
   {
    "duration": 27,
    "start_time": "2023-05-01T16:04:56.757Z"
   },
   {
    "duration": 32,
    "start_time": "2023-05-01T16:04:56.785Z"
   },
   {
    "duration": 8,
    "start_time": "2023-05-01T16:04:56.819Z"
   },
   {
    "duration": 29,
    "start_time": "2023-05-01T16:04:56.829Z"
   },
   {
    "duration": 5,
    "start_time": "2023-05-01T16:04:56.860Z"
   },
   {
    "duration": 35,
    "start_time": "2023-05-01T16:04:56.867Z"
   },
   {
    "duration": 5,
    "start_time": "2023-05-01T16:04:56.904Z"
   },
   {
    "duration": 85,
    "start_time": "2023-05-01T16:04:56.911Z"
   },
   {
    "duration": 505,
    "start_time": "2023-05-01T16:04:56.997Z"
   },
   {
    "duration": 4605,
    "start_time": "2023-05-01T16:04:57.506Z"
   },
   {
    "duration": 9,
    "start_time": "2023-05-01T16:05:02.113Z"
   },
   {
    "duration": 76,
    "start_time": "2023-05-01T16:05:02.125Z"
   },
   {
    "duration": 110,
    "start_time": "2023-05-01T16:05:02.204Z"
   },
   {
    "duration": 4564,
    "start_time": "2023-05-01T16:05:02.316Z"
   },
   {
    "duration": 687,
    "start_time": "2023-05-01T16:08:36.035Z"
   },
   {
    "duration": 29,
    "start_time": "2023-05-01T16:08:37.043Z"
   },
   {
    "duration": 1499,
    "start_time": "2023-05-01T16:08:50.282Z"
   },
   {
    "duration": 3,
    "start_time": "2023-05-01T16:08:51.783Z"
   },
   {
    "duration": 109,
    "start_time": "2023-05-01T16:08:51.791Z"
   },
   {
    "duration": 5,
    "start_time": "2023-05-01T16:08:51.901Z"
   },
   {
    "duration": 75,
    "start_time": "2023-05-01T16:08:51.908Z"
   },
   {
    "duration": 40,
    "start_time": "2023-05-01T16:08:51.984Z"
   },
   {
    "duration": 86,
    "start_time": "2023-05-01T16:08:52.026Z"
   },
   {
    "duration": 39,
    "start_time": "2023-05-01T16:08:52.114Z"
   },
   {
    "duration": 49,
    "start_time": "2023-05-01T16:08:52.155Z"
   },
   {
    "duration": 22,
    "start_time": "2023-05-01T16:08:52.206Z"
   },
   {
    "duration": 7,
    "start_time": "2023-05-01T16:08:52.230Z"
   },
   {
    "duration": 11,
    "start_time": "2023-05-01T16:08:52.239Z"
   },
   {
    "duration": 41,
    "start_time": "2023-05-01T16:08:52.253Z"
   },
   {
    "duration": 30,
    "start_time": "2023-05-01T16:08:52.297Z"
   },
   {
    "duration": 30,
    "start_time": "2023-05-01T16:08:52.329Z"
   },
   {
    "duration": 36,
    "start_time": "2023-05-01T16:08:52.362Z"
   },
   {
    "duration": 2,
    "start_time": "2023-05-01T16:08:52.400Z"
   },
   {
    "duration": 20,
    "start_time": "2023-05-01T16:08:52.404Z"
   },
   {
    "duration": 25,
    "start_time": "2023-05-01T16:08:52.426Z"
   },
   {
    "duration": 89,
    "start_time": "2023-05-01T16:08:52.453Z"
   },
   {
    "duration": 7,
    "start_time": "2023-05-01T16:08:52.543Z"
   },
   {
    "duration": 16,
    "start_time": "2023-05-01T16:08:52.552Z"
   },
   {
    "duration": 65,
    "start_time": "2023-05-01T16:08:52.569Z"
   },
   {
    "duration": 6,
    "start_time": "2023-05-01T16:08:52.636Z"
   },
   {
    "duration": 6,
    "start_time": "2023-05-01T16:08:52.644Z"
   },
   {
    "duration": 63,
    "start_time": "2023-05-01T16:08:52.652Z"
   },
   {
    "duration": 4,
    "start_time": "2023-05-01T16:08:52.717Z"
   },
   {
    "duration": 2726,
    "start_time": "2023-05-01T16:08:52.723Z"
   },
   {
    "duration": 3,
    "start_time": "2023-05-01T16:08:55.451Z"
   },
   {
    "duration": 21,
    "start_time": "2023-05-01T16:08:55.456Z"
   },
   {
    "duration": 10,
    "start_time": "2023-05-01T16:08:55.479Z"
   },
   {
    "duration": 15,
    "start_time": "2023-05-01T16:08:55.491Z"
   },
   {
    "duration": 11,
    "start_time": "2023-05-01T16:08:55.509Z"
   },
   {
    "duration": 20,
    "start_time": "2023-05-01T16:08:55.522Z"
   },
   {
    "duration": 34,
    "start_time": "2023-05-01T16:08:55.544Z"
   },
   {
    "duration": 17,
    "start_time": "2023-05-01T16:08:55.580Z"
   },
   {
    "duration": 39,
    "start_time": "2023-05-01T16:08:55.599Z"
   },
   {
    "duration": 8,
    "start_time": "2023-05-01T16:08:55.640Z"
   },
   {
    "duration": 25,
    "start_time": "2023-05-01T16:08:55.650Z"
   },
   {
    "duration": 18,
    "start_time": "2023-05-01T16:08:55.677Z"
   },
   {
    "duration": 96,
    "start_time": "2023-05-01T16:08:55.698Z"
   },
   {
    "duration": 474,
    "start_time": "2023-05-01T16:08:55.796Z"
   },
   {
    "duration": 4620,
    "start_time": "2023-05-01T16:08:56.272Z"
   },
   {
    "duration": 11,
    "start_time": "2023-05-01T16:09:00.894Z"
   },
   {
    "duration": 98,
    "start_time": "2023-05-01T16:09:00.907Z"
   },
   {
    "duration": 36,
    "start_time": "2023-05-01T16:09:01.093Z"
   },
   {
    "duration": 4607,
    "start_time": "2023-05-01T16:09:01.131Z"
   },
   {
    "duration": 1574,
    "start_time": "2023-05-01T16:11:24.453Z"
   },
   {
    "duration": 3,
    "start_time": "2023-05-01T16:11:26.029Z"
   },
   {
    "duration": 112,
    "start_time": "2023-05-01T16:11:26.034Z"
   },
   {
    "duration": 4,
    "start_time": "2023-05-01T16:11:26.148Z"
   },
   {
    "duration": 74,
    "start_time": "2023-05-01T16:11:26.155Z"
   },
   {
    "duration": 59,
    "start_time": "2023-05-01T16:11:26.232Z"
   },
   {
    "duration": 62,
    "start_time": "2023-05-01T16:11:26.293Z"
   },
   {
    "duration": 60,
    "start_time": "2023-05-01T16:11:26.357Z"
   },
   {
    "duration": 28,
    "start_time": "2023-05-01T16:11:26.419Z"
   },
   {
    "duration": 28,
    "start_time": "2023-05-01T16:11:26.449Z"
   },
   {
    "duration": 6,
    "start_time": "2023-05-01T16:11:26.491Z"
   },
   {
    "duration": 27,
    "start_time": "2023-05-01T16:11:26.499Z"
   },
   {
    "duration": 71,
    "start_time": "2023-05-01T16:11:26.528Z"
   },
   {
    "duration": 37,
    "start_time": "2023-05-01T16:11:26.603Z"
   },
   {
    "duration": 62,
    "start_time": "2023-05-01T16:11:26.642Z"
   },
   {
    "duration": 30,
    "start_time": "2023-05-01T16:11:26.705Z"
   },
   {
    "duration": 16,
    "start_time": "2023-05-01T16:11:26.737Z"
   },
   {
    "duration": 35,
    "start_time": "2023-05-01T16:11:26.755Z"
   },
   {
    "duration": 34,
    "start_time": "2023-05-01T16:11:26.792Z"
   },
   {
    "duration": 44,
    "start_time": "2023-05-01T16:11:26.828Z"
   },
   {
    "duration": 7,
    "start_time": "2023-05-01T16:11:26.873Z"
   },
   {
    "duration": 36,
    "start_time": "2023-05-01T16:11:26.882Z"
   },
   {
    "duration": 64,
    "start_time": "2023-05-01T16:11:26.920Z"
   },
   {
    "duration": 7,
    "start_time": "2023-05-01T16:11:26.985Z"
   },
   {
    "duration": 33,
    "start_time": "2023-05-01T16:11:26.994Z"
   },
   {
    "duration": 45,
    "start_time": "2023-05-01T16:11:27.028Z"
   },
   {
    "duration": 5,
    "start_time": "2023-05-01T16:11:27.075Z"
   },
   {
    "duration": 1827,
    "start_time": "2023-05-01T16:11:27.082Z"
   },
   {
    "duration": 3,
    "start_time": "2023-05-01T16:11:28.910Z"
   },
   {
    "duration": 32,
    "start_time": "2023-05-01T16:11:28.915Z"
   },
   {
    "duration": 31,
    "start_time": "2023-05-01T16:11:28.949Z"
   },
   {
    "duration": 47,
    "start_time": "2023-05-01T16:11:28.981Z"
   },
   {
    "duration": 26,
    "start_time": "2023-05-01T16:11:29.030Z"
   },
   {
    "duration": 36,
    "start_time": "2023-05-01T16:11:29.058Z"
   },
   {
    "duration": 44,
    "start_time": "2023-05-01T16:11:29.095Z"
   },
   {
    "duration": 8,
    "start_time": "2023-05-01T16:11:29.141Z"
   },
   {
    "duration": 48,
    "start_time": "2023-05-01T16:11:29.150Z"
   },
   {
    "duration": 27,
    "start_time": "2023-05-01T16:11:29.199Z"
   },
   {
    "duration": 40,
    "start_time": "2023-05-01T16:11:29.227Z"
   },
   {
    "duration": 19,
    "start_time": "2023-05-01T16:11:29.269Z"
   },
   {
    "duration": 113,
    "start_time": "2023-05-01T16:11:29.292Z"
   },
   {
    "duration": 559,
    "start_time": "2023-05-01T16:11:29.407Z"
   },
   {
    "duration": 4669,
    "start_time": "2023-05-01T16:11:29.967Z"
   },
   {
    "duration": 61,
    "start_time": "2023-05-01T16:11:34.637Z"
   },
   {
    "duration": 93,
    "start_time": "2023-05-01T16:11:34.700Z"
   },
   {
    "duration": 34,
    "start_time": "2023-05-01T16:11:34.795Z"
   },
   {
    "duration": 4792,
    "start_time": "2023-05-01T16:11:34.830Z"
   },
   {
    "duration": 4,
    "start_time": "2023-05-01T16:12:13.087Z"
   },
   {
    "duration": 3,
    "start_time": "2023-05-01T16:12:16.778Z"
   },
   {
    "duration": 131,
    "start_time": "2023-05-01T16:12:16.786Z"
   },
   {
    "duration": 0,
    "start_time": "2023-05-01T16:12:16.919Z"
   },
   {
    "duration": 0,
    "start_time": "2023-05-01T16:12:16.920Z"
   },
   {
    "duration": 0,
    "start_time": "2023-05-01T16:12:16.921Z"
   },
   {
    "duration": 0,
    "start_time": "2023-05-01T16:12:16.922Z"
   },
   {
    "duration": 0,
    "start_time": "2023-05-01T16:12:16.923Z"
   },
   {
    "duration": 0,
    "start_time": "2023-05-01T16:12:16.924Z"
   },
   {
    "duration": 0,
    "start_time": "2023-05-01T16:12:16.925Z"
   },
   {
    "duration": 0,
    "start_time": "2023-05-01T16:12:16.926Z"
   },
   {
    "duration": 0,
    "start_time": "2023-05-01T16:12:16.927Z"
   },
   {
    "duration": 0,
    "start_time": "2023-05-01T16:12:16.928Z"
   },
   {
    "duration": 0,
    "start_time": "2023-05-01T16:12:16.929Z"
   },
   {
    "duration": 0,
    "start_time": "2023-05-01T16:12:16.930Z"
   },
   {
    "duration": 0,
    "start_time": "2023-05-01T16:12:16.931Z"
   },
   {
    "duration": 1477,
    "start_time": "2023-05-01T16:12:50.534Z"
   },
   {
    "duration": 4,
    "start_time": "2023-05-01T16:12:52.013Z"
   },
   {
    "duration": 160,
    "start_time": "2023-05-01T16:12:52.018Z"
   },
   {
    "duration": 4,
    "start_time": "2023-05-01T16:12:52.180Z"
   },
   {
    "duration": 96,
    "start_time": "2023-05-01T16:12:52.186Z"
   },
   {
    "duration": 49,
    "start_time": "2023-05-01T16:12:52.284Z"
   },
   {
    "duration": 86,
    "start_time": "2023-05-01T16:12:52.335Z"
   },
   {
    "duration": 43,
    "start_time": "2023-05-01T16:12:52.423Z"
   },
   {
    "duration": 38,
    "start_time": "2023-05-01T16:12:52.469Z"
   },
   {
    "duration": 27,
    "start_time": "2023-05-01T16:12:52.509Z"
   },
   {
    "duration": 7,
    "start_time": "2023-05-01T16:12:52.537Z"
   },
   {
    "duration": 13,
    "start_time": "2023-05-01T16:12:52.545Z"
   },
   {
    "duration": 33,
    "start_time": "2023-05-01T16:12:52.560Z"
   },
   {
    "duration": 21,
    "start_time": "2023-05-01T16:12:52.596Z"
   },
   {
    "duration": 36,
    "start_time": "2023-05-01T16:12:52.619Z"
   },
   {
    "duration": 44,
    "start_time": "2023-05-01T16:12:52.658Z"
   },
   {
    "duration": 3,
    "start_time": "2023-05-01T16:12:52.705Z"
   },
   {
    "duration": 31,
    "start_time": "2023-05-01T16:12:52.710Z"
   },
   {
    "duration": 22,
    "start_time": "2023-05-01T16:12:52.742Z"
   },
   {
    "duration": 68,
    "start_time": "2023-05-01T16:12:52.765Z"
   },
   {
    "duration": 10,
    "start_time": "2023-05-01T16:12:52.836Z"
   },
   {
    "duration": 34,
    "start_time": "2023-05-01T16:12:52.848Z"
   },
   {
    "duration": 51,
    "start_time": "2023-05-01T16:12:52.884Z"
   },
   {
    "duration": 7,
    "start_time": "2023-05-01T16:12:52.937Z"
   },
   {
    "duration": 24,
    "start_time": "2023-05-01T16:12:52.946Z"
   },
   {
    "duration": 42,
    "start_time": "2023-05-01T16:12:52.972Z"
   },
   {
    "duration": 5,
    "start_time": "2023-05-01T16:12:53.016Z"
   },
   {
    "duration": 1871,
    "start_time": "2023-05-01T16:12:53.022Z"
   },
   {
    "duration": 3,
    "start_time": "2023-05-01T16:12:54.895Z"
   },
   {
    "duration": 23,
    "start_time": "2023-05-01T16:12:54.900Z"
   },
   {
    "duration": 8,
    "start_time": "2023-05-01T16:12:54.925Z"
   },
   {
    "duration": 12,
    "start_time": "2023-05-01T16:12:54.935Z"
   },
   {
    "duration": 6,
    "start_time": "2023-05-01T16:12:54.948Z"
   },
   {
    "duration": 21,
    "start_time": "2023-05-01T16:12:54.956Z"
   },
   {
    "duration": 45,
    "start_time": "2023-05-01T16:12:54.979Z"
   },
   {
    "duration": 9,
    "start_time": "2023-05-01T16:12:55.026Z"
   },
   {
    "duration": 38,
    "start_time": "2023-05-01T16:12:55.037Z"
   },
   {
    "duration": 5,
    "start_time": "2023-05-01T16:12:55.092Z"
   },
   {
    "duration": 29,
    "start_time": "2023-05-01T16:12:55.099Z"
   },
   {
    "duration": 14,
    "start_time": "2023-05-01T16:12:55.130Z"
   },
   {
    "duration": 52,
    "start_time": "2023-05-01T16:12:55.149Z"
   },
   {
    "duration": 608,
    "start_time": "2023-05-01T16:12:55.203Z"
   },
   {
    "duration": 4627,
    "start_time": "2023-05-01T16:12:55.813Z"
   },
   {
    "duration": 56,
    "start_time": "2023-05-01T16:13:00.442Z"
   },
   {
    "duration": 96,
    "start_time": "2023-05-01T16:13:00.500Z"
   },
   {
    "duration": 39,
    "start_time": "2023-05-01T16:13:00.598Z"
   },
   {
    "duration": 4674,
    "start_time": "2023-05-01T16:13:00.639Z"
   },
   {
    "duration": 8,
    "start_time": "2023-05-01T16:16:12.685Z"
   },
   {
    "duration": 1454,
    "start_time": "2023-05-01T16:16:35.170Z"
   },
   {
    "duration": 3,
    "start_time": "2023-05-01T16:16:36.626Z"
   },
   {
    "duration": 109,
    "start_time": "2023-05-01T16:16:36.631Z"
   },
   {
    "duration": 4,
    "start_time": "2023-05-01T16:16:36.742Z"
   },
   {
    "duration": 61,
    "start_time": "2023-05-01T16:16:36.747Z"
   },
   {
    "duration": 39,
    "start_time": "2023-05-01T16:16:36.809Z"
   },
   {
    "duration": 78,
    "start_time": "2023-05-01T16:16:36.850Z"
   },
   {
    "duration": 38,
    "start_time": "2023-05-01T16:16:36.930Z"
   },
   {
    "duration": 46,
    "start_time": "2023-05-01T16:16:36.970Z"
   },
   {
    "duration": 22,
    "start_time": "2023-05-01T16:16:37.020Z"
   },
   {
    "duration": 6,
    "start_time": "2023-05-01T16:16:37.044Z"
   },
   {
    "duration": 6,
    "start_time": "2023-05-01T16:16:37.052Z"
   },
   {
    "duration": 48,
    "start_time": "2023-05-01T16:16:37.059Z"
   },
   {
    "duration": 21,
    "start_time": "2023-05-01T16:16:37.109Z"
   },
   {
    "duration": 27,
    "start_time": "2023-05-01T16:16:37.132Z"
   },
   {
    "duration": 49,
    "start_time": "2023-05-01T16:16:37.160Z"
   },
   {
    "duration": 3,
    "start_time": "2023-05-01T16:16:37.211Z"
   },
   {
    "duration": 32,
    "start_time": "2023-05-01T16:16:37.216Z"
   },
   {
    "duration": 44,
    "start_time": "2023-05-01T16:16:37.250Z"
   },
   {
    "duration": 79,
    "start_time": "2023-05-01T16:16:37.296Z"
   },
   {
    "duration": 12,
    "start_time": "2023-05-01T16:16:37.391Z"
   },
   {
    "duration": 21,
    "start_time": "2023-05-01T16:16:37.406Z"
   },
   {
    "duration": 89,
    "start_time": "2023-05-01T16:16:37.429Z"
   },
   {
    "duration": 9,
    "start_time": "2023-05-01T16:16:37.520Z"
   },
   {
    "duration": 7,
    "start_time": "2023-05-01T16:16:37.532Z"
   },
   {
    "duration": 69,
    "start_time": "2023-05-01T16:16:37.541Z"
   },
   {
    "duration": 12,
    "start_time": "2023-05-01T16:16:37.612Z"
   },
   {
    "duration": 7,
    "start_time": "2023-05-01T16:16:37.631Z"
   },
   {
    "duration": 1827,
    "start_time": "2023-05-01T16:16:37.640Z"
   },
   {
    "duration": 3,
    "start_time": "2023-05-01T16:16:39.469Z"
   },
   {
    "duration": 21,
    "start_time": "2023-05-01T16:16:39.473Z"
   },
   {
    "duration": 9,
    "start_time": "2023-05-01T16:16:39.496Z"
   },
   {
    "duration": 11,
    "start_time": "2023-05-01T16:16:39.507Z"
   },
   {
    "duration": 6,
    "start_time": "2023-05-01T16:16:39.520Z"
   },
   {
    "duration": 23,
    "start_time": "2023-05-01T16:16:39.527Z"
   },
   {
    "duration": 194,
    "start_time": "2023-05-01T16:16:39.552Z"
   },
   {
    "duration": 0,
    "start_time": "2023-05-01T16:16:39.748Z"
   },
   {
    "duration": 0,
    "start_time": "2023-05-01T16:16:39.749Z"
   },
   {
    "duration": 0,
    "start_time": "2023-05-01T16:16:39.750Z"
   },
   {
    "duration": 0,
    "start_time": "2023-05-01T16:16:39.751Z"
   },
   {
    "duration": 0,
    "start_time": "2023-05-01T16:16:39.752Z"
   },
   {
    "duration": 0,
    "start_time": "2023-05-01T16:16:39.753Z"
   },
   {
    "duration": 0,
    "start_time": "2023-05-01T16:16:39.754Z"
   },
   {
    "duration": 0,
    "start_time": "2023-05-01T16:16:39.755Z"
   },
   {
    "duration": 0,
    "start_time": "2023-05-01T16:16:39.756Z"
   },
   {
    "duration": 0,
    "start_time": "2023-05-01T16:16:39.757Z"
   },
   {
    "duration": 0,
    "start_time": "2023-05-01T16:16:39.758Z"
   },
   {
    "duration": 0,
    "start_time": "2023-05-01T16:16:39.759Z"
   },
   {
    "duration": 27,
    "start_time": "2023-05-01T16:17:02.373Z"
   },
   {
    "duration": 26,
    "start_time": "2023-05-01T16:17:12.930Z"
   },
   {
    "duration": 1420,
    "start_time": "2023-05-01T16:17:49.794Z"
   },
   {
    "duration": 4,
    "start_time": "2023-05-01T16:17:51.216Z"
   },
   {
    "duration": 126,
    "start_time": "2023-05-01T16:17:51.222Z"
   },
   {
    "duration": 6,
    "start_time": "2023-05-01T16:17:51.350Z"
   },
   {
    "duration": 58,
    "start_time": "2023-05-01T16:17:51.358Z"
   },
   {
    "duration": 41,
    "start_time": "2023-05-01T16:17:51.418Z"
   },
   {
    "duration": 79,
    "start_time": "2023-05-01T16:17:51.460Z"
   },
   {
    "duration": 56,
    "start_time": "2023-05-01T16:17:51.541Z"
   },
   {
    "duration": 23,
    "start_time": "2023-05-01T16:17:51.599Z"
   },
   {
    "duration": 20,
    "start_time": "2023-05-01T16:17:51.624Z"
   },
   {
    "duration": 14,
    "start_time": "2023-05-01T16:17:51.647Z"
   },
   {
    "duration": 21,
    "start_time": "2023-05-01T16:17:51.663Z"
   },
   {
    "duration": 23,
    "start_time": "2023-05-01T16:17:51.686Z"
   },
   {
    "duration": 26,
    "start_time": "2023-05-01T16:17:51.712Z"
   },
   {
    "duration": 26,
    "start_time": "2023-05-01T16:17:51.740Z"
   },
   {
    "duration": 37,
    "start_time": "2023-05-01T16:17:51.768Z"
   },
   {
    "duration": 3,
    "start_time": "2023-05-01T16:17:51.808Z"
   },
   {
    "duration": 38,
    "start_time": "2023-05-01T16:17:51.813Z"
   },
   {
    "duration": 21,
    "start_time": "2023-05-01T16:17:51.852Z"
   },
   {
    "duration": 58,
    "start_time": "2023-05-01T16:17:51.875Z"
   },
   {
    "duration": 8,
    "start_time": "2023-05-01T16:17:51.934Z"
   },
   {
    "duration": 30,
    "start_time": "2023-05-01T16:17:51.944Z"
   },
   {
    "duration": 54,
    "start_time": "2023-05-01T16:17:51.976Z"
   },
   {
    "duration": 6,
    "start_time": "2023-05-01T16:17:52.033Z"
   },
   {
    "duration": 9,
    "start_time": "2023-05-01T16:17:52.041Z"
   },
   {
    "duration": 46,
    "start_time": "2023-05-01T16:17:52.051Z"
   },
   {
    "duration": 33,
    "start_time": "2023-05-01T16:17:52.099Z"
   },
   {
    "duration": 5,
    "start_time": "2023-05-01T16:17:52.134Z"
   },
   {
    "duration": 1753,
    "start_time": "2023-05-01T16:17:52.140Z"
   },
   {
    "duration": 3,
    "start_time": "2023-05-01T16:17:53.895Z"
   },
   {
    "duration": 12,
    "start_time": "2023-05-01T16:17:53.900Z"
   },
   {
    "duration": 10,
    "start_time": "2023-05-01T16:17:53.914Z"
   },
   {
    "duration": 5,
    "start_time": "2023-05-01T16:17:53.925Z"
   },
   {
    "duration": 4,
    "start_time": "2023-05-01T16:17:53.932Z"
   },
   {
    "duration": 54,
    "start_time": "2023-05-01T16:17:53.938Z"
   },
   {
    "duration": 189,
    "start_time": "2023-05-01T16:17:53.994Z"
   },
   {
    "duration": 0,
    "start_time": "2023-05-01T16:17:54.185Z"
   },
   {
    "duration": 0,
    "start_time": "2023-05-01T16:17:54.192Z"
   },
   {
    "duration": 0,
    "start_time": "2023-05-01T16:17:54.193Z"
   },
   {
    "duration": 0,
    "start_time": "2023-05-01T16:17:54.194Z"
   },
   {
    "duration": 0,
    "start_time": "2023-05-01T16:17:54.195Z"
   },
   {
    "duration": 0,
    "start_time": "2023-05-01T16:17:54.197Z"
   },
   {
    "duration": 0,
    "start_time": "2023-05-01T16:17:54.198Z"
   },
   {
    "duration": 0,
    "start_time": "2023-05-01T16:17:54.199Z"
   },
   {
    "duration": 0,
    "start_time": "2023-05-01T16:17:54.200Z"
   },
   {
    "duration": 0,
    "start_time": "2023-05-01T16:17:54.202Z"
   },
   {
    "duration": 0,
    "start_time": "2023-05-01T16:17:54.203Z"
   },
   {
    "duration": 0,
    "start_time": "2023-05-01T16:17:54.204Z"
   },
   {
    "duration": 4,
    "start_time": "2023-05-01T16:18:46.124Z"
   },
   {
    "duration": 3,
    "start_time": "2023-05-01T16:18:50.721Z"
   },
   {
    "duration": 19,
    "start_time": "2023-05-01T16:18:50.734Z"
   },
   {
    "duration": 33,
    "start_time": "2023-05-01T16:18:50.754Z"
   },
   {
    "duration": 7,
    "start_time": "2023-05-01T16:18:50.789Z"
   },
   {
    "duration": 34,
    "start_time": "2023-05-01T16:18:50.798Z"
   },
   {
    "duration": 5,
    "start_time": "2023-05-01T16:18:50.835Z"
   },
   {
    "duration": 19,
    "start_time": "2023-05-01T16:18:50.842Z"
   },
   {
    "duration": 7,
    "start_time": "2023-05-01T16:18:50.864Z"
   },
   {
    "duration": 203,
    "start_time": "2023-05-01T16:18:50.892Z"
   },
   {
    "duration": 526,
    "start_time": "2023-05-01T16:18:51.098Z"
   },
   {
    "duration": 4695,
    "start_time": "2023-05-01T16:18:51.626Z"
   },
   {
    "duration": 11,
    "start_time": "2023-05-01T16:18:56.323Z"
   },
   {
    "duration": 9,
    "start_time": "2023-05-01T16:18:56.394Z"
   },
   {
    "duration": 115,
    "start_time": "2023-05-01T16:18:56.406Z"
   },
   {
    "duration": 4641,
    "start_time": "2023-05-01T16:18:56.523Z"
   },
   {
    "duration": 23,
    "start_time": "2023-05-01T16:21:55.558Z"
   },
   {
    "duration": 19,
    "start_time": "2023-05-01T16:21:57.931Z"
   },
   {
    "duration": 1528,
    "start_time": "2023-05-01T16:22:16.491Z"
   },
   {
    "duration": 3,
    "start_time": "2023-05-01T16:22:18.021Z"
   },
   {
    "duration": 111,
    "start_time": "2023-05-01T16:22:18.026Z"
   },
   {
    "duration": 4,
    "start_time": "2023-05-01T16:22:18.139Z"
   },
   {
    "duration": 61,
    "start_time": "2023-05-01T16:22:18.144Z"
   },
   {
    "duration": 41,
    "start_time": "2023-05-01T16:22:18.207Z"
   },
   {
    "duration": 84,
    "start_time": "2023-05-01T16:22:18.250Z"
   },
   {
    "duration": 57,
    "start_time": "2023-05-01T16:22:18.336Z"
   },
   {
    "duration": 20,
    "start_time": "2023-05-01T16:22:18.395Z"
   },
   {
    "duration": 22,
    "start_time": "2023-05-01T16:22:18.417Z"
   },
   {
    "duration": 7,
    "start_time": "2023-05-01T16:22:18.441Z"
   },
   {
    "duration": 13,
    "start_time": "2023-05-01T16:22:18.450Z"
   },
   {
    "duration": 40,
    "start_time": "2023-05-01T16:22:18.465Z"
   },
   {
    "duration": 19,
    "start_time": "2023-05-01T16:22:18.507Z"
   },
   {
    "duration": 26,
    "start_time": "2023-05-01T16:22:18.528Z"
   },
   {
    "duration": 42,
    "start_time": "2023-05-01T16:22:18.556Z"
   },
   {
    "duration": 3,
    "start_time": "2023-05-01T16:22:18.599Z"
   },
   {
    "duration": 20,
    "start_time": "2023-05-01T16:22:18.604Z"
   },
   {
    "duration": 23,
    "start_time": "2023-05-01T16:22:18.626Z"
   },
   {
    "duration": 82,
    "start_time": "2023-05-01T16:22:18.651Z"
   },
   {
    "duration": 8,
    "start_time": "2023-05-01T16:22:18.735Z"
   },
   {
    "duration": 14,
    "start_time": "2023-05-01T16:22:18.745Z"
   },
   {
    "duration": 72,
    "start_time": "2023-05-01T16:22:18.761Z"
   },
   {
    "duration": 8,
    "start_time": "2023-05-01T16:22:18.835Z"
   },
   {
    "duration": 7,
    "start_time": "2023-05-01T16:22:18.845Z"
   },
   {
    "duration": 56,
    "start_time": "2023-05-01T16:22:18.853Z"
   },
   {
    "duration": 38,
    "start_time": "2023-05-01T16:22:18.910Z"
   },
   {
    "duration": 6,
    "start_time": "2023-05-01T16:22:18.951Z"
   },
   {
    "duration": 1702,
    "start_time": "2023-05-01T16:22:18.959Z"
   },
   {
    "duration": 3,
    "start_time": "2023-05-01T16:22:20.663Z"
   },
   {
    "duration": 24,
    "start_time": "2023-05-01T16:22:20.668Z"
   },
   {
    "duration": 9,
    "start_time": "2023-05-01T16:22:20.694Z"
   },
   {
    "duration": 11,
    "start_time": "2023-05-01T16:22:20.705Z"
   },
   {
    "duration": 14,
    "start_time": "2023-05-01T16:22:20.718Z"
   },
   {
    "duration": 31,
    "start_time": "2023-05-01T16:22:20.734Z"
   },
   {
    "duration": 188,
    "start_time": "2023-05-01T16:22:20.767Z"
   },
   {
    "duration": 0,
    "start_time": "2023-05-01T16:22:20.957Z"
   },
   {
    "duration": 0,
    "start_time": "2023-05-01T16:22:20.959Z"
   },
   {
    "duration": 0,
    "start_time": "2023-05-01T16:22:20.960Z"
   },
   {
    "duration": 0,
    "start_time": "2023-05-01T16:22:20.962Z"
   },
   {
    "duration": 0,
    "start_time": "2023-05-01T16:22:20.964Z"
   },
   {
    "duration": 0,
    "start_time": "2023-05-01T16:22:20.965Z"
   },
   {
    "duration": 0,
    "start_time": "2023-05-01T16:22:20.967Z"
   },
   {
    "duration": 0,
    "start_time": "2023-05-01T16:22:20.968Z"
   },
   {
    "duration": 0,
    "start_time": "2023-05-01T16:22:20.970Z"
   },
   {
    "duration": 0,
    "start_time": "2023-05-01T16:22:20.992Z"
   },
   {
    "duration": 0,
    "start_time": "2023-05-01T16:22:20.994Z"
   },
   {
    "duration": 0,
    "start_time": "2023-05-01T16:22:20.996Z"
   },
   {
    "duration": 1497,
    "start_time": "2023-05-01T16:24:17.543Z"
   },
   {
    "duration": 3,
    "start_time": "2023-05-01T16:24:19.042Z"
   },
   {
    "duration": 108,
    "start_time": "2023-05-01T16:24:19.047Z"
   },
   {
    "duration": 5,
    "start_time": "2023-05-01T16:24:19.157Z"
   },
   {
    "duration": 58,
    "start_time": "2023-05-01T16:24:19.163Z"
   },
   {
    "duration": 38,
    "start_time": "2023-05-01T16:24:19.222Z"
   },
   {
    "duration": 72,
    "start_time": "2023-05-01T16:24:19.262Z"
   },
   {
    "duration": 56,
    "start_time": "2023-05-01T16:24:19.336Z"
   },
   {
    "duration": 18,
    "start_time": "2023-05-01T16:24:19.394Z"
   },
   {
    "duration": 15,
    "start_time": "2023-05-01T16:24:19.415Z"
   },
   {
    "duration": 5,
    "start_time": "2023-05-01T16:24:19.431Z"
   },
   {
    "duration": 3,
    "start_time": "2023-05-01T16:24:19.438Z"
   },
   {
    "duration": 18,
    "start_time": "2023-05-01T16:24:19.443Z"
   },
   {
    "duration": 47,
    "start_time": "2023-05-01T16:24:19.462Z"
   },
   {
    "duration": 24,
    "start_time": "2023-05-01T16:24:19.510Z"
   },
   {
    "duration": 17,
    "start_time": "2023-05-01T16:24:19.536Z"
   },
   {
    "duration": 3,
    "start_time": "2023-05-01T16:24:19.554Z"
   },
   {
    "duration": 52,
    "start_time": "2023-05-01T16:24:19.558Z"
   },
   {
    "duration": 25,
    "start_time": "2023-05-01T16:24:19.612Z"
   },
   {
    "duration": 61,
    "start_time": "2023-05-01T16:24:19.639Z"
   },
   {
    "duration": 9,
    "start_time": "2023-05-01T16:24:19.702Z"
   },
   {
    "duration": 23,
    "start_time": "2023-05-01T16:24:19.712Z"
   },
   {
    "duration": 64,
    "start_time": "2023-05-01T16:24:19.737Z"
   },
   {
    "duration": 6,
    "start_time": "2023-05-01T16:24:19.803Z"
   },
   {
    "duration": 15,
    "start_time": "2023-05-01T16:24:19.811Z"
   },
   {
    "duration": 27,
    "start_time": "2023-05-01T16:24:19.827Z"
   },
   {
    "duration": 47,
    "start_time": "2023-05-01T16:24:19.856Z"
   },
   {
    "duration": 5,
    "start_time": "2023-05-01T16:24:19.906Z"
   },
   {
    "duration": 1656,
    "start_time": "2023-05-01T16:24:19.913Z"
   },
   {
    "duration": 3,
    "start_time": "2023-05-01T16:24:21.570Z"
   },
   {
    "duration": 11,
    "start_time": "2023-05-01T16:24:21.574Z"
   },
   {
    "duration": 7,
    "start_time": "2023-05-01T16:24:21.587Z"
   },
   {
    "duration": 22,
    "start_time": "2023-05-01T16:24:21.596Z"
   },
   {
    "duration": 4,
    "start_time": "2023-05-01T16:24:21.620Z"
   },
   {
    "duration": 26,
    "start_time": "2023-05-01T16:24:21.626Z"
   },
   {
    "duration": 33,
    "start_time": "2023-05-01T16:24:21.654Z"
   },
   {
    "duration": 8,
    "start_time": "2023-05-01T16:24:21.689Z"
   },
   {
    "duration": 40,
    "start_time": "2023-05-01T16:24:21.698Z"
   },
   {
    "duration": 4,
    "start_time": "2023-05-01T16:24:21.740Z"
   },
   {
    "duration": 13,
    "start_time": "2023-05-01T16:24:21.745Z"
   },
   {
    "duration": 4,
    "start_time": "2023-05-01T16:24:21.760Z"
   },
   {
    "duration": 126,
    "start_time": "2023-05-01T16:24:21.766Z"
   },
   {
    "duration": 521,
    "start_time": "2023-05-01T16:24:21.893Z"
   },
   {
    "duration": 4732,
    "start_time": "2023-05-01T16:24:22.416Z"
   },
   {
    "duration": 47,
    "start_time": "2023-05-01T16:24:27.149Z"
   },
   {
    "duration": 94,
    "start_time": "2023-05-01T16:24:27.198Z"
   },
   {
    "duration": 55,
    "start_time": "2023-05-01T16:24:27.294Z"
   },
   {
    "duration": 4731,
    "start_time": "2023-05-01T16:24:27.351Z"
   },
   {
    "duration": 121,
    "start_time": "2023-05-01T16:24:50.189Z"
   },
   {
    "duration": 1488,
    "start_time": "2023-05-01T16:25:01.544Z"
   },
   {
    "duration": 3,
    "start_time": "2023-05-01T16:25:03.034Z"
   },
   {
    "duration": 120,
    "start_time": "2023-05-01T16:25:03.038Z"
   },
   {
    "duration": 4,
    "start_time": "2023-05-01T16:25:03.160Z"
   },
   {
    "duration": 59,
    "start_time": "2023-05-01T16:25:03.166Z"
   },
   {
    "duration": 37,
    "start_time": "2023-05-01T16:25:03.227Z"
   },
   {
    "duration": 72,
    "start_time": "2023-05-01T16:25:03.266Z"
   },
   {
    "duration": 57,
    "start_time": "2023-05-01T16:25:03.339Z"
   },
   {
    "duration": 19,
    "start_time": "2023-05-01T16:25:03.398Z"
   },
   {
    "duration": 16,
    "start_time": "2023-05-01T16:25:03.419Z"
   },
   {
    "duration": 5,
    "start_time": "2023-05-01T16:25:03.437Z"
   },
   {
    "duration": 6,
    "start_time": "2023-05-01T16:25:03.443Z"
   },
   {
    "duration": 43,
    "start_time": "2023-05-01T16:25:03.450Z"
   },
   {
    "duration": 20,
    "start_time": "2023-05-01T16:25:03.495Z"
   },
   {
    "duration": 22,
    "start_time": "2023-05-01T16:25:03.517Z"
   },
   {
    "duration": 17,
    "start_time": "2023-05-01T16:25:03.541Z"
   },
   {
    "duration": 33,
    "start_time": "2023-05-01T16:25:03.559Z"
   },
   {
    "duration": 18,
    "start_time": "2023-05-01T16:25:03.593Z"
   },
   {
    "duration": 19,
    "start_time": "2023-05-01T16:25:03.613Z"
   },
   {
    "duration": 68,
    "start_time": "2023-05-01T16:25:03.634Z"
   },
   {
    "duration": 8,
    "start_time": "2023-05-01T16:25:03.703Z"
   },
   {
    "duration": 15,
    "start_time": "2023-05-01T16:25:03.712Z"
   },
   {
    "duration": 64,
    "start_time": "2023-05-01T16:25:03.729Z"
   },
   {
    "duration": 7,
    "start_time": "2023-05-01T16:25:03.794Z"
   },
   {
    "duration": 5,
    "start_time": "2023-05-01T16:25:03.803Z"
   },
   {
    "duration": 33,
    "start_time": "2023-05-01T16:25:03.810Z"
   },
   {
    "duration": 53,
    "start_time": "2023-05-01T16:25:03.845Z"
   },
   {
    "duration": 5,
    "start_time": "2023-05-01T16:25:03.901Z"
   },
   {
    "duration": 1666,
    "start_time": "2023-05-01T16:25:03.907Z"
   },
   {
    "duration": 3,
    "start_time": "2023-05-01T16:25:05.574Z"
   },
   {
    "duration": 15,
    "start_time": "2023-05-01T16:25:05.578Z"
   },
   {
    "duration": 10,
    "start_time": "2023-05-01T16:25:05.595Z"
   },
   {
    "duration": 8,
    "start_time": "2023-05-01T16:25:05.607Z"
   },
   {
    "duration": 4,
    "start_time": "2023-05-01T16:25:05.617Z"
   },
   {
    "duration": 20,
    "start_time": "2023-05-01T16:25:05.623Z"
   },
   {
    "duration": 63,
    "start_time": "2023-05-01T16:25:05.645Z"
   },
   {
    "duration": 8,
    "start_time": "2023-05-01T16:25:05.709Z"
   },
   {
    "duration": 31,
    "start_time": "2023-05-01T16:25:05.718Z"
   },
   {
    "duration": 3,
    "start_time": "2023-05-01T16:25:05.751Z"
   },
   {
    "duration": 36,
    "start_time": "2023-05-01T16:25:05.756Z"
   },
   {
    "duration": 5,
    "start_time": "2023-05-01T16:25:05.794Z"
   },
   {
    "duration": 93,
    "start_time": "2023-05-01T16:25:05.800Z"
   },
   {
    "duration": 512,
    "start_time": "2023-05-01T16:25:05.894Z"
   },
   {
    "duration": 4796,
    "start_time": "2023-05-01T16:25:06.408Z"
   },
   {
    "duration": 8,
    "start_time": "2023-05-01T16:25:11.206Z"
   },
   {
    "duration": 78,
    "start_time": "2023-05-01T16:25:11.215Z"
   },
   {
    "duration": 115,
    "start_time": "2023-05-01T16:25:11.295Z"
   },
   {
    "duration": 4896,
    "start_time": "2023-05-01T16:25:11.411Z"
   },
   {
    "duration": 43,
    "start_time": "2023-05-01T16:26:14.588Z"
   },
   {
    "duration": 1452,
    "start_time": "2023-05-01T16:35:43.388Z"
   },
   {
    "duration": 3,
    "start_time": "2023-05-01T16:35:44.842Z"
   },
   {
    "duration": 117,
    "start_time": "2023-05-01T16:35:44.846Z"
   },
   {
    "duration": 4,
    "start_time": "2023-05-01T16:35:44.965Z"
   },
   {
    "duration": 59,
    "start_time": "2023-05-01T16:35:44.971Z"
   },
   {
    "duration": 38,
    "start_time": "2023-05-01T16:35:45.031Z"
   },
   {
    "duration": 72,
    "start_time": "2023-05-01T16:35:45.071Z"
   },
   {
    "duration": 49,
    "start_time": "2023-05-01T16:35:45.144Z"
   },
   {
    "duration": 17,
    "start_time": "2023-05-01T16:35:45.195Z"
   },
   {
    "duration": 15,
    "start_time": "2023-05-01T16:35:45.214Z"
   },
   {
    "duration": 4,
    "start_time": "2023-05-01T16:35:45.231Z"
   },
   {
    "duration": 22,
    "start_time": "2023-05-01T16:35:45.237Z"
   },
   {
    "duration": 33,
    "start_time": "2023-05-01T16:35:45.260Z"
   },
   {
    "duration": 18,
    "start_time": "2023-05-01T16:35:45.296Z"
   },
   {
    "duration": 24,
    "start_time": "2023-05-01T16:35:45.316Z"
   },
   {
    "duration": 16,
    "start_time": "2023-05-01T16:35:45.342Z"
   },
   {
    "duration": 2,
    "start_time": "2023-05-01T16:35:45.360Z"
   },
   {
    "duration": 45,
    "start_time": "2023-05-01T16:35:45.363Z"
   },
   {
    "duration": 19,
    "start_time": "2023-05-01T16:35:45.410Z"
   },
   {
    "duration": 2,
    "start_time": "2023-05-01T16:35:45.430Z"
   },
   {
    "duration": 5,
    "start_time": "2023-05-01T16:35:45.433Z"
   },
   {
    "duration": 17,
    "start_time": "2023-05-01T16:35:45.439Z"
   },
   {
    "duration": 50,
    "start_time": "2023-05-01T16:35:45.457Z"
   },
   {
    "duration": 6,
    "start_time": "2023-05-01T16:35:45.509Z"
   },
   {
    "duration": 6,
    "start_time": "2023-05-01T16:35:45.516Z"
   },
   {
    "duration": 34,
    "start_time": "2023-05-01T16:35:45.523Z"
   },
   {
    "duration": 2,
    "start_time": "2023-05-01T16:35:45.559Z"
   },
   {
    "duration": 32,
    "start_time": "2023-05-01T16:35:45.563Z"
   },
   {
    "duration": 790,
    "start_time": "2023-05-01T16:35:45.597Z"
   },
   {
    "duration": 3,
    "start_time": "2023-05-01T16:35:46.389Z"
   },
   {
    "duration": 11,
    "start_time": "2023-05-01T16:35:46.394Z"
   },
   {
    "duration": 7,
    "start_time": "2023-05-01T16:35:46.406Z"
   },
   {
    "duration": 6,
    "start_time": "2023-05-01T16:35:46.415Z"
   },
   {
    "duration": 44,
    "start_time": "2023-05-01T16:35:46.422Z"
   },
   {
    "duration": 0,
    "start_time": "2023-05-01T16:35:46.468Z"
   },
   {
    "duration": 0,
    "start_time": "2023-05-01T16:35:46.469Z"
   },
   {
    "duration": 0,
    "start_time": "2023-05-01T16:35:46.470Z"
   },
   {
    "duration": 0,
    "start_time": "2023-05-01T16:35:46.471Z"
   },
   {
    "duration": 0,
    "start_time": "2023-05-01T16:35:46.473Z"
   },
   {
    "duration": 0,
    "start_time": "2023-05-01T16:35:46.474Z"
   },
   {
    "duration": 0,
    "start_time": "2023-05-01T16:35:46.475Z"
   },
   {
    "duration": 0,
    "start_time": "2023-05-01T16:35:46.477Z"
   },
   {
    "duration": 0,
    "start_time": "2023-05-01T16:35:46.478Z"
   },
   {
    "duration": 0,
    "start_time": "2023-05-01T16:35:46.479Z"
   },
   {
    "duration": 0,
    "start_time": "2023-05-01T16:35:46.492Z"
   },
   {
    "duration": 0,
    "start_time": "2023-05-01T16:35:46.493Z"
   },
   {
    "duration": 0,
    "start_time": "2023-05-01T16:35:46.495Z"
   },
   {
    "duration": 0,
    "start_time": "2023-05-01T16:35:46.496Z"
   },
   {
    "duration": 3,
    "start_time": "2023-05-01T16:36:07.188Z"
   },
   {
    "duration": 20,
    "start_time": "2023-05-01T16:36:07.193Z"
   },
   {
    "duration": 43,
    "start_time": "2023-05-01T16:36:07.215Z"
   },
   {
    "duration": 8,
    "start_time": "2023-05-01T16:36:07.260Z"
   },
   {
    "duration": 51,
    "start_time": "2023-05-01T16:36:07.270Z"
   },
   {
    "duration": 6,
    "start_time": "2023-05-01T16:36:07.323Z"
   },
   {
    "duration": 24,
    "start_time": "2023-05-01T16:36:07.331Z"
   },
   {
    "duration": 7,
    "start_time": "2023-05-01T16:36:07.357Z"
   },
   {
    "duration": 39,
    "start_time": "2023-05-01T16:36:07.391Z"
   },
   {
    "duration": 551,
    "start_time": "2023-05-01T16:36:07.495Z"
   },
   {
    "duration": 4646,
    "start_time": "2023-05-01T16:36:08.048Z"
   },
   {
    "duration": 10,
    "start_time": "2023-05-01T16:36:12.696Z"
   },
   {
    "duration": 89,
    "start_time": "2023-05-01T16:36:12.708Z"
   },
   {
    "duration": 112,
    "start_time": "2023-05-01T16:36:12.801Z"
   },
   {
    "duration": 4813,
    "start_time": "2023-05-01T16:36:12.915Z"
   },
   {
    "duration": 55,
    "start_time": "2023-05-01T16:37:17.412Z"
   },
   {
    "duration": 1457,
    "start_time": "2023-05-01T16:37:24.701Z"
   },
   {
    "duration": 3,
    "start_time": "2023-05-01T16:37:26.160Z"
   },
   {
    "duration": 118,
    "start_time": "2023-05-01T16:37:26.165Z"
   },
   {
    "duration": 4,
    "start_time": "2023-05-01T16:37:26.285Z"
   },
   {
    "duration": 63,
    "start_time": "2023-05-01T16:37:26.291Z"
   },
   {
    "duration": 56,
    "start_time": "2023-05-01T16:37:26.356Z"
   },
   {
    "duration": 61,
    "start_time": "2023-05-01T16:37:26.414Z"
   },
   {
    "duration": 53,
    "start_time": "2023-05-01T16:37:26.476Z"
   },
   {
    "duration": 19,
    "start_time": "2023-05-01T16:37:26.531Z"
   },
   {
    "duration": 45,
    "start_time": "2023-05-01T16:37:26.552Z"
   },
   {
    "duration": 5,
    "start_time": "2023-05-01T16:37:26.599Z"
   },
   {
    "duration": 3,
    "start_time": "2023-05-01T16:37:26.606Z"
   },
   {
    "duration": 20,
    "start_time": "2023-05-01T16:37:26.611Z"
   },
   {
    "duration": 27,
    "start_time": "2023-05-01T16:37:26.634Z"
   },
   {
    "duration": 25,
    "start_time": "2023-05-01T16:37:26.693Z"
   },
   {
    "duration": 19,
    "start_time": "2023-05-01T16:37:26.720Z"
   },
   {
    "duration": 2,
    "start_time": "2023-05-01T16:37:26.741Z"
   },
   {
    "duration": 19,
    "start_time": "2023-05-01T16:37:26.745Z"
   },
   {
    "duration": 21,
    "start_time": "2023-05-01T16:37:26.792Z"
   },
   {
    "duration": 3,
    "start_time": "2023-05-01T16:37:26.814Z"
   },
   {
    "duration": 6,
    "start_time": "2023-05-01T16:37:26.818Z"
   },
   {
    "duration": 17,
    "start_time": "2023-05-01T16:37:26.825Z"
   },
   {
    "duration": 32,
    "start_time": "2023-05-01T16:37:26.844Z"
   },
   {
    "duration": 7,
    "start_time": "2023-05-01T16:37:26.893Z"
   },
   {
    "duration": 6,
    "start_time": "2023-05-01T16:37:26.902Z"
   },
   {
    "duration": 43,
    "start_time": "2023-05-01T16:37:26.909Z"
   },
   {
    "duration": 2,
    "start_time": "2023-05-01T16:37:26.954Z"
   },
   {
    "duration": 54,
    "start_time": "2023-05-01T16:37:26.958Z"
   },
   {
    "duration": 0,
    "start_time": "2023-05-01T16:37:27.014Z"
   },
   {
    "duration": 0,
    "start_time": "2023-05-01T16:37:27.016Z"
   },
   {
    "duration": 0,
    "start_time": "2023-05-01T16:37:27.016Z"
   },
   {
    "duration": 0,
    "start_time": "2023-05-01T16:37:27.017Z"
   },
   {
    "duration": 0,
    "start_time": "2023-05-01T16:37:27.019Z"
   },
   {
    "duration": 0,
    "start_time": "2023-05-01T16:37:27.020Z"
   },
   {
    "duration": 0,
    "start_time": "2023-05-01T16:37:27.021Z"
   },
   {
    "duration": 0,
    "start_time": "2023-05-01T16:37:27.022Z"
   },
   {
    "duration": 0,
    "start_time": "2023-05-01T16:37:27.023Z"
   },
   {
    "duration": 0,
    "start_time": "2023-05-01T16:37:27.024Z"
   },
   {
    "duration": 0,
    "start_time": "2023-05-01T16:37:27.025Z"
   },
   {
    "duration": 0,
    "start_time": "2023-05-01T16:37:27.026Z"
   },
   {
    "duration": 0,
    "start_time": "2023-05-01T16:37:27.027Z"
   },
   {
    "duration": 0,
    "start_time": "2023-05-01T16:37:27.028Z"
   },
   {
    "duration": 0,
    "start_time": "2023-05-01T16:37:27.029Z"
   },
   {
    "duration": 0,
    "start_time": "2023-05-01T16:37:27.031Z"
   },
   {
    "duration": 0,
    "start_time": "2023-05-01T16:37:27.032Z"
   },
   {
    "duration": 0,
    "start_time": "2023-05-01T16:37:27.033Z"
   },
   {
    "duration": 0,
    "start_time": "2023-05-01T16:37:27.034Z"
   },
   {
    "duration": 0,
    "start_time": "2023-05-01T16:37:27.035Z"
   },
   {
    "duration": 4,
    "start_time": "2023-05-01T16:38:05.333Z"
   },
   {
    "duration": 701,
    "start_time": "2023-05-01T16:38:05.339Z"
   },
   {
    "duration": 2,
    "start_time": "2023-05-01T16:38:06.042Z"
   },
   {
    "duration": 14,
    "start_time": "2023-05-01T16:38:06.045Z"
   },
   {
    "duration": 6,
    "start_time": "2023-05-01T16:38:06.061Z"
   },
   {
    "duration": 6,
    "start_time": "2023-05-01T16:38:06.069Z"
   },
   {
    "duration": 4,
    "start_time": "2023-05-01T16:38:06.092Z"
   },
   {
    "duration": 25,
    "start_time": "2023-05-01T16:38:06.097Z"
   },
   {
    "duration": 42,
    "start_time": "2023-05-01T16:38:06.123Z"
   },
   {
    "duration": 26,
    "start_time": "2023-05-01T16:38:06.166Z"
   },
   {
    "duration": 34,
    "start_time": "2023-05-01T16:38:06.195Z"
   },
   {
    "duration": 5,
    "start_time": "2023-05-01T16:38:06.230Z"
   },
   {
    "duration": 23,
    "start_time": "2023-05-01T16:38:06.236Z"
   },
   {
    "duration": 4,
    "start_time": "2023-05-01T16:38:06.261Z"
   },
   {
    "duration": 130,
    "start_time": "2023-05-01T16:38:06.267Z"
   },
   {
    "duration": 512,
    "start_time": "2023-05-01T16:38:06.400Z"
   },
   {
    "duration": 4757,
    "start_time": "2023-05-01T16:38:06.914Z"
   },
   {
    "duration": 34,
    "start_time": "2023-05-01T16:38:11.672Z"
   },
   {
    "duration": 101,
    "start_time": "2023-05-01T16:38:11.793Z"
   },
   {
    "duration": 27,
    "start_time": "2023-05-01T16:38:11.896Z"
   },
   {
    "duration": 4740,
    "start_time": "2023-05-01T16:38:11.925Z"
   },
   {
    "duration": 1477,
    "start_time": "2023-05-01T16:38:50.458Z"
   },
   {
    "duration": 3,
    "start_time": "2023-05-01T16:38:51.937Z"
   },
   {
    "duration": 160,
    "start_time": "2023-05-01T16:38:51.942Z"
   },
   {
    "duration": 5,
    "start_time": "2023-05-01T16:38:52.104Z"
   },
   {
    "duration": 77,
    "start_time": "2023-05-01T16:38:52.111Z"
   },
   {
    "duration": 42,
    "start_time": "2023-05-01T16:38:52.190Z"
   },
   {
    "duration": 79,
    "start_time": "2023-05-01T16:38:52.233Z"
   },
   {
    "duration": 39,
    "start_time": "2023-05-01T16:38:52.314Z"
   },
   {
    "duration": 44,
    "start_time": "2023-05-01T16:38:52.355Z"
   },
   {
    "duration": 16,
    "start_time": "2023-05-01T16:38:52.401Z"
   },
   {
    "duration": 6,
    "start_time": "2023-05-01T16:38:52.419Z"
   },
   {
    "duration": 11,
    "start_time": "2023-05-01T16:38:52.427Z"
   },
   {
    "duration": 30,
    "start_time": "2023-05-01T16:38:52.440Z"
   },
   {
    "duration": 19,
    "start_time": "2023-05-01T16:38:52.491Z"
   },
   {
    "duration": 24,
    "start_time": "2023-05-01T16:38:52.513Z"
   },
   {
    "duration": 19,
    "start_time": "2023-05-01T16:38:52.539Z"
   },
   {
    "duration": 32,
    "start_time": "2023-05-01T16:38:52.560Z"
   },
   {
    "duration": 21,
    "start_time": "2023-05-01T16:38:52.593Z"
   },
   {
    "duration": 20,
    "start_time": "2023-05-01T16:38:52.616Z"
   },
   {
    "duration": 2,
    "start_time": "2023-05-01T16:38:52.638Z"
   },
   {
    "duration": 7,
    "start_time": "2023-05-01T16:38:52.641Z"
   },
   {
    "duration": 16,
    "start_time": "2023-05-01T16:38:52.650Z"
   },
   {
    "duration": 44,
    "start_time": "2023-05-01T16:38:52.667Z"
   },
   {
    "duration": 6,
    "start_time": "2023-05-01T16:38:52.713Z"
   },
   {
    "duration": 6,
    "start_time": "2023-05-01T16:38:52.721Z"
   },
   {
    "duration": 32,
    "start_time": "2023-05-01T16:38:52.729Z"
   },
   {
    "duration": 64,
    "start_time": "2023-05-01T16:38:52.762Z"
   },
   {
    "duration": 6,
    "start_time": "2023-05-01T16:38:52.827Z"
   },
   {
    "duration": 759,
    "start_time": "2023-05-01T16:38:52.834Z"
   },
   {
    "duration": 2,
    "start_time": "2023-05-01T16:38:53.596Z"
   },
   {
    "duration": 31,
    "start_time": "2023-05-01T16:38:53.600Z"
   },
   {
    "duration": 9,
    "start_time": "2023-05-01T16:38:53.632Z"
   },
   {
    "duration": 5,
    "start_time": "2023-05-01T16:38:53.642Z"
   },
   {
    "duration": 6,
    "start_time": "2023-05-01T16:38:53.649Z"
   },
   {
    "duration": 39,
    "start_time": "2023-05-01T16:38:53.657Z"
   },
   {
    "duration": 50,
    "start_time": "2023-05-01T16:38:53.698Z"
   },
   {
    "duration": 9,
    "start_time": "2023-05-01T16:38:53.750Z"
   },
   {
    "duration": 57,
    "start_time": "2023-05-01T16:38:53.761Z"
   },
   {
    "duration": 4,
    "start_time": "2023-05-01T16:38:53.820Z"
   },
   {
    "duration": 17,
    "start_time": "2023-05-01T16:38:53.826Z"
   },
   {
    "duration": 6,
    "start_time": "2023-05-01T16:38:53.846Z"
   },
   {
    "duration": 139,
    "start_time": "2023-05-01T16:38:53.854Z"
   },
   {
    "duration": 560,
    "start_time": "2023-05-01T16:38:53.994Z"
   },
   {
    "duration": 4610,
    "start_time": "2023-05-01T16:38:54.556Z"
   },
   {
    "duration": 124,
    "start_time": "2023-05-01T16:38:59.167Z"
   },
   {
    "duration": 8,
    "start_time": "2023-05-01T16:38:59.294Z"
   },
   {
    "duration": 88,
    "start_time": "2023-05-01T16:38:59.304Z"
   },
   {
    "duration": 4604,
    "start_time": "2023-05-01T16:38:59.393Z"
   },
   {
    "duration": 814,
    "start_time": "2023-05-01T16:41:49.895Z"
   },
   {
    "duration": 721,
    "start_time": "2023-05-01T16:42:02.429Z"
   },
   {
    "duration": 1601,
    "start_time": "2023-05-01T16:42:42.987Z"
   },
   {
    "duration": 5,
    "start_time": "2023-05-01T16:42:44.590Z"
   },
   {
    "duration": 125,
    "start_time": "2023-05-01T16:42:44.596Z"
   },
   {
    "duration": 5,
    "start_time": "2023-05-01T16:42:44.724Z"
   },
   {
    "duration": 75,
    "start_time": "2023-05-01T16:42:44.733Z"
   },
   {
    "duration": 51,
    "start_time": "2023-05-01T16:42:44.811Z"
   },
   {
    "duration": 91,
    "start_time": "2023-05-01T16:42:44.865Z"
   },
   {
    "duration": 62,
    "start_time": "2023-05-01T16:42:44.958Z"
   },
   {
    "duration": 19,
    "start_time": "2023-05-01T16:42:45.022Z"
   },
   {
    "duration": 21,
    "start_time": "2023-05-01T16:42:45.043Z"
   },
   {
    "duration": 28,
    "start_time": "2023-05-01T16:42:45.066Z"
   },
   {
    "duration": 8,
    "start_time": "2023-05-01T16:42:45.097Z"
   },
   {
    "duration": 32,
    "start_time": "2023-05-01T16:42:45.107Z"
   },
   {
    "duration": 20,
    "start_time": "2023-05-01T16:42:45.144Z"
   },
   {
    "duration": 50,
    "start_time": "2023-05-01T16:42:45.165Z"
   },
   {
    "duration": 26,
    "start_time": "2023-05-01T16:42:45.218Z"
   },
   {
    "duration": 4,
    "start_time": "2023-05-01T16:42:45.246Z"
   },
   {
    "duration": 52,
    "start_time": "2023-05-01T16:42:45.252Z"
   },
   {
    "duration": 37,
    "start_time": "2023-05-01T16:42:45.307Z"
   },
   {
    "duration": 3,
    "start_time": "2023-05-01T16:42:45.346Z"
   },
   {
    "duration": 5,
    "start_time": "2023-05-01T16:42:45.351Z"
   },
   {
    "duration": 49,
    "start_time": "2023-05-01T16:42:45.358Z"
   },
   {
    "duration": 10,
    "start_time": "2023-05-01T16:42:45.409Z"
   },
   {
    "duration": 35,
    "start_time": "2023-05-01T16:42:45.421Z"
   },
   {
    "duration": 3,
    "start_time": "2023-05-01T16:42:45.458Z"
   },
   {
    "duration": 33,
    "start_time": "2023-05-01T16:42:45.463Z"
   },
   {
    "duration": 40,
    "start_time": "2023-05-01T16:42:45.499Z"
   },
   {
    "duration": 2,
    "start_time": "2023-05-01T16:42:45.541Z"
   },
   {
    "duration": 5,
    "start_time": "2023-05-01T16:42:45.545Z"
   },
   {
    "duration": 1230,
    "start_time": "2023-05-01T16:42:45.552Z"
   },
   {
    "duration": 10,
    "start_time": "2023-05-01T16:42:46.783Z"
   },
   {
    "duration": 12,
    "start_time": "2023-05-01T16:42:46.795Z"
   },
   {
    "duration": 9,
    "start_time": "2023-05-01T16:42:46.809Z"
   },
   {
    "duration": 8,
    "start_time": "2023-05-01T16:42:46.820Z"
   },
   {
    "duration": 4,
    "start_time": "2023-05-01T16:42:46.829Z"
   },
   {
    "duration": 26,
    "start_time": "2023-05-01T16:42:46.835Z"
   },
   {
    "duration": 64,
    "start_time": "2023-05-01T16:42:46.863Z"
   },
   {
    "duration": 33,
    "start_time": "2023-05-01T16:42:46.929Z"
   },
   {
    "duration": 32,
    "start_time": "2023-05-01T16:42:46.964Z"
   },
   {
    "duration": 10,
    "start_time": "2023-05-01T16:42:46.998Z"
   },
   {
    "duration": 13,
    "start_time": "2023-05-01T16:42:47.012Z"
   },
   {
    "duration": 23,
    "start_time": "2023-05-01T16:42:47.027Z"
   },
   {
    "duration": 62,
    "start_time": "2023-05-01T16:42:47.052Z"
   },
   {
    "duration": 646,
    "start_time": "2023-05-01T16:42:47.115Z"
   },
   {
    "duration": 4722,
    "start_time": "2023-05-01T16:42:47.764Z"
   },
   {
    "duration": 101,
    "start_time": "2023-05-01T16:42:52.492Z"
   },
   {
    "duration": 100,
    "start_time": "2023-05-01T16:42:52.597Z"
   },
   {
    "duration": 43,
    "start_time": "2023-05-01T16:42:52.699Z"
   },
   {
    "duration": 4890,
    "start_time": "2023-05-01T16:42:52.744Z"
   },
   {
    "duration": 5086,
    "start_time": "2023-05-01T16:44:15.026Z"
   },
   {
    "duration": 33,
    "start_time": "2023-05-01T16:45:01.067Z"
   },
   {
    "duration": 2,
    "start_time": "2023-05-01T16:48:17.300Z"
   },
   {
    "duration": 49,
    "start_time": "2023-05-01T16:48:22.133Z"
   },
   {
    "duration": 47,
    "start_time": "2023-05-01T16:49:23.041Z"
   },
   {
    "duration": 120,
    "start_time": "2023-05-01T16:53:34.443Z"
   },
   {
    "duration": 1067,
    "start_time": "2023-05-01T16:56:40.628Z"
   },
   {
    "duration": 1217,
    "start_time": "2023-05-01T16:56:59.810Z"
   },
   {
    "duration": 123,
    "start_time": "2023-05-01T16:58:01.482Z"
   },
   {
    "duration": 109,
    "start_time": "2023-05-01T16:58:12.719Z"
   },
   {
    "duration": 135,
    "start_time": "2023-05-01T16:59:26.027Z"
   },
   {
    "duration": 94,
    "start_time": "2023-05-01T16:59:39.225Z"
   },
   {
    "duration": 108,
    "start_time": "2023-05-01T17:00:20.966Z"
   },
   {
    "duration": 55,
    "start_time": "2023-05-01T18:43:31.131Z"
   },
   {
    "duration": 1727,
    "start_time": "2023-05-01T18:43:38.686Z"
   },
   {
    "duration": 3,
    "start_time": "2023-05-01T18:43:40.415Z"
   },
   {
    "duration": 294,
    "start_time": "2023-05-01T18:43:40.420Z"
   },
   {
    "duration": 4,
    "start_time": "2023-05-01T18:43:40.716Z"
   },
   {
    "duration": 61,
    "start_time": "2023-05-01T18:43:40.722Z"
   },
   {
    "duration": 38,
    "start_time": "2023-05-01T18:43:40.785Z"
   },
   {
    "duration": 78,
    "start_time": "2023-05-01T18:43:40.825Z"
   },
   {
    "duration": 35,
    "start_time": "2023-05-01T18:43:40.905Z"
   },
   {
    "duration": 17,
    "start_time": "2023-05-01T18:43:40.942Z"
   },
   {
    "duration": 37,
    "start_time": "2023-05-01T18:43:40.961Z"
   },
   {
    "duration": 5,
    "start_time": "2023-05-01T18:43:40.999Z"
   },
   {
    "duration": 6,
    "start_time": "2023-05-01T18:43:41.006Z"
   },
   {
    "duration": 23,
    "start_time": "2023-05-01T18:43:41.014Z"
   },
   {
    "duration": 19,
    "start_time": "2023-05-01T18:43:41.042Z"
   },
   {
    "duration": 52,
    "start_time": "2023-05-01T18:43:41.063Z"
   },
   {
    "duration": 17,
    "start_time": "2023-05-01T18:43:41.117Z"
   },
   {
    "duration": 2,
    "start_time": "2023-05-01T18:43:41.136Z"
   },
   {
    "duration": 22,
    "start_time": "2023-05-01T18:43:41.140Z"
   },
   {
    "duration": 45,
    "start_time": "2023-05-01T18:43:41.163Z"
   },
   {
    "duration": 4,
    "start_time": "2023-05-01T18:43:41.210Z"
   },
   {
    "duration": 51,
    "start_time": "2023-05-01T18:43:41.215Z"
   },
   {
    "duration": 6,
    "start_time": "2023-05-01T18:43:41.268Z"
   },
   {
    "duration": 12,
    "start_time": "2023-05-01T18:43:41.293Z"
   },
   {
    "duration": 7,
    "start_time": "2023-05-01T18:43:41.306Z"
   },
   {
    "duration": 138,
    "start_time": "2023-05-01T18:43:41.315Z"
   },
   {
    "duration": 58,
    "start_time": "2023-05-01T18:43:41.455Z"
   },
   {
    "duration": 1380,
    "start_time": "2023-05-01T18:43:41.515Z"
   },
   {
    "duration": 0,
    "start_time": "2023-05-01T18:43:42.897Z"
   },
   {
    "duration": 0,
    "start_time": "2023-05-01T18:43:42.899Z"
   },
   {
    "duration": 0,
    "start_time": "2023-05-01T18:43:42.900Z"
   },
   {
    "duration": 0,
    "start_time": "2023-05-01T18:43:42.901Z"
   },
   {
    "duration": 0,
    "start_time": "2023-05-01T18:43:42.902Z"
   },
   {
    "duration": 1,
    "start_time": "2023-05-01T18:43:42.902Z"
   },
   {
    "duration": 0,
    "start_time": "2023-05-01T18:43:42.904Z"
   },
   {
    "duration": 0,
    "start_time": "2023-05-01T18:43:42.905Z"
   },
   {
    "duration": 0,
    "start_time": "2023-05-01T18:43:42.906Z"
   },
   {
    "duration": 0,
    "start_time": "2023-05-01T18:43:42.907Z"
   },
   {
    "duration": 0,
    "start_time": "2023-05-01T18:43:42.908Z"
   },
   {
    "duration": 1,
    "start_time": "2023-05-01T18:43:42.908Z"
   },
   {
    "duration": 0,
    "start_time": "2023-05-01T18:43:42.910Z"
   },
   {
    "duration": 0,
    "start_time": "2023-05-01T18:43:42.910Z"
   },
   {
    "duration": 0,
    "start_time": "2023-05-01T18:43:42.912Z"
   },
   {
    "duration": 0,
    "start_time": "2023-05-01T18:43:42.913Z"
   },
   {
    "duration": 0,
    "start_time": "2023-05-01T18:43:42.913Z"
   },
   {
    "duration": 0,
    "start_time": "2023-05-01T18:43:42.914Z"
   },
   {
    "duration": 0,
    "start_time": "2023-05-01T18:43:42.916Z"
   },
   {
    "duration": 0,
    "start_time": "2023-05-01T18:43:42.917Z"
   },
   {
    "duration": 0,
    "start_time": "2023-05-01T18:43:42.918Z"
   },
   {
    "duration": 0,
    "start_time": "2023-05-01T18:43:42.919Z"
   },
   {
    "duration": 0,
    "start_time": "2023-05-01T18:43:42.920Z"
   },
   {
    "duration": 0,
    "start_time": "2023-05-01T18:43:42.921Z"
   },
   {
    "duration": 0,
    "start_time": "2023-05-01T18:43:42.922Z"
   },
   {
    "duration": 0,
    "start_time": "2023-05-01T18:43:42.923Z"
   },
   {
    "duration": 39,
    "start_time": "2023-05-01T18:44:44.392Z"
   },
   {
    "duration": 20,
    "start_time": "2023-05-01T18:44:53.076Z"
   },
   {
    "duration": 6,
    "start_time": "2023-05-01T18:45:01.429Z"
   },
   {
    "duration": 8,
    "start_time": "2023-05-01T18:45:04.989Z"
   },
   {
    "duration": 1419,
    "start_time": "2023-05-01T18:46:23.495Z"
   },
   {
    "duration": 3,
    "start_time": "2023-05-01T18:46:24.916Z"
   },
   {
    "duration": 139,
    "start_time": "2023-05-01T18:46:24.921Z"
   },
   {
    "duration": 6,
    "start_time": "2023-05-01T18:46:25.063Z"
   },
   {
    "duration": 65,
    "start_time": "2023-05-01T18:46:25.072Z"
   },
   {
    "duration": 58,
    "start_time": "2023-05-01T18:46:25.139Z"
   },
   {
    "duration": 67,
    "start_time": "2023-05-01T18:46:25.199Z"
   },
   {
    "duration": 56,
    "start_time": "2023-05-01T18:46:25.268Z"
   },
   {
    "duration": 26,
    "start_time": "2023-05-01T18:46:25.326Z"
   },
   {
    "duration": 43,
    "start_time": "2023-05-01T18:46:25.356Z"
   },
   {
    "duration": 5,
    "start_time": "2023-05-01T18:46:25.401Z"
   },
   {
    "duration": 9,
    "start_time": "2023-05-01T18:46:25.408Z"
   },
   {
    "duration": 31,
    "start_time": "2023-05-01T18:46:25.419Z"
   },
   {
    "duration": 42,
    "start_time": "2023-05-01T18:46:25.452Z"
   },
   {
    "duration": 36,
    "start_time": "2023-05-01T18:46:25.497Z"
   },
   {
    "duration": 28,
    "start_time": "2023-05-01T18:46:25.536Z"
   },
   {
    "duration": 9,
    "start_time": "2023-05-01T18:46:25.566Z"
   },
   {
    "duration": 29,
    "start_time": "2023-05-01T18:46:25.592Z"
   },
   {
    "duration": 34,
    "start_time": "2023-05-01T18:46:25.623Z"
   },
   {
    "duration": 10,
    "start_time": "2023-05-01T18:46:25.659Z"
   },
   {
    "duration": 59,
    "start_time": "2023-05-01T18:46:25.693Z"
   },
   {
    "duration": 11,
    "start_time": "2023-05-01T18:46:25.754Z"
   },
   {
    "duration": 37,
    "start_time": "2023-05-01T18:46:25.767Z"
   },
   {
    "duration": 8,
    "start_time": "2023-05-01T18:46:25.806Z"
   },
   {
    "duration": 131,
    "start_time": "2023-05-01T18:46:25.816Z"
   },
   {
    "duration": 64,
    "start_time": "2023-05-01T18:46:25.949Z"
   },
   {
    "duration": 1363,
    "start_time": "2023-05-01T18:46:26.014Z"
   },
   {
    "duration": 0,
    "start_time": "2023-05-01T18:46:27.379Z"
   },
   {
    "duration": 0,
    "start_time": "2023-05-01T18:46:27.380Z"
   },
   {
    "duration": 0,
    "start_time": "2023-05-01T18:46:27.382Z"
   },
   {
    "duration": 0,
    "start_time": "2023-05-01T18:46:27.383Z"
   },
   {
    "duration": 0,
    "start_time": "2023-05-01T18:46:27.393Z"
   },
   {
    "duration": 0,
    "start_time": "2023-05-01T18:46:27.394Z"
   },
   {
    "duration": 0,
    "start_time": "2023-05-01T18:46:27.395Z"
   },
   {
    "duration": 0,
    "start_time": "2023-05-01T18:46:27.396Z"
   },
   {
    "duration": 0,
    "start_time": "2023-05-01T18:46:27.397Z"
   },
   {
    "duration": 0,
    "start_time": "2023-05-01T18:46:27.398Z"
   },
   {
    "duration": 0,
    "start_time": "2023-05-01T18:46:27.399Z"
   },
   {
    "duration": 0,
    "start_time": "2023-05-01T18:46:27.401Z"
   },
   {
    "duration": 0,
    "start_time": "2023-05-01T18:46:27.402Z"
   },
   {
    "duration": 0,
    "start_time": "2023-05-01T18:46:27.402Z"
   },
   {
    "duration": 0,
    "start_time": "2023-05-01T18:46:27.403Z"
   },
   {
    "duration": 0,
    "start_time": "2023-05-01T18:46:27.404Z"
   },
   {
    "duration": 0,
    "start_time": "2023-05-01T18:46:27.405Z"
   },
   {
    "duration": 0,
    "start_time": "2023-05-01T18:46:27.406Z"
   },
   {
    "duration": 0,
    "start_time": "2023-05-01T18:46:27.407Z"
   },
   {
    "duration": 0,
    "start_time": "2023-05-01T18:46:27.408Z"
   },
   {
    "duration": 0,
    "start_time": "2023-05-01T18:46:27.409Z"
   },
   {
    "duration": 0,
    "start_time": "2023-05-01T18:46:27.411Z"
   },
   {
    "duration": 0,
    "start_time": "2023-05-01T18:46:27.412Z"
   },
   {
    "duration": 0,
    "start_time": "2023-05-01T18:46:27.413Z"
   },
   {
    "duration": 0,
    "start_time": "2023-05-01T18:46:27.413Z"
   },
   {
    "duration": 0,
    "start_time": "2023-05-01T18:46:27.414Z"
   },
   {
    "duration": 9,
    "start_time": "2023-05-01T18:47:09.391Z"
   },
   {
    "duration": 1462,
    "start_time": "2023-05-01T18:48:06.506Z"
   },
   {
    "duration": 4,
    "start_time": "2023-05-01T18:48:07.970Z"
   },
   {
    "duration": 104,
    "start_time": "2023-05-01T18:48:07.976Z"
   },
   {
    "duration": 5,
    "start_time": "2023-05-01T18:48:08.081Z"
   },
   {
    "duration": 59,
    "start_time": "2023-05-01T18:48:08.088Z"
   },
   {
    "duration": 62,
    "start_time": "2023-05-01T18:48:08.149Z"
   },
   {
    "duration": 80,
    "start_time": "2023-05-01T18:48:08.213Z"
   },
   {
    "duration": 38,
    "start_time": "2023-05-01T18:48:08.295Z"
   },
   {
    "duration": 19,
    "start_time": "2023-05-01T18:48:08.334Z"
   },
   {
    "duration": 42,
    "start_time": "2023-05-01T18:48:08.355Z"
   },
   {
    "duration": 6,
    "start_time": "2023-05-01T18:48:08.399Z"
   },
   {
    "duration": 4,
    "start_time": "2023-05-01T18:48:08.407Z"
   },
   {
    "duration": 20,
    "start_time": "2023-05-01T18:48:08.413Z"
   },
   {
    "duration": 20,
    "start_time": "2023-05-01T18:48:08.436Z"
   },
   {
    "duration": 76,
    "start_time": "2023-05-01T18:48:08.457Z"
   },
   {
    "duration": 20,
    "start_time": "2023-05-01T18:48:08.536Z"
   },
   {
    "duration": 3,
    "start_time": "2023-05-01T18:48:08.558Z"
   },
   {
    "duration": 47,
    "start_time": "2023-05-01T18:48:08.562Z"
   },
   {
    "duration": 7,
    "start_time": "2023-05-01T18:48:08.611Z"
   },
   {
    "duration": 39,
    "start_time": "2023-05-01T18:48:08.620Z"
   },
   {
    "duration": 52,
    "start_time": "2023-05-01T18:48:08.661Z"
   },
   {
    "duration": 8,
    "start_time": "2023-05-01T18:48:08.715Z"
   },
   {
    "duration": 12,
    "start_time": "2023-05-01T18:48:08.725Z"
   },
   {
    "duration": 7,
    "start_time": "2023-05-01T18:48:08.739Z"
   },
   {
    "duration": 145,
    "start_time": "2023-05-01T18:48:08.748Z"
   },
   {
    "duration": 51,
    "start_time": "2023-05-01T18:48:08.894Z"
   },
   {
    "duration": 1338,
    "start_time": "2023-05-01T18:48:08.947Z"
   },
   {
    "duration": 0,
    "start_time": "2023-05-01T18:48:10.287Z"
   },
   {
    "duration": 0,
    "start_time": "2023-05-01T18:48:10.289Z"
   },
   {
    "duration": 0,
    "start_time": "2023-05-01T18:48:10.290Z"
   },
   {
    "duration": 0,
    "start_time": "2023-05-01T18:48:10.293Z"
   },
   {
    "duration": 0,
    "start_time": "2023-05-01T18:48:10.294Z"
   },
   {
    "duration": 0,
    "start_time": "2023-05-01T18:48:10.296Z"
   },
   {
    "duration": 0,
    "start_time": "2023-05-01T18:48:10.297Z"
   },
   {
    "duration": 0,
    "start_time": "2023-05-01T18:48:10.298Z"
   },
   {
    "duration": 0,
    "start_time": "2023-05-01T18:48:10.299Z"
   },
   {
    "duration": 0,
    "start_time": "2023-05-01T18:48:10.301Z"
   },
   {
    "duration": 0,
    "start_time": "2023-05-01T18:48:10.302Z"
   },
   {
    "duration": 0,
    "start_time": "2023-05-01T18:48:10.303Z"
   },
   {
    "duration": 0,
    "start_time": "2023-05-01T18:48:10.305Z"
   },
   {
    "duration": 0,
    "start_time": "2023-05-01T18:48:10.306Z"
   },
   {
    "duration": 0,
    "start_time": "2023-05-01T18:48:10.308Z"
   },
   {
    "duration": 0,
    "start_time": "2023-05-01T18:48:10.309Z"
   },
   {
    "duration": 0,
    "start_time": "2023-05-01T18:48:10.310Z"
   },
   {
    "duration": 0,
    "start_time": "2023-05-01T18:48:10.311Z"
   },
   {
    "duration": 0,
    "start_time": "2023-05-01T18:48:10.312Z"
   },
   {
    "duration": 0,
    "start_time": "2023-05-01T18:48:10.313Z"
   },
   {
    "duration": 0,
    "start_time": "2023-05-01T18:48:10.315Z"
   },
   {
    "duration": 0,
    "start_time": "2023-05-01T18:48:10.316Z"
   },
   {
    "duration": 0,
    "start_time": "2023-05-01T18:48:10.317Z"
   },
   {
    "duration": 0,
    "start_time": "2023-05-01T18:48:10.318Z"
   },
   {
    "duration": 0,
    "start_time": "2023-05-01T18:48:10.319Z"
   },
   {
    "duration": 0,
    "start_time": "2023-05-01T18:48:10.320Z"
   },
   {
    "duration": 114,
    "start_time": "2023-05-01T18:50:30.620Z"
   },
   {
    "duration": 116,
    "start_time": "2023-05-01T18:50:47.324Z"
   },
   {
    "duration": 1109,
    "start_time": "2023-05-01T18:53:57.707Z"
   },
   {
    "duration": 1171,
    "start_time": "2023-05-01T18:54:38.883Z"
   },
   {
    "duration": 1081,
    "start_time": "2023-05-01T18:55:33.465Z"
   },
   {
    "duration": 1435,
    "start_time": "2023-05-01T18:55:42.887Z"
   },
   {
    "duration": 3,
    "start_time": "2023-05-01T18:55:44.324Z"
   },
   {
    "duration": 103,
    "start_time": "2023-05-01T18:55:44.329Z"
   },
   {
    "duration": 4,
    "start_time": "2023-05-01T18:55:44.434Z"
   },
   {
    "duration": 59,
    "start_time": "2023-05-01T18:55:44.440Z"
   },
   {
    "duration": 40,
    "start_time": "2023-05-01T18:55:44.501Z"
   },
   {
    "duration": 79,
    "start_time": "2023-05-01T18:55:44.543Z"
   },
   {
    "duration": 34,
    "start_time": "2023-05-01T18:55:44.624Z"
   },
   {
    "duration": 34,
    "start_time": "2023-05-01T18:55:44.659Z"
   },
   {
    "duration": 16,
    "start_time": "2023-05-01T18:55:44.695Z"
   },
   {
    "duration": 5,
    "start_time": "2023-05-01T18:55:44.712Z"
   },
   {
    "duration": 3,
    "start_time": "2023-05-01T18:55:44.719Z"
   },
   {
    "duration": 19,
    "start_time": "2023-05-01T18:55:44.724Z"
   },
   {
    "duration": 47,
    "start_time": "2023-05-01T18:55:44.746Z"
   },
   {
    "duration": 30,
    "start_time": "2023-05-01T18:55:44.795Z"
   },
   {
    "duration": 19,
    "start_time": "2023-05-01T18:55:44.826Z"
   },
   {
    "duration": 2,
    "start_time": "2023-05-01T18:55:44.847Z"
   },
   {
    "duration": 45,
    "start_time": "2023-05-01T18:55:44.851Z"
   },
   {
    "duration": 6,
    "start_time": "2023-05-01T18:55:44.898Z"
   },
   {
    "duration": 24,
    "start_time": "2023-05-01T18:55:44.906Z"
   },
   {
    "duration": 44,
    "start_time": "2023-05-01T18:55:44.931Z"
   },
   {
    "duration": 20,
    "start_time": "2023-05-01T18:55:44.977Z"
   },
   {
    "duration": 13,
    "start_time": "2023-05-01T18:55:44.999Z"
   },
   {
    "duration": 29,
    "start_time": "2023-05-01T18:55:45.014Z"
   },
   {
    "duration": 125,
    "start_time": "2023-05-01T18:55:45.044Z"
   },
   {
    "duration": 60,
    "start_time": "2023-05-01T18:55:45.171Z"
   },
   {
    "duration": 2,
    "start_time": "2023-05-01T18:55:45.233Z"
   },
   {
    "duration": 5,
    "start_time": "2023-05-01T18:55:45.237Z"
   },
   {
    "duration": 12,
    "start_time": "2023-05-01T18:55:45.243Z"
   },
   {
    "duration": 42,
    "start_time": "2023-05-01T18:55:45.256Z"
   },
   {
    "duration": 2,
    "start_time": "2023-05-01T18:55:45.300Z"
   },
   {
    "duration": 10,
    "start_time": "2023-05-01T18:55:45.303Z"
   },
   {
    "duration": 1882,
    "start_time": "2023-05-01T18:55:45.314Z"
   },
   {
    "duration": 3,
    "start_time": "2023-05-01T18:55:47.197Z"
   },
   {
    "duration": 21,
    "start_time": "2023-05-01T18:55:47.201Z"
   },
   {
    "duration": 7,
    "start_time": "2023-05-01T18:55:47.224Z"
   },
   {
    "duration": 7,
    "start_time": "2023-05-01T18:55:47.232Z"
   },
   {
    "duration": 4,
    "start_time": "2023-05-01T18:55:47.241Z"
   },
   {
    "duration": 28,
    "start_time": "2023-05-01T18:55:47.247Z"
   },
   {
    "duration": 46,
    "start_time": "2023-05-01T18:55:47.277Z"
   },
   {
    "duration": 7,
    "start_time": "2023-05-01T18:55:47.327Z"
   },
   {
    "duration": 40,
    "start_time": "2023-05-01T18:55:47.336Z"
   },
   {
    "duration": 4,
    "start_time": "2023-05-01T18:55:47.378Z"
   },
   {
    "duration": 13,
    "start_time": "2023-05-01T18:55:47.393Z"
   },
   {
    "duration": 5,
    "start_time": "2023-05-01T18:55:47.408Z"
   },
   {
    "duration": 88,
    "start_time": "2023-05-01T18:55:47.415Z"
   },
   {
    "duration": 596,
    "start_time": "2023-05-01T18:55:47.504Z"
   },
   {
    "duration": 4699,
    "start_time": "2023-05-01T18:55:48.102Z"
   },
   {
    "duration": 92,
    "start_time": "2023-05-01T18:55:52.803Z"
   },
   {
    "duration": 99,
    "start_time": "2023-05-01T18:55:52.896Z"
   },
   {
    "duration": 36,
    "start_time": "2023-05-01T18:55:52.997Z"
   },
   {
    "duration": 4765,
    "start_time": "2023-05-01T18:55:53.035Z"
   },
   {
    "duration": 2,
    "start_time": "2023-05-01T18:56:20.238Z"
   },
   {
    "duration": 1256,
    "start_time": "2023-05-01T18:56:26.281Z"
   },
   {
    "duration": 1140,
    "start_time": "2023-05-01T18:56:44.245Z"
   },
   {
    "duration": 9,
    "start_time": "2023-05-01T19:00:58.830Z"
   },
   {
    "duration": 804,
    "start_time": "2023-05-01T19:01:03.758Z"
   },
   {
    "duration": 176,
    "start_time": "2023-05-01T19:01:15.455Z"
   },
   {
    "duration": 149,
    "start_time": "2023-05-01T19:01:34.983Z"
   },
   {
    "duration": 18,
    "start_time": "2023-05-01T19:04:07.488Z"
   },
   {
    "duration": 15,
    "start_time": "2023-05-01T19:04:58.558Z"
   },
   {
    "duration": 121,
    "start_time": "2023-05-01T19:05:06.316Z"
   },
   {
    "duration": 128,
    "start_time": "2023-05-01T19:05:11.395Z"
   },
   {
    "duration": 277,
    "start_time": "2023-05-01T19:05:24.400Z"
   },
   {
    "duration": 1449,
    "start_time": "2023-05-01T19:06:27.110Z"
   },
   {
    "duration": 3,
    "start_time": "2023-05-01T19:06:28.561Z"
   },
   {
    "duration": 120,
    "start_time": "2023-05-01T19:06:28.566Z"
   },
   {
    "duration": 4,
    "start_time": "2023-05-01T19:06:28.688Z"
   },
   {
    "duration": 80,
    "start_time": "2023-05-01T19:06:28.694Z"
   },
   {
    "duration": 45,
    "start_time": "2023-05-01T19:06:28.775Z"
   },
   {
    "duration": 73,
    "start_time": "2023-05-01T19:06:28.822Z"
   },
   {
    "duration": 37,
    "start_time": "2023-05-01T19:06:28.897Z"
   },
   {
    "duration": 18,
    "start_time": "2023-05-01T19:06:28.936Z"
   },
   {
    "duration": 42,
    "start_time": "2023-05-01T19:06:28.956Z"
   },
   {
    "duration": 5,
    "start_time": "2023-05-01T19:06:29.000Z"
   },
   {
    "duration": 22,
    "start_time": "2023-05-01T19:06:29.006Z"
   },
   {
    "duration": 28,
    "start_time": "2023-05-01T19:06:29.030Z"
   },
   {
    "duration": 36,
    "start_time": "2023-05-01T19:06:29.059Z"
   },
   {
    "duration": 24,
    "start_time": "2023-05-01T19:06:29.097Z"
   },
   {
    "duration": 18,
    "start_time": "2023-05-01T19:06:29.122Z"
   },
   {
    "duration": 3,
    "start_time": "2023-05-01T19:06:29.141Z"
   },
   {
    "duration": 30,
    "start_time": "2023-05-01T19:06:29.146Z"
   },
   {
    "duration": 22,
    "start_time": "2023-05-01T19:06:29.178Z"
   },
   {
    "duration": 39,
    "start_time": "2023-05-01T19:06:29.202Z"
   },
   {
    "duration": 51,
    "start_time": "2023-05-01T19:06:29.242Z"
   },
   {
    "duration": 8,
    "start_time": "2023-05-01T19:06:29.295Z"
   },
   {
    "duration": 13,
    "start_time": "2023-05-01T19:06:29.305Z"
   },
   {
    "duration": 9,
    "start_time": "2023-05-01T19:06:29.320Z"
   },
   {
    "duration": 165,
    "start_time": "2023-05-01T19:06:29.331Z"
   },
   {
    "duration": 57,
    "start_time": "2023-05-01T19:06:29.498Z"
   },
   {
    "duration": 210,
    "start_time": "2023-05-01T19:06:29.557Z"
   },
   {
    "duration": 3,
    "start_time": "2023-05-01T19:06:29.771Z"
   },
   {
    "duration": 17,
    "start_time": "2023-05-01T19:06:29.776Z"
   },
   {
    "duration": 30,
    "start_time": "2023-05-01T19:06:29.795Z"
   },
   {
    "duration": 2,
    "start_time": "2023-05-01T19:06:29.826Z"
   },
   {
    "duration": 8,
    "start_time": "2023-05-01T19:06:29.829Z"
   },
   {
    "duration": 2880,
    "start_time": "2023-05-01T19:06:29.838Z"
   },
   {
    "duration": 3,
    "start_time": "2023-05-01T19:06:32.720Z"
   },
   {
    "duration": 15,
    "start_time": "2023-05-01T19:06:32.725Z"
   },
   {
    "duration": 8,
    "start_time": "2023-05-01T19:06:32.741Z"
   },
   {
    "duration": 5,
    "start_time": "2023-05-01T19:06:32.750Z"
   },
   {
    "duration": 3,
    "start_time": "2023-05-01T19:06:32.793Z"
   },
   {
    "duration": 29,
    "start_time": "2023-05-01T19:06:32.798Z"
   },
   {
    "duration": 31,
    "start_time": "2023-05-01T19:06:32.829Z"
   },
   {
    "duration": 7,
    "start_time": "2023-05-01T19:06:32.862Z"
   },
   {
    "duration": 44,
    "start_time": "2023-05-01T19:06:32.871Z"
   },
   {
    "duration": 4,
    "start_time": "2023-05-01T19:06:32.917Z"
   },
   {
    "duration": 15,
    "start_time": "2023-05-01T19:06:32.923Z"
   },
   {
    "duration": 5,
    "start_time": "2023-05-01T19:06:32.940Z"
   },
   {
    "duration": 55,
    "start_time": "2023-05-01T19:06:32.946Z"
   },
   {
    "duration": 597,
    "start_time": "2023-05-01T19:06:33.002Z"
   },
   {
    "duration": 4684,
    "start_time": "2023-05-01T19:06:33.601Z"
   },
   {
    "duration": 106,
    "start_time": "2023-05-01T19:06:38.287Z"
   },
   {
    "duration": 97,
    "start_time": "2023-05-01T19:06:38.397Z"
   },
   {
    "duration": 28,
    "start_time": "2023-05-01T19:06:38.496Z"
   },
   {
    "duration": 4786,
    "start_time": "2023-05-01T19:06:38.525Z"
   },
   {
    "duration": 203,
    "start_time": "2023-05-01T19:07:09.487Z"
   },
   {
    "duration": 2998,
    "start_time": "2023-05-01T19:07:27.757Z"
   },
   {
    "duration": 445,
    "start_time": "2023-05-01T19:07:37.264Z"
   },
   {
    "duration": 172,
    "start_time": "2023-05-01T19:07:44.055Z"
   },
   {
    "duration": 178,
    "start_time": "2023-05-01T19:07:48.056Z"
   },
   {
    "duration": 209,
    "start_time": "2023-05-01T19:07:55.063Z"
   },
   {
    "duration": 182,
    "start_time": "2023-05-01T19:08:06.317Z"
   },
   {
    "duration": 12,
    "start_time": "2023-05-01T19:08:57.050Z"
   },
   {
    "duration": 177,
    "start_time": "2023-05-01T19:09:12.305Z"
   },
   {
    "duration": 168,
    "start_time": "2023-05-01T19:10:41.548Z"
   },
   {
    "duration": 265,
    "start_time": "2023-05-01T19:11:39.349Z"
   },
   {
    "duration": 268,
    "start_time": "2023-05-01T19:11:48.518Z"
   },
   {
    "duration": 265,
    "start_time": "2023-05-01T19:12:05.226Z"
   },
   {
    "duration": 3543,
    "start_time": "2023-05-01T19:13:12.256Z"
   },
   {
    "duration": 221,
    "start_time": "2023-05-01T19:13:30.832Z"
   },
   {
    "duration": 3662,
    "start_time": "2023-05-01T19:13:39.103Z"
   },
   {
    "duration": 2724,
    "start_time": "2023-05-01T19:14:05.947Z"
   },
   {
    "duration": 422,
    "start_time": "2023-05-01T19:14:14.349Z"
   },
   {
    "duration": 312,
    "start_time": "2023-05-01T19:14:18.988Z"
   },
   {
    "duration": 240,
    "start_time": "2023-05-01T19:14:24.920Z"
   },
   {
    "duration": 297,
    "start_time": "2023-05-01T19:14:31.787Z"
   },
   {
    "duration": 233,
    "start_time": "2023-05-01T19:15:12.240Z"
   },
   {
    "duration": 229,
    "start_time": "2023-05-01T19:15:19.309Z"
   },
   {
    "duration": 472,
    "start_time": "2023-05-01T19:15:22.739Z"
   },
   {
    "duration": 194,
    "start_time": "2023-05-01T19:15:44.381Z"
   },
   {
    "duration": 224,
    "start_time": "2023-05-01T19:15:53.908Z"
   },
   {
    "duration": 10,
    "start_time": "2023-05-01T19:17:07.179Z"
   },
   {
    "duration": 4,
    "start_time": "2023-05-01T19:17:18.732Z"
   },
   {
    "duration": 5,
    "start_time": "2023-05-01T19:17:23.554Z"
   },
   {
    "duration": 10,
    "start_time": "2023-05-01T19:18:32.909Z"
   },
   {
    "duration": 4,
    "start_time": "2023-05-01T19:18:36.367Z"
   },
   {
    "duration": 12,
    "start_time": "2023-05-01T19:18:43.345Z"
   },
   {
    "duration": 4,
    "start_time": "2023-05-01T19:20:11.638Z"
   },
   {
    "duration": 5,
    "start_time": "2023-05-01T19:20:17.881Z"
   },
   {
    "duration": 4,
    "start_time": "2023-05-01T19:20:25.190Z"
   },
   {
    "duration": 1612,
    "start_time": "2023-05-01T19:21:57.662Z"
   },
   {
    "duration": 1783,
    "start_time": "2023-05-01T19:22:05.687Z"
   },
   {
    "duration": 1691,
    "start_time": "2023-05-01T19:22:49.460Z"
   },
   {
    "duration": 2198,
    "start_time": "2023-05-01T19:24:33.635Z"
   },
   {
    "duration": 2165,
    "start_time": "2023-05-01T19:24:42.073Z"
   },
   {
    "duration": 13,
    "start_time": "2023-05-01T19:26:09.719Z"
   },
   {
    "duration": 13,
    "start_time": "2023-05-01T19:26:45.707Z"
   },
   {
    "duration": 158,
    "start_time": "2023-05-01T19:26:59.965Z"
   },
   {
    "duration": 1570,
    "start_time": "2023-05-01T19:28:04.917Z"
   },
   {
    "duration": 1835,
    "start_time": "2023-05-01T19:28:19.642Z"
   },
   {
    "duration": 1636,
    "start_time": "2023-05-01T19:28:30.057Z"
   },
   {
    "duration": 1775,
    "start_time": "2023-05-01T19:29:01.640Z"
   },
   {
    "duration": 14,
    "start_time": "2023-05-01T19:29:53.713Z"
   },
   {
    "duration": 802,
    "start_time": "2023-05-01T19:30:00.576Z"
   },
   {
    "duration": 660,
    "start_time": "2023-05-01T19:30:17.381Z"
   },
   {
    "duration": 6,
    "start_time": "2023-05-01T19:30:23.425Z"
   },
   {
    "duration": 6,
    "start_time": "2023-05-01T19:30:37.327Z"
   },
   {
    "duration": 1480,
    "start_time": "2023-05-01T19:31:01.279Z"
   },
   {
    "duration": 3,
    "start_time": "2023-05-01T19:31:02.761Z"
   },
   {
    "duration": 130,
    "start_time": "2023-05-01T19:31:02.766Z"
   },
   {
    "duration": 4,
    "start_time": "2023-05-01T19:31:02.898Z"
   },
   {
    "duration": 71,
    "start_time": "2023-05-01T19:31:02.904Z"
   },
   {
    "duration": 44,
    "start_time": "2023-05-01T19:31:02.977Z"
   },
   {
    "duration": 77,
    "start_time": "2023-05-01T19:31:03.023Z"
   },
   {
    "duration": 39,
    "start_time": "2023-05-01T19:31:03.102Z"
   },
   {
    "duration": 18,
    "start_time": "2023-05-01T19:31:03.142Z"
   },
   {
    "duration": 43,
    "start_time": "2023-05-01T19:31:03.163Z"
   },
   {
    "duration": 5,
    "start_time": "2023-05-01T19:31:03.208Z"
   },
   {
    "duration": 13,
    "start_time": "2023-05-01T19:31:03.215Z"
   },
   {
    "duration": 19,
    "start_time": "2023-05-01T19:31:03.230Z"
   },
   {
    "duration": 19,
    "start_time": "2023-05-01T19:31:03.251Z"
   },
   {
    "duration": 41,
    "start_time": "2023-05-01T19:31:03.272Z"
   },
   {
    "duration": 18,
    "start_time": "2023-05-01T19:31:03.314Z"
   },
   {
    "duration": 3,
    "start_time": "2023-05-01T19:31:03.333Z"
   },
   {
    "duration": 26,
    "start_time": "2023-05-01T19:31:03.337Z"
   },
   {
    "duration": 29,
    "start_time": "2023-05-01T19:31:03.365Z"
   },
   {
    "duration": 22,
    "start_time": "2023-05-01T19:31:03.396Z"
   },
   {
    "duration": 44,
    "start_time": "2023-05-01T19:31:03.420Z"
   },
   {
    "duration": 28,
    "start_time": "2023-05-01T19:31:03.465Z"
   },
   {
    "duration": 13,
    "start_time": "2023-05-01T19:31:03.495Z"
   },
   {
    "duration": 7,
    "start_time": "2023-05-01T19:31:03.509Z"
   },
   {
    "duration": 139,
    "start_time": "2023-05-01T19:31:03.517Z"
   },
   {
    "duration": 4,
    "start_time": "2023-05-01T19:31:03.658Z"
   },
   {
    "duration": 150,
    "start_time": "2023-05-01T19:31:03.663Z"
   },
   {
    "duration": 144,
    "start_time": "2023-05-01T19:31:03.817Z"
   },
   {
    "duration": 0,
    "start_time": "2023-05-01T19:31:03.962Z"
   },
   {
    "duration": 0,
    "start_time": "2023-05-01T19:31:03.964Z"
   },
   {
    "duration": 0,
    "start_time": "2023-05-01T19:31:03.965Z"
   },
   {
    "duration": 0,
    "start_time": "2023-05-01T19:31:03.966Z"
   },
   {
    "duration": 0,
    "start_time": "2023-05-01T19:31:03.968Z"
   },
   {
    "duration": 0,
    "start_time": "2023-05-01T19:31:03.969Z"
   },
   {
    "duration": 0,
    "start_time": "2023-05-01T19:31:03.970Z"
   },
   {
    "duration": 0,
    "start_time": "2023-05-01T19:31:03.971Z"
   },
   {
    "duration": 0,
    "start_time": "2023-05-01T19:31:03.992Z"
   },
   {
    "duration": 0,
    "start_time": "2023-05-01T19:31:03.993Z"
   },
   {
    "duration": 0,
    "start_time": "2023-05-01T19:31:03.994Z"
   },
   {
    "duration": 0,
    "start_time": "2023-05-01T19:31:03.995Z"
   },
   {
    "duration": 0,
    "start_time": "2023-05-01T19:31:03.996Z"
   },
   {
    "duration": 0,
    "start_time": "2023-05-01T19:31:03.996Z"
   },
   {
    "duration": 0,
    "start_time": "2023-05-01T19:31:03.998Z"
   },
   {
    "duration": 0,
    "start_time": "2023-05-01T19:31:03.999Z"
   },
   {
    "duration": 0,
    "start_time": "2023-05-01T19:31:04.000Z"
   },
   {
    "duration": 0,
    "start_time": "2023-05-01T19:31:04.002Z"
   },
   {
    "duration": 0,
    "start_time": "2023-05-01T19:31:04.003Z"
   },
   {
    "duration": 0,
    "start_time": "2023-05-01T19:31:04.004Z"
   },
   {
    "duration": 0,
    "start_time": "2023-05-01T19:31:04.006Z"
   },
   {
    "duration": 0,
    "start_time": "2023-05-01T19:31:04.007Z"
   },
   {
    "duration": 0,
    "start_time": "2023-05-01T19:31:04.008Z"
   },
   {
    "duration": 0,
    "start_time": "2023-05-01T19:31:04.009Z"
   },
   {
    "duration": 0,
    "start_time": "2023-05-01T19:31:04.010Z"
   },
   {
    "duration": 0,
    "start_time": "2023-05-01T19:31:04.012Z"
   },
   {
    "duration": 0,
    "start_time": "2023-05-01T19:31:04.013Z"
   },
   {
    "duration": 0,
    "start_time": "2023-05-01T19:31:04.014Z"
   },
   {
    "duration": 1210,
    "start_time": "2023-05-01T19:31:25.685Z"
   },
   {
    "duration": 709,
    "start_time": "2023-05-01T19:33:19.627Z"
   },
   {
    "duration": 12,
    "start_time": "2023-05-01T19:34:57.865Z"
   },
   {
    "duration": 3,
    "start_time": "2023-05-01T19:35:03.633Z"
   },
   {
    "duration": 5,
    "start_time": "2023-05-01T19:35:27.427Z"
   },
   {
    "duration": 49,
    "start_time": "2023-05-01T19:35:35.639Z"
   },
   {
    "duration": 1132,
    "start_time": "2023-05-01T19:35:49.476Z"
   },
   {
    "duration": 5,
    "start_time": "2023-05-01T19:36:20.634Z"
   },
   {
    "duration": 53,
    "start_time": "2023-05-01T19:36:22.620Z"
   },
   {
    "duration": 54,
    "start_time": "2023-05-01T19:36:30.181Z"
   },
   {
    "duration": 1307,
    "start_time": "2023-05-01T19:36:33.256Z"
   },
   {
    "duration": 18,
    "start_time": "2023-05-01T19:37:02.988Z"
   },
   {
    "duration": 4,
    "start_time": "2023-05-01T19:37:24.141Z"
   },
   {
    "duration": 1303,
    "start_time": "2023-05-01T19:37:25.755Z"
   },
   {
    "duration": 1359,
    "start_time": "2023-05-01T19:38:07.984Z"
   },
   {
    "duration": 146,
    "start_time": "2023-05-01T19:38:15.944Z"
   },
   {
    "duration": 137,
    "start_time": "2023-05-01T19:38:24.506Z"
   },
   {
    "duration": 146,
    "start_time": "2023-05-01T19:38:32.382Z"
   },
   {
    "duration": 139,
    "start_time": "2023-05-01T19:38:46.185Z"
   },
   {
    "duration": 1307,
    "start_time": "2023-05-01T19:38:54.441Z"
   },
   {
    "duration": 45,
    "start_time": "2023-05-01T19:39:23.923Z"
   },
   {
    "duration": 1133,
    "start_time": "2023-05-01T19:39:27.323Z"
   },
   {
    "duration": 1340,
    "start_time": "2023-05-01T19:39:36.722Z"
   },
   {
    "duration": 129,
    "start_time": "2023-05-01T19:39:55.330Z"
   },
   {
    "duration": 1562,
    "start_time": "2023-05-01T19:42:44.190Z"
   },
   {
    "duration": 4,
    "start_time": "2023-05-01T19:42:45.754Z"
   },
   {
    "duration": 110,
    "start_time": "2023-05-01T19:42:45.759Z"
   },
   {
    "duration": 4,
    "start_time": "2023-05-01T19:42:45.871Z"
   },
   {
    "duration": 61,
    "start_time": "2023-05-01T19:42:45.877Z"
   },
   {
    "duration": 54,
    "start_time": "2023-05-01T19:42:45.940Z"
   },
   {
    "duration": 57,
    "start_time": "2023-05-01T19:42:45.995Z"
   },
   {
    "duration": 58,
    "start_time": "2023-05-01T19:42:46.053Z"
   },
   {
    "duration": 20,
    "start_time": "2023-05-01T19:42:46.113Z"
   },
   {
    "duration": 16,
    "start_time": "2023-05-01T19:42:46.134Z"
   },
   {
    "duration": 4,
    "start_time": "2023-05-01T19:42:46.152Z"
   },
   {
    "duration": 35,
    "start_time": "2023-05-01T19:42:46.158Z"
   },
   {
    "duration": 24,
    "start_time": "2023-05-01T19:42:46.195Z"
   },
   {
    "duration": 21,
    "start_time": "2023-05-01T19:42:46.222Z"
   },
   {
    "duration": 24,
    "start_time": "2023-05-01T19:42:46.245Z"
   },
   {
    "duration": 31,
    "start_time": "2023-05-01T19:42:46.271Z"
   },
   {
    "duration": 2,
    "start_time": "2023-05-01T19:42:46.304Z"
   },
   {
    "duration": 18,
    "start_time": "2023-05-01T19:42:46.307Z"
   },
   {
    "duration": 6,
    "start_time": "2023-05-01T19:42:46.327Z"
   },
   {
    "duration": 22,
    "start_time": "2023-05-01T19:42:46.334Z"
   },
   {
    "duration": 83,
    "start_time": "2023-05-01T19:42:46.357Z"
   },
   {
    "duration": 7,
    "start_time": "2023-05-01T19:42:46.441Z"
   },
   {
    "duration": 20,
    "start_time": "2023-05-01T19:42:46.449Z"
   },
   {
    "duration": 6,
    "start_time": "2023-05-01T19:42:46.470Z"
   },
   {
    "duration": 142,
    "start_time": "2023-05-01T19:42:46.478Z"
   },
   {
    "duration": 15,
    "start_time": "2023-05-01T19:42:46.622Z"
   },
   {
    "duration": 162,
    "start_time": "2023-05-01T19:42:46.638Z"
   },
   {
    "duration": 56,
    "start_time": "2023-05-01T19:42:46.802Z"
   },
   {
    "duration": 243,
    "start_time": "2023-05-01T19:42:46.859Z"
   },
   {
    "duration": 288,
    "start_time": "2023-05-01T19:42:47.105Z"
   },
   {
    "duration": 212,
    "start_time": "2023-05-01T19:42:47.395Z"
   },
   {
    "duration": 6,
    "start_time": "2023-05-01T19:42:47.609Z"
   },
   {
    "duration": 33,
    "start_time": "2023-05-01T19:42:47.616Z"
   },
   {
    "duration": 3,
    "start_time": "2023-05-01T19:42:47.650Z"
   },
   {
    "duration": 6,
    "start_time": "2023-05-01T19:42:47.654Z"
   },
   {
    "duration": 2069,
    "start_time": "2023-05-01T19:42:47.661Z"
   },
   {
    "duration": 3,
    "start_time": "2023-05-01T19:42:49.733Z"
   },
   {
    "duration": 11,
    "start_time": "2023-05-01T19:42:49.738Z"
   },
   {
    "duration": 10,
    "start_time": "2023-05-01T19:42:49.751Z"
   },
   {
    "duration": 12,
    "start_time": "2023-05-01T19:42:49.762Z"
   },
   {
    "duration": 3,
    "start_time": "2023-05-01T19:42:49.777Z"
   },
   {
    "duration": 20,
    "start_time": "2023-05-01T19:42:49.794Z"
   },
   {
    "duration": 37,
    "start_time": "2023-05-01T19:42:49.816Z"
   },
   {
    "duration": 8,
    "start_time": "2023-05-01T19:42:49.855Z"
   },
   {
    "duration": 58,
    "start_time": "2023-05-01T19:42:49.865Z"
   },
   {
    "duration": 4,
    "start_time": "2023-05-01T19:42:49.924Z"
   },
   {
    "duration": 26,
    "start_time": "2023-05-01T19:42:49.929Z"
   },
   {
    "duration": 6,
    "start_time": "2023-05-01T19:42:49.957Z"
   },
   {
    "duration": 49,
    "start_time": "2023-05-01T19:42:49.964Z"
   },
   {
    "duration": 601,
    "start_time": "2023-05-01T19:42:50.015Z"
   },
   {
    "duration": 4720,
    "start_time": "2023-05-01T19:42:50.617Z"
   },
   {
    "duration": 8,
    "start_time": "2023-05-01T19:42:55.338Z"
   },
   {
    "duration": 12,
    "start_time": "2023-05-01T19:42:55.393Z"
   },
   {
    "duration": 29,
    "start_time": "2023-05-01T19:42:55.493Z"
   },
   {
    "duration": 4750,
    "start_time": "2023-05-01T19:42:55.524Z"
   },
   {
    "duration": 192,
    "start_time": "2023-05-01T19:45:53.123Z"
   },
   {
    "duration": 46,
    "start_time": "2023-05-01T19:46:06.319Z"
   },
   {
    "duration": 19,
    "start_time": "2023-05-01T19:46:49.580Z"
   },
   {
    "duration": 15,
    "start_time": "2023-05-01T19:47:11.653Z"
   },
   {
    "duration": 15,
    "start_time": "2023-05-01T19:47:53.891Z"
   },
   {
    "duration": 199,
    "start_time": "2023-05-01T19:48:05.632Z"
   },
   {
    "duration": 159,
    "start_time": "2023-05-01T19:50:35.981Z"
   },
   {
    "duration": 659,
    "start_time": "2023-05-01T19:55:04.263Z"
   },
   {
    "duration": 521,
    "start_time": "2023-05-01T19:55:35.405Z"
   },
   {
    "duration": 512,
    "start_time": "2023-05-01T19:55:46.948Z"
   },
   {
    "duration": 504,
    "start_time": "2023-05-01T20:03:07.489Z"
   },
   {
    "duration": 1455,
    "start_time": "2023-05-01T20:04:46.017Z"
   },
   {
    "duration": 3,
    "start_time": "2023-05-01T20:04:47.474Z"
   },
   {
    "duration": 111,
    "start_time": "2023-05-01T20:04:47.479Z"
   },
   {
    "duration": 4,
    "start_time": "2023-05-01T20:04:47.592Z"
   },
   {
    "duration": 62,
    "start_time": "2023-05-01T20:04:47.598Z"
   },
   {
    "duration": 57,
    "start_time": "2023-05-01T20:04:47.661Z"
   },
   {
    "duration": 57,
    "start_time": "2023-05-01T20:04:47.719Z"
   },
   {
    "duration": 36,
    "start_time": "2023-05-01T20:04:47.793Z"
   },
   {
    "duration": 18,
    "start_time": "2023-05-01T20:04:47.831Z"
   },
   {
    "duration": 43,
    "start_time": "2023-05-01T20:04:47.851Z"
   },
   {
    "duration": 5,
    "start_time": "2023-05-01T20:04:47.895Z"
   },
   {
    "duration": 4,
    "start_time": "2023-05-01T20:04:47.901Z"
   },
   {
    "duration": 23,
    "start_time": "2023-05-01T20:04:47.907Z"
   },
   {
    "duration": 29,
    "start_time": "2023-05-01T20:04:47.932Z"
   },
   {
    "duration": 33,
    "start_time": "2023-05-01T20:04:47.963Z"
   },
   {
    "duration": 18,
    "start_time": "2023-05-01T20:04:47.997Z"
   },
   {
    "duration": 2,
    "start_time": "2023-05-01T20:04:48.017Z"
   },
   {
    "duration": 19,
    "start_time": "2023-05-01T20:04:48.021Z"
   },
   {
    "duration": 6,
    "start_time": "2023-05-01T20:04:48.042Z"
   },
   {
    "duration": 51,
    "start_time": "2023-05-01T20:04:48.050Z"
   },
   {
    "duration": 50,
    "start_time": "2023-05-01T20:04:48.103Z"
   },
   {
    "duration": 9,
    "start_time": "2023-05-01T20:04:48.155Z"
   },
   {
    "duration": 36,
    "start_time": "2023-05-01T20:04:48.166Z"
   },
   {
    "duration": 7,
    "start_time": "2023-05-01T20:04:48.204Z"
   },
   {
    "duration": 151,
    "start_time": "2023-05-01T20:04:48.212Z"
   },
   {
    "duration": 15,
    "start_time": "2023-05-01T20:04:48.364Z"
   },
   {
    "duration": 145,
    "start_time": "2023-05-01T20:04:48.393Z"
   },
   {
    "duration": 53,
    "start_time": "2023-05-01T20:04:48.541Z"
   },
   {
    "duration": 192,
    "start_time": "2023-05-01T20:04:48.596Z"
   },
   {
    "duration": 272,
    "start_time": "2023-05-01T20:04:48.790Z"
   },
   {
    "duration": 530,
    "start_time": "2023-05-01T20:04:49.063Z"
   },
   {
    "duration": 5,
    "start_time": "2023-05-01T20:04:49.595Z"
   },
   {
    "duration": 31,
    "start_time": "2023-05-01T20:04:49.601Z"
   },
   {
    "duration": 2,
    "start_time": "2023-05-01T20:04:49.634Z"
   },
   {
    "duration": 6,
    "start_time": "2023-05-01T20:04:49.637Z"
   },
   {
    "duration": 1906,
    "start_time": "2023-05-01T20:04:49.644Z"
   },
   {
    "duration": 2,
    "start_time": "2023-05-01T20:04:51.552Z"
   },
   {
    "duration": 21,
    "start_time": "2023-05-01T20:04:51.556Z"
   },
   {
    "duration": 22,
    "start_time": "2023-05-01T20:04:51.579Z"
   },
   {
    "duration": 17,
    "start_time": "2023-05-01T20:04:51.602Z"
   },
   {
    "duration": 16,
    "start_time": "2023-05-01T20:04:51.621Z"
   },
   {
    "duration": 52,
    "start_time": "2023-05-01T20:04:51.639Z"
   },
   {
    "duration": 34,
    "start_time": "2023-05-01T20:04:51.692Z"
   },
   {
    "duration": 9,
    "start_time": "2023-05-01T20:04:51.728Z"
   },
   {
    "duration": 54,
    "start_time": "2023-05-01T20:04:51.739Z"
   },
   {
    "duration": 4,
    "start_time": "2023-05-01T20:04:51.795Z"
   },
   {
    "duration": 45,
    "start_time": "2023-05-01T20:04:51.801Z"
   },
   {
    "duration": 16,
    "start_time": "2023-05-01T20:04:51.848Z"
   },
   {
    "duration": 51,
    "start_time": "2023-05-01T20:04:51.866Z"
   },
   {
    "duration": 521,
    "start_time": "2023-05-01T20:04:51.994Z"
   },
   {
    "duration": 4604,
    "start_time": "2023-05-01T20:04:52.517Z"
   },
   {
    "duration": 8,
    "start_time": "2023-05-01T20:04:57.123Z"
   },
   {
    "duration": 102,
    "start_time": "2023-05-01T20:04:57.195Z"
   },
   {
    "duration": 28,
    "start_time": "2023-05-01T20:04:57.298Z"
   },
   {
    "duration": 4833,
    "start_time": "2023-05-01T20:04:57.327Z"
   },
   {
    "duration": 4569,
    "start_time": "2023-05-01T20:05:09.443Z"
   },
   {
    "duration": 21,
    "start_time": "2023-05-01T20:06:37.597Z"
   },
   {
    "duration": 135,
    "start_time": "2023-05-01T20:07:52.615Z"
   },
   {
    "duration": 6,
    "start_time": "2023-05-01T20:09:04.015Z"
   },
   {
    "duration": 137,
    "start_time": "2023-05-01T20:09:06.315Z"
   },
   {
    "duration": 177,
    "start_time": "2023-05-01T20:09:14.957Z"
   },
   {
    "duration": 15,
    "start_time": "2023-05-01T20:10:08.976Z"
   },
   {
    "duration": 30616,
    "start_time": "2023-05-01T20:10:50.503Z"
   },
   {
    "duration": 4532,
    "start_time": "2023-05-01T20:11:36.892Z"
   },
   {
    "duration": 2901,
    "start_time": "2023-05-01T20:12:10.518Z"
   },
   {
    "duration": 1067,
    "start_time": "2023-05-01T20:12:19.031Z"
   },
   {
    "duration": 9347,
    "start_time": "2023-05-01T20:12:24.925Z"
   },
   {
    "duration": 4754,
    "start_time": "2023-05-01T20:12:52.698Z"
   },
   {
    "duration": 566,
    "start_time": "2023-05-01T20:14:21.255Z"
   },
   {
    "duration": 9,
    "start_time": "2023-05-01T20:17:03.459Z"
   },
   {
    "duration": 5,
    "start_time": "2023-05-01T20:17:11.455Z"
   },
   {
    "duration": 6,
    "start_time": "2023-05-01T20:17:12.095Z"
   },
   {
    "duration": 5,
    "start_time": "2023-05-01T20:17:14.347Z"
   },
   {
    "duration": 4,
    "start_time": "2023-05-01T20:17:26.056Z"
   },
   {
    "duration": 1448,
    "start_time": "2023-05-01T20:17:33.989Z"
   },
   {
    "duration": 3,
    "start_time": "2023-05-01T20:17:35.439Z"
   },
   {
    "duration": 110,
    "start_time": "2023-05-01T20:17:35.444Z"
   },
   {
    "duration": 4,
    "start_time": "2023-05-01T20:17:35.556Z"
   },
   {
    "duration": 72,
    "start_time": "2023-05-01T20:17:35.562Z"
   },
   {
    "duration": 39,
    "start_time": "2023-05-01T20:17:35.636Z"
   },
   {
    "duration": 56,
    "start_time": "2023-05-01T20:17:35.693Z"
   },
   {
    "duration": 56,
    "start_time": "2023-05-01T20:17:35.751Z"
   },
   {
    "duration": 24,
    "start_time": "2023-05-01T20:17:35.809Z"
   },
   {
    "duration": 22,
    "start_time": "2023-05-01T20:17:35.835Z"
   },
   {
    "duration": 8,
    "start_time": "2023-05-01T20:17:35.858Z"
   },
   {
    "duration": 6,
    "start_time": "2023-05-01T20:17:35.867Z"
   },
   {
    "duration": 34,
    "start_time": "2023-05-01T20:17:35.875Z"
   },
   {
    "duration": 23,
    "start_time": "2023-05-01T20:17:35.912Z"
   },
   {
    "duration": 37,
    "start_time": "2023-05-01T20:17:35.937Z"
   },
   {
    "duration": 24,
    "start_time": "2023-05-01T20:17:35.976Z"
   },
   {
    "duration": 2,
    "start_time": "2023-05-01T20:17:36.002Z"
   },
   {
    "duration": 26,
    "start_time": "2023-05-01T20:17:36.006Z"
   },
   {
    "duration": 7,
    "start_time": "2023-05-01T20:17:36.034Z"
   },
   {
    "duration": 32,
    "start_time": "2023-05-01T20:17:36.042Z"
   },
   {
    "duration": 56,
    "start_time": "2023-05-01T20:17:36.075Z"
   },
   {
    "duration": 7,
    "start_time": "2023-05-01T20:17:36.133Z"
   },
   {
    "duration": 21,
    "start_time": "2023-05-01T20:17:36.141Z"
   },
   {
    "duration": 7,
    "start_time": "2023-05-01T20:17:36.164Z"
   },
   {
    "duration": 133,
    "start_time": "2023-05-01T20:17:36.173Z"
   },
   {
    "duration": 13,
    "start_time": "2023-05-01T20:17:36.307Z"
   },
   {
    "duration": 144,
    "start_time": "2023-05-01T20:17:36.322Z"
   },
   {
    "duration": 61,
    "start_time": "2023-05-01T20:17:36.468Z"
   },
   {
    "duration": 196,
    "start_time": "2023-05-01T20:17:36.532Z"
   },
   {
    "duration": 277,
    "start_time": "2023-05-01T20:17:36.730Z"
   },
   {
    "duration": 494,
    "start_time": "2023-05-01T20:17:37.009Z"
   },
   {
    "duration": 6,
    "start_time": "2023-05-01T20:17:37.505Z"
   },
   {
    "duration": 29,
    "start_time": "2023-05-01T20:17:37.513Z"
   },
   {
    "duration": 3,
    "start_time": "2023-05-01T20:17:37.543Z"
   },
   {
    "duration": 9,
    "start_time": "2023-05-01T20:17:37.547Z"
   },
   {
    "duration": 535,
    "start_time": "2023-05-01T20:17:37.558Z"
   },
   {
    "duration": 2,
    "start_time": "2023-05-01T20:17:38.095Z"
   },
   {
    "duration": 129,
    "start_time": "2023-05-01T20:17:38.099Z"
   },
   {
    "duration": 0,
    "start_time": "2023-05-01T20:17:38.231Z"
   },
   {
    "duration": 0,
    "start_time": "2023-05-01T20:17:38.233Z"
   },
   {
    "duration": 0,
    "start_time": "2023-05-01T20:17:38.234Z"
   },
   {
    "duration": 0,
    "start_time": "2023-05-01T20:17:38.236Z"
   },
   {
    "duration": 0,
    "start_time": "2023-05-01T20:17:38.237Z"
   },
   {
    "duration": 0,
    "start_time": "2023-05-01T20:17:38.239Z"
   },
   {
    "duration": 0,
    "start_time": "2023-05-01T20:17:38.241Z"
   },
   {
    "duration": 0,
    "start_time": "2023-05-01T20:17:38.242Z"
   },
   {
    "duration": 0,
    "start_time": "2023-05-01T20:17:38.244Z"
   },
   {
    "duration": 0,
    "start_time": "2023-05-01T20:17:38.246Z"
   },
   {
    "duration": 0,
    "start_time": "2023-05-01T20:17:38.247Z"
   },
   {
    "duration": 0,
    "start_time": "2023-05-01T20:17:38.249Z"
   },
   {
    "duration": 0,
    "start_time": "2023-05-01T20:17:38.252Z"
   },
   {
    "duration": 0,
    "start_time": "2023-05-01T20:17:38.254Z"
   },
   {
    "duration": 0,
    "start_time": "2023-05-01T20:17:38.255Z"
   },
   {
    "duration": 0,
    "start_time": "2023-05-01T20:17:38.257Z"
   },
   {
    "duration": 0,
    "start_time": "2023-05-01T20:17:38.293Z"
   },
   {
    "duration": 0,
    "start_time": "2023-05-01T20:17:38.294Z"
   },
   {
    "duration": 0,
    "start_time": "2023-05-01T20:17:38.295Z"
   },
   {
    "duration": 5,
    "start_time": "2023-05-01T20:17:52.714Z"
   },
   {
    "duration": 8,
    "start_time": "2023-05-01T20:17:53.590Z"
   },
   {
    "duration": 3,
    "start_time": "2023-05-01T20:17:54.337Z"
   },
   {
    "duration": 3,
    "start_time": "2023-05-01T20:17:57.560Z"
   },
   {
    "duration": 21,
    "start_time": "2023-05-01T20:17:58.515Z"
   },
   {
    "duration": 17,
    "start_time": "2023-05-01T20:18:13.853Z"
   },
   {
    "duration": 33,
    "start_time": "2023-05-01T20:18:17.445Z"
   },
   {
    "duration": 30,
    "start_time": "2023-05-01T20:18:25.878Z"
   },
   {
    "duration": 13,
    "start_time": "2023-05-01T20:18:27.936Z"
   },
   {
    "duration": 8,
    "start_time": "2023-05-01T20:18:33.783Z"
   },
   {
    "duration": 32,
    "start_time": "2023-05-01T20:18:34.707Z"
   },
   {
    "duration": 4,
    "start_time": "2023-05-01T20:18:53.343Z"
   },
   {
    "duration": 15,
    "start_time": "2023-05-01T20:18:53.868Z"
   },
   {
    "duration": 6,
    "start_time": "2023-05-01T20:18:54.298Z"
   },
   {
    "duration": 88,
    "start_time": "2023-05-01T20:18:59.292Z"
   },
   {
    "duration": 210,
    "start_time": "2023-05-01T20:19:24.288Z"
   },
   {
    "duration": 172,
    "start_time": "2023-05-01T20:19:47.624Z"
   },
   {
    "duration": 35,
    "start_time": "2023-05-01T20:19:57.677Z"
   },
   {
    "duration": 67,
    "start_time": "2023-05-01T20:20:28.116Z"
   },
   {
    "duration": 505,
    "start_time": "2023-05-01T20:20:36.680Z"
   },
   {
    "duration": 11393,
    "start_time": "2023-05-01T20:21:07.544Z"
   },
   {
    "duration": 11453,
    "start_time": "2023-05-01T20:21:36.997Z"
   },
   {
    "duration": 340,
    "start_time": "2023-05-01T20:21:49.229Z"
   },
   {
    "duration": 1497,
    "start_time": "2023-05-01T20:24:09.466Z"
   },
   {
    "duration": 3,
    "start_time": "2023-05-01T20:24:10.965Z"
   },
   {
    "duration": 114,
    "start_time": "2023-05-01T20:24:10.970Z"
   },
   {
    "duration": 5,
    "start_time": "2023-05-01T20:24:11.086Z"
   },
   {
    "duration": 57,
    "start_time": "2023-05-01T20:24:11.093Z"
   },
   {
    "duration": 58,
    "start_time": "2023-05-01T20:24:11.152Z"
   },
   {
    "duration": 67,
    "start_time": "2023-05-01T20:24:11.211Z"
   },
   {
    "duration": 36,
    "start_time": "2023-05-01T20:24:11.293Z"
   },
   {
    "duration": 18,
    "start_time": "2023-05-01T20:24:11.331Z"
   },
   {
    "duration": 16,
    "start_time": "2023-05-01T20:24:11.350Z"
   },
   {
    "duration": 5,
    "start_time": "2023-05-01T20:24:11.393Z"
   },
   {
    "duration": 4,
    "start_time": "2023-05-01T20:24:11.400Z"
   },
   {
    "duration": 20,
    "start_time": "2023-05-01T20:24:11.406Z"
   },
   {
    "duration": 19,
    "start_time": "2023-05-01T20:24:11.429Z"
   },
   {
    "duration": 50,
    "start_time": "2023-05-01T20:24:11.450Z"
   },
   {
    "duration": 20,
    "start_time": "2023-05-01T20:24:11.501Z"
   },
   {
    "duration": 2,
    "start_time": "2023-05-01T20:24:11.523Z"
   },
   {
    "duration": 19,
    "start_time": "2023-05-01T20:24:11.527Z"
   },
   {
    "duration": 6,
    "start_time": "2023-05-01T20:24:11.548Z"
   },
   {
    "duration": 51,
    "start_time": "2023-05-01T20:24:11.556Z"
   },
   {
    "duration": 44,
    "start_time": "2023-05-01T20:24:11.608Z"
   },
   {
    "duration": 7,
    "start_time": "2023-05-01T20:24:11.653Z"
   },
   {
    "duration": 33,
    "start_time": "2023-05-01T20:24:11.662Z"
   },
   {
    "duration": 7,
    "start_time": "2023-05-01T20:24:11.697Z"
   },
   {
    "duration": 152,
    "start_time": "2023-05-01T20:24:11.705Z"
   },
   {
    "duration": 17,
    "start_time": "2023-05-01T20:24:11.859Z"
   },
   {
    "duration": 159,
    "start_time": "2023-05-01T20:24:11.878Z"
   },
   {
    "duration": 48,
    "start_time": "2023-05-01T20:24:12.038Z"
   },
   {
    "duration": 196,
    "start_time": "2023-05-01T20:24:12.093Z"
   },
   {
    "duration": 290,
    "start_time": "2023-05-01T20:24:12.293Z"
   },
   {
    "duration": 495,
    "start_time": "2023-05-01T20:24:12.584Z"
   },
   {
    "duration": 13,
    "start_time": "2023-05-01T20:24:13.080Z"
   },
   {
    "duration": 28,
    "start_time": "2023-05-01T20:24:13.094Z"
   },
   {
    "duration": 4,
    "start_time": "2023-05-01T20:24:13.123Z"
   },
   {
    "duration": 5,
    "start_time": "2023-05-01T20:24:13.128Z"
   },
   {
    "duration": 560,
    "start_time": "2023-05-01T20:24:13.134Z"
   },
   {
    "duration": 2,
    "start_time": "2023-05-01T20:24:13.696Z"
   },
   {
    "duration": 13,
    "start_time": "2023-05-01T20:24:13.700Z"
   },
   {
    "duration": 6,
    "start_time": "2023-05-01T20:24:13.715Z"
   },
   {
    "duration": 6,
    "start_time": "2023-05-01T20:24:13.723Z"
   },
   {
    "duration": 4,
    "start_time": "2023-05-01T20:24:13.733Z"
   },
   {
    "duration": 20,
    "start_time": "2023-05-01T20:24:13.739Z"
   },
   {
    "duration": 56,
    "start_time": "2023-05-01T20:24:13.761Z"
   },
   {
    "duration": 7,
    "start_time": "2023-05-01T20:24:13.819Z"
   },
   {
    "duration": 32,
    "start_time": "2023-05-01T20:24:13.828Z"
   },
   {
    "duration": 4,
    "start_time": "2023-05-01T20:24:13.861Z"
   },
   {
    "duration": 32,
    "start_time": "2023-05-01T20:24:13.867Z"
   },
   {
    "duration": 5,
    "start_time": "2023-05-01T20:24:13.901Z"
   },
   {
    "duration": 290,
    "start_time": "2023-05-01T20:24:13.907Z"
   },
   {
    "duration": 571,
    "start_time": "2023-05-01T20:24:14.200Z"
   },
   {
    "duration": 412,
    "start_time": "2023-05-01T20:24:14.773Z"
   },
   {
    "duration": 9,
    "start_time": "2023-05-01T20:24:15.187Z"
   },
   {
    "duration": 96,
    "start_time": "2023-05-01T20:24:15.198Z"
   },
   {
    "duration": 112,
    "start_time": "2023-05-01T20:24:15.297Z"
   },
   {
    "duration": 4626,
    "start_time": "2023-05-01T20:24:15.411Z"
   },
   {
    "duration": 15,
    "start_time": "2023-05-01T20:24:20.039Z"
   },
   {
    "duration": 0,
    "start_time": "2023-05-01T20:24:20.056Z"
   },
   {
    "duration": 104,
    "start_time": "2023-05-01T20:25:03.098Z"
   },
   {
    "duration": 71,
    "start_time": "2023-05-01T20:25:26.721Z"
   },
   {
    "duration": 428,
    "start_time": "2023-05-01T20:25:29.507Z"
   },
   {
    "duration": 283,
    "start_time": "2023-05-01T20:26:06.253Z"
   },
   {
    "duration": 276,
    "start_time": "2023-05-01T20:26:18.960Z"
   },
   {
    "duration": 4588,
    "start_time": "2023-05-01T20:26:53.292Z"
   },
   {
    "duration": 4637,
    "start_time": "2023-05-01T20:27:16.137Z"
   },
   {
    "duration": 20,
    "start_time": "2023-05-01T20:27:20.776Z"
   },
   {
    "duration": 1400,
    "start_time": "2023-05-01T20:29:44.288Z"
   },
   {
    "duration": 4,
    "start_time": "2023-05-01T20:29:45.690Z"
   },
   {
    "duration": 118,
    "start_time": "2023-05-01T20:29:45.696Z"
   },
   {
    "duration": 5,
    "start_time": "2023-05-01T20:29:45.815Z"
   },
   {
    "duration": 69,
    "start_time": "2023-05-01T20:29:45.822Z"
   },
   {
    "duration": 40,
    "start_time": "2023-05-01T20:29:45.893Z"
   },
   {
    "duration": 75,
    "start_time": "2023-05-01T20:29:45.934Z"
   },
   {
    "duration": 36,
    "start_time": "2023-05-01T20:29:46.011Z"
   },
   {
    "duration": 18,
    "start_time": "2023-05-01T20:29:46.049Z"
   },
   {
    "duration": 40,
    "start_time": "2023-05-01T20:29:46.069Z"
   },
   {
    "duration": 5,
    "start_time": "2023-05-01T20:29:46.111Z"
   },
   {
    "duration": 4,
    "start_time": "2023-05-01T20:29:46.118Z"
   },
   {
    "duration": 20,
    "start_time": "2023-05-01T20:29:46.123Z"
   },
   {
    "duration": 21,
    "start_time": "2023-05-01T20:29:46.147Z"
   },
   {
    "duration": 48,
    "start_time": "2023-05-01T20:29:46.170Z"
   },
   {
    "duration": 19,
    "start_time": "2023-05-01T20:29:46.220Z"
   },
   {
    "duration": 2,
    "start_time": "2023-05-01T20:29:46.241Z"
   },
   {
    "duration": 48,
    "start_time": "2023-05-01T20:29:46.245Z"
   },
   {
    "duration": 7,
    "start_time": "2023-05-01T20:29:46.297Z"
   },
   {
    "duration": 22,
    "start_time": "2023-05-01T20:29:46.306Z"
   },
   {
    "duration": 68,
    "start_time": "2023-05-01T20:29:46.330Z"
   },
   {
    "duration": 8,
    "start_time": "2023-05-01T20:29:46.400Z"
   },
   {
    "duration": 18,
    "start_time": "2023-05-01T20:29:46.409Z"
   },
   {
    "duration": 7,
    "start_time": "2023-05-01T20:29:46.429Z"
   },
   {
    "duration": 139,
    "start_time": "2023-05-01T20:29:46.438Z"
   },
   {
    "duration": 23,
    "start_time": "2023-05-01T20:29:46.579Z"
   },
   {
    "duration": 142,
    "start_time": "2023-05-01T20:29:46.603Z"
   },
   {
    "duration": 53,
    "start_time": "2023-05-01T20:29:46.747Z"
   },
   {
    "duration": 199,
    "start_time": "2023-05-01T20:29:46.802Z"
   },
   {
    "duration": 196,
    "start_time": "2023-05-01T20:29:47.003Z"
   },
   {
    "duration": 587,
    "start_time": "2023-05-01T20:29:47.201Z"
   },
   {
    "duration": 6,
    "start_time": "2023-05-01T20:29:47.790Z"
   },
   {
    "duration": 33,
    "start_time": "2023-05-01T20:29:47.798Z"
   },
   {
    "duration": 2,
    "start_time": "2023-05-01T20:29:47.833Z"
   },
   {
    "duration": 3,
    "start_time": "2023-05-01T20:29:47.837Z"
   },
   {
    "duration": 555,
    "start_time": "2023-05-01T20:29:47.842Z"
   },
   {
    "duration": 3,
    "start_time": "2023-05-01T20:29:48.399Z"
   },
   {
    "duration": 11,
    "start_time": "2023-05-01T20:29:48.404Z"
   },
   {
    "duration": 8,
    "start_time": "2023-05-01T20:29:48.416Z"
   },
   {
    "duration": 6,
    "start_time": "2023-05-01T20:29:48.426Z"
   },
   {
    "duration": 5,
    "start_time": "2023-05-01T20:29:48.435Z"
   },
   {
    "duration": 21,
    "start_time": "2023-05-01T20:29:48.442Z"
   },
   {
    "duration": 57,
    "start_time": "2023-05-01T20:29:48.465Z"
   },
   {
    "duration": 8,
    "start_time": "2023-05-01T20:29:48.524Z"
   },
   {
    "duration": 37,
    "start_time": "2023-05-01T20:29:48.533Z"
   },
   {
    "duration": 23,
    "start_time": "2023-05-01T20:29:48.571Z"
   },
   {
    "duration": 16,
    "start_time": "2023-05-01T20:29:48.595Z"
   },
   {
    "duration": 5,
    "start_time": "2023-05-01T20:29:48.612Z"
   },
   {
    "duration": 80,
    "start_time": "2023-05-01T20:29:48.618Z"
   },
   {
    "duration": 577,
    "start_time": "2023-05-01T20:29:48.700Z"
   },
   {
    "duration": 4625,
    "start_time": "2023-05-01T20:29:49.279Z"
   },
   {
    "duration": 117,
    "start_time": "2023-05-01T20:29:53.905Z"
   },
   {
    "duration": 0,
    "start_time": "2023-05-01T20:29:54.023Z"
   },
   {
    "duration": 0,
    "start_time": "2023-05-01T20:29:54.024Z"
   },
   {
    "duration": 0,
    "start_time": "2023-05-01T20:29:54.025Z"
   },
   {
    "duration": 0,
    "start_time": "2023-05-01T20:29:54.027Z"
   },
   {
    "duration": 0,
    "start_time": "2023-05-01T20:29:54.028Z"
   },
   {
    "duration": 85,
    "start_time": "2023-05-01T20:30:35.112Z"
   },
   {
    "duration": 437,
    "start_time": "2023-05-01T20:30:46.139Z"
   },
   {
    "duration": 4763,
    "start_time": "2023-05-01T20:30:47.504Z"
   },
   {
    "duration": 31,
    "start_time": "2023-05-01T20:30:52.269Z"
   },
   {
    "duration": 12,
    "start_time": "2023-05-01T20:30:55.333Z"
   },
   {
    "duration": 55,
    "start_time": "2023-05-01T20:30:55.348Z"
   },
   {
    "duration": 118,
    "start_time": "2023-05-01T20:30:55.405Z"
   },
   {
    "duration": 4733,
    "start_time": "2023-05-01T20:30:55.525Z"
   },
   {
    "duration": 16,
    "start_time": "2023-05-01T20:31:00.260Z"
   },
   {
    "duration": 0,
    "start_time": "2023-05-01T20:31:00.278Z"
   },
   {
    "duration": 1895,
    "start_time": "2023-05-03T05:58:27.135Z"
   },
   {
    "duration": 3,
    "start_time": "2023-05-03T05:58:29.032Z"
   },
   {
    "duration": 187,
    "start_time": "2023-05-03T05:58:29.036Z"
   },
   {
    "duration": 4,
    "start_time": "2023-05-03T05:58:29.225Z"
   },
   {
    "duration": 80,
    "start_time": "2023-05-03T05:58:29.230Z"
   },
   {
    "duration": 34,
    "start_time": "2023-05-03T05:58:29.312Z"
   },
   {
    "duration": 49,
    "start_time": "2023-05-03T05:58:29.347Z"
   },
   {
    "duration": 53,
    "start_time": "2023-05-03T05:58:29.397Z"
   },
   {
    "duration": 16,
    "start_time": "2023-05-03T05:58:29.451Z"
   },
   {
    "duration": 14,
    "start_time": "2023-05-03T05:58:29.469Z"
   },
   {
    "duration": 16,
    "start_time": "2023-05-03T05:58:29.484Z"
   },
   {
    "duration": 10,
    "start_time": "2023-05-03T05:58:29.502Z"
   },
   {
    "duration": 16,
    "start_time": "2023-05-03T05:58:29.648Z"
   },
   {
    "duration": 16,
    "start_time": "2023-05-03T05:58:30.453Z"
   },
   {
    "duration": 23,
    "start_time": "2023-05-03T05:58:30.882Z"
   },
   {
    "duration": 19,
    "start_time": "2023-05-03T05:58:31.521Z"
   },
   {
    "duration": 3,
    "start_time": "2023-05-03T05:58:32.837Z"
   },
   {
    "duration": 17,
    "start_time": "2023-05-03T05:58:33.052Z"
   },
   {
    "duration": 7,
    "start_time": "2023-05-03T05:58:37.710Z"
   },
   {
    "duration": 19,
    "start_time": "2023-05-03T05:58:38.205Z"
   },
   {
    "duration": 48,
    "start_time": "2023-05-03T11:54:11.560Z"
   },
   {
    "duration": 2030,
    "start_time": "2023-05-03T11:54:30.318Z"
   },
   {
    "duration": 3,
    "start_time": "2023-05-03T11:54:32.350Z"
   },
   {
    "duration": 313,
    "start_time": "2023-05-03T11:54:32.354Z"
   },
   {
    "duration": 4,
    "start_time": "2023-05-03T11:54:32.669Z"
   },
   {
    "duration": 80,
    "start_time": "2023-05-03T11:54:32.675Z"
   },
   {
    "duration": 35,
    "start_time": "2023-05-03T11:54:32.756Z"
   },
   {
    "duration": 66,
    "start_time": "2023-05-03T11:54:32.793Z"
   },
   {
    "duration": 33,
    "start_time": "2023-05-03T11:54:32.861Z"
   },
   {
    "duration": 32,
    "start_time": "2023-05-03T11:54:32.895Z"
   },
   {
    "duration": 14,
    "start_time": "2023-05-03T11:54:32.929Z"
   },
   {
    "duration": 4,
    "start_time": "2023-05-03T11:54:32.945Z"
   },
   {
    "duration": 4,
    "start_time": "2023-05-03T11:54:32.950Z"
   },
   {
    "duration": 17,
    "start_time": "2023-05-03T11:54:32.955Z"
   },
   {
    "duration": 49,
    "start_time": "2023-05-03T11:54:32.974Z"
   },
   {
    "duration": 22,
    "start_time": "2023-05-03T11:54:33.025Z"
   },
   {
    "duration": 16,
    "start_time": "2023-05-03T11:54:33.048Z"
   },
   {
    "duration": 2,
    "start_time": "2023-05-03T11:54:33.066Z"
   },
   {
    "duration": 18,
    "start_time": "2023-05-03T11:54:33.069Z"
   },
   {
    "duration": 30,
    "start_time": "2023-05-03T11:54:33.088Z"
   },
   {
    "duration": 20,
    "start_time": "2023-05-03T11:54:33.120Z"
   },
   {
    "duration": 2,
    "start_time": "2023-05-03T11:54:33.141Z"
   },
   {
    "duration": 12,
    "start_time": "2023-05-03T11:54:33.144Z"
   },
   {
    "duration": 7,
    "start_time": "2023-05-03T11:54:46.165Z"
   },
   {
    "duration": 4,
    "start_time": "2023-05-03T11:56:50.020Z"
   },
   {
    "duration": 3,
    "start_time": "2023-05-03T11:56:50.033Z"
   },
   {
    "duration": 114,
    "start_time": "2023-05-03T11:56:50.038Z"
   },
   {
    "duration": 4,
    "start_time": "2023-05-03T11:56:50.153Z"
   },
   {
    "duration": 51,
    "start_time": "2023-05-03T11:56:50.158Z"
   },
   {
    "duration": 35,
    "start_time": "2023-05-03T11:56:50.211Z"
   },
   {
    "duration": 51,
    "start_time": "2023-05-03T11:56:50.248Z"
   },
   {
    "duration": 32,
    "start_time": "2023-05-03T11:56:50.317Z"
   },
   {
    "duration": 19,
    "start_time": "2023-05-03T11:56:50.351Z"
   },
   {
    "duration": 15,
    "start_time": "2023-05-03T11:56:50.371Z"
   },
   {
    "duration": 30,
    "start_time": "2023-05-03T11:56:50.387Z"
   },
   {
    "duration": 3,
    "start_time": "2023-05-03T11:56:50.419Z"
   },
   {
    "duration": 21,
    "start_time": "2023-05-03T11:56:50.424Z"
   },
   {
    "duration": 25,
    "start_time": "2023-05-03T11:56:50.446Z"
   },
   {
    "duration": 22,
    "start_time": "2023-05-03T11:56:50.474Z"
   },
   {
    "duration": 33,
    "start_time": "2023-05-03T11:56:50.498Z"
   },
   {
    "duration": 2,
    "start_time": "2023-05-03T11:56:50.533Z"
   },
   {
    "duration": 20,
    "start_time": "2023-05-03T11:56:50.537Z"
   },
   {
    "duration": 2,
    "start_time": "2023-05-03T11:56:50.559Z"
   },
   {
    "duration": 37,
    "start_time": "2023-05-03T11:56:50.563Z"
   },
   {
    "duration": 2,
    "start_time": "2023-05-03T11:56:50.602Z"
   },
   {
    "duration": 46,
    "start_time": "2023-05-03T11:56:50.606Z"
   },
   {
    "duration": 4,
    "start_time": "2023-05-03T12:03:40.226Z"
   },
   {
    "duration": 4,
    "start_time": "2023-05-03T12:03:40.232Z"
   },
   {
    "duration": 119,
    "start_time": "2023-05-03T12:03:40.247Z"
   },
   {
    "duration": 4,
    "start_time": "2023-05-03T12:03:40.368Z"
   },
   {
    "duration": 65,
    "start_time": "2023-05-03T12:03:40.374Z"
   },
   {
    "duration": 37,
    "start_time": "2023-05-03T12:03:40.441Z"
   },
   {
    "duration": 77,
    "start_time": "2023-05-03T12:03:40.480Z"
   },
   {
    "duration": 37,
    "start_time": "2023-05-03T12:03:40.559Z"
   },
   {
    "duration": 37,
    "start_time": "2023-05-03T12:03:40.597Z"
   },
   {
    "duration": 14,
    "start_time": "2023-05-03T12:03:40.636Z"
   },
   {
    "duration": 5,
    "start_time": "2023-05-03T12:03:40.652Z"
   },
   {
    "duration": 2,
    "start_time": "2023-05-03T12:03:40.659Z"
   },
   {
    "duration": 16,
    "start_time": "2023-05-03T12:03:40.663Z"
   },
   {
    "duration": 48,
    "start_time": "2023-05-03T12:03:40.680Z"
   },
   {
    "duration": 23,
    "start_time": "2023-05-03T12:03:40.729Z"
   },
   {
    "duration": 18,
    "start_time": "2023-05-03T12:03:40.754Z"
   },
   {
    "duration": 3,
    "start_time": "2023-05-03T12:03:40.773Z"
   },
   {
    "duration": 40,
    "start_time": "2023-05-03T12:03:40.777Z"
   },
   {
    "duration": 2,
    "start_time": "2023-05-03T12:03:40.819Z"
   },
   {
    "duration": 21,
    "start_time": "2023-05-03T12:03:40.823Z"
   },
   {
    "duration": 2,
    "start_time": "2023-05-03T12:03:40.846Z"
   },
   {
    "duration": 5,
    "start_time": "2023-05-03T12:03:40.850Z"
   },
   {
    "duration": 9,
    "start_time": "2023-05-03T12:03:40.857Z"
   },
   {
    "duration": 163,
    "start_time": "2023-05-03T12:03:40.868Z"
   },
   {
    "duration": 231,
    "start_time": "2023-05-03T12:08:14.123Z"
   },
   {
    "duration": 102,
    "start_time": "2023-05-03T12:08:43.554Z"
   },
   {
    "duration": 109,
    "start_time": "2023-05-03T12:09:47.241Z"
   },
   {
    "duration": 173,
    "start_time": "2023-05-03T12:16:19.826Z"
   },
   {
    "duration": 104,
    "start_time": "2023-05-03T12:16:44.338Z"
   },
   {
    "duration": 109,
    "start_time": "2023-05-03T12:16:57.620Z"
   },
   {
    "duration": 124,
    "start_time": "2023-05-03T12:18:13.817Z"
   },
   {
    "duration": 106,
    "start_time": "2023-05-03T12:18:33.033Z"
   },
   {
    "duration": 115,
    "start_time": "2023-05-03T12:18:47.261Z"
   },
   {
    "duration": 122,
    "start_time": "2023-05-03T12:19:06.658Z"
   },
   {
    "duration": 101,
    "start_time": "2023-05-03T12:19:13.119Z"
   },
   {
    "duration": 88,
    "start_time": "2023-05-03T12:19:24.026Z"
   },
   {
    "duration": 126,
    "start_time": "2023-05-03T12:22:44.120Z"
   },
   {
    "duration": 105,
    "start_time": "2023-05-03T12:22:53.864Z"
   },
   {
    "duration": 102,
    "start_time": "2023-05-03T12:23:02.432Z"
   },
   {
    "duration": 13,
    "start_time": "2023-05-03T12:26:42.264Z"
   },
   {
    "duration": 52,
    "start_time": "2023-05-03T12:27:13.757Z"
   },
   {
    "duration": 16,
    "start_time": "2023-05-03T12:27:29.616Z"
   },
   {
    "duration": 108,
    "start_time": "2023-05-03T12:27:36.842Z"
   },
   {
    "duration": 95,
    "start_time": "2023-05-03T12:27:45.044Z"
   },
   {
    "duration": 112,
    "start_time": "2023-05-03T12:27:56.813Z"
   },
   {
    "duration": 97,
    "start_time": "2023-05-03T12:28:06.467Z"
   },
   {
    "duration": 232,
    "start_time": "2023-05-03T12:32:48.501Z"
   },
   {
    "duration": 1343,
    "start_time": "2023-05-03T12:34:44.709Z"
   },
   {
    "duration": 3,
    "start_time": "2023-05-03T12:34:46.053Z"
   },
   {
    "duration": 114,
    "start_time": "2023-05-03T12:34:46.058Z"
   },
   {
    "duration": 4,
    "start_time": "2023-05-03T12:34:46.175Z"
   },
   {
    "duration": 54,
    "start_time": "2023-05-03T12:34:46.180Z"
   },
   {
    "duration": 33,
    "start_time": "2023-05-03T12:34:46.236Z"
   },
   {
    "duration": 65,
    "start_time": "2023-05-03T12:34:46.270Z"
   },
   {
    "duration": 31,
    "start_time": "2023-05-03T12:34:46.336Z"
   },
   {
    "duration": 17,
    "start_time": "2023-05-03T12:34:46.369Z"
   },
   {
    "duration": 39,
    "start_time": "2023-05-03T12:34:46.389Z"
   },
   {
    "duration": 5,
    "start_time": "2023-05-03T12:34:46.430Z"
   },
   {
    "duration": 4,
    "start_time": "2023-05-03T12:34:46.436Z"
   },
   {
    "duration": 16,
    "start_time": "2023-05-03T12:34:46.441Z"
   },
   {
    "duration": 23,
    "start_time": "2023-05-03T12:34:46.458Z"
   },
   {
    "duration": 45,
    "start_time": "2023-05-03T12:34:46.482Z"
   },
   {
    "duration": 18,
    "start_time": "2023-05-03T12:34:46.528Z"
   },
   {
    "duration": 2,
    "start_time": "2023-05-03T12:34:46.548Z"
   },
   {
    "duration": 17,
    "start_time": "2023-05-03T12:34:46.551Z"
   },
   {
    "duration": 3,
    "start_time": "2023-05-03T12:34:46.569Z"
   },
   {
    "duration": 44,
    "start_time": "2023-05-03T12:34:46.573Z"
   },
   {
    "duration": 2,
    "start_time": "2023-05-03T12:34:46.619Z"
   },
   {
    "duration": 4,
    "start_time": "2023-05-03T12:34:46.622Z"
   },
   {
    "duration": 7,
    "start_time": "2023-05-03T12:34:46.627Z"
   },
   {
    "duration": 124,
    "start_time": "2023-05-03T12:34:46.636Z"
   },
   {
    "duration": 54132,
    "start_time": "2023-05-03T12:34:55.601Z"
   },
   {
    "duration": 0,
    "start_time": "2023-05-03T12:35:49.735Z"
   },
   {
    "duration": 1378,
    "start_time": "2023-05-03T12:38:15.022Z"
   },
   {
    "duration": 3,
    "start_time": "2023-05-03T12:38:16.402Z"
   },
   {
    "duration": 123,
    "start_time": "2023-05-03T12:38:16.406Z"
   },
   {
    "duration": 3,
    "start_time": "2023-05-03T12:38:16.531Z"
   },
   {
    "duration": 57,
    "start_time": "2023-05-03T12:38:16.536Z"
   },
   {
    "duration": 48,
    "start_time": "2023-05-03T12:38:16.595Z"
   },
   {
    "duration": 53,
    "start_time": "2023-05-03T12:38:16.645Z"
   },
   {
    "duration": 49,
    "start_time": "2023-05-03T12:38:16.700Z"
   },
   {
    "duration": 17,
    "start_time": "2023-05-03T12:38:16.751Z"
   },
   {
    "duration": 15,
    "start_time": "2023-05-03T12:38:16.770Z"
   },
   {
    "duration": 34,
    "start_time": "2023-05-03T12:38:16.787Z"
   },
   {
    "duration": 4,
    "start_time": "2023-05-03T12:38:16.822Z"
   },
   {
    "duration": 22,
    "start_time": "2023-05-03T12:38:16.828Z"
   },
   {
    "duration": 17,
    "start_time": "2023-05-03T12:38:16.853Z"
   },
   {
    "duration": 23,
    "start_time": "2023-05-03T12:38:16.872Z"
   },
   {
    "duration": 23,
    "start_time": "2023-05-03T12:38:16.918Z"
   },
   {
    "duration": 3,
    "start_time": "2023-05-03T12:38:16.945Z"
   },
   {
    "duration": 21,
    "start_time": "2023-05-03T12:38:16.949Z"
   },
   {
    "duration": 2,
    "start_time": "2023-05-03T12:38:16.972Z"
   },
   {
    "duration": 43,
    "start_time": "2023-05-03T12:38:16.976Z"
   },
   {
    "duration": 2,
    "start_time": "2023-05-03T12:38:17.021Z"
   },
   {
    "duration": 4,
    "start_time": "2023-05-03T12:38:17.024Z"
   },
   {
    "duration": 13,
    "start_time": "2023-05-03T12:38:17.029Z"
   },
   {
    "duration": 125,
    "start_time": "2023-05-03T12:38:17.043Z"
   },
   {
    "duration": 21,
    "start_time": "2023-05-03T12:38:17.170Z"
   },
   {
    "duration": 189,
    "start_time": "2023-05-03T12:38:17.193Z"
   },
   {
    "duration": 248,
    "start_time": "2023-05-03T12:38:53.151Z"
   },
   {
    "duration": 137,
    "start_time": "2023-05-03T12:39:09.498Z"
   },
   {
    "duration": 132,
    "start_time": "2023-05-03T12:39:39.231Z"
   },
   {
    "duration": 212,
    "start_time": "2023-05-03T12:39:49.919Z"
   },
   {
    "duration": 136,
    "start_time": "2023-05-03T12:40:00.807Z"
   },
   {
    "duration": 133,
    "start_time": "2023-05-03T12:40:17.400Z"
   },
   {
    "duration": 132,
    "start_time": "2023-05-03T12:40:21.788Z"
   },
   {
    "duration": 132,
    "start_time": "2023-05-03T12:40:31.200Z"
   },
   {
    "duration": 64,
    "start_time": "2023-05-03T12:42:35.206Z"
   },
   {
    "duration": 143,
    "start_time": "2023-05-03T12:42:40.952Z"
   },
   {
    "duration": 151,
    "start_time": "2023-05-03T12:43:20.439Z"
   },
   {
    "duration": 3,
    "start_time": "2023-05-03T12:47:31.758Z"
   },
   {
    "duration": 50,
    "start_time": "2023-05-03T12:47:40.236Z"
   },
   {
    "duration": 3,
    "start_time": "2023-05-03T12:47:44.913Z"
   },
   {
    "duration": 44,
    "start_time": "2023-05-03T12:49:58.027Z"
   },
   {
    "duration": 52,
    "start_time": "2023-05-03T12:50:16.228Z"
   },
   {
    "duration": 48,
    "start_time": "2023-05-03T12:50:32.732Z"
   },
   {
    "duration": 21,
    "start_time": "2023-05-03T12:52:28.251Z"
   },
   {
    "duration": 172,
    "start_time": "2023-05-03T12:56:39.806Z"
   },
   {
    "duration": 190,
    "start_time": "2023-05-03T12:56:43.617Z"
   },
   {
    "duration": 285,
    "start_time": "2023-05-03T12:56:47.707Z"
   },
   {
    "duration": 4,
    "start_time": "2023-05-03T13:00:42.925Z"
   },
   {
    "duration": 56,
    "start_time": "2023-05-03T13:00:43.629Z"
   },
   {
    "duration": 59,
    "start_time": "2023-05-03T13:01:24.847Z"
   },
   {
    "duration": 50,
    "start_time": "2023-05-03T13:01:50.234Z"
   },
   {
    "duration": 192,
    "start_time": "2023-05-03T13:02:37.250Z"
   },
   {
    "duration": 170,
    "start_time": "2023-05-03T13:02:43.258Z"
   },
   {
    "duration": 359,
    "start_time": "2023-05-03T13:02:44.160Z"
   },
   {
    "duration": 555,
    "start_time": "2023-05-03T13:02:52.362Z"
   },
   {
    "duration": 519,
    "start_time": "2023-05-03T13:03:17.861Z"
   },
   {
    "duration": 5,
    "start_time": "2023-05-03T13:03:23.609Z"
   },
   {
    "duration": 31,
    "start_time": "2023-05-03T13:03:27.952Z"
   },
   {
    "duration": 746,
    "start_time": "2023-05-03T13:03:58.910Z"
   },
   {
    "duration": 5,
    "start_time": "2023-05-03T13:04:20.759Z"
   },
   {
    "duration": 26,
    "start_time": "2023-05-03T13:04:21.460Z"
   },
   {
    "duration": 549,
    "start_time": "2023-05-03T13:04:29.721Z"
   },
   {
    "duration": 5,
    "start_time": "2023-05-03T13:06:32.145Z"
   },
   {
    "duration": 18,
    "start_time": "2023-05-03T13:06:36.335Z"
   },
   {
    "duration": 3,
    "start_time": "2023-05-03T13:08:48.225Z"
   },
   {
    "duration": 8,
    "start_time": "2023-05-03T13:08:48.230Z"
   },
   {
    "duration": 117,
    "start_time": "2023-05-03T13:08:48.240Z"
   },
   {
    "duration": 5,
    "start_time": "2023-05-03T13:08:48.359Z"
   },
   {
    "duration": 53,
    "start_time": "2023-05-03T13:08:48.366Z"
   },
   {
    "duration": 37,
    "start_time": "2023-05-03T13:08:48.421Z"
   },
   {
    "duration": 74,
    "start_time": "2023-05-03T13:08:48.459Z"
   },
   {
    "duration": 32,
    "start_time": "2023-05-03T13:08:48.534Z"
   },
   {
    "duration": 16,
    "start_time": "2023-05-03T13:08:48.568Z"
   },
   {
    "duration": 38,
    "start_time": "2023-05-03T13:08:48.585Z"
   },
   {
    "duration": 5,
    "start_time": "2023-05-03T13:08:48.626Z"
   },
   {
    "duration": 6,
    "start_time": "2023-05-03T13:08:48.633Z"
   },
   {
    "duration": 16,
    "start_time": "2023-05-03T13:08:48.641Z"
   },
   {
    "duration": 18,
    "start_time": "2023-05-03T13:08:48.659Z"
   },
   {
    "duration": 43,
    "start_time": "2023-05-03T13:08:48.678Z"
   },
   {
    "duration": 17,
    "start_time": "2023-05-03T13:08:48.723Z"
   },
   {
    "duration": 2,
    "start_time": "2023-05-03T13:08:48.741Z"
   },
   {
    "duration": 17,
    "start_time": "2023-05-03T13:08:48.744Z"
   },
   {
    "duration": 2,
    "start_time": "2023-05-03T13:08:48.763Z"
   },
   {
    "duration": 21,
    "start_time": "2023-05-03T13:08:48.766Z"
   },
   {
    "duration": 28,
    "start_time": "2023-05-03T13:08:48.789Z"
   },
   {
    "duration": 4,
    "start_time": "2023-05-03T13:08:48.819Z"
   },
   {
    "duration": 6,
    "start_time": "2023-05-03T13:08:48.825Z"
   },
   {
    "duration": 112,
    "start_time": "2023-05-03T13:08:48.833Z"
   },
   {
    "duration": 3,
    "start_time": "2023-05-03T13:08:48.946Z"
   },
   {
    "duration": 5,
    "start_time": "2023-05-03T13:08:48.951Z"
   },
   {
    "duration": 18,
    "start_time": "2023-05-03T13:08:48.957Z"
   },
   {
    "duration": 166,
    "start_time": "2023-05-03T13:08:48.976Z"
   },
   {
    "duration": 3,
    "start_time": "2023-05-03T13:08:49.144Z"
   },
   {
    "duration": 60,
    "start_time": "2023-05-03T13:08:49.148Z"
   },
   {
    "duration": 49,
    "start_time": "2023-05-03T13:08:49.217Z"
   },
   {
    "duration": 190,
    "start_time": "2023-05-03T13:08:49.267Z"
   },
   {
    "duration": 187,
    "start_time": "2023-05-03T13:08:49.458Z"
   },
   {
    "duration": 617,
    "start_time": "2023-05-03T13:08:49.647Z"
   },
   {
    "duration": 3664,
    "start_time": "2023-05-03T13:29:18.947Z"
   },
   {
    "duration": 112,
    "start_time": "2023-05-03T13:30:05.560Z"
   },
   {
    "duration": 149,
    "start_time": "2023-05-03T13:30:10.407Z"
   },
   {
    "duration": 813,
    "start_time": "2023-05-03T13:39:50.486Z"
   },
   {
    "duration": 207,
    "start_time": "2023-05-03T13:39:57.310Z"
   },
   {
    "duration": 684,
    "start_time": "2023-05-03T13:45:37.181Z"
   },
   {
    "duration": 167,
    "start_time": "2023-05-03T13:45:55.772Z"
   },
   {
    "duration": 227,
    "start_time": "2023-05-03T13:46:08.426Z"
   },
   {
    "duration": 192,
    "start_time": "2023-05-03T13:48:36.913Z"
   },
   {
    "duration": 216,
    "start_time": "2023-05-03T13:48:56.960Z"
   },
   {
    "duration": 4,
    "start_time": "2023-05-03T13:49:48.065Z"
   },
   {
    "duration": 9,
    "start_time": "2023-05-03T13:49:48.070Z"
   },
   {
    "duration": 106,
    "start_time": "2023-05-03T13:49:48.080Z"
   },
   {
    "duration": 4,
    "start_time": "2023-05-03T13:49:48.187Z"
   },
   {
    "duration": 51,
    "start_time": "2023-05-03T13:49:48.193Z"
   },
   {
    "duration": 38,
    "start_time": "2023-05-03T13:49:48.245Z"
   },
   {
    "duration": 67,
    "start_time": "2023-05-03T13:49:48.285Z"
   },
   {
    "duration": 33,
    "start_time": "2023-05-03T13:49:48.353Z"
   },
   {
    "duration": 36,
    "start_time": "2023-05-03T13:49:48.388Z"
   },
   {
    "duration": 15,
    "start_time": "2023-05-03T13:49:48.426Z"
   },
   {
    "duration": 5,
    "start_time": "2023-05-03T13:49:48.442Z"
   },
   {
    "duration": 6,
    "start_time": "2023-05-03T13:49:48.448Z"
   },
   {
    "duration": 20,
    "start_time": "2023-05-03T13:49:48.455Z"
   },
   {
    "duration": 18,
    "start_time": "2023-05-03T13:49:48.478Z"
   },
   {
    "duration": 41,
    "start_time": "2023-05-03T13:49:48.497Z"
   },
   {
    "duration": 17,
    "start_time": "2023-05-03T13:49:48.540Z"
   },
   {
    "duration": 2,
    "start_time": "2023-05-03T13:49:48.558Z"
   },
   {
    "duration": 17,
    "start_time": "2023-05-03T13:49:48.562Z"
   },
   {
    "duration": 2,
    "start_time": "2023-05-03T13:49:48.580Z"
   },
   {
    "duration": 48,
    "start_time": "2023-05-03T13:49:48.584Z"
   },
   {
    "duration": 2,
    "start_time": "2023-05-03T13:49:48.633Z"
   },
   {
    "duration": 4,
    "start_time": "2023-05-03T13:49:48.636Z"
   },
   {
    "duration": 7,
    "start_time": "2023-05-03T13:49:48.641Z"
   },
   {
    "duration": 116,
    "start_time": "2023-05-03T13:49:48.649Z"
   },
   {
    "duration": 3,
    "start_time": "2023-05-03T13:49:48.766Z"
   },
   {
    "duration": 6,
    "start_time": "2023-05-03T13:49:48.770Z"
   },
   {
    "duration": 233,
    "start_time": "2023-05-03T13:49:48.777Z"
   },
   {
    "duration": 146,
    "start_time": "2023-05-03T13:49:49.016Z"
   },
   {
    "duration": 2,
    "start_time": "2023-05-03T13:49:49.164Z"
   },
   {
    "duration": 71,
    "start_time": "2023-05-03T13:49:49.168Z"
   },
   {
    "duration": 50,
    "start_time": "2023-05-03T13:49:49.241Z"
   },
   {
    "duration": 174,
    "start_time": "2023-05-03T13:49:49.292Z"
   },
   {
    "duration": 186,
    "start_time": "2023-05-03T13:49:49.468Z"
   },
   {
    "duration": 660,
    "start_time": "2023-05-03T13:49:49.655Z"
   },
   {
    "duration": 1010,
    "start_time": "2023-05-03T13:50:38.907Z"
   },
   {
    "duration": 226,
    "start_time": "2023-05-03T13:50:47.031Z"
   },
   {
    "duration": 371,
    "start_time": "2023-05-03T13:50:51.343Z"
   },
   {
    "duration": 302,
    "start_time": "2023-05-03T13:51:03.461Z"
   },
   {
    "duration": 30,
    "start_time": "2023-05-03T13:52:49.240Z"
   },
   {
    "duration": 193,
    "start_time": "2023-05-03T13:53:07.705Z"
   },
   {
    "duration": 249,
    "start_time": "2023-05-03T13:53:16.336Z"
   },
   {
    "duration": 6463,
    "start_time": "2023-05-03T13:53:34.777Z"
   },
   {
    "duration": 977,
    "start_time": "2023-05-03T13:53:50.567Z"
   },
   {
    "duration": 402,
    "start_time": "2023-05-03T13:54:03.442Z"
   },
   {
    "duration": 285,
    "start_time": "2023-05-03T13:54:12.730Z"
   },
   {
    "duration": 53,
    "start_time": "2023-05-03T13:58:19.642Z"
   },
   {
    "duration": 5,
    "start_time": "2023-05-03T13:58:53.100Z"
   },
   {
    "duration": 8,
    "start_time": "2023-05-03T13:58:53.106Z"
   },
   {
    "duration": 128,
    "start_time": "2023-05-03T13:58:53.115Z"
   },
   {
    "duration": 3,
    "start_time": "2023-05-03T13:58:53.245Z"
   },
   {
    "duration": 58,
    "start_time": "2023-05-03T13:58:53.250Z"
   },
   {
    "duration": 41,
    "start_time": "2023-05-03T13:58:53.311Z"
   },
   {
    "duration": 76,
    "start_time": "2023-05-03T13:58:53.354Z"
   },
   {
    "duration": 35,
    "start_time": "2023-05-03T13:58:53.431Z"
   },
   {
    "duration": 17,
    "start_time": "2023-05-03T13:58:53.467Z"
   },
   {
    "duration": 40,
    "start_time": "2023-05-03T13:58:53.486Z"
   },
   {
    "duration": 6,
    "start_time": "2023-05-03T13:58:53.527Z"
   },
   {
    "duration": 3,
    "start_time": "2023-05-03T13:58:53.536Z"
   },
   {
    "duration": 16,
    "start_time": "2023-05-03T13:58:53.540Z"
   },
   {
    "duration": 22,
    "start_time": "2023-05-03T13:58:53.558Z"
   },
   {
    "duration": 48,
    "start_time": "2023-05-03T13:58:53.582Z"
   },
   {
    "duration": 22,
    "start_time": "2023-05-03T13:58:53.632Z"
   },
   {
    "duration": 2,
    "start_time": "2023-05-03T13:58:53.656Z"
   },
   {
    "duration": 19,
    "start_time": "2023-05-03T13:58:53.659Z"
   },
   {
    "duration": 2,
    "start_time": "2023-05-03T13:58:53.680Z"
   },
   {
    "duration": 54,
    "start_time": "2023-05-03T13:58:53.684Z"
   },
   {
    "duration": 3,
    "start_time": "2023-05-03T13:58:53.739Z"
   },
   {
    "duration": 4,
    "start_time": "2023-05-03T13:58:53.743Z"
   },
   {
    "duration": 10,
    "start_time": "2023-05-03T13:58:53.748Z"
   },
   {
    "duration": 123,
    "start_time": "2023-05-03T13:58:53.760Z"
   },
   {
    "duration": 4,
    "start_time": "2023-05-03T13:58:53.885Z"
   },
   {
    "duration": 14,
    "start_time": "2023-05-03T13:58:53.891Z"
   },
   {
    "duration": 10,
    "start_time": "2023-05-03T13:58:53.907Z"
   },
   {
    "duration": 58,
    "start_time": "2023-05-03T13:58:53.919Z"
   },
   {
    "duration": 171,
    "start_time": "2023-05-03T13:58:53.978Z"
   },
   {
    "duration": 48,
    "start_time": "2023-05-03T13:58:54.152Z"
   },
   {
    "duration": 297,
    "start_time": "2023-05-03T13:58:54.202Z"
   },
   {
    "duration": 439,
    "start_time": "2023-05-03T13:58:54.500Z"
   },
   {
    "duration": 241,
    "start_time": "2023-05-03T14:00:32.225Z"
   },
   {
    "duration": 246,
    "start_time": "2023-05-03T14:00:39.364Z"
   },
   {
    "duration": 256,
    "start_time": "2023-05-03T14:00:51.847Z"
   },
   {
    "duration": 256,
    "start_time": "2023-05-03T14:00:59.285Z"
   },
   {
    "duration": 270,
    "start_time": "2023-05-03T14:01:12.518Z"
   },
   {
    "duration": 291,
    "start_time": "2023-05-03T14:01:44.510Z"
   },
   {
    "duration": 196,
    "start_time": "2023-05-03T14:01:50.924Z"
   },
   {
    "duration": 303,
    "start_time": "2023-05-03T14:01:57.225Z"
   },
   {
    "duration": 241,
    "start_time": "2023-05-03T14:03:02.935Z"
   },
   {
    "duration": 6335,
    "start_time": "2023-05-03T14:03:39.114Z"
   },
   {
    "duration": 133,
    "start_time": "2023-05-03T14:05:14.749Z"
   },
   {
    "duration": 185,
    "start_time": "2023-05-03T14:05:24.265Z"
   },
   {
    "duration": 3227,
    "start_time": "2023-05-03T14:05:49.576Z"
   },
   {
    "duration": 224,
    "start_time": "2023-05-03T14:06:07.318Z"
   },
   {
    "duration": 183,
    "start_time": "2023-05-03T14:06:11.988Z"
   },
   {
    "duration": 344,
    "start_time": "2023-05-03T14:06:37.526Z"
   },
   {
    "duration": 599,
    "start_time": "2023-05-03T14:06:48.251Z"
   },
   {
    "duration": 39,
    "start_time": "2023-05-03T14:08:30.020Z"
   },
   {
    "duration": 6,
    "start_time": "2023-05-03T14:11:11.153Z"
   },
   {
    "duration": 32,
    "start_time": "2023-05-03T14:11:14.867Z"
   },
   {
    "duration": 5,
    "start_time": "2023-05-03T14:11:38.553Z"
   },
   {
    "duration": 6,
    "start_time": "2023-05-03T14:11:38.559Z"
   },
   {
    "duration": 118,
    "start_time": "2023-05-03T14:11:38.567Z"
   },
   {
    "duration": 4,
    "start_time": "2023-05-03T14:11:38.687Z"
   },
   {
    "duration": 58,
    "start_time": "2023-05-03T14:11:38.694Z"
   },
   {
    "duration": 48,
    "start_time": "2023-05-03T14:11:38.754Z"
   },
   {
    "duration": 80,
    "start_time": "2023-05-03T14:11:38.803Z"
   },
   {
    "duration": 68,
    "start_time": "2023-05-03T14:11:38.884Z"
   },
   {
    "duration": 18,
    "start_time": "2023-05-03T14:11:38.953Z"
   },
   {
    "duration": 16,
    "start_time": "2023-05-03T14:11:38.973Z"
   },
   {
    "duration": 31,
    "start_time": "2023-05-03T14:11:38.991Z"
   },
   {
    "duration": 5,
    "start_time": "2023-05-03T14:11:39.024Z"
   },
   {
    "duration": 19,
    "start_time": "2023-05-03T14:11:39.031Z"
   },
   {
    "duration": 19,
    "start_time": "2023-05-03T14:11:39.054Z"
   },
   {
    "duration": 65,
    "start_time": "2023-05-03T14:11:39.074Z"
   },
   {
    "duration": 25,
    "start_time": "2023-05-03T14:11:39.141Z"
   },
   {
    "duration": 3,
    "start_time": "2023-05-03T14:11:39.168Z"
   },
   {
    "duration": 21,
    "start_time": "2023-05-03T14:11:39.172Z"
   },
   {
    "duration": 3,
    "start_time": "2023-05-03T14:11:39.218Z"
   },
   {
    "duration": 23,
    "start_time": "2023-05-03T14:11:39.223Z"
   },
   {
    "duration": 2,
    "start_time": "2023-05-03T14:11:39.247Z"
   },
   {
    "duration": 5,
    "start_time": "2023-05-03T14:11:39.251Z"
   },
   {
    "duration": 8,
    "start_time": "2023-05-03T14:11:39.257Z"
   },
   {
    "duration": 151,
    "start_time": "2023-05-03T14:11:39.267Z"
   },
   {
    "duration": 5,
    "start_time": "2023-05-03T14:11:39.420Z"
   },
   {
    "duration": 8,
    "start_time": "2023-05-03T14:11:39.436Z"
   },
   {
    "duration": 11,
    "start_time": "2023-05-03T14:11:39.446Z"
   },
   {
    "duration": 42,
    "start_time": "2023-05-03T14:11:39.459Z"
   },
   {
    "duration": 50,
    "start_time": "2023-05-03T14:11:39.502Z"
   },
   {
    "duration": 1301,
    "start_time": "2023-05-03T14:11:39.554Z"
   },
   {
    "duration": 0,
    "start_time": "2023-05-03T14:11:40.857Z"
   },
   {
    "duration": 0,
    "start_time": "2023-05-03T14:11:40.858Z"
   },
   {
    "duration": 0,
    "start_time": "2023-05-03T14:11:40.859Z"
   },
   {
    "duration": 0,
    "start_time": "2023-05-03T14:11:40.860Z"
   },
   {
    "duration": 144,
    "start_time": "2023-05-03T14:12:07.555Z"
   },
   {
    "duration": 13,
    "start_time": "2023-05-03T14:12:59.723Z"
   },
   {
    "duration": 17,
    "start_time": "2023-05-03T14:13:07.816Z"
   },
   {
    "duration": 14,
    "start_time": "2023-05-03T14:13:08.281Z"
   },
   {
    "duration": 1451,
    "start_time": "2023-05-03T14:13:29.522Z"
   },
   {
    "duration": 2,
    "start_time": "2023-05-03T14:13:30.975Z"
   },
   {
    "duration": 178,
    "start_time": "2023-05-03T14:13:30.979Z"
   },
   {
    "duration": 4,
    "start_time": "2023-05-03T14:13:31.159Z"
   },
   {
    "duration": 110,
    "start_time": "2023-05-03T14:13:31.166Z"
   },
   {
    "duration": 62,
    "start_time": "2023-05-03T14:13:31.278Z"
   },
   {
    "duration": 78,
    "start_time": "2023-05-03T14:13:31.342Z"
   },
   {
    "duration": 40,
    "start_time": "2023-05-03T14:13:31.422Z"
   },
   {
    "duration": 31,
    "start_time": "2023-05-03T14:13:31.464Z"
   },
   {
    "duration": 34,
    "start_time": "2023-05-03T14:13:31.496Z"
   },
   {
    "duration": 23,
    "start_time": "2023-05-03T14:13:31.532Z"
   },
   {
    "duration": 77,
    "start_time": "2023-05-03T14:13:31.557Z"
   },
   {
    "duration": 57,
    "start_time": "2023-05-03T14:13:31.636Z"
   },
   {
    "duration": 49,
    "start_time": "2023-05-03T14:13:31.697Z"
   },
   {
    "duration": 21,
    "start_time": "2023-05-03T14:13:31.748Z"
   },
   {
    "duration": 18,
    "start_time": "2023-05-03T14:13:31.771Z"
   },
   {
    "duration": 13,
    "start_time": "2023-05-03T14:13:31.791Z"
   },
   {
    "duration": 51,
    "start_time": "2023-05-03T14:13:31.806Z"
   },
   {
    "duration": 5,
    "start_time": "2023-05-03T14:13:31.859Z"
   },
   {
    "duration": 45,
    "start_time": "2023-05-03T14:13:31.866Z"
   },
   {
    "duration": 2,
    "start_time": "2023-05-03T14:13:31.912Z"
   },
   {
    "duration": 19,
    "start_time": "2023-05-03T14:13:31.915Z"
   },
   {
    "duration": 21,
    "start_time": "2023-05-03T14:13:31.935Z"
   },
   {
    "duration": 122,
    "start_time": "2023-05-03T14:13:31.957Z"
   },
   {
    "duration": 4,
    "start_time": "2023-05-03T14:13:32.080Z"
   },
   {
    "duration": 17,
    "start_time": "2023-05-03T14:13:32.085Z"
   },
   {
    "duration": 9,
    "start_time": "2023-05-03T14:13:32.103Z"
   },
   {
    "duration": 41,
    "start_time": "2023-05-03T14:13:32.117Z"
   },
   {
    "duration": 34,
    "start_time": "2023-05-03T14:13:32.160Z"
   },
   {
    "duration": 1049,
    "start_time": "2023-05-03T14:13:32.195Z"
   },
   {
    "duration": 0,
    "start_time": "2023-05-03T14:13:33.245Z"
   },
   {
    "duration": 0,
    "start_time": "2023-05-03T14:13:33.249Z"
   },
   {
    "duration": 0,
    "start_time": "2023-05-03T14:13:33.251Z"
   },
   {
    "duration": 0,
    "start_time": "2023-05-03T14:13:33.251Z"
   },
   {
    "duration": 171,
    "start_time": "2023-05-03T14:13:47.074Z"
   },
   {
    "duration": 18,
    "start_time": "2023-05-03T14:14:08.483Z"
   },
   {
    "duration": 150,
    "start_time": "2023-05-03T14:14:18.654Z"
   },
   {
    "duration": 54,
    "start_time": "2023-05-03T14:14:22.664Z"
   },
   {
    "duration": 219,
    "start_time": "2023-05-03T14:14:30.670Z"
   },
   {
    "duration": 261,
    "start_time": "2023-05-03T14:14:33.831Z"
   },
   {
    "duration": 699,
    "start_time": "2023-05-03T14:14:37.929Z"
   },
   {
    "duration": 307,
    "start_time": "2023-05-03T14:15:16.418Z"
   },
   {
    "duration": 673,
    "start_time": "2023-05-03T14:15:30.725Z"
   },
   {
    "duration": 594,
    "start_time": "2023-05-03T14:16:03.862Z"
   },
   {
    "duration": 551,
    "start_time": "2023-05-03T14:16:17.441Z"
   },
   {
    "duration": 2290,
    "start_time": "2023-05-03T14:16:47.434Z"
   },
   {
    "duration": 2240,
    "start_time": "2023-05-03T14:17:00.921Z"
   },
   {
    "duration": 2358,
    "start_time": "2023-05-03T14:17:19.264Z"
   },
   {
    "duration": 2541,
    "start_time": "2023-05-03T14:36:33.827Z"
   },
   {
    "duration": 13,
    "start_time": "2023-05-03T14:37:25.551Z"
   },
   {
    "duration": 12,
    "start_time": "2023-05-03T14:38:21.334Z"
   },
   {
    "duration": 11,
    "start_time": "2023-05-03T14:38:37.333Z"
   },
   {
    "duration": 46,
    "start_time": "2023-05-03T14:41:37.835Z"
   },
   {
    "duration": 49,
    "start_time": "2023-05-03T14:42:02.578Z"
   },
   {
    "duration": 41,
    "start_time": "2023-05-03T14:42:14.739Z"
   },
   {
    "duration": 4,
    "start_time": "2023-05-03T14:46:02.148Z"
   },
   {
    "duration": 10,
    "start_time": "2023-05-03T14:46:05.242Z"
   },
   {
    "duration": 3,
    "start_time": "2023-05-03T14:46:12.928Z"
   },
   {
    "duration": 12,
    "start_time": "2023-05-03T14:46:17.666Z"
   },
   {
    "duration": 3,
    "start_time": "2023-05-03T14:46:40.084Z"
   },
   {
    "duration": 10,
    "start_time": "2023-05-03T14:46:41.075Z"
   },
   {
    "duration": 3165,
    "start_time": "2023-05-03T14:47:15.682Z"
   },
   {
    "duration": 3379,
    "start_time": "2023-05-03T14:47:18.848Z"
   },
   {
    "duration": 58,
    "start_time": "2023-05-03T14:47:57.215Z"
   },
   {
    "duration": 76,
    "start_time": "2023-05-03T14:48:13.666Z"
   },
   {
    "duration": 3358,
    "start_time": "2023-05-03T14:48:18.825Z"
   },
   {
    "duration": 3,
    "start_time": "2023-05-03T14:48:25.633Z"
   },
   {
    "duration": 110,
    "start_time": "2023-05-03T14:48:27.162Z"
   },
   {
    "duration": 2074,
    "start_time": "2023-05-03T14:48:43.516Z"
   },
   {
    "duration": 4,
    "start_time": "2023-05-03T14:48:45.593Z"
   },
   {
    "duration": 125,
    "start_time": "2023-05-03T14:48:45.598Z"
   },
   {
    "duration": 4,
    "start_time": "2023-05-03T14:48:45.725Z"
   },
   {
    "duration": 60,
    "start_time": "2023-05-03T14:48:45.730Z"
   },
   {
    "duration": 51,
    "start_time": "2023-05-03T14:48:45.791Z"
   },
   {
    "duration": 55,
    "start_time": "2023-05-03T14:48:45.843Z"
   },
   {
    "duration": 47,
    "start_time": "2023-05-03T14:48:45.900Z"
   },
   {
    "duration": 16,
    "start_time": "2023-05-03T14:48:45.948Z"
   },
   {
    "duration": 23,
    "start_time": "2023-05-03T14:48:45.966Z"
   },
   {
    "duration": 11,
    "start_time": "2023-05-03T14:48:45.990Z"
   },
   {
    "duration": 15,
    "start_time": "2023-05-03T14:48:46.002Z"
   },
   {
    "duration": 17,
    "start_time": "2023-05-03T14:48:46.018Z"
   },
   {
    "duration": 19,
    "start_time": "2023-05-03T14:48:46.036Z"
   },
   {
    "duration": 22,
    "start_time": "2023-05-03T14:48:46.056Z"
   },
   {
    "duration": 38,
    "start_time": "2023-05-03T14:48:46.079Z"
   },
   {
    "duration": 2,
    "start_time": "2023-05-03T14:48:46.119Z"
   },
   {
    "duration": 24,
    "start_time": "2023-05-03T14:48:46.122Z"
   },
   {
    "duration": 2,
    "start_time": "2023-05-03T14:48:46.148Z"
   },
   {
    "duration": 21,
    "start_time": "2023-05-03T14:48:46.151Z"
   },
   {
    "duration": 2,
    "start_time": "2023-05-03T14:48:46.173Z"
   },
   {
    "duration": 4,
    "start_time": "2023-05-03T14:48:46.177Z"
   },
   {
    "duration": 7,
    "start_time": "2023-05-03T14:48:46.182Z"
   },
   {
    "duration": 145,
    "start_time": "2023-05-03T14:48:46.190Z"
   },
   {
    "duration": 4,
    "start_time": "2023-05-03T14:48:46.336Z"
   },
   {
    "duration": 13,
    "start_time": "2023-05-03T14:48:46.341Z"
   },
   {
    "duration": 4,
    "start_time": "2023-05-03T14:48:46.356Z"
   },
   {
    "duration": 50,
    "start_time": "2023-05-03T14:48:46.363Z"
   },
   {
    "duration": 17,
    "start_time": "2023-05-03T14:48:46.419Z"
   },
   {
    "duration": 158,
    "start_time": "2023-05-03T14:48:46.438Z"
   },
   {
    "duration": 60,
    "start_time": "2023-05-03T14:48:46.598Z"
   },
   {
    "duration": 184,
    "start_time": "2023-05-03T14:48:46.660Z"
   },
   {
    "duration": 203,
    "start_time": "2023-05-03T14:48:46.846Z"
   },
   {
    "duration": 2482,
    "start_time": "2023-05-03T14:48:47.051Z"
   },
   {
    "duration": 122,
    "start_time": "2023-05-03T14:51:57.383Z"
   },
   {
    "duration": 52,
    "start_time": "2023-05-03T15:00:25.347Z"
   },
   {
    "duration": 3660,
    "start_time": "2023-05-03T15:00:33.825Z"
   },
   {
    "duration": 4,
    "start_time": "2023-05-03T15:00:37.487Z"
   },
   {
    "duration": 133,
    "start_time": "2023-05-03T15:00:37.492Z"
   },
   {
    "duration": 4,
    "start_time": "2023-05-03T15:00:37.628Z"
   },
   {
    "duration": 85,
    "start_time": "2023-05-03T15:00:37.633Z"
   },
   {
    "duration": 38,
    "start_time": "2023-05-03T15:00:37.719Z"
   },
   {
    "duration": 69,
    "start_time": "2023-05-03T15:00:37.759Z"
   },
   {
    "duration": 35,
    "start_time": "2023-05-03T15:00:37.829Z"
   },
   {
    "duration": 19,
    "start_time": "2023-05-03T15:00:37.866Z"
   },
   {
    "duration": 41,
    "start_time": "2023-05-03T15:00:37.887Z"
   },
   {
    "duration": 6,
    "start_time": "2023-05-03T15:00:37.929Z"
   },
   {
    "duration": 7,
    "start_time": "2023-05-03T15:00:37.936Z"
   },
   {
    "duration": 16,
    "start_time": "2023-05-03T15:00:37.944Z"
   },
   {
    "duration": 17,
    "start_time": "2023-05-03T15:00:37.962Z"
   },
   {
    "duration": 55,
    "start_time": "2023-05-03T15:00:37.981Z"
   },
   {
    "duration": 18,
    "start_time": "2023-05-03T15:00:38.038Z"
   },
   {
    "duration": 2,
    "start_time": "2023-05-03T15:00:38.058Z"
   },
   {
    "duration": 23,
    "start_time": "2023-05-03T15:00:38.062Z"
   },
   {
    "duration": 2,
    "start_time": "2023-05-03T15:00:38.087Z"
   },
   {
    "duration": 46,
    "start_time": "2023-05-03T15:00:38.090Z"
   },
   {
    "duration": 3,
    "start_time": "2023-05-03T15:00:38.137Z"
   },
   {
    "duration": 3,
    "start_time": "2023-05-03T15:00:38.142Z"
   },
   {
    "duration": 7,
    "start_time": "2023-05-03T15:00:38.147Z"
   },
   {
    "duration": 140,
    "start_time": "2023-05-03T15:00:38.155Z"
   },
   {
    "duration": 4,
    "start_time": "2023-05-03T15:00:38.297Z"
   },
   {
    "duration": 15,
    "start_time": "2023-05-03T15:00:38.303Z"
   },
   {
    "duration": 12,
    "start_time": "2023-05-03T15:00:38.319Z"
   },
   {
    "duration": 45,
    "start_time": "2023-05-03T15:00:38.335Z"
   },
   {
    "duration": 18,
    "start_time": "2023-05-03T15:00:38.382Z"
   },
   {
    "duration": 169,
    "start_time": "2023-05-03T15:00:38.402Z"
   },
   {
    "duration": 60,
    "start_time": "2023-05-03T15:00:38.573Z"
   },
   {
    "duration": 193,
    "start_time": "2023-05-03T15:00:38.635Z"
   },
   {
    "duration": 191,
    "start_time": "2023-05-03T15:00:38.830Z"
   },
   {
    "duration": 2409,
    "start_time": "2023-05-03T15:00:39.023Z"
   },
   {
    "duration": 1414,
    "start_time": "2023-05-03T15:00:41.434Z"
   },
   {
    "duration": 830,
    "start_time": "2023-05-03T15:01:16.757Z"
   },
   {
    "duration": 5034,
    "start_time": "2023-05-03T18:36:00.033Z"
   },
   {
    "duration": 3,
    "start_time": "2023-05-03T18:36:05.069Z"
   },
   {
    "duration": 464,
    "start_time": "2023-05-03T18:36:05.074Z"
   },
   {
    "duration": 4,
    "start_time": "2023-05-03T18:36:05.540Z"
   },
   {
    "duration": 84,
    "start_time": "2023-05-03T18:36:05.546Z"
   },
   {
    "duration": 41,
    "start_time": "2023-05-03T18:36:05.632Z"
   },
   {
    "duration": 86,
    "start_time": "2023-05-03T18:36:05.675Z"
   },
   {
    "duration": 61,
    "start_time": "2023-05-03T18:36:05.763Z"
   },
   {
    "duration": 18,
    "start_time": "2023-05-03T18:36:05.826Z"
   },
   {
    "duration": 20,
    "start_time": "2023-05-03T18:36:05.846Z"
   },
   {
    "duration": 19,
    "start_time": "2023-05-03T18:36:05.868Z"
   },
   {
    "duration": 21,
    "start_time": "2023-05-03T18:36:05.888Z"
   },
   {
    "duration": 32,
    "start_time": "2023-05-03T18:36:05.910Z"
   },
   {
    "duration": 26,
    "start_time": "2023-05-03T18:36:05.944Z"
   },
   {
    "duration": 27,
    "start_time": "2023-05-03T18:36:05.972Z"
   },
   {
    "duration": 25,
    "start_time": "2023-05-03T18:36:06.001Z"
   },
   {
    "duration": 16,
    "start_time": "2023-05-03T18:36:06.028Z"
   },
   {
    "duration": 47,
    "start_time": "2023-05-03T18:36:06.046Z"
   },
   {
    "duration": 3,
    "start_time": "2023-05-03T18:36:06.094Z"
   },
   {
    "duration": 50,
    "start_time": "2023-05-03T18:36:06.099Z"
   },
   {
    "duration": 2,
    "start_time": "2023-05-03T18:36:06.151Z"
   },
   {
    "duration": 4,
    "start_time": "2023-05-03T18:36:06.155Z"
   },
   {
    "duration": 8,
    "start_time": "2023-05-03T18:36:06.161Z"
   },
   {
    "duration": 126,
    "start_time": "2023-05-03T18:36:06.171Z"
   },
   {
    "duration": 4,
    "start_time": "2023-05-03T18:36:06.299Z"
   },
   {
    "duration": 16,
    "start_time": "2023-05-03T18:36:06.311Z"
   },
   {
    "duration": 16,
    "start_time": "2023-05-03T18:36:06.328Z"
   },
   {
    "duration": 43,
    "start_time": "2023-05-03T18:36:06.348Z"
   },
   {
    "duration": 32,
    "start_time": "2023-05-03T18:36:06.392Z"
   },
   {
    "duration": 161,
    "start_time": "2023-05-03T18:36:06.425Z"
   },
   {
    "duration": 68,
    "start_time": "2023-05-03T18:36:06.588Z"
   },
   {
    "duration": 213,
    "start_time": "2023-05-03T18:36:06.658Z"
   },
   {
    "duration": 219,
    "start_time": "2023-05-03T18:36:06.873Z"
   },
   {
    "duration": 3386,
    "start_time": "2023-05-03T18:36:07.094Z"
   },
   {
    "duration": 57,
    "start_time": "2023-05-03T18:36:10.512Z"
   },
   {
    "duration": 0,
    "start_time": "2023-05-03T18:36:10.571Z"
   },
   {
    "duration": 0,
    "start_time": "2023-05-03T18:36:10.573Z"
   },
   {
    "duration": 0,
    "start_time": "2023-05-03T18:36:10.574Z"
   },
   {
    "duration": 0,
    "start_time": "2023-05-03T18:36:10.576Z"
   },
   {
    "duration": 0,
    "start_time": "2023-05-03T18:36:10.577Z"
   },
   {
    "duration": 0,
    "start_time": "2023-05-03T18:36:10.579Z"
   },
   {
    "duration": 0,
    "start_time": "2023-05-03T18:36:10.580Z"
   },
   {
    "duration": 0,
    "start_time": "2023-05-03T18:36:10.581Z"
   },
   {
    "duration": 0,
    "start_time": "2023-05-03T18:36:10.611Z"
   },
   {
    "duration": 0,
    "start_time": "2023-05-03T18:36:10.612Z"
   },
   {
    "duration": 0,
    "start_time": "2023-05-03T18:36:10.615Z"
   },
   {
    "duration": 0,
    "start_time": "2023-05-03T18:36:10.616Z"
   },
   {
    "duration": 0,
    "start_time": "2023-05-03T18:36:10.617Z"
   },
   {
    "duration": 0,
    "start_time": "2023-05-03T18:36:10.618Z"
   },
   {
    "duration": 0,
    "start_time": "2023-05-03T18:36:10.619Z"
   },
   {
    "duration": 0,
    "start_time": "2023-05-03T18:36:10.620Z"
   },
   {
    "duration": 0,
    "start_time": "2023-05-03T18:36:10.622Z"
   },
   {
    "duration": 0,
    "start_time": "2023-05-03T18:36:10.623Z"
   },
   {
    "duration": 0,
    "start_time": "2023-05-03T18:36:10.624Z"
   },
   {
    "duration": 0,
    "start_time": "2023-05-03T18:36:10.625Z"
   },
   {
    "duration": 0,
    "start_time": "2023-05-03T18:36:10.626Z"
   },
   {
    "duration": 34194,
    "start_time": "2023-05-03T18:40:47.703Z"
   },
   {
    "duration": 69,
    "start_time": "2023-05-03T18:41:53.464Z"
   },
   {
    "duration": 121,
    "start_time": "2023-05-03T18:42:03.707Z"
   },
   {
    "duration": 5,
    "start_time": "2023-05-03T18:42:48.825Z"
   },
   {
    "duration": 13,
    "start_time": "2023-05-03T18:42:59.347Z"
   },
   {
    "duration": 11,
    "start_time": "2023-05-03T18:43:10.633Z"
   },
   {
    "duration": 3,
    "start_time": "2023-05-03T18:43:25.188Z"
   },
   {
    "duration": 5,
    "start_time": "2023-05-03T18:43:25.991Z"
   },
   {
    "duration": 794,
    "start_time": "2023-05-03T18:43:37.224Z"
   },
   {
    "duration": 2,
    "start_time": "2023-05-03T18:44:48.422Z"
   },
   {
    "duration": 4,
    "start_time": "2023-05-03T18:44:51.970Z"
   },
   {
    "duration": 12,
    "start_time": "2023-05-03T18:44:54.037Z"
   },
   {
    "duration": 3,
    "start_time": "2023-05-03T18:45:03.153Z"
   },
   {
    "duration": 4,
    "start_time": "2023-05-03T18:45:03.607Z"
   },
   {
    "duration": 10,
    "start_time": "2023-05-03T18:45:04.562Z"
   },
   {
    "duration": 14,
    "start_time": "2023-05-03T18:45:29.001Z"
   },
   {
    "duration": 11,
    "start_time": "2023-05-03T18:45:47.009Z"
   },
   {
    "duration": 14,
    "start_time": "2023-05-03T18:45:53.697Z"
   },
   {
    "duration": 4179,
    "start_time": "2023-05-03T18:46:02.297Z"
   },
   {
    "duration": 3,
    "start_time": "2023-05-03T18:49:33.163Z"
   },
   {
    "duration": 45,
    "start_time": "2023-05-03T18:49:33.857Z"
   },
   {
    "duration": 24,
    "start_time": "2023-05-03T18:49:34.561Z"
   },
   {
    "duration": 152,
    "start_time": "2023-05-03T18:49:38.273Z"
   },
   {
    "duration": 70,
    "start_time": "2023-05-03T18:49:41.959Z"
   },
   {
    "duration": 192,
    "start_time": "2023-05-03T18:49:53.930Z"
   },
   {
    "duration": 205,
    "start_time": "2023-05-03T18:49:54.752Z"
   },
   {
    "duration": 4599,
    "start_time": "2023-05-03T18:49:55.639Z"
   },
   {
    "duration": 3900,
    "start_time": "2023-05-03T18:55:11.062Z"
   },
   {
    "duration": 9,
    "start_time": "2023-05-03T18:58:23.997Z"
   },
   {
    "duration": 19,
    "start_time": "2023-05-03T18:58:39.162Z"
   },
   {
    "duration": 41,
    "start_time": "2023-05-03T18:59:02.344Z"
   },
   {
    "duration": 5,
    "start_time": "2023-05-03T19:00:25.429Z"
   },
   {
    "duration": 9,
    "start_time": "2023-05-03T19:03:05.976Z"
   },
   {
    "duration": 3,
    "start_time": "2023-05-03T19:03:10.029Z"
   },
   {
    "duration": 44,
    "start_time": "2023-05-03T19:03:12.303Z"
   },
   {
    "duration": 4,
    "start_time": "2023-05-03T19:03:18.738Z"
   },
   {
    "duration": 10,
    "start_time": "2023-05-03T19:03:20.468Z"
   },
   {
    "duration": 5,
    "start_time": "2023-05-03T19:03:36.078Z"
   },
   {
    "duration": 794,
    "start_time": "2023-05-03T19:04:35.583Z"
   },
   {
    "duration": 36,
    "start_time": "2023-05-03T19:04:42.189Z"
   },
   {
    "duration": 6,
    "start_time": "2023-05-03T19:05:12.072Z"
   },
   {
    "duration": 6,
    "start_time": "2023-05-03T19:05:33.058Z"
   },
   {
    "duration": 6,
    "start_time": "2023-05-03T19:05:38.229Z"
   },
   {
    "duration": 19,
    "start_time": "2023-05-03T19:06:22.650Z"
   },
   {
    "duration": 4423,
    "start_time": "2023-05-03T19:11:58.511Z"
   },
   {
    "duration": 4,
    "start_time": "2023-05-03T19:12:02.936Z"
   },
   {
    "duration": 185,
    "start_time": "2023-05-03T19:12:02.941Z"
   },
   {
    "duration": 4,
    "start_time": "2023-05-03T19:12:03.129Z"
   },
   {
    "duration": 123,
    "start_time": "2023-05-03T19:12:03.134Z"
   },
   {
    "duration": 94,
    "start_time": "2023-05-03T19:12:03.259Z"
   },
   {
    "duration": 166,
    "start_time": "2023-05-03T19:12:03.355Z"
   },
   {
    "duration": 35,
    "start_time": "2023-05-03T19:12:03.523Z"
   },
   {
    "duration": 18,
    "start_time": "2023-05-03T19:12:03.560Z"
   },
   {
    "duration": 43,
    "start_time": "2023-05-03T19:12:03.581Z"
   },
   {
    "duration": 6,
    "start_time": "2023-05-03T19:12:03.625Z"
   },
   {
    "duration": 4,
    "start_time": "2023-05-03T19:12:03.633Z"
   },
   {
    "duration": 31,
    "start_time": "2023-05-03T19:12:03.639Z"
   },
   {
    "duration": 27,
    "start_time": "2023-05-03T19:12:03.672Z"
   },
   {
    "duration": 27,
    "start_time": "2023-05-03T19:12:03.712Z"
   },
   {
    "duration": 19,
    "start_time": "2023-05-03T19:12:03.741Z"
   },
   {
    "duration": 3,
    "start_time": "2023-05-03T19:12:03.762Z"
   },
   {
    "duration": 49,
    "start_time": "2023-05-03T19:12:03.766Z"
   },
   {
    "duration": 2,
    "start_time": "2023-05-03T19:12:03.817Z"
   },
   {
    "duration": 37,
    "start_time": "2023-05-03T19:12:03.821Z"
   },
   {
    "duration": 2,
    "start_time": "2023-05-03T19:12:03.861Z"
   },
   {
    "duration": 7,
    "start_time": "2023-05-03T19:12:03.866Z"
   },
   {
    "duration": 9,
    "start_time": "2023-05-03T19:12:03.875Z"
   },
   {
    "duration": 150,
    "start_time": "2023-05-03T19:12:03.886Z"
   },
   {
    "duration": 4,
    "start_time": "2023-05-03T19:12:04.037Z"
   },
   {
    "duration": 7,
    "start_time": "2023-05-03T19:12:04.043Z"
   },
   {
    "duration": 3,
    "start_time": "2023-05-03T19:12:04.052Z"
   },
   {
    "duration": 64,
    "start_time": "2023-05-03T19:12:04.059Z"
   },
   {
    "duration": 24,
    "start_time": "2023-05-03T19:12:04.125Z"
   },
   {
    "duration": 179,
    "start_time": "2023-05-03T19:12:04.151Z"
   },
   {
    "duration": 66,
    "start_time": "2023-05-03T19:12:04.332Z"
   },
   {
    "duration": 228,
    "start_time": "2023-05-03T19:12:04.400Z"
   },
   {
    "duration": 223,
    "start_time": "2023-05-03T19:12:04.629Z"
   },
   {
    "duration": 3928,
    "start_time": "2023-05-03T19:12:04.853Z"
   },
   {
    "duration": 2,
    "start_time": "2023-05-03T19:12:08.783Z"
   },
   {
    "duration": 40,
    "start_time": "2023-05-03T19:12:08.787Z"
   },
   {
    "duration": 5,
    "start_time": "2023-05-03T19:12:08.828Z"
   },
   {
    "duration": 15,
    "start_time": "2023-05-03T19:12:08.834Z"
   },
   {
    "duration": 6,
    "start_time": "2023-05-03T19:12:08.852Z"
   },
   {
    "duration": 25,
    "start_time": "2023-05-03T19:12:08.861Z"
   },
   {
    "duration": 196,
    "start_time": "2023-05-03T19:12:08.888Z"
   },
   {
    "duration": 0,
    "start_time": "2023-05-03T19:12:09.086Z"
   },
   {
    "duration": 0,
    "start_time": "2023-05-03T19:12:09.087Z"
   },
   {
    "duration": 0,
    "start_time": "2023-05-03T19:12:09.089Z"
   },
   {
    "duration": 1,
    "start_time": "2023-05-03T19:12:09.090Z"
   },
   {
    "duration": 0,
    "start_time": "2023-05-03T19:12:09.092Z"
   },
   {
    "duration": 0,
    "start_time": "2023-05-03T19:12:09.093Z"
   },
   {
    "duration": 0,
    "start_time": "2023-05-03T19:12:09.112Z"
   },
   {
    "duration": 0,
    "start_time": "2023-05-03T19:12:09.113Z"
   },
   {
    "duration": 0,
    "start_time": "2023-05-03T19:12:09.115Z"
   },
   {
    "duration": 0,
    "start_time": "2023-05-03T19:12:09.117Z"
   },
   {
    "duration": 0,
    "start_time": "2023-05-03T19:12:09.119Z"
   },
   {
    "duration": 0,
    "start_time": "2023-05-03T19:12:09.121Z"
   },
   {
    "duration": 0,
    "start_time": "2023-05-03T19:12:09.122Z"
   },
   {
    "duration": 0,
    "start_time": "2023-05-03T19:12:09.124Z"
   },
   {
    "duration": 0,
    "start_time": "2023-05-03T19:12:09.126Z"
   },
   {
    "duration": 12,
    "start_time": "2023-05-03T19:14:18.608Z"
   },
   {
    "duration": 10,
    "start_time": "2023-05-03T19:14:29.041Z"
   },
   {
    "duration": 39,
    "start_time": "2023-05-03T19:14:31.929Z"
   },
   {
    "duration": 84,
    "start_time": "2023-05-03T19:20:03.833Z"
   },
   {
    "duration": 42,
    "start_time": "2023-05-03T19:20:14.788Z"
   },
   {
    "duration": 566,
    "start_time": "2023-05-03T19:23:20.146Z"
   },
   {
    "duration": 201,
    "start_time": "2023-05-03T19:25:03.493Z"
   },
   {
    "duration": 67,
    "start_time": "2023-05-03T19:26:28.828Z"
   },
   {
    "duration": 200,
    "start_time": "2023-05-03T19:26:45.525Z"
   },
   {
    "duration": 5090,
    "start_time": "2023-05-03T19:29:58.393Z"
   },
   {
    "duration": 4989,
    "start_time": "2023-05-03T19:30:15.989Z"
   },
   {
    "duration": 18385,
    "start_time": "2023-05-03T19:33:18.517Z"
   },
   {
    "duration": 61564,
    "start_time": "2023-05-03T19:33:38.929Z"
   },
   {
    "duration": 28,
    "start_time": "2023-05-03T19:35:14.549Z"
   },
   {
    "duration": 26,
    "start_time": "2023-05-03T19:35:21.225Z"
   },
   {
    "duration": 4085,
    "start_time": "2023-05-03T19:35:36.189Z"
   },
   {
    "duration": 34180,
    "start_time": "2023-05-03T19:35:50.578Z"
   },
   {
    "duration": 7,
    "start_time": "2023-05-03T19:39:01.123Z"
   },
   {
    "duration": 141,
    "start_time": "2023-05-03T19:39:05.588Z"
   },
   {
    "duration": 165,
    "start_time": "2023-05-03T19:39:39.233Z"
   },
   {
    "duration": 140,
    "start_time": "2023-05-03T19:39:44.623Z"
   },
   {
    "duration": 182,
    "start_time": "2023-05-03T19:39:55.229Z"
   },
   {
    "duration": 184,
    "start_time": "2023-05-03T19:41:51.962Z"
   },
   {
    "duration": 5,
    "start_time": "2023-05-03T19:49:45.189Z"
   },
   {
    "duration": 9,
    "start_time": "2023-05-03T19:53:37.674Z"
   },
   {
    "duration": 9,
    "start_time": "2023-05-03T19:53:49.864Z"
   },
   {
    "duration": 10,
    "start_time": "2023-05-03T19:54:00.897Z"
   },
   {
    "duration": 10,
    "start_time": "2023-05-03T19:54:15.944Z"
   },
   {
    "duration": 20,
    "start_time": "2023-05-03T19:54:23.455Z"
   },
   {
    "duration": 650,
    "start_time": "2023-05-03T19:54:53.155Z"
   },
   {
    "duration": 640,
    "start_time": "2023-05-03T19:55:24.579Z"
   },
   {
    "duration": 635,
    "start_time": "2023-05-03T19:55:33.589Z"
   },
   {
    "duration": 10,
    "start_time": "2023-05-03T19:56:20.549Z"
   },
   {
    "duration": 11,
    "start_time": "2023-05-03T19:59:18.802Z"
   },
   {
    "duration": 9,
    "start_time": "2023-05-03T19:59:29.889Z"
   },
   {
    "duration": 641,
    "start_time": "2023-05-03T19:59:33.885Z"
   },
   {
    "duration": 48,
    "start_time": "2023-05-03T20:01:33.645Z"
   },
   {
    "duration": 3925,
    "start_time": "2023-05-03T20:08:37.927Z"
   },
   {
    "duration": 5,
    "start_time": "2023-05-03T20:08:41.854Z"
   },
   {
    "duration": 122,
    "start_time": "2023-05-03T20:08:41.860Z"
   },
   {
    "duration": 6,
    "start_time": "2023-05-03T20:08:41.985Z"
   },
   {
    "duration": 76,
    "start_time": "2023-05-03T20:08:41.992Z"
   },
   {
    "duration": 67,
    "start_time": "2023-05-03T20:08:42.070Z"
   },
   {
    "duration": 85,
    "start_time": "2023-05-03T20:08:42.140Z"
   },
   {
    "duration": 43,
    "start_time": "2023-05-03T20:08:42.227Z"
   },
   {
    "duration": 42,
    "start_time": "2023-05-03T20:08:42.272Z"
   },
   {
    "duration": 18,
    "start_time": "2023-05-03T20:08:42.317Z"
   },
   {
    "duration": 7,
    "start_time": "2023-05-03T20:08:42.337Z"
   },
   {
    "duration": 37,
    "start_time": "2023-05-03T20:08:42.346Z"
   },
   {
    "duration": 46,
    "start_time": "2023-05-03T20:08:42.385Z"
   },
   {
    "duration": 33,
    "start_time": "2023-05-03T20:08:42.435Z"
   },
   {
    "duration": 51,
    "start_time": "2023-05-03T20:08:42.470Z"
   },
   {
    "duration": 22,
    "start_time": "2023-05-03T20:08:42.523Z"
   },
   {
    "duration": 3,
    "start_time": "2023-05-03T20:08:42.547Z"
   },
   {
    "duration": 30,
    "start_time": "2023-05-03T20:08:42.552Z"
   },
   {
    "duration": 2,
    "start_time": "2023-05-03T20:08:42.584Z"
   },
   {
    "duration": 49,
    "start_time": "2023-05-03T20:08:42.588Z"
   },
   {
    "duration": 28,
    "start_time": "2023-05-03T20:08:42.639Z"
   },
   {
    "duration": 27,
    "start_time": "2023-05-03T20:08:42.669Z"
   },
   {
    "duration": 22,
    "start_time": "2023-05-03T20:08:42.698Z"
   },
   {
    "duration": 157,
    "start_time": "2023-05-03T20:08:42.722Z"
   },
   {
    "duration": 6,
    "start_time": "2023-05-03T20:08:42.881Z"
   },
   {
    "duration": 29,
    "start_time": "2023-05-03T20:08:42.889Z"
   },
   {
    "duration": 7,
    "start_time": "2023-05-03T20:08:42.920Z"
   },
   {
    "duration": 46,
    "start_time": "2023-05-03T20:08:42.930Z"
   },
   {
    "duration": 43,
    "start_time": "2023-05-03T20:08:42.977Z"
   },
   {
    "duration": 200,
    "start_time": "2023-05-03T20:08:43.023Z"
   },
   {
    "duration": 88,
    "start_time": "2023-05-03T20:08:43.225Z"
   },
   {
    "duration": 227,
    "start_time": "2023-05-03T20:08:43.315Z"
   },
   {
    "duration": 238,
    "start_time": "2023-05-03T20:08:43.544Z"
   },
   {
    "duration": 4344,
    "start_time": "2023-05-03T20:08:43.784Z"
   },
   {
    "duration": 3,
    "start_time": "2023-05-03T20:08:48.131Z"
   },
   {
    "duration": 58,
    "start_time": "2023-05-03T20:08:48.136Z"
   },
   {
    "duration": 5,
    "start_time": "2023-05-03T20:08:48.196Z"
   },
   {
    "duration": 48,
    "start_time": "2023-05-03T20:08:48.202Z"
   },
   {
    "duration": 19,
    "start_time": "2023-05-03T20:08:48.252Z"
   },
   {
    "duration": 33,
    "start_time": "2023-05-03T20:08:48.272Z"
   },
   {
    "duration": 25,
    "start_time": "2023-05-03T20:08:48.307Z"
   },
   {
    "duration": 43,
    "start_time": "2023-05-03T20:08:48.333Z"
   },
   {
    "duration": 2,
    "start_time": "2023-05-03T20:08:48.378Z"
   },
   {
    "duration": 25,
    "start_time": "2023-05-03T20:08:48.382Z"
   },
   {
    "duration": 7,
    "start_time": "2023-05-03T20:08:48.409Z"
   },
   {
    "duration": 106,
    "start_time": "2023-05-03T20:08:48.418Z"
   },
   {
    "duration": 313,
    "start_time": "2023-05-03T20:08:48.613Z"
   },
   {
    "duration": 34352,
    "start_time": "2023-05-03T20:08:48.928Z"
   },
   {
    "duration": 6,
    "start_time": "2023-05-03T20:09:23.282Z"
   },
   {
    "duration": 208,
    "start_time": "2023-05-03T20:09:23.290Z"
   },
   {
    "duration": 12,
    "start_time": "2023-05-03T20:09:23.500Z"
   },
   {
    "duration": 7,
    "start_time": "2023-05-03T20:09:23.514Z"
   },
   {
    "duration": 703,
    "start_time": "2023-05-03T20:09:23.522Z"
   },
   {
    "duration": 4022,
    "start_time": "2023-05-03T20:12:11.019Z"
   },
   {
    "duration": 3,
    "start_time": "2023-05-03T20:12:15.044Z"
   },
   {
    "duration": 127,
    "start_time": "2023-05-03T20:12:15.049Z"
   },
   {
    "duration": 5,
    "start_time": "2023-05-03T20:12:15.178Z"
   },
   {
    "duration": 72,
    "start_time": "2023-05-03T20:12:15.184Z"
   },
   {
    "duration": 71,
    "start_time": "2023-05-03T20:12:15.258Z"
   },
   {
    "duration": 81,
    "start_time": "2023-05-03T20:12:15.331Z"
   },
   {
    "duration": 40,
    "start_time": "2023-05-03T20:12:15.414Z"
   },
   {
    "duration": 24,
    "start_time": "2023-05-03T20:12:15.456Z"
   },
   {
    "duration": 43,
    "start_time": "2023-05-03T20:12:15.482Z"
   },
   {
    "duration": 5,
    "start_time": "2023-05-03T20:12:15.527Z"
   },
   {
    "duration": 8,
    "start_time": "2023-05-03T20:12:15.534Z"
   },
   {
    "duration": 31,
    "start_time": "2023-05-03T20:12:15.544Z"
   },
   {
    "duration": 42,
    "start_time": "2023-05-03T20:12:15.577Z"
   },
   {
    "duration": 25,
    "start_time": "2023-05-03T20:12:15.621Z"
   },
   {
    "duration": 21,
    "start_time": "2023-05-03T20:12:15.648Z"
   },
   {
    "duration": 2,
    "start_time": "2023-05-03T20:12:15.671Z"
   },
   {
    "duration": 53,
    "start_time": "2023-05-03T20:12:15.675Z"
   },
   {
    "duration": 2,
    "start_time": "2023-05-03T20:12:15.731Z"
   },
   {
    "duration": 39,
    "start_time": "2023-05-03T20:12:15.736Z"
   },
   {
    "duration": 3,
    "start_time": "2023-05-03T20:12:15.777Z"
   },
   {
    "duration": 25,
    "start_time": "2023-05-03T20:12:15.782Z"
   },
   {
    "duration": 14,
    "start_time": "2023-05-03T20:12:15.810Z"
   },
   {
    "duration": 144,
    "start_time": "2023-05-03T20:12:15.825Z"
   },
   {
    "duration": 4,
    "start_time": "2023-05-03T20:12:15.970Z"
   },
   {
    "duration": 8,
    "start_time": "2023-05-03T20:12:15.976Z"
   },
   {
    "duration": 7,
    "start_time": "2023-05-03T20:12:15.986Z"
   },
   {
    "duration": 47,
    "start_time": "2023-05-03T20:12:16.011Z"
   },
   {
    "duration": 25,
    "start_time": "2023-05-03T20:12:16.060Z"
   },
   {
    "duration": 197,
    "start_time": "2023-05-03T20:12:16.087Z"
   },
   {
    "duration": 82,
    "start_time": "2023-05-03T20:12:16.286Z"
   },
   {
    "duration": 223,
    "start_time": "2023-05-03T20:12:16.370Z"
   },
   {
    "duration": 235,
    "start_time": "2023-05-03T20:12:16.594Z"
   },
   {
    "duration": 4317,
    "start_time": "2023-05-03T20:12:16.831Z"
   },
   {
    "duration": 4,
    "start_time": "2023-05-03T20:12:21.150Z"
   },
   {
    "duration": 52,
    "start_time": "2023-05-03T20:12:21.155Z"
   },
   {
    "duration": 5,
    "start_time": "2023-05-03T20:12:21.210Z"
   },
   {
    "duration": 17,
    "start_time": "2023-05-03T20:12:21.217Z"
   },
   {
    "duration": 5,
    "start_time": "2023-05-03T20:12:21.236Z"
   },
   {
    "duration": 31,
    "start_time": "2023-05-03T20:12:21.243Z"
   },
   {
    "duration": 12,
    "start_time": "2023-05-03T20:12:21.277Z"
   },
   {
    "duration": 74,
    "start_time": "2023-05-03T20:12:21.291Z"
   },
   {
    "duration": 57,
    "start_time": "2023-05-03T20:12:21.367Z"
   },
   {
    "duration": 373,
    "start_time": "2023-05-03T20:12:21.426Z"
   },
   {
    "duration": 35890,
    "start_time": "2023-05-03T20:12:21.801Z"
   },
   {
    "duration": 18,
    "start_time": "2023-05-03T20:12:57.693Z"
   },
   {
    "duration": 203,
    "start_time": "2023-05-03T20:12:57.713Z"
   },
   {
    "duration": 6,
    "start_time": "2023-05-03T20:12:57.918Z"
   },
   {
    "duration": 6,
    "start_time": "2023-05-03T20:12:57.926Z"
   },
   {
    "duration": 636,
    "start_time": "2023-05-03T20:12:57.934Z"
   },
   {
    "duration": 55,
    "start_time": "2023-05-04T21:13:19.911Z"
   },
   {
    "duration": 9,
    "start_time": "2023-05-04T21:13:27.606Z"
   },
   {
    "duration": 0,
    "start_time": "2023-05-04T21:13:27.617Z"
   },
   {
    "duration": 0,
    "start_time": "2023-05-04T21:13:27.619Z"
   },
   {
    "duration": 9,
    "start_time": "2023-05-04T21:13:27.627Z"
   },
   {
    "duration": 0,
    "start_time": "2023-05-04T21:13:27.637Z"
   },
   {
    "duration": 0,
    "start_time": "2023-05-04T21:13:27.638Z"
   },
   {
    "duration": 8,
    "start_time": "2023-05-04T21:13:27.646Z"
   },
   {
    "duration": 0,
    "start_time": "2023-05-04T21:13:27.655Z"
   },
   {
    "duration": 0,
    "start_time": "2023-05-04T21:13:27.657Z"
   },
   {
    "duration": 0,
    "start_time": "2023-05-04T21:13:27.659Z"
   },
   {
    "duration": 96,
    "start_time": "2023-05-04T21:13:27.670Z"
   },
   {
    "duration": 65,
    "start_time": "2023-05-04T21:13:27.768Z"
   },
   {
    "duration": 8,
    "start_time": "2023-05-04T21:13:27.835Z"
   },
   {
    "duration": 0,
    "start_time": "2023-05-04T21:13:27.845Z"
   },
   {
    "duration": 0,
    "start_time": "2023-05-04T21:13:27.846Z"
   },
   {
    "duration": 0,
    "start_time": "2023-05-04T21:13:27.847Z"
   },
   {
    "duration": 0,
    "start_time": "2023-05-04T21:13:27.849Z"
   },
   {
    "duration": 6189,
    "start_time": "2023-05-04T21:13:29.972Z"
   },
   {
    "duration": 4,
    "start_time": "2023-05-04T21:13:36.163Z"
   },
   {
    "duration": 359,
    "start_time": "2023-05-04T21:13:36.168Z"
   },
   {
    "duration": 4,
    "start_time": "2023-05-04T21:13:36.529Z"
   },
   {
    "duration": 71,
    "start_time": "2023-05-04T21:13:36.535Z"
   },
   {
    "duration": 63,
    "start_time": "2023-05-04T21:13:36.608Z"
   },
   {
    "duration": 83,
    "start_time": "2023-05-04T21:13:36.673Z"
   },
   {
    "duration": 72,
    "start_time": "2023-05-04T21:13:36.758Z"
   },
   {
    "duration": 29,
    "start_time": "2023-05-04T21:13:36.832Z"
   },
   {
    "duration": 44,
    "start_time": "2023-05-04T21:13:36.863Z"
   },
   {
    "duration": 7,
    "start_time": "2023-05-04T21:13:36.910Z"
   },
   {
    "duration": 4,
    "start_time": "2023-05-04T21:13:36.920Z"
   },
   {
    "duration": 29,
    "start_time": "2023-05-04T21:13:36.926Z"
   },
   {
    "duration": 47,
    "start_time": "2023-05-04T21:13:36.960Z"
   },
   {
    "duration": 27,
    "start_time": "2023-05-04T21:13:37.010Z"
   },
   {
    "duration": 22,
    "start_time": "2023-05-04T21:13:37.039Z"
   },
   {
    "duration": 27,
    "start_time": "2023-05-04T21:13:37.063Z"
   },
   {
    "duration": 24,
    "start_time": "2023-05-04T21:13:37.096Z"
   },
   {
    "duration": 3,
    "start_time": "2023-05-04T21:13:37.121Z"
   },
   {
    "duration": 25,
    "start_time": "2023-05-04T21:13:37.126Z"
   },
   {
    "duration": 3,
    "start_time": "2023-05-04T21:13:37.152Z"
   },
   {
    "duration": 9,
    "start_time": "2023-05-04T21:13:37.157Z"
   },
   {
    "duration": 14,
    "start_time": "2023-05-04T21:13:37.190Z"
   },
   {
    "duration": 144,
    "start_time": "2023-05-04T21:13:37.206Z"
   },
   {
    "duration": 5,
    "start_time": "2023-05-04T21:13:37.352Z"
   },
   {
    "duration": 10,
    "start_time": "2023-05-04T21:13:37.359Z"
   },
   {
    "duration": 5,
    "start_time": "2023-05-04T21:13:37.371Z"
   },
   {
    "duration": 79,
    "start_time": "2023-05-04T21:13:37.388Z"
   },
   {
    "duration": 40,
    "start_time": "2023-05-04T21:13:37.470Z"
   },
   {
    "duration": 202,
    "start_time": "2023-05-04T21:13:37.513Z"
   },
   {
    "duration": 74,
    "start_time": "2023-05-04T21:13:37.717Z"
   },
   {
    "duration": 244,
    "start_time": "2023-05-04T21:13:37.793Z"
   },
   {
    "duration": 244,
    "start_time": "2023-05-04T21:13:38.039Z"
   },
   {
    "duration": 4809,
    "start_time": "2023-05-04T21:13:38.285Z"
   },
   {
    "duration": 107,
    "start_time": "2023-05-04T21:13:43.097Z"
   },
   {
    "duration": 1,
    "start_time": "2023-05-04T21:13:43.206Z"
   },
   {
    "duration": 0,
    "start_time": "2023-05-04T21:13:43.209Z"
   },
   {
    "duration": 0,
    "start_time": "2023-05-04T21:13:43.211Z"
   },
   {
    "duration": 0,
    "start_time": "2023-05-04T21:13:43.212Z"
   },
   {
    "duration": 0,
    "start_time": "2023-05-04T21:13:43.213Z"
   },
   {
    "duration": 0,
    "start_time": "2023-05-04T21:13:43.215Z"
   },
   {
    "duration": 0,
    "start_time": "2023-05-04T21:13:43.216Z"
   },
   {
    "duration": 0,
    "start_time": "2023-05-04T21:13:43.218Z"
   },
   {
    "duration": 0,
    "start_time": "2023-05-04T21:13:43.219Z"
   },
   {
    "duration": 0,
    "start_time": "2023-05-04T21:13:43.220Z"
   },
   {
    "duration": 0,
    "start_time": "2023-05-04T21:13:43.221Z"
   },
   {
    "duration": 1,
    "start_time": "2023-05-04T21:13:43.222Z"
   },
   {
    "duration": 0,
    "start_time": "2023-05-04T21:13:43.224Z"
   },
   {
    "duration": 0,
    "start_time": "2023-05-04T21:13:43.225Z"
   },
   {
    "duration": 0,
    "start_time": "2023-05-04T21:13:43.227Z"
   },
   {
    "duration": 0,
    "start_time": "2023-05-04T21:13:43.228Z"
   },
   {
    "duration": 45,
    "start_time": "2023-05-04T21:15:19.180Z"
   },
   {
    "duration": 34,
    "start_time": "2023-05-04T21:16:16.601Z"
   },
   {
    "duration": 23,
    "start_time": "2023-05-04T21:17:07.770Z"
   },
   {
    "duration": 24,
    "start_time": "2023-05-04T21:17:18.640Z"
   },
   {
    "duration": 10,
    "start_time": "2023-05-04T21:18:29.125Z"
   },
   {
    "duration": 10,
    "start_time": "2023-05-04T21:18:31.044Z"
   },
   {
    "duration": 13,
    "start_time": "2023-05-04T21:24:55.701Z"
   },
   {
    "duration": 11,
    "start_time": "2023-05-04T21:25:04.773Z"
   },
   {
    "duration": 40,
    "start_time": "2023-05-04T21:27:04.179Z"
   },
   {
    "duration": 5,
    "start_time": "2023-05-04T21:27:22.326Z"
   },
   {
    "duration": 10,
    "start_time": "2023-05-04T21:27:26.469Z"
   },
   {
    "duration": 56,
    "start_time": "2023-05-04T21:28:05.304Z"
   },
   {
    "duration": 13,
    "start_time": "2023-05-04T21:28:13.165Z"
   },
   {
    "duration": 14,
    "start_time": "2023-05-04T21:28:22.237Z"
   },
   {
    "duration": 13,
    "start_time": "2023-05-04T21:28:51.435Z"
   },
   {
    "duration": 3698,
    "start_time": "2023-05-04T21:29:12.778Z"
   },
   {
    "duration": 3,
    "start_time": "2023-05-04T21:29:16.479Z"
   },
   {
    "duration": 148,
    "start_time": "2023-05-04T21:29:16.490Z"
   },
   {
    "duration": 5,
    "start_time": "2023-05-04T21:29:16.640Z"
   },
   {
    "duration": 91,
    "start_time": "2023-05-04T21:29:16.646Z"
   },
   {
    "duration": 55,
    "start_time": "2023-05-04T21:29:16.739Z"
   },
   {
    "duration": 60,
    "start_time": "2023-05-04T21:29:16.796Z"
   },
   {
    "duration": 59,
    "start_time": "2023-05-04T21:29:16.858Z"
   },
   {
    "duration": 21,
    "start_time": "2023-05-04T21:29:16.919Z"
   },
   {
    "duration": 18,
    "start_time": "2023-05-04T21:29:16.943Z"
   },
   {
    "duration": 29,
    "start_time": "2023-05-04T21:29:16.963Z"
   },
   {
    "duration": 7,
    "start_time": "2023-05-04T21:29:16.994Z"
   },
   {
    "duration": 21,
    "start_time": "2023-05-04T21:29:17.002Z"
   },
   {
    "duration": 22,
    "start_time": "2023-05-04T21:29:17.025Z"
   },
   {
    "duration": 47,
    "start_time": "2023-05-04T21:29:17.049Z"
   },
   {
    "duration": 19,
    "start_time": "2023-05-04T21:29:17.097Z"
   },
   {
    "duration": 7,
    "start_time": "2023-05-04T21:29:17.118Z"
   },
   {
    "duration": 29,
    "start_time": "2023-05-04T21:29:17.127Z"
   },
   {
    "duration": 3,
    "start_time": "2023-05-04T21:29:17.157Z"
   },
   {
    "duration": 43,
    "start_time": "2023-05-04T21:29:17.161Z"
   },
   {
    "duration": 2,
    "start_time": "2023-05-04T21:29:17.206Z"
   },
   {
    "duration": 13,
    "start_time": "2023-05-04T21:29:17.210Z"
   },
   {
    "duration": 20,
    "start_time": "2023-05-04T21:29:17.225Z"
   },
   {
    "duration": 130,
    "start_time": "2023-05-04T21:29:17.248Z"
   },
   {
    "duration": 11,
    "start_time": "2023-05-04T21:29:17.380Z"
   },
   {
    "duration": 19,
    "start_time": "2023-05-04T21:29:17.392Z"
   },
   {
    "duration": 10,
    "start_time": "2023-05-04T21:29:17.413Z"
   },
   {
    "duration": 64,
    "start_time": "2023-05-04T21:29:17.427Z"
   },
   {
    "duration": 27,
    "start_time": "2023-05-04T21:29:17.493Z"
   },
   {
    "duration": 192,
    "start_time": "2023-05-04T21:29:17.522Z"
   },
   {
    "duration": 79,
    "start_time": "2023-05-04T21:29:17.716Z"
   },
   {
    "duration": 233,
    "start_time": "2023-05-04T21:29:17.796Z"
   },
   {
    "duration": 224,
    "start_time": "2023-05-04T21:29:18.031Z"
   },
   {
    "duration": 4245,
    "start_time": "2023-05-04T21:29:18.257Z"
   },
   {
    "duration": 6,
    "start_time": "2023-05-04T21:29:22.504Z"
   },
   {
    "duration": 15,
    "start_time": "2023-05-04T21:29:22.511Z"
   },
   {
    "duration": 3400,
    "start_time": "2023-05-04T21:29:34.244Z"
   },
   {
    "duration": 128,
    "start_time": "2023-05-04T21:30:53.694Z"
   },
   {
    "duration": 3631,
    "start_time": "2023-05-04T21:32:02.739Z"
   },
   {
    "duration": 3,
    "start_time": "2023-05-04T21:32:06.373Z"
   },
   {
    "duration": 137,
    "start_time": "2023-05-04T21:32:06.377Z"
   },
   {
    "duration": 4,
    "start_time": "2023-05-04T21:32:06.516Z"
   },
   {
    "duration": 101,
    "start_time": "2023-05-04T21:32:06.523Z"
   },
   {
    "duration": 42,
    "start_time": "2023-05-04T21:32:06.626Z"
   },
   {
    "duration": 69,
    "start_time": "2023-05-04T21:32:06.669Z"
   },
   {
    "duration": 59,
    "start_time": "2023-05-04T21:32:06.740Z"
   },
   {
    "duration": 19,
    "start_time": "2023-05-04T21:32:06.800Z"
   },
   {
    "duration": 17,
    "start_time": "2023-05-04T21:32:06.821Z"
   },
   {
    "duration": 10,
    "start_time": "2023-05-04T21:32:06.840Z"
   },
   {
    "duration": 14,
    "start_time": "2023-05-04T21:32:06.852Z"
   },
   {
    "duration": 41,
    "start_time": "2023-05-04T21:32:06.868Z"
   },
   {
    "duration": 38,
    "start_time": "2023-05-04T21:32:06.912Z"
   },
   {
    "duration": 27,
    "start_time": "2023-05-04T21:32:06.952Z"
   },
   {
    "duration": 25,
    "start_time": "2023-05-04T21:32:06.981Z"
   },
   {
    "duration": 3,
    "start_time": "2023-05-04T21:32:07.007Z"
   },
   {
    "duration": 29,
    "start_time": "2023-05-04T21:32:07.012Z"
   },
   {
    "duration": 3,
    "start_time": "2023-05-04T21:32:07.043Z"
   },
   {
    "duration": 41,
    "start_time": "2023-05-04T21:32:07.048Z"
   },
   {
    "duration": 2,
    "start_time": "2023-05-04T21:32:07.091Z"
   },
   {
    "duration": 14,
    "start_time": "2023-05-04T21:32:07.095Z"
   },
   {
    "duration": 22,
    "start_time": "2023-05-04T21:32:07.111Z"
   },
   {
    "duration": 135,
    "start_time": "2023-05-04T21:32:07.135Z"
   },
   {
    "duration": 3,
    "start_time": "2023-05-04T21:32:07.272Z"
   },
   {
    "duration": 18,
    "start_time": "2023-05-04T21:32:07.277Z"
   },
   {
    "duration": 17,
    "start_time": "2023-05-04T21:32:07.297Z"
   },
   {
    "duration": 54,
    "start_time": "2023-05-04T21:32:07.316Z"
   },
   {
    "duration": 26,
    "start_time": "2023-05-04T21:32:07.372Z"
   },
   {
    "duration": 166,
    "start_time": "2023-05-04T21:32:07.400Z"
   },
   {
    "duration": 77,
    "start_time": "2023-05-04T21:32:07.568Z"
   },
   {
    "duration": 221,
    "start_time": "2023-05-04T21:32:07.647Z"
   },
   {
    "duration": 221,
    "start_time": "2023-05-04T21:32:07.870Z"
   },
   {
    "duration": 4205,
    "start_time": "2023-05-04T21:32:08.093Z"
   },
   {
    "duration": 6,
    "start_time": "2023-05-04T21:32:12.300Z"
   },
   {
    "duration": 17,
    "start_time": "2023-05-04T21:32:12.308Z"
   },
   {
    "duration": 43,
    "start_time": "2023-05-04T21:32:12.327Z"
   },
   {
    "duration": 52,
    "start_time": "2023-05-04T21:32:12.372Z"
   },
   {
    "duration": 21,
    "start_time": "2023-05-04T21:32:12.426Z"
   },
   {
    "duration": 23,
    "start_time": "2023-05-04T21:32:12.449Z"
   },
   {
    "duration": 5,
    "start_time": "2023-05-04T21:32:12.476Z"
   },
   {
    "duration": 23,
    "start_time": "2023-05-04T21:32:12.483Z"
   },
   {
    "duration": 11,
    "start_time": "2023-05-04T21:32:12.507Z"
   },
   {
    "duration": 37,
    "start_time": "2023-05-04T21:32:12.520Z"
   },
   {
    "duration": 144,
    "start_time": "2023-05-04T21:33:31.556Z"
   },
   {
    "duration": 3586,
    "start_time": "2023-05-04T21:33:43.268Z"
   },
   {
    "duration": 4,
    "start_time": "2023-05-04T21:33:46.856Z"
   },
   {
    "duration": 114,
    "start_time": "2023-05-04T21:33:46.861Z"
   },
   {
    "duration": 4,
    "start_time": "2023-05-04T21:33:46.977Z"
   },
   {
    "duration": 80,
    "start_time": "2023-05-04T21:33:46.983Z"
   },
   {
    "duration": 49,
    "start_time": "2023-05-04T21:33:47.065Z"
   },
   {
    "duration": 77,
    "start_time": "2023-05-04T21:33:47.116Z"
   },
   {
    "duration": 38,
    "start_time": "2023-05-04T21:33:47.195Z"
   },
   {
    "duration": 19,
    "start_time": "2023-05-04T21:33:47.234Z"
   },
   {
    "duration": 43,
    "start_time": "2023-05-04T21:33:47.255Z"
   },
   {
    "duration": 7,
    "start_time": "2023-05-04T21:33:47.300Z"
   },
   {
    "duration": 7,
    "start_time": "2023-05-04T21:33:47.309Z"
   },
   {
    "duration": 28,
    "start_time": "2023-05-04T21:33:47.318Z"
   },
   {
    "duration": 29,
    "start_time": "2023-05-04T21:33:47.349Z"
   },
   {
    "duration": 33,
    "start_time": "2023-05-04T21:33:47.381Z"
   },
   {
    "duration": 19,
    "start_time": "2023-05-04T21:33:47.416Z"
   },
   {
    "duration": 3,
    "start_time": "2023-05-04T21:33:47.437Z"
   },
   {
    "duration": 23,
    "start_time": "2023-05-04T21:33:47.441Z"
   },
   {
    "duration": 3,
    "start_time": "2023-05-04T21:33:47.490Z"
   },
   {
    "duration": 36,
    "start_time": "2023-05-04T21:33:47.494Z"
   },
   {
    "duration": 2,
    "start_time": "2023-05-04T21:33:47.532Z"
   },
   {
    "duration": 8,
    "start_time": "2023-05-04T21:33:47.536Z"
   },
   {
    "duration": 10,
    "start_time": "2023-05-04T21:33:47.545Z"
   },
   {
    "duration": 141,
    "start_time": "2023-05-04T21:33:47.556Z"
   },
   {
    "duration": 4,
    "start_time": "2023-05-04T21:33:47.698Z"
   },
   {
    "duration": 7,
    "start_time": "2023-05-04T21:33:47.703Z"
   },
   {
    "duration": 4,
    "start_time": "2023-05-04T21:33:47.711Z"
   },
   {
    "duration": 51,
    "start_time": "2023-05-04T21:33:47.716Z"
   },
   {
    "duration": 45,
    "start_time": "2023-05-04T21:33:47.768Z"
   },
   {
    "duration": 188,
    "start_time": "2023-05-04T21:33:47.815Z"
   },
   {
    "duration": 68,
    "start_time": "2023-05-04T21:33:48.004Z"
   },
   {
    "duration": 216,
    "start_time": "2023-05-04T21:33:48.073Z"
   },
   {
    "duration": 218,
    "start_time": "2023-05-04T21:33:48.291Z"
   },
   {
    "duration": 4124,
    "start_time": "2023-05-04T21:33:48.510Z"
   },
   {
    "duration": 7,
    "start_time": "2023-05-04T21:33:52.636Z"
   },
   {
    "duration": 14,
    "start_time": "2023-05-04T21:33:52.645Z"
   },
   {
    "duration": 31,
    "start_time": "2023-05-04T21:33:52.661Z"
   },
   {
    "duration": 36,
    "start_time": "2023-05-04T21:33:52.694Z"
   },
   {
    "duration": 4,
    "start_time": "2023-05-04T21:33:52.732Z"
   },
   {
    "duration": 11,
    "start_time": "2023-05-04T21:33:52.737Z"
   },
   {
    "duration": 12,
    "start_time": "2023-05-04T21:33:52.752Z"
   },
   {
    "duration": 163,
    "start_time": "2023-05-04T21:33:52.766Z"
   },
   {
    "duration": 0,
    "start_time": "2023-05-04T21:33:52.931Z"
   },
   {
    "duration": 0,
    "start_time": "2023-05-04T21:33:52.932Z"
   },
   {
    "duration": 0,
    "start_time": "2023-05-04T21:33:52.933Z"
   },
   {
    "duration": 0,
    "start_time": "2023-05-04T21:33:52.934Z"
   },
   {
    "duration": 0,
    "start_time": "2023-05-04T21:33:52.935Z"
   },
   {
    "duration": 0,
    "start_time": "2023-05-04T21:33:52.936Z"
   },
   {
    "duration": 0,
    "start_time": "2023-05-04T21:33:52.937Z"
   },
   {
    "duration": 0,
    "start_time": "2023-05-04T21:33:52.938Z"
   },
   {
    "duration": 0,
    "start_time": "2023-05-04T21:33:52.939Z"
   },
   {
    "duration": 0,
    "start_time": "2023-05-04T21:33:52.940Z"
   },
   {
    "duration": 3069,
    "start_time": "2023-05-04T21:34:16.894Z"
   },
   {
    "duration": 3,
    "start_time": "2023-05-04T21:36:47.522Z"
   },
   {
    "duration": 24,
    "start_time": "2023-05-04T21:37:00.354Z"
   },
   {
    "duration": 8,
    "start_time": "2023-05-04T21:37:09.623Z"
   },
   {
    "duration": 34,
    "start_time": "2023-05-04T21:37:10.153Z"
   },
   {
    "duration": 18,
    "start_time": "2023-05-04T21:52:16.175Z"
   },
   {
    "duration": 16,
    "start_time": "2023-05-04T21:54:29.657Z"
   },
   {
    "duration": 14,
    "start_time": "2023-05-04T21:54:36.886Z"
   },
   {
    "duration": 2215,
    "start_time": "2023-05-04T21:55:32.682Z"
   },
   {
    "duration": 3612,
    "start_time": "2023-05-04T21:55:41.062Z"
   },
   {
    "duration": 5,
    "start_time": "2023-05-04T21:55:44.676Z"
   },
   {
    "duration": 111,
    "start_time": "2023-05-04T21:55:44.682Z"
   },
   {
    "duration": 4,
    "start_time": "2023-05-04T21:55:44.795Z"
   },
   {
    "duration": 73,
    "start_time": "2023-05-04T21:55:44.801Z"
   },
   {
    "duration": 53,
    "start_time": "2023-05-04T21:55:44.876Z"
   },
   {
    "duration": 90,
    "start_time": "2023-05-04T21:55:44.931Z"
   },
   {
    "duration": 40,
    "start_time": "2023-05-04T21:55:45.023Z"
   },
   {
    "duration": 42,
    "start_time": "2023-05-04T21:55:45.065Z"
   },
   {
    "duration": 17,
    "start_time": "2023-05-04T21:55:45.109Z"
   },
   {
    "duration": 5,
    "start_time": "2023-05-04T21:55:45.128Z"
   },
   {
    "duration": 6,
    "start_time": "2023-05-04T21:55:45.134Z"
   },
   {
    "duration": 22,
    "start_time": "2023-05-04T21:55:45.141Z"
   },
   {
    "duration": 43,
    "start_time": "2023-05-04T21:55:45.165Z"
   },
   {
    "duration": 27,
    "start_time": "2023-05-04T21:55:45.210Z"
   },
   {
    "duration": 20,
    "start_time": "2023-05-04T21:55:45.238Z"
   },
   {
    "duration": 31,
    "start_time": "2023-05-04T21:55:45.259Z"
   },
   {
    "duration": 22,
    "start_time": "2023-05-04T21:55:45.292Z"
   },
   {
    "duration": 3,
    "start_time": "2023-05-04T21:55:45.315Z"
   },
   {
    "duration": 26,
    "start_time": "2023-05-04T21:55:45.320Z"
   },
   {
    "duration": 3,
    "start_time": "2023-05-04T21:55:45.347Z"
   },
   {
    "duration": 18,
    "start_time": "2023-05-04T21:55:45.352Z"
   },
   {
    "duration": 21,
    "start_time": "2023-05-04T21:55:45.372Z"
   },
   {
    "duration": 142,
    "start_time": "2023-05-04T21:55:45.395Z"
   },
   {
    "duration": 4,
    "start_time": "2023-05-04T21:55:45.539Z"
   },
   {
    "duration": 10,
    "start_time": "2023-05-04T21:55:45.545Z"
   },
   {
    "duration": 3,
    "start_time": "2023-05-04T21:55:45.557Z"
   },
   {
    "duration": 65,
    "start_time": "2023-05-04T21:55:45.565Z"
   },
   {
    "duration": 24,
    "start_time": "2023-05-04T21:55:45.632Z"
   },
   {
    "duration": 183,
    "start_time": "2023-05-04T21:55:45.658Z"
   },
   {
    "duration": 84,
    "start_time": "2023-05-04T21:55:45.842Z"
   },
   {
    "duration": 217,
    "start_time": "2023-05-04T21:55:45.928Z"
   },
   {
    "duration": 217,
    "start_time": "2023-05-04T21:55:46.147Z"
   },
   {
    "duration": 3776,
    "start_time": "2023-05-04T21:55:46.365Z"
   },
   {
    "duration": 127,
    "start_time": "2023-05-04T21:55:50.143Z"
   },
   {
    "duration": 0,
    "start_time": "2023-05-04T21:55:50.272Z"
   },
   {
    "duration": 0,
    "start_time": "2023-05-04T21:55:50.273Z"
   },
   {
    "duration": 0,
    "start_time": "2023-05-04T21:55:50.274Z"
   },
   {
    "duration": 0,
    "start_time": "2023-05-04T21:55:50.275Z"
   },
   {
    "duration": 0,
    "start_time": "2023-05-04T21:55:50.276Z"
   },
   {
    "duration": 0,
    "start_time": "2023-05-04T21:55:50.277Z"
   },
   {
    "duration": 0,
    "start_time": "2023-05-04T21:55:50.278Z"
   },
   {
    "duration": 0,
    "start_time": "2023-05-04T21:55:50.279Z"
   },
   {
    "duration": 0,
    "start_time": "2023-05-04T21:55:50.290Z"
   },
   {
    "duration": 0,
    "start_time": "2023-05-04T21:55:50.291Z"
   },
   {
    "duration": 0,
    "start_time": "2023-05-04T21:55:50.294Z"
   },
   {
    "duration": 0,
    "start_time": "2023-05-04T21:55:50.295Z"
   },
   {
    "duration": 0,
    "start_time": "2023-05-04T21:55:50.296Z"
   },
   {
    "duration": 0,
    "start_time": "2023-05-04T21:55:50.298Z"
   },
   {
    "duration": 0,
    "start_time": "2023-05-04T21:55:50.299Z"
   },
   {
    "duration": 0,
    "start_time": "2023-05-04T21:55:50.301Z"
   },
   {
    "duration": 0,
    "start_time": "2023-05-04T21:55:50.302Z"
   },
   {
    "duration": 0,
    "start_time": "2023-05-04T21:55:50.304Z"
   },
   {
    "duration": 0,
    "start_time": "2023-05-04T21:55:50.305Z"
   },
   {
    "duration": 15,
    "start_time": "2023-05-04T21:56:07.054Z"
   },
   {
    "duration": 15,
    "start_time": "2023-05-04T21:56:27.157Z"
   },
   {
    "duration": 3691,
    "start_time": "2023-05-04T21:57:16.407Z"
   },
   {
    "duration": 3,
    "start_time": "2023-05-04T21:57:20.101Z"
   },
   {
    "duration": 140,
    "start_time": "2023-05-04T21:57:20.105Z"
   },
   {
    "duration": 5,
    "start_time": "2023-05-04T21:57:20.247Z"
   },
   {
    "duration": 92,
    "start_time": "2023-05-04T21:57:20.255Z"
   },
   {
    "duration": 67,
    "start_time": "2023-05-04T21:57:20.349Z"
   },
   {
    "duration": 76,
    "start_time": "2023-05-04T21:57:20.418Z"
   },
   {
    "duration": 40,
    "start_time": "2023-05-04T21:57:20.496Z"
   },
   {
    "duration": 21,
    "start_time": "2023-05-04T21:57:20.539Z"
   },
   {
    "duration": 18,
    "start_time": "2023-05-04T21:57:20.590Z"
   },
   {
    "duration": 6,
    "start_time": "2023-05-04T21:57:20.611Z"
   },
   {
    "duration": 19,
    "start_time": "2023-05-04T21:57:20.619Z"
   },
   {
    "duration": 22,
    "start_time": "2023-05-04T21:57:20.640Z"
   },
   {
    "duration": 41,
    "start_time": "2023-05-04T21:57:20.667Z"
   },
   {
    "duration": 28,
    "start_time": "2023-05-04T21:57:20.710Z"
   },
   {
    "duration": 20,
    "start_time": "2023-05-04T21:57:20.740Z"
   },
   {
    "duration": 4,
    "start_time": "2023-05-04T21:57:20.788Z"
   },
   {
    "duration": 22,
    "start_time": "2023-05-04T21:57:20.793Z"
   },
   {
    "duration": 2,
    "start_time": "2023-05-04T21:57:20.817Z"
   },
   {
    "duration": 32,
    "start_time": "2023-05-04T21:57:20.821Z"
   },
   {
    "duration": 3,
    "start_time": "2023-05-04T21:57:20.854Z"
   },
   {
    "duration": 6,
    "start_time": "2023-05-04T21:57:20.858Z"
   },
   {
    "duration": 34,
    "start_time": "2023-05-04T21:57:20.865Z"
   },
   {
    "duration": 141,
    "start_time": "2023-05-04T21:57:20.901Z"
   },
   {
    "duration": 4,
    "start_time": "2023-05-04T21:57:21.044Z"
   },
   {
    "duration": 9,
    "start_time": "2023-05-04T21:57:21.049Z"
   },
   {
    "duration": 8,
    "start_time": "2023-05-04T21:57:21.060Z"
   },
   {
    "duration": 53,
    "start_time": "2023-05-04T21:57:21.070Z"
   },
   {
    "duration": 22,
    "start_time": "2023-05-04T21:57:21.125Z"
   },
   {
    "duration": 184,
    "start_time": "2023-05-04T21:57:21.149Z"
   },
   {
    "duration": 74,
    "start_time": "2023-05-04T21:57:21.335Z"
   },
   {
    "duration": 215,
    "start_time": "2023-05-04T21:57:21.411Z"
   },
   {
    "duration": 246,
    "start_time": "2023-05-04T21:57:21.628Z"
   },
   {
    "duration": 4790,
    "start_time": "2023-05-04T21:57:21.876Z"
   },
   {
    "duration": 128,
    "start_time": "2023-05-04T21:57:26.667Z"
   },
   {
    "duration": 0,
    "start_time": "2023-05-04T21:57:26.797Z"
   },
   {
    "duration": 0,
    "start_time": "2023-05-04T21:57:26.799Z"
   },
   {
    "duration": 0,
    "start_time": "2023-05-04T21:57:26.800Z"
   },
   {
    "duration": 0,
    "start_time": "2023-05-04T21:57:26.801Z"
   },
   {
    "duration": 0,
    "start_time": "2023-05-04T21:57:26.803Z"
   },
   {
    "duration": 0,
    "start_time": "2023-05-04T21:57:26.805Z"
   },
   {
    "duration": 0,
    "start_time": "2023-05-04T21:57:26.806Z"
   },
   {
    "duration": 0,
    "start_time": "2023-05-04T21:57:26.807Z"
   },
   {
    "duration": 0,
    "start_time": "2023-05-04T21:57:26.809Z"
   },
   {
    "duration": 0,
    "start_time": "2023-05-04T21:57:26.810Z"
   },
   {
    "duration": 0,
    "start_time": "2023-05-04T21:57:26.811Z"
   },
   {
    "duration": 0,
    "start_time": "2023-05-04T21:57:26.813Z"
   },
   {
    "duration": 0,
    "start_time": "2023-05-04T21:57:26.815Z"
   },
   {
    "duration": 0,
    "start_time": "2023-05-04T21:57:26.816Z"
   },
   {
    "duration": 0,
    "start_time": "2023-05-04T21:57:26.818Z"
   },
   {
    "duration": 0,
    "start_time": "2023-05-04T21:57:26.819Z"
   },
   {
    "duration": 0,
    "start_time": "2023-05-04T21:57:26.820Z"
   },
   {
    "duration": 0,
    "start_time": "2023-05-04T21:57:26.821Z"
   },
   {
    "duration": 0,
    "start_time": "2023-05-04T21:57:26.822Z"
   },
   {
    "duration": 14,
    "start_time": "2023-05-04T21:57:39.661Z"
   },
   {
    "duration": 14,
    "start_time": "2023-05-04T21:57:45.605Z"
   },
   {
    "duration": 3,
    "start_time": "2023-05-04T21:57:47.786Z"
   },
   {
    "duration": 10,
    "start_time": "2023-05-04T21:57:48.926Z"
   },
   {
    "duration": 13,
    "start_time": "2023-05-04T21:58:23.256Z"
   },
   {
    "duration": 9,
    "start_time": "2023-05-04T21:58:54.130Z"
   },
   {
    "duration": 3668,
    "start_time": "2023-05-04T21:59:16.914Z"
   },
   {
    "duration": 3,
    "start_time": "2023-05-04T21:59:20.584Z"
   },
   {
    "duration": 116,
    "start_time": "2023-05-04T21:59:20.589Z"
   },
   {
    "duration": 4,
    "start_time": "2023-05-04T21:59:20.707Z"
   },
   {
    "duration": 63,
    "start_time": "2023-05-04T21:59:20.713Z"
   },
   {
    "duration": 47,
    "start_time": "2023-05-04T21:59:20.777Z"
   },
   {
    "duration": 86,
    "start_time": "2023-05-04T21:59:20.825Z"
   },
   {
    "duration": 42,
    "start_time": "2023-05-04T21:59:20.914Z"
   },
   {
    "duration": 44,
    "start_time": "2023-05-04T21:59:20.958Z"
   },
   {
    "duration": 18,
    "start_time": "2023-05-04T21:59:21.004Z"
   },
   {
    "duration": 6,
    "start_time": "2023-05-04T21:59:21.025Z"
   },
   {
    "duration": 4,
    "start_time": "2023-05-04T21:59:21.033Z"
   },
   {
    "duration": 22,
    "start_time": "2023-05-04T21:59:21.039Z"
   },
   {
    "duration": 20,
    "start_time": "2023-05-04T21:59:21.089Z"
   },
   {
    "duration": 29,
    "start_time": "2023-05-04T21:59:21.111Z"
   },
   {
    "duration": 47,
    "start_time": "2023-05-04T21:59:21.142Z"
   },
   {
    "duration": 3,
    "start_time": "2023-05-04T21:59:21.191Z"
   },
   {
    "duration": 21,
    "start_time": "2023-05-04T21:59:21.196Z"
   },
   {
    "duration": 2,
    "start_time": "2023-05-04T21:59:21.219Z"
   },
   {
    "duration": 24,
    "start_time": "2023-05-04T21:59:21.223Z"
   },
   {
    "duration": 2,
    "start_time": "2023-05-04T21:59:21.249Z"
   },
   {
    "duration": 7,
    "start_time": "2023-05-04T21:59:21.253Z"
   },
   {
    "duration": 36,
    "start_time": "2023-05-04T21:59:21.262Z"
   },
   {
    "duration": 144,
    "start_time": "2023-05-04T21:59:21.300Z"
   },
   {
    "duration": 4,
    "start_time": "2023-05-04T21:59:21.446Z"
   },
   {
    "duration": 7,
    "start_time": "2023-05-04T21:59:21.451Z"
   },
   {
    "duration": 3,
    "start_time": "2023-05-04T21:59:21.460Z"
   },
   {
    "duration": 66,
    "start_time": "2023-05-04T21:59:21.465Z"
   },
   {
    "duration": 22,
    "start_time": "2023-05-04T21:59:21.532Z"
   },
   {
    "duration": 199,
    "start_time": "2023-05-04T21:59:21.556Z"
   },
   {
    "duration": 74,
    "start_time": "2023-05-04T21:59:21.757Z"
   },
   {
    "duration": 232,
    "start_time": "2023-05-04T21:59:21.833Z"
   },
   {
    "duration": 222,
    "start_time": "2023-05-04T21:59:22.067Z"
   },
   {
    "duration": 3706,
    "start_time": "2023-05-04T21:59:25.984Z"
   },
   {
    "duration": 5,
    "start_time": "2023-05-04T21:59:50.422Z"
   },
   {
    "duration": 42,
    "start_time": "2023-05-04T21:59:52.055Z"
   },
   {
    "duration": 25,
    "start_time": "2023-05-04T21:59:52.223Z"
   },
   {
    "duration": 166,
    "start_time": "2023-05-04T21:59:52.598Z"
   },
   {
    "duration": 71,
    "start_time": "2023-05-04T21:59:54.161Z"
   },
   {
    "duration": 209,
    "start_time": "2023-05-04T22:00:01.248Z"
   },
   {
    "duration": 4583,
    "start_time": "2023-05-04T22:00:14.571Z"
   },
   {
    "duration": 3,
    "start_time": "2023-05-04T22:00:19.157Z"
   },
   {
    "duration": 124,
    "start_time": "2023-05-04T22:00:19.161Z"
   },
   {
    "duration": 5,
    "start_time": "2023-05-04T22:00:19.286Z"
   },
   {
    "duration": 71,
    "start_time": "2023-05-04T22:00:19.293Z"
   },
   {
    "duration": 55,
    "start_time": "2023-05-04T22:00:19.366Z"
   },
   {
    "duration": 85,
    "start_time": "2023-05-04T22:00:19.423Z"
   },
   {
    "duration": 39,
    "start_time": "2023-05-04T22:00:19.510Z"
   },
   {
    "duration": 41,
    "start_time": "2023-05-04T22:00:19.551Z"
   },
   {
    "duration": 16,
    "start_time": "2023-05-04T22:00:19.594Z"
   },
   {
    "duration": 5,
    "start_time": "2023-05-04T22:00:19.612Z"
   },
   {
    "duration": 8,
    "start_time": "2023-05-04T22:00:19.619Z"
   },
   {
    "duration": 25,
    "start_time": "2023-05-04T22:00:19.629Z"
   },
   {
    "duration": 45,
    "start_time": "2023-05-04T22:00:19.657Z"
   },
   {
    "duration": 30,
    "start_time": "2023-05-04T22:00:19.703Z"
   },
   {
    "duration": 23,
    "start_time": "2023-05-04T22:00:19.735Z"
   },
   {
    "duration": 2,
    "start_time": "2023-05-04T22:00:19.760Z"
   },
   {
    "duration": 22,
    "start_time": "2023-05-04T22:00:19.789Z"
   },
   {
    "duration": 2,
    "start_time": "2023-05-04T22:00:19.813Z"
   },
   {
    "duration": 36,
    "start_time": "2023-05-04T22:00:19.817Z"
   },
   {
    "duration": 2,
    "start_time": "2023-05-04T22:00:19.855Z"
   },
   {
    "duration": 27,
    "start_time": "2023-05-04T22:00:19.859Z"
   },
   {
    "duration": 9,
    "start_time": "2023-05-04T22:00:19.888Z"
   },
   {
    "duration": 149,
    "start_time": "2023-05-04T22:00:19.899Z"
   },
   {
    "duration": 3,
    "start_time": "2023-05-04T22:00:20.050Z"
   },
   {
    "duration": 15,
    "start_time": "2023-05-04T22:00:20.055Z"
   },
   {
    "duration": 17,
    "start_time": "2023-05-04T22:00:20.072Z"
   },
   {
    "duration": 49,
    "start_time": "2023-05-04T22:00:20.091Z"
   },
   {
    "duration": 27,
    "start_time": "2023-05-04T22:00:20.142Z"
   },
   {
    "duration": 244,
    "start_time": "2023-05-04T22:00:20.171Z"
   },
   {
    "duration": 83,
    "start_time": "2023-05-04T22:00:20.417Z"
   },
   {
    "duration": 214,
    "start_time": "2023-05-04T22:00:20.503Z"
   },
   {
    "duration": 226,
    "start_time": "2023-05-04T22:00:20.719Z"
   },
   {
    "duration": 4222,
    "start_time": "2023-05-04T22:00:20.947Z"
   },
   {
    "duration": 7,
    "start_time": "2023-05-04T22:00:25.171Z"
   },
   {
    "duration": 11,
    "start_time": "2023-05-04T22:00:25.180Z"
   },
   {
    "duration": 4,
    "start_time": "2023-05-04T22:00:25.193Z"
   },
   {
    "duration": 34,
    "start_time": "2023-05-04T22:00:25.198Z"
   },
   {
    "duration": 4,
    "start_time": "2023-05-04T22:00:25.234Z"
   },
   {
    "duration": 8,
    "start_time": "2023-05-04T22:00:25.239Z"
   },
   {
    "duration": 4,
    "start_time": "2023-05-04T22:00:25.251Z"
   },
   {
    "duration": 146,
    "start_time": "2023-05-04T22:00:25.256Z"
   },
   {
    "duration": 0,
    "start_time": "2023-05-04T22:00:25.404Z"
   },
   {
    "duration": 0,
    "start_time": "2023-05-04T22:00:25.405Z"
   },
   {
    "duration": 0,
    "start_time": "2023-05-04T22:00:25.406Z"
   },
   {
    "duration": 0,
    "start_time": "2023-05-04T22:00:25.407Z"
   },
   {
    "duration": 0,
    "start_time": "2023-05-04T22:00:25.409Z"
   },
   {
    "duration": 0,
    "start_time": "2023-05-04T22:00:25.410Z"
   },
   {
    "duration": 0,
    "start_time": "2023-05-04T22:00:25.411Z"
   },
   {
    "duration": 0,
    "start_time": "2023-05-04T22:00:25.413Z"
   },
   {
    "duration": 0,
    "start_time": "2023-05-04T22:00:25.414Z"
   },
   {
    "duration": 0,
    "start_time": "2023-05-04T22:00:25.415Z"
   },
   {
    "duration": 0,
    "start_time": "2023-05-04T22:00:25.416Z"
   },
   {
    "duration": 0,
    "start_time": "2023-05-04T22:00:25.417Z"
   },
   {
    "duration": 3,
    "start_time": "2023-05-04T22:01:06.684Z"
   },
   {
    "duration": 17,
    "start_time": "2023-05-04T22:01:07.410Z"
   },
   {
    "duration": 8,
    "start_time": "2023-05-04T22:01:44.151Z"
   },
   {
    "duration": 35,
    "start_time": "2023-05-04T22:01:44.635Z"
   },
   {
    "duration": 33,
    "start_time": "2023-05-04T22:02:09.474Z"
   },
   {
    "duration": 13,
    "start_time": "2023-05-04T22:02:16.591Z"
   },
   {
    "duration": 14,
    "start_time": "2023-05-04T22:02:28.012Z"
   },
   {
    "duration": 2666,
    "start_time": "2023-05-04T22:02:42.910Z"
   },
   {
    "duration": 2713,
    "start_time": "2023-05-04T22:03:07.081Z"
   },
   {
    "duration": 55,
    "start_time": "2023-05-04T22:19:58.495Z"
   },
   {
    "duration": 11,
    "start_time": "2023-05-04T22:23:50.481Z"
   },
   {
    "duration": 4,
    "start_time": "2023-05-04T22:27:55.448Z"
   },
   {
    "duration": 9,
    "start_time": "2023-05-04T22:27:56.265Z"
   },
   {
    "duration": 3680,
    "start_time": "2023-05-04T22:42:49.574Z"
   },
   {
    "duration": 3,
    "start_time": "2023-05-04T22:42:53.256Z"
   },
   {
    "duration": 115,
    "start_time": "2023-05-04T22:42:53.260Z"
   },
   {
    "duration": 4,
    "start_time": "2023-05-04T22:42:53.377Z"
   },
   {
    "duration": 63,
    "start_time": "2023-05-04T22:42:53.383Z"
   },
   {
    "duration": 54,
    "start_time": "2023-05-04T22:42:53.447Z"
   },
   {
    "duration": 60,
    "start_time": "2023-05-04T22:42:53.503Z"
   },
   {
    "duration": 55,
    "start_time": "2023-05-04T22:42:53.565Z"
   },
   {
    "duration": 20,
    "start_time": "2023-05-04T22:42:53.622Z"
   },
   {
    "duration": 16,
    "start_time": "2023-05-04T22:42:53.643Z"
   },
   {
    "duration": 31,
    "start_time": "2023-05-04T22:42:53.661Z"
   },
   {
    "duration": 4,
    "start_time": "2023-05-04T22:42:53.694Z"
   },
   {
    "duration": 19,
    "start_time": "2023-05-04T22:42:53.700Z"
   },
   {
    "duration": 22,
    "start_time": "2023-05-04T22:42:53.722Z"
   },
   {
    "duration": 46,
    "start_time": "2023-05-04T22:42:53.745Z"
   },
   {
    "duration": 20,
    "start_time": "2023-05-04T22:42:53.793Z"
   },
   {
    "duration": 3,
    "start_time": "2023-05-04T22:42:53.814Z"
   },
   {
    "duration": 20,
    "start_time": "2023-05-04T22:42:53.818Z"
   },
   {
    "duration": 2,
    "start_time": "2023-05-04T22:42:53.840Z"
   },
   {
    "duration": 60,
    "start_time": "2023-05-04T22:42:53.844Z"
   },
   {
    "duration": 2,
    "start_time": "2023-05-04T22:42:53.907Z"
   },
   {
    "duration": 4,
    "start_time": "2023-05-04T22:42:53.911Z"
   },
   {
    "duration": 10,
    "start_time": "2023-05-04T22:42:53.917Z"
   },
   {
    "duration": 144,
    "start_time": "2023-05-04T22:42:53.929Z"
   },
   {
    "duration": 3,
    "start_time": "2023-05-04T22:42:54.075Z"
   },
   {
    "duration": 33,
    "start_time": "2023-05-04T22:42:54.080Z"
   },
   {
    "duration": 11,
    "start_time": "2023-05-04T22:42:54.115Z"
   },
   {
    "duration": 63,
    "start_time": "2023-05-04T22:42:54.127Z"
   },
   {
    "duration": 25,
    "start_time": "2023-05-04T22:42:54.192Z"
   },
   {
    "duration": 183,
    "start_time": "2023-05-04T22:42:54.218Z"
   },
   {
    "duration": 66,
    "start_time": "2023-05-04T22:42:54.403Z"
   },
   {
    "duration": 224,
    "start_time": "2023-05-04T22:42:54.471Z"
   },
   {
    "duration": 218,
    "start_time": "2023-05-04T22:42:54.697Z"
   },
   {
    "duration": 3992,
    "start_time": "2023-05-04T22:42:54.917Z"
   },
   {
    "duration": 7,
    "start_time": "2023-05-04T22:42:58.911Z"
   },
   {
    "duration": 10,
    "start_time": "2023-05-04T22:42:58.920Z"
   },
   {
    "duration": 3,
    "start_time": "2023-05-04T22:42:58.932Z"
   },
   {
    "duration": 31,
    "start_time": "2023-05-04T22:42:58.937Z"
   },
   {
    "duration": 19,
    "start_time": "2023-05-04T22:42:58.970Z"
   },
   {
    "duration": 9,
    "start_time": "2023-05-04T22:42:58.991Z"
   },
   {
    "duration": 5,
    "start_time": "2023-05-04T22:42:59.004Z"
   },
   {
    "duration": 5,
    "start_time": "2023-05-04T22:42:59.010Z"
   },
   {
    "duration": 18,
    "start_time": "2023-05-04T22:42:59.017Z"
   },
   {
    "duration": 8,
    "start_time": "2023-05-04T22:42:59.037Z"
   },
   {
    "duration": 61,
    "start_time": "2023-05-04T22:42:59.046Z"
   },
   {
    "duration": 2,
    "start_time": "2023-05-04T22:42:59.109Z"
   },
   {
    "duration": 83,
    "start_time": "2023-05-04T22:42:59.113Z"
   },
   {
    "duration": 264,
    "start_time": "2023-05-04T22:42:59.198Z"
   },
   {
    "duration": 4,
    "start_time": "2023-05-04T22:42:59.464Z"
   },
   {
    "duration": 999052,
    "start_time": "2023-05-04T22:42:59.470Z"
   },
   {
    "duration": 4,
    "start_time": "2023-05-04T22:59:38.523Z"
   },
   {
    "duration": 9,
    "start_time": "2023-05-04T22:59:38.529Z"
   },
   {
    "duration": 57,
    "start_time": "2023-05-04T22:59:38.539Z"
   },
   {
    "duration": 0,
    "start_time": "2023-05-04T22:59:38.597Z"
   },
   {
    "duration": 0,
    "start_time": "2023-05-04T22:59:38.599Z"
   },
   {
    "duration": 0,
    "start_time": "2023-05-04T22:59:38.600Z"
   },
   {
    "duration": 0,
    "start_time": "2023-05-04T22:59:38.601Z"
   },
   {
    "duration": 0,
    "start_time": "2023-05-04T22:59:38.603Z"
   },
   {
    "duration": 0,
    "start_time": "2023-05-04T22:59:38.604Z"
   },
   {
    "duration": 0,
    "start_time": "2023-05-04T22:59:38.605Z"
   },
   {
    "duration": 369,
    "start_time": "2023-05-04T23:11:30.102Z"
   },
   {
    "duration": 468,
    "start_time": "2023-05-04T23:12:05.883Z"
   },
   {
    "duration": 44,
    "start_time": "2023-05-04T23:13:02.642Z"
   },
   {
    "duration": 508,
    "start_time": "2023-05-04T23:15:01.183Z"
   },
   {
    "duration": 570,
    "start_time": "2023-05-04T23:15:32.840Z"
   },
   {
    "duration": 501,
    "start_time": "2023-05-04T23:16:06.155Z"
   },
   {
    "duration": 542,
    "start_time": "2023-05-04T23:16:51.414Z"
   },
   {
    "duration": 3,
    "start_time": "2023-05-04T23:20:36.038Z"
   },
   {
    "duration": 56,
    "start_time": "2023-05-04T23:32:43.811Z"
   },
   {
    "duration": 10,
    "start_time": "2023-05-04T23:34:48.247Z"
   },
   {
    "duration": 12,
    "start_time": "2023-05-04T23:35:00.205Z"
   },
   {
    "duration": 2025,
    "start_time": "2023-05-04T23:35:31.104Z"
   },
   {
    "duration": 2037,
    "start_time": "2023-05-04T23:36:07.614Z"
   },
   {
    "duration": 43,
    "start_time": "2023-05-04T23:36:29.823Z"
   },
   {
    "duration": 40,
    "start_time": "2023-05-04T23:37:59.755Z"
   },
   {
    "duration": 3,
    "start_time": "2023-05-04T23:38:37.818Z"
   },
   {
    "duration": 2014,
    "start_time": "2023-05-04T23:38:39.034Z"
   },
   {
    "duration": 2071,
    "start_time": "2023-05-04T23:43:19.223Z"
   },
   {
    "duration": 829,
    "start_time": "2023-05-04T23:48:10.775Z"
   },
   {
    "duration": 821,
    "start_time": "2023-05-04T23:48:28.983Z"
   },
   {
    "duration": 803,
    "start_time": "2023-05-04T23:48:51.698Z"
   },
   {
    "duration": 778,
    "start_time": "2023-05-04T23:48:59.924Z"
   },
   {
    "duration": 854,
    "start_time": "2023-05-04T23:49:43.152Z"
   },
   {
    "duration": 11,
    "start_time": "2023-05-04T23:58:37.055Z"
   },
   {
    "duration": 16685,
    "start_time": "2023-05-04T23:58:43.995Z"
   },
   {
    "duration": 2006,
    "start_time": "2023-05-04T23:59:23.967Z"
   },
   {
    "duration": 3,
    "start_time": "2023-05-05T00:00:50.515Z"
   },
   {
    "duration": 17,
    "start_time": "2023-05-05T00:01:15.955Z"
   },
   {
    "duration": 2041,
    "start_time": "2023-05-05T00:01:39.184Z"
   },
   {
    "duration": 14,
    "start_time": "2023-05-05T00:01:41.227Z"
   },
   {
    "duration": 106,
    "start_time": "2023-05-05T00:02:48.795Z"
   },
   {
    "duration": 3,
    "start_time": "2023-05-05T00:02:54.114Z"
   },
   {
    "duration": 38,
    "start_time": "2023-05-05T00:02:54.767Z"
   },
   {
    "duration": 12,
    "start_time": "2023-05-05T00:03:26.115Z"
   },
   {
    "duration": 105,
    "start_time": "2023-05-05T00:05:23.147Z"
   },
   {
    "duration": 108,
    "start_time": "2023-05-05T00:05:31.119Z"
   },
   {
    "duration": 134,
    "start_time": "2023-05-05T00:05:37.837Z"
   },
   {
    "duration": 3555,
    "start_time": "2023-05-05T00:11:04.911Z"
   },
   {
    "duration": 3,
    "start_time": "2023-05-05T00:11:08.468Z"
   },
   {
    "duration": 115,
    "start_time": "2023-05-05T00:11:08.473Z"
   },
   {
    "duration": 4,
    "start_time": "2023-05-05T00:11:08.590Z"
   },
   {
    "duration": 64,
    "start_time": "2023-05-05T00:11:08.596Z"
   },
   {
    "duration": 59,
    "start_time": "2023-05-05T00:11:08.661Z"
   },
   {
    "duration": 76,
    "start_time": "2023-05-05T00:11:08.722Z"
   },
   {
    "duration": 38,
    "start_time": "2023-05-05T00:11:08.800Z"
   },
   {
    "duration": 19,
    "start_time": "2023-05-05T00:11:08.839Z"
   },
   {
    "duration": 42,
    "start_time": "2023-05-05T00:11:08.860Z"
   },
   {
    "duration": 5,
    "start_time": "2023-05-05T00:11:08.903Z"
   },
   {
    "duration": 6,
    "start_time": "2023-05-05T00:11:08.910Z"
   },
   {
    "duration": 21,
    "start_time": "2023-05-05T00:11:08.917Z"
   },
   {
    "duration": 21,
    "start_time": "2023-05-05T00:11:08.940Z"
   },
   {
    "duration": 28,
    "start_time": "2023-05-05T00:11:08.990Z"
   },
   {
    "duration": 20,
    "start_time": "2023-05-05T00:11:09.020Z"
   },
   {
    "duration": 3,
    "start_time": "2023-05-05T00:11:09.042Z"
   },
   {
    "duration": 45,
    "start_time": "2023-05-05T00:11:09.047Z"
   },
   {
    "duration": 3,
    "start_time": "2023-05-05T00:11:09.094Z"
   },
   {
    "duration": 24,
    "start_time": "2023-05-05T00:11:09.099Z"
   },
   {
    "duration": 21,
    "start_time": "2023-05-05T00:11:09.126Z"
   },
   {
    "duration": 14,
    "start_time": "2023-05-05T00:11:09.149Z"
   },
   {
    "duration": 18,
    "start_time": "2023-05-05T00:11:09.165Z"
   },
   {
    "duration": 153,
    "start_time": "2023-05-05T00:11:09.185Z"
   },
   {
    "duration": 3,
    "start_time": "2023-05-05T00:11:09.340Z"
   },
   {
    "duration": 7,
    "start_time": "2023-05-05T00:11:09.344Z"
   },
   {
    "duration": 4,
    "start_time": "2023-05-05T00:11:09.352Z"
   },
   {
    "duration": 60,
    "start_time": "2023-05-05T00:11:09.360Z"
   },
   {
    "duration": 25,
    "start_time": "2023-05-05T00:11:09.422Z"
   },
   {
    "duration": 180,
    "start_time": "2023-05-05T00:11:09.449Z"
   },
   {
    "duration": 75,
    "start_time": "2023-05-05T00:11:09.630Z"
   },
   {
    "duration": 209,
    "start_time": "2023-05-05T00:11:09.707Z"
   },
   {
    "duration": 214,
    "start_time": "2023-05-05T00:11:09.918Z"
   },
   {
    "duration": 4996,
    "start_time": "2023-05-05T00:11:10.134Z"
   },
   {
    "duration": 6,
    "start_time": "2023-05-05T00:11:15.132Z"
   },
   {
    "duration": 11,
    "start_time": "2023-05-05T00:11:15.139Z"
   },
   {
    "duration": 9,
    "start_time": "2023-05-05T00:11:15.152Z"
   },
   {
    "duration": 32,
    "start_time": "2023-05-05T00:11:15.162Z"
   },
   {
    "duration": 4,
    "start_time": "2023-05-05T00:11:15.195Z"
   },
   {
    "duration": 7,
    "start_time": "2023-05-05T00:11:15.201Z"
   },
   {
    "duration": 4,
    "start_time": "2023-05-05T00:11:15.209Z"
   },
   {
    "duration": 4,
    "start_time": "2023-05-05T00:11:15.214Z"
   },
   {
    "duration": 18,
    "start_time": "2023-05-05T00:11:15.220Z"
   },
   {
    "duration": 8,
    "start_time": "2023-05-05T00:11:15.240Z"
   },
   {
    "duration": 61,
    "start_time": "2023-05-05T00:11:15.250Z"
   },
   {
    "duration": 777,
    "start_time": "2023-05-05T00:11:15.313Z"
   },
   {
    "duration": 4,
    "start_time": "2023-05-05T00:11:16.092Z"
   },
   {
    "duration": 41,
    "start_time": "2023-05-05T00:11:16.188Z"
   },
   {
    "duration": 184,
    "start_time": "2023-05-05T00:11:16.230Z"
   },
   {
    "duration": 130,
    "start_time": "2023-05-05T00:11:16.416Z"
   },
   {
    "duration": 13,
    "start_time": "2023-05-05T00:11:16.547Z"
   },
   {
    "duration": 0,
    "start_time": "2023-05-05T00:11:16.561Z"
   },
   {
    "duration": 0,
    "start_time": "2023-05-05T00:11:16.563Z"
   },
   {
    "duration": 0,
    "start_time": "2023-05-05T00:11:16.564Z"
   },
   {
    "duration": 0,
    "start_time": "2023-05-05T00:11:16.565Z"
   },
   {
    "duration": 0,
    "start_time": "2023-05-05T00:11:16.566Z"
   },
   {
    "duration": 0,
    "start_time": "2023-05-05T00:11:16.568Z"
   },
   {
    "duration": 0,
    "start_time": "2023-05-05T00:11:16.569Z"
   },
   {
    "duration": 0,
    "start_time": "2023-05-05T00:11:16.589Z"
   },
   {
    "duration": 1,
    "start_time": "2023-05-05T00:11:16.590Z"
   },
   {
    "duration": 0,
    "start_time": "2023-05-05T00:11:16.592Z"
   },
   {
    "duration": 0,
    "start_time": "2023-05-05T00:11:16.593Z"
   },
   {
    "duration": 0,
    "start_time": "2023-05-05T00:11:16.594Z"
   },
   {
    "duration": 4,
    "start_time": "2023-05-05T00:13:11.855Z"
   },
   {
    "duration": 43,
    "start_time": "2023-05-05T00:13:12.748Z"
   },
   {
    "duration": 69,
    "start_time": "2023-05-05T00:13:45.395Z"
   },
   {
    "duration": 4,
    "start_time": "2023-05-05T00:15:29.926Z"
   },
   {
    "duration": 9566,
    "start_time": "2023-05-05T00:15:30.598Z"
   },
   {
    "duration": 9314,
    "start_time": "2023-05-05T00:15:49.955Z"
   },
   {
    "duration": 112,
    "start_time": "2023-05-05T00:16:26.087Z"
   },
   {
    "duration": 4,
    "start_time": "2023-05-05T00:16:55.204Z"
   },
   {
    "duration": 3292248,
    "start_time": "2023-05-05T00:16:56.365Z"
   },
   {
    "duration": 1428,
    "start_time": "2023-05-05T01:13:38.384Z"
   },
   {
    "duration": 13,
    "start_time": "2023-05-05T01:13:48.097Z"
   },
   {
    "duration": 12,
    "start_time": "2023-05-05T01:14:46.737Z"
   },
   {
    "duration": 10,
    "start_time": "2023-05-05T01:14:55.335Z"
   },
   {
    "duration": 13,
    "start_time": "2023-05-05T01:16:03.754Z"
   },
   {
    "duration": 14,
    "start_time": "2023-05-05T01:18:50.564Z"
   },
   {
    "duration": 14,
    "start_time": "2023-05-05T01:28:37.816Z"
   },
   {
    "duration": 1669,
    "start_time": "2023-05-05T01:29:58.304Z"
   },
   {
    "duration": 61,
    "start_time": "2023-05-05T01:30:05.210Z"
   },
   {
    "duration": 57,
    "start_time": "2023-05-05T01:30:22.325Z"
   },
   {
    "duration": 16533,
    "start_time": "2023-05-05T01:31:17.285Z"
   },
   {
    "duration": 16196,
    "start_time": "2023-05-05T01:42:37.399Z"
   },
   {
    "duration": 6015,
    "start_time": "2023-05-05T01:43:00.472Z"
   },
   {
    "duration": 1729,
    "start_time": "2023-05-05T01:46:41.684Z"
   },
   {
    "duration": 3082,
    "start_time": "2023-05-05T01:48:00.165Z"
   },
   {
    "duration": 3,
    "start_time": "2023-05-05T01:50:57.551Z"
   },
   {
    "duration": 16543,
    "start_time": "2023-05-05T01:51:04.504Z"
   },
   {
    "duration": 628,
    "start_time": "2023-05-05T01:51:47.183Z"
   },
   {
    "duration": 546,
    "start_time": "2023-05-05T01:52:36.736Z"
   },
   {
    "duration": 549,
    "start_time": "2023-05-05T01:58:50.616Z"
   },
   {
    "duration": 30,
    "start_time": "2023-05-05T01:59:56.807Z"
   },
   {
    "duration": 4566,
    "start_time": "2023-05-05T02:01:37.871Z"
   },
   {
    "duration": 3,
    "start_time": "2023-05-05T02:01:42.439Z"
   },
   {
    "duration": 120,
    "start_time": "2023-05-05T02:01:42.444Z"
   },
   {
    "duration": 5,
    "start_time": "2023-05-05T02:01:42.566Z"
   },
   {
    "duration": 113,
    "start_time": "2023-05-05T02:01:42.589Z"
   },
   {
    "duration": 93,
    "start_time": "2023-05-05T02:01:42.704Z"
   },
   {
    "duration": 109,
    "start_time": "2023-05-05T02:01:42.799Z"
   },
   {
    "duration": 90,
    "start_time": "2023-05-05T02:01:42.910Z"
   },
   {
    "duration": 18,
    "start_time": "2023-05-05T02:01:43.002Z"
   },
   {
    "duration": 67,
    "start_time": "2023-05-05T02:01:43.022Z"
   },
   {
    "duration": 5,
    "start_time": "2023-05-05T02:01:43.091Z"
   },
   {
    "duration": 7,
    "start_time": "2023-05-05T02:01:43.097Z"
   },
   {
    "duration": 33,
    "start_time": "2023-05-05T02:01:43.105Z"
   },
   {
    "duration": 63,
    "start_time": "2023-05-05T02:01:43.141Z"
   },
   {
    "duration": 25,
    "start_time": "2023-05-05T02:01:43.206Z"
   },
   {
    "duration": 74,
    "start_time": "2023-05-05T02:01:43.232Z"
   },
   {
    "duration": 2,
    "start_time": "2023-05-05T02:01:43.308Z"
   },
   {
    "duration": 20,
    "start_time": "2023-05-05T02:01:43.312Z"
   },
   {
    "duration": 2,
    "start_time": "2023-05-05T02:01:43.389Z"
   },
   {
    "duration": 36,
    "start_time": "2023-05-05T02:01:43.393Z"
   },
   {
    "duration": 3,
    "start_time": "2023-05-05T02:01:43.430Z"
   },
   {
    "duration": 55,
    "start_time": "2023-05-05T02:01:43.434Z"
   },
   {
    "duration": 8,
    "start_time": "2023-05-05T02:01:43.491Z"
   },
   {
    "duration": 226,
    "start_time": "2023-05-05T02:01:43.501Z"
   },
   {
    "duration": 3,
    "start_time": "2023-05-05T02:01:43.729Z"
   },
   {
    "duration": 6,
    "start_time": "2023-05-05T02:01:43.790Z"
   },
   {
    "duration": 8,
    "start_time": "2023-05-05T02:01:43.797Z"
   },
   {
    "duration": 97,
    "start_time": "2023-05-05T02:01:43.806Z"
   },
   {
    "duration": 25,
    "start_time": "2023-05-05T02:01:43.905Z"
   },
   {
    "duration": 369,
    "start_time": "2023-05-05T02:01:43.932Z"
   },
   {
    "duration": 121,
    "start_time": "2023-05-05T02:01:44.302Z"
   },
   {
    "duration": 270,
    "start_time": "2023-05-05T02:01:44.425Z"
   },
   {
    "duration": 214,
    "start_time": "2023-05-05T02:01:44.696Z"
   },
   {
    "duration": 4802,
    "start_time": "2023-05-05T02:01:44.912Z"
   },
   {
    "duration": 8,
    "start_time": "2023-05-05T02:01:49.715Z"
   },
   {
    "duration": 2961,
    "start_time": "2023-05-05T02:01:49.725Z"
   },
   {
    "duration": 11,
    "start_time": "2023-05-05T02:01:52.688Z"
   },
   {
    "duration": 10,
    "start_time": "2023-05-05T02:01:52.702Z"
   },
   {
    "duration": 46,
    "start_time": "2023-05-05T02:01:52.714Z"
   },
   {
    "duration": 12,
    "start_time": "2023-05-05T02:01:52.762Z"
   },
   {
    "duration": 14,
    "start_time": "2023-05-05T02:01:52.779Z"
   },
   {
    "duration": 12,
    "start_time": "2023-05-05T02:01:52.795Z"
   },
   {
    "duration": 13,
    "start_time": "2023-05-05T02:01:52.809Z"
   },
   {
    "duration": 139,
    "start_time": "2023-05-05T02:01:52.824Z"
   },
   {
    "duration": 0,
    "start_time": "2023-05-05T02:01:52.966Z"
   },
   {
    "duration": 0,
    "start_time": "2023-05-05T02:01:52.967Z"
   },
   {
    "duration": 0,
    "start_time": "2023-05-05T02:01:52.968Z"
   },
   {
    "duration": 0,
    "start_time": "2023-05-05T02:01:52.969Z"
   },
   {
    "duration": 0,
    "start_time": "2023-05-05T02:01:52.970Z"
   },
   {
    "duration": 0,
    "start_time": "2023-05-05T02:01:52.971Z"
   },
   {
    "duration": 0,
    "start_time": "2023-05-05T02:01:52.971Z"
   },
   {
    "duration": 0,
    "start_time": "2023-05-05T02:01:52.973Z"
   },
   {
    "duration": 0,
    "start_time": "2023-05-05T02:01:52.973Z"
   },
   {
    "duration": 0,
    "start_time": "2023-05-05T02:01:52.974Z"
   },
   {
    "duration": 0,
    "start_time": "2023-05-05T02:01:52.975Z"
   },
   {
    "duration": 0,
    "start_time": "2023-05-05T02:01:52.976Z"
   },
   {
    "duration": 0,
    "start_time": "2023-05-05T02:01:52.989Z"
   },
   {
    "duration": 0,
    "start_time": "2023-05-05T02:01:52.990Z"
   },
   {
    "duration": 0,
    "start_time": "2023-05-05T02:01:52.992Z"
   },
   {
    "duration": 0,
    "start_time": "2023-05-05T02:01:52.993Z"
   },
   {
    "duration": 0,
    "start_time": "2023-05-05T02:01:52.995Z"
   },
   {
    "duration": 0,
    "start_time": "2023-05-05T02:01:52.996Z"
   },
   {
    "duration": 0,
    "start_time": "2023-05-05T02:01:52.997Z"
   },
   {
    "duration": 0,
    "start_time": "2023-05-05T02:01:52.997Z"
   },
   {
    "duration": 17,
    "start_time": "2023-05-05T02:02:41.029Z"
   },
   {
    "duration": 3575,
    "start_time": "2023-05-05T02:02:47.298Z"
   },
   {
    "duration": 3,
    "start_time": "2023-05-05T02:02:50.875Z"
   },
   {
    "duration": 122,
    "start_time": "2023-05-05T02:02:50.880Z"
   },
   {
    "duration": 4,
    "start_time": "2023-05-05T02:02:51.003Z"
   },
   {
    "duration": 82,
    "start_time": "2023-05-05T02:02:51.010Z"
   },
   {
    "duration": 39,
    "start_time": "2023-05-05T02:02:51.094Z"
   },
   {
    "duration": 81,
    "start_time": "2023-05-05T02:02:51.135Z"
   },
   {
    "duration": 38,
    "start_time": "2023-05-05T02:02:51.217Z"
   },
   {
    "duration": 44,
    "start_time": "2023-05-05T02:02:51.257Z"
   },
   {
    "duration": 25,
    "start_time": "2023-05-05T02:02:51.302Z"
   },
   {
    "duration": 50,
    "start_time": "2023-05-05T02:02:51.328Z"
   },
   {
    "duration": 16,
    "start_time": "2023-05-05T02:02:51.379Z"
   },
   {
    "duration": 34,
    "start_time": "2023-05-05T02:02:51.397Z"
   },
   {
    "duration": 34,
    "start_time": "2023-05-05T02:02:51.434Z"
   },
   {
    "duration": 38,
    "start_time": "2023-05-05T02:02:51.469Z"
   },
   {
    "duration": 19,
    "start_time": "2023-05-05T02:02:51.508Z"
   },
   {
    "duration": 16,
    "start_time": "2023-05-05T02:02:51.529Z"
   },
   {
    "duration": 32,
    "start_time": "2023-05-05T02:02:51.546Z"
   },
   {
    "duration": 3,
    "start_time": "2023-05-05T02:02:51.580Z"
   },
   {
    "duration": 34,
    "start_time": "2023-05-05T02:02:51.589Z"
   },
   {
    "duration": 3,
    "start_time": "2023-05-05T02:02:51.625Z"
   },
   {
    "duration": 19,
    "start_time": "2023-05-05T02:02:51.630Z"
   },
   {
    "duration": 22,
    "start_time": "2023-05-05T02:02:51.652Z"
   },
   {
    "duration": 152,
    "start_time": "2023-05-05T02:02:51.676Z"
   },
   {
    "duration": 4,
    "start_time": "2023-05-05T02:02:51.830Z"
   },
   {
    "duration": 11,
    "start_time": "2023-05-05T02:02:51.836Z"
   },
   {
    "duration": 18,
    "start_time": "2023-05-05T02:02:51.849Z"
   },
   {
    "duration": 60,
    "start_time": "2023-05-05T02:02:51.869Z"
   },
   {
    "duration": 26,
    "start_time": "2023-05-05T02:02:51.931Z"
   },
   {
    "duration": 177,
    "start_time": "2023-05-05T02:02:51.959Z"
   },
   {
    "duration": 80,
    "start_time": "2023-05-05T02:02:52.138Z"
   },
   {
    "duration": 209,
    "start_time": "2023-05-05T02:02:52.220Z"
   },
   {
    "duration": 217,
    "start_time": "2023-05-05T02:02:52.431Z"
   },
   {
    "duration": 4888,
    "start_time": "2023-05-05T02:02:52.649Z"
   },
   {
    "duration": 6,
    "start_time": "2023-05-05T02:02:57.539Z"
   },
   {
    "duration": 3301,
    "start_time": "2023-05-05T02:02:57.547Z"
   },
   {
    "duration": 10,
    "start_time": "2023-05-05T02:03:00.850Z"
   },
   {
    "duration": 39,
    "start_time": "2023-05-05T02:03:00.861Z"
   },
   {
    "duration": 52,
    "start_time": "2023-05-05T02:03:00.902Z"
   },
   {
    "duration": 35,
    "start_time": "2023-05-05T02:03:00.956Z"
   },
   {
    "duration": 30,
    "start_time": "2023-05-05T02:03:00.995Z"
   },
   {
    "duration": 35,
    "start_time": "2023-05-05T02:03:01.027Z"
   },
   {
    "duration": 43,
    "start_time": "2023-05-05T02:03:01.064Z"
   },
   {
    "duration": 85,
    "start_time": "2023-05-05T02:03:01.109Z"
   },
   {
    "duration": 40,
    "start_time": "2023-05-05T02:03:01.195Z"
   },
   {
    "duration": 73,
    "start_time": "2023-05-05T02:03:01.237Z"
   },
   {
    "duration": 795,
    "start_time": "2023-05-05T02:03:01.312Z"
   },
   {
    "duration": 4,
    "start_time": "2023-05-05T02:03:02.191Z"
   },
   {
    "duration": 12181,
    "start_time": "2023-05-05T02:03:02.197Z"
   },
   {
    "duration": 140,
    "start_time": "2023-05-05T02:03:14.380Z"
   },
   {
    "duration": 3,
    "start_time": "2023-05-05T02:03:14.522Z"
   },
   {
    "duration": 650163,
    "start_time": "2023-05-05T02:03:14.527Z"
   },
   {
    "duration": 2009,
    "start_time": "2023-05-05T02:14:04.692Z"
   },
   {
    "duration": 56,
    "start_time": "2023-05-05T02:14:06.702Z"
   },
   {
    "duration": 47,
    "start_time": "2023-05-05T02:14:06.759Z"
   },
   {
    "duration": 722,
    "start_time": "2023-05-05T02:14:06.807Z"
   },
   {
    "duration": 0,
    "start_time": "2023-05-05T02:14:07.531Z"
   },
   {
    "duration": 0,
    "start_time": "2023-05-05T02:14:07.533Z"
   },
   {
    "duration": 0,
    "start_time": "2023-05-05T02:14:07.534Z"
   },
   {
    "duration": 0,
    "start_time": "2023-05-05T02:14:07.535Z"
   },
   {
    "duration": 0,
    "start_time": "2023-05-05T02:14:07.536Z"
   },
   {
    "duration": 0,
    "start_time": "2023-05-05T02:14:07.537Z"
   },
   {
    "duration": 0,
    "start_time": "2023-05-05T02:14:07.538Z"
   },
   {
    "duration": 0,
    "start_time": "2023-05-05T02:14:07.539Z"
   },
   {
    "duration": 561,
    "start_time": "2023-05-05T02:14:45.782Z"
   },
   {
    "duration": 3578,
    "start_time": "2023-05-05T02:27:05.974Z"
   },
   {
    "duration": 3,
    "start_time": "2023-05-05T02:27:09.555Z"
   },
   {
    "duration": 125,
    "start_time": "2023-05-05T02:27:09.560Z"
   },
   {
    "duration": 4,
    "start_time": "2023-05-05T02:27:09.687Z"
   },
   {
    "duration": 65,
    "start_time": "2023-05-05T02:27:09.693Z"
   },
   {
    "duration": 54,
    "start_time": "2023-05-05T02:27:09.759Z"
   },
   {
    "duration": 60,
    "start_time": "2023-05-05T02:27:09.815Z"
   },
   {
    "duration": 53,
    "start_time": "2023-05-05T02:27:09.876Z"
   },
   {
    "duration": 19,
    "start_time": "2023-05-05T02:27:09.931Z"
   },
   {
    "duration": 51,
    "start_time": "2023-05-05T02:27:09.952Z"
   },
   {
    "duration": 6,
    "start_time": "2023-05-05T02:27:10.005Z"
   },
   {
    "duration": 30,
    "start_time": "2023-05-05T02:27:10.013Z"
   },
   {
    "duration": 42,
    "start_time": "2023-05-05T02:27:10.045Z"
   },
   {
    "duration": 32,
    "start_time": "2023-05-05T02:27:10.091Z"
   },
   {
    "duration": 28,
    "start_time": "2023-05-05T02:27:10.125Z"
   },
   {
    "duration": 21,
    "start_time": "2023-05-05T02:27:10.155Z"
   },
   {
    "duration": 12,
    "start_time": "2023-05-05T02:27:10.178Z"
   },
   {
    "duration": 27,
    "start_time": "2023-05-05T02:27:10.192Z"
   },
   {
    "duration": 2,
    "start_time": "2023-05-05T02:27:10.222Z"
   },
   {
    "duration": 35,
    "start_time": "2023-05-05T02:27:10.227Z"
   },
   {
    "duration": 26,
    "start_time": "2023-05-05T02:27:10.264Z"
   },
   {
    "duration": 18,
    "start_time": "2023-05-05T02:27:10.292Z"
   },
   {
    "duration": 12,
    "start_time": "2023-05-05T02:27:10.312Z"
   },
   {
    "duration": 138,
    "start_time": "2023-05-05T02:27:10.326Z"
   },
   {
    "duration": 4,
    "start_time": "2023-05-05T02:27:10.466Z"
   },
   {
    "duration": 22,
    "start_time": "2023-05-05T02:27:10.472Z"
   },
   {
    "duration": 5,
    "start_time": "2023-05-05T02:27:10.495Z"
   },
   {
    "duration": 55,
    "start_time": "2023-05-05T02:27:10.502Z"
   },
   {
    "duration": 38,
    "start_time": "2023-05-05T02:27:10.559Z"
   },
   {
    "duration": 180,
    "start_time": "2023-05-05T02:27:10.600Z"
   },
   {
    "duration": 73,
    "start_time": "2023-05-05T02:27:10.782Z"
   },
   {
    "duration": 211,
    "start_time": "2023-05-05T02:27:10.857Z"
   },
   {
    "duration": 212,
    "start_time": "2023-05-05T02:27:11.069Z"
   },
   {
    "duration": 4951,
    "start_time": "2023-05-05T02:27:11.283Z"
   },
   {
    "duration": 6,
    "start_time": "2023-05-05T02:27:16.235Z"
   },
   {
    "duration": 3280,
    "start_time": "2023-05-05T02:27:16.242Z"
   },
   {
    "duration": 10,
    "start_time": "2023-05-05T02:27:19.524Z"
   },
   {
    "duration": 4,
    "start_time": "2023-05-05T02:27:19.535Z"
   },
   {
    "duration": 49,
    "start_time": "2023-05-05T02:27:19.541Z"
   },
   {
    "duration": 5,
    "start_time": "2023-05-05T02:27:19.592Z"
   },
   {
    "duration": 11,
    "start_time": "2023-05-05T02:27:19.601Z"
   },
   {
    "duration": 4,
    "start_time": "2023-05-05T02:27:19.614Z"
   },
   {
    "duration": 33,
    "start_time": "2023-05-05T02:27:19.620Z"
   },
   {
    "duration": 11,
    "start_time": "2023-05-05T02:27:19.655Z"
   },
   {
    "duration": 36,
    "start_time": "2023-05-05T02:27:19.668Z"
   },
   {
    "duration": 8,
    "start_time": "2023-05-05T02:27:19.705Z"
   },
   {
    "duration": 35,
    "start_time": "2023-05-05T02:27:19.715Z"
   },
   {
    "duration": 858,
    "start_time": "2023-05-05T02:27:19.751Z"
   },
   {
    "duration": 80,
    "start_time": "2023-05-05T02:27:20.611Z"
   },
   {
    "duration": 12567,
    "start_time": "2023-05-05T02:27:20.693Z"
   },
   {
    "duration": 143,
    "start_time": "2023-05-05T02:27:33.261Z"
   },
   {
    "duration": 4,
    "start_time": "2023-05-05T02:27:33.406Z"
   },
   {
    "duration": 94065,
    "start_time": "2023-05-05T02:27:33.411Z"
   },
   {
    "duration": 2041,
    "start_time": "2023-05-05T02:29:07.478Z"
   },
   {
    "duration": 56,
    "start_time": "2023-05-05T02:29:09.521Z"
   },
   {
    "duration": 34,
    "start_time": "2023-05-05T02:29:09.589Z"
   },
   {
    "duration": 572,
    "start_time": "2023-05-05T02:29:09.624Z"
   },
   {
    "duration": 0,
    "start_time": "2023-05-05T02:29:10.198Z"
   },
   {
    "duration": 0,
    "start_time": "2023-05-05T02:29:10.200Z"
   },
   {
    "duration": 1,
    "start_time": "2023-05-05T02:29:10.202Z"
   },
   {
    "duration": 0,
    "start_time": "2023-05-05T02:29:10.204Z"
   },
   {
    "duration": 0,
    "start_time": "2023-05-05T02:29:10.206Z"
   },
   {
    "duration": 0,
    "start_time": "2023-05-05T02:29:10.208Z"
   },
   {
    "duration": 0,
    "start_time": "2023-05-05T02:29:10.210Z"
   },
   {
    "duration": 0,
    "start_time": "2023-05-05T02:29:10.211Z"
   },
   {
    "duration": 1106,
    "start_time": "2023-05-05T02:33:10.174Z"
   },
   {
    "duration": 35,
    "start_time": "2023-05-05T02:33:11.793Z"
   },
   {
    "duration": 7,
    "start_time": "2023-05-05T02:35:46.640Z"
   },
   {
    "duration": 5,
    "start_time": "2023-05-05T02:36:30.848Z"
   },
   {
    "duration": 16,
    "start_time": "2023-05-05T02:36:36.948Z"
   },
   {
    "duration": 14,
    "start_time": "2023-05-05T02:36:45.588Z"
   },
   {
    "duration": 35,
    "start_time": "2023-05-05T02:36:54.557Z"
   },
   {
    "duration": 31,
    "start_time": "2023-05-05T02:37:19.227Z"
   },
   {
    "duration": 34,
    "start_time": "2023-05-05T02:37:49.208Z"
   },
   {
    "duration": 3584,
    "start_time": "2023-05-05T02:38:05.469Z"
   },
   {
    "duration": 3,
    "start_time": "2023-05-05T02:38:09.055Z"
   },
   {
    "duration": 113,
    "start_time": "2023-05-05T02:38:09.060Z"
   },
   {
    "duration": 5,
    "start_time": "2023-05-05T02:38:09.174Z"
   },
   {
    "duration": 63,
    "start_time": "2023-05-05T02:38:09.181Z"
   },
   {
    "duration": 60,
    "start_time": "2023-05-05T02:38:09.246Z"
   },
   {
    "duration": 59,
    "start_time": "2023-05-05T02:38:09.308Z"
   },
   {
    "duration": 55,
    "start_time": "2023-05-05T02:38:09.368Z"
   },
   {
    "duration": 19,
    "start_time": "2023-05-05T02:38:09.424Z"
   },
   {
    "duration": 15,
    "start_time": "2023-05-05T02:38:09.445Z"
   },
   {
    "duration": 30,
    "start_time": "2023-05-05T02:38:09.462Z"
   },
   {
    "duration": 10,
    "start_time": "2023-05-05T02:38:09.494Z"
   },
   {
    "duration": 20,
    "start_time": "2023-05-05T02:38:09.505Z"
   },
   {
    "duration": 26,
    "start_time": "2023-05-05T02:38:09.528Z"
   },
   {
    "duration": 42,
    "start_time": "2023-05-05T02:38:09.556Z"
   },
   {
    "duration": 19,
    "start_time": "2023-05-05T02:38:09.599Z"
   },
   {
    "duration": 38,
    "start_time": "2023-05-05T02:38:09.620Z"
   },
   {
    "duration": 85,
    "start_time": "2023-05-05T02:38:09.659Z"
   },
   {
    "duration": 35,
    "start_time": "2023-05-05T02:38:09.746Z"
   },
   {
    "duration": 68,
    "start_time": "2023-05-05T02:38:09.783Z"
   },
   {
    "duration": 2,
    "start_time": "2023-05-05T02:38:09.853Z"
   },
   {
    "duration": 5,
    "start_time": "2023-05-05T02:38:09.857Z"
   },
   {
    "duration": 12,
    "start_time": "2023-05-05T02:38:09.864Z"
   },
   {
    "duration": 133,
    "start_time": "2023-05-05T02:38:09.878Z"
   },
   {
    "duration": 3,
    "start_time": "2023-05-05T02:38:10.013Z"
   },
   {
    "duration": 17,
    "start_time": "2023-05-05T02:38:10.017Z"
   },
   {
    "duration": 15,
    "start_time": "2023-05-05T02:38:10.036Z"
   },
   {
    "duration": 50,
    "start_time": "2023-05-05T02:38:10.054Z"
   },
   {
    "duration": 25,
    "start_time": "2023-05-05T02:38:10.106Z"
   },
   {
    "duration": 205,
    "start_time": "2023-05-05T02:38:10.133Z"
   },
   {
    "duration": 78,
    "start_time": "2023-05-05T02:38:10.340Z"
   },
   {
    "duration": 210,
    "start_time": "2023-05-05T02:38:10.420Z"
   },
   {
    "duration": 214,
    "start_time": "2023-05-05T02:38:10.631Z"
   },
   {
    "duration": 4059,
    "start_time": "2023-05-05T02:38:10.847Z"
   },
   {
    "duration": 6,
    "start_time": "2023-05-05T02:38:14.907Z"
   },
   {
    "duration": 3291,
    "start_time": "2023-05-05T02:38:14.915Z"
   },
   {
    "duration": 11,
    "start_time": "2023-05-05T02:38:18.208Z"
   },
   {
    "duration": 14,
    "start_time": "2023-05-05T02:38:18.222Z"
   },
   {
    "duration": 60,
    "start_time": "2023-05-05T02:38:18.238Z"
   },
   {
    "duration": 8,
    "start_time": "2023-05-05T02:38:18.301Z"
   },
   {
    "duration": 14,
    "start_time": "2023-05-05T02:38:18.313Z"
   },
   {
    "duration": 11,
    "start_time": "2023-05-05T02:38:18.329Z"
   },
   {
    "duration": 31,
    "start_time": "2023-05-05T02:38:18.342Z"
   },
   {
    "duration": 14,
    "start_time": "2023-05-05T02:38:18.376Z"
   },
   {
    "duration": 30,
    "start_time": "2023-05-05T02:38:18.392Z"
   },
   {
    "duration": 4,
    "start_time": "2023-05-05T02:38:18.425Z"
   },
   {
    "duration": 32,
    "start_time": "2023-05-05T02:38:23.588Z"
   },
   {
    "duration": 781,
    "start_time": "2023-05-05T02:38:48.328Z"
   },
   {
    "duration": 4,
    "start_time": "2023-05-05T02:38:57.841Z"
   },
   {
    "duration": 9438,
    "start_time": "2023-05-05T02:39:03.700Z"
   },
   {
    "duration": 148,
    "start_time": "2023-05-05T02:39:13.141Z"
   },
   {
    "duration": 4,
    "start_time": "2023-05-05T02:39:20.662Z"
   },
   {
    "duration": 4244,
    "start_time": "2023-05-05T02:39:48.577Z"
   },
   {
    "duration": 4,
    "start_time": "2023-05-05T02:39:52.822Z"
   },
   {
    "duration": 182,
    "start_time": "2023-05-05T02:39:52.827Z"
   },
   {
    "duration": 5,
    "start_time": "2023-05-05T02:39:53.011Z"
   },
   {
    "duration": 172,
    "start_time": "2023-05-05T02:39:53.017Z"
   },
   {
    "duration": 41,
    "start_time": "2023-05-05T02:39:53.191Z"
   },
   {
    "duration": 59,
    "start_time": "2023-05-05T02:39:53.290Z"
   },
   {
    "duration": 59,
    "start_time": "2023-05-05T02:39:53.351Z"
   },
   {
    "duration": 19,
    "start_time": "2023-05-05T02:39:53.412Z"
   },
   {
    "duration": 17,
    "start_time": "2023-05-05T02:39:53.433Z"
   },
   {
    "duration": 6,
    "start_time": "2023-05-05T02:39:53.452Z"
   },
   {
    "duration": 39,
    "start_time": "2023-05-05T02:39:53.460Z"
   },
   {
    "duration": 43,
    "start_time": "2023-05-05T02:39:53.501Z"
   },
   {
    "duration": 53,
    "start_time": "2023-05-05T02:39:53.546Z"
   },
   {
    "duration": 56,
    "start_time": "2023-05-05T02:39:53.601Z"
   },
   {
    "duration": 20,
    "start_time": "2023-05-05T02:39:53.660Z"
   },
   {
    "duration": 4,
    "start_time": "2023-05-05T02:39:53.682Z"
   },
   {
    "duration": 24,
    "start_time": "2023-05-05T02:39:53.688Z"
   },
   {
    "duration": 2,
    "start_time": "2023-05-05T02:39:53.714Z"
   },
   {
    "duration": 46,
    "start_time": "2023-05-05T02:39:53.718Z"
   },
   {
    "duration": 2,
    "start_time": "2023-05-05T02:39:53.766Z"
   },
   {
    "duration": 32,
    "start_time": "2023-05-05T02:39:53.770Z"
   },
   {
    "duration": 22,
    "start_time": "2023-05-05T02:39:53.803Z"
   },
   {
    "duration": 138,
    "start_time": "2023-05-05T02:39:53.828Z"
   },
   {
    "duration": 4,
    "start_time": "2023-05-05T02:39:53.968Z"
   },
   {
    "duration": 35,
    "start_time": "2023-05-05T02:39:53.974Z"
   },
   {
    "duration": 21,
    "start_time": "2023-05-05T02:39:54.011Z"
   },
   {
    "duration": 68,
    "start_time": "2023-05-05T02:39:54.037Z"
   },
   {
    "duration": 27,
    "start_time": "2023-05-05T02:39:54.107Z"
   },
   {
    "duration": 184,
    "start_time": "2023-05-05T02:39:54.136Z"
   },
   {
    "duration": 76,
    "start_time": "2023-05-05T02:39:54.322Z"
   },
   {
    "duration": 206,
    "start_time": "2023-05-05T02:39:54.400Z"
   },
   {
    "duration": 218,
    "start_time": "2023-05-05T02:39:54.609Z"
   },
   {
    "duration": 3900,
    "start_time": "2023-05-05T02:39:54.829Z"
   },
   {
    "duration": 7,
    "start_time": "2023-05-05T02:39:58.731Z"
   },
   {
    "duration": 2941,
    "start_time": "2023-05-05T02:39:58.739Z"
   },
   {
    "duration": 16,
    "start_time": "2023-05-05T02:40:01.682Z"
   },
   {
    "duration": 52,
    "start_time": "2023-05-05T02:40:01.700Z"
   },
   {
    "duration": 72,
    "start_time": "2023-05-05T02:40:01.754Z"
   },
   {
    "duration": 36,
    "start_time": "2023-05-05T02:40:01.828Z"
   },
   {
    "duration": 35,
    "start_time": "2023-05-05T02:40:01.866Z"
   },
   {
    "duration": 37,
    "start_time": "2023-05-05T02:40:01.903Z"
   },
   {
    "duration": 59,
    "start_time": "2023-05-05T02:40:01.942Z"
   },
   {
    "duration": 40,
    "start_time": "2023-05-05T02:40:02.003Z"
   },
   {
    "duration": 137,
    "start_time": "2023-05-05T02:40:02.045Z"
   },
   {
    "duration": 0,
    "start_time": "2023-05-05T02:40:02.184Z"
   },
   {
    "duration": 0,
    "start_time": "2023-05-05T02:40:02.189Z"
   },
   {
    "duration": 0,
    "start_time": "2023-05-05T02:40:02.190Z"
   },
   {
    "duration": 0,
    "start_time": "2023-05-05T02:40:02.191Z"
   },
   {
    "duration": 0,
    "start_time": "2023-05-05T02:40:02.192Z"
   },
   {
    "duration": 0,
    "start_time": "2023-05-05T02:40:02.193Z"
   },
   {
    "duration": 0,
    "start_time": "2023-05-05T02:40:02.194Z"
   },
   {
    "duration": 0,
    "start_time": "2023-05-05T02:40:02.196Z"
   },
   {
    "duration": 0,
    "start_time": "2023-05-05T02:40:02.197Z"
   },
   {
    "duration": 0,
    "start_time": "2023-05-05T02:40:02.198Z"
   },
   {
    "duration": 0,
    "start_time": "2023-05-05T02:40:02.199Z"
   },
   {
    "duration": 0,
    "start_time": "2023-05-05T02:40:02.200Z"
   },
   {
    "duration": 0,
    "start_time": "2023-05-05T02:40:02.201Z"
   },
   {
    "duration": 0,
    "start_time": "2023-05-05T02:40:02.202Z"
   },
   {
    "duration": 0,
    "start_time": "2023-05-05T02:40:02.203Z"
   },
   {
    "duration": 0,
    "start_time": "2023-05-05T02:40:02.204Z"
   },
   {
    "duration": 0,
    "start_time": "2023-05-05T02:40:02.205Z"
   },
   {
    "duration": 0,
    "start_time": "2023-05-05T02:40:02.206Z"
   },
   {
    "duration": 0,
    "start_time": "2023-05-05T02:40:02.207Z"
   },
   {
    "duration": 3,
    "start_time": "2023-05-05T02:41:06.230Z"
   },
   {
    "duration": 17,
    "start_time": "2023-05-05T02:41:07.128Z"
   },
   {
    "duration": 30,
    "start_time": "2023-05-05T02:41:22.198Z"
   },
   {
    "duration": 2,
    "start_time": "2023-05-05T02:41:31.750Z"
   },
   {
    "duration": 850,
    "start_time": "2023-05-05T02:41:31.754Z"
   },
   {
    "duration": 4,
    "start_time": "2023-05-05T02:41:32.606Z"
   },
   {
    "duration": 8981,
    "start_time": "2023-05-05T02:41:32.690Z"
   },
   {
    "duration": 117,
    "start_time": "2023-05-05T02:41:41.674Z"
   },
   {
    "duration": 3,
    "start_time": "2023-05-05T02:41:41.793Z"
   },
   {
    "duration": 493866,
    "start_time": "2023-05-05T02:41:41.797Z"
   },
   {
    "duration": 1643,
    "start_time": "2023-05-05T02:49:55.665Z"
   },
   {
    "duration": 57,
    "start_time": "2023-05-05T02:49:57.310Z"
   },
   {
    "duration": 38,
    "start_time": "2023-05-05T02:49:57.369Z"
   },
   {
    "duration": 4920,
    "start_time": "2023-05-05T02:49:57.411Z"
   },
   {
    "duration": 5,
    "start_time": "2023-05-05T02:50:02.333Z"
   },
   {
    "duration": 16613,
    "start_time": "2023-05-05T02:50:02.339Z"
   },
   {
    "duration": 87003,
    "start_time": "2023-05-05T02:50:18.954Z"
   },
   {
    "duration": 11,
    "start_time": "2023-05-05T02:51:45.959Z"
   },
   {
    "duration": 0,
    "start_time": "2023-05-05T02:51:45.971Z"
   },
   {
    "duration": 0,
    "start_time": "2023-05-05T02:51:45.973Z"
   },
   {
    "duration": 0,
    "start_time": "2023-05-05T02:51:45.975Z"
   },
   {
    "duration": 0,
    "start_time": "2023-05-05T02:51:45.976Z"
   },
   {
    "duration": 67896,
    "start_time": "2023-05-05T02:55:11.088Z"
   },
   {
    "duration": 0,
    "start_time": "2023-05-05T02:56:18.986Z"
   },
   {
    "duration": 6707,
    "start_time": "2023-05-05T02:56:21.908Z"
   },
   {
    "duration": 3,
    "start_time": "2023-05-05T02:56:32.336Z"
   },
   {
    "duration": 14,
    "start_time": "2023-05-05T03:00:33.588Z"
   },
   {
    "duration": 4,
    "start_time": "2023-05-05T03:02:51.946Z"
   },
   {
    "duration": 2859,
    "start_time": "2023-05-05T03:02:56.231Z"
   },
   {
    "duration": 9289,
    "start_time": "2023-05-05T03:03:11.267Z"
   },
   {
    "duration": 10,
    "start_time": "2023-05-05T03:03:30.496Z"
   },
   {
    "duration": 5,
    "start_time": "2023-05-05T03:11:38.212Z"
   },
   {
    "duration": 167,
    "start_time": "2023-05-05T03:11:52.668Z"
   },
   {
    "duration": 170,
    "start_time": "2023-05-05T03:12:19.928Z"
   },
   {
    "duration": 4,
    "start_time": "2023-05-05T03:15:52.879Z"
   },
   {
    "duration": 249,
    "start_time": "2023-05-05T03:15:53.845Z"
   },
   {
    "duration": 14,
    "start_time": "2023-05-05T03:17:16.344Z"
   },
   {
    "duration": 4,
    "start_time": "2023-05-05T03:17:22.125Z"
   },
   {
    "duration": 254,
    "start_time": "2023-05-05T03:17:22.685Z"
   },
   {
    "duration": 234,
    "start_time": "2023-05-05T03:17:40.832Z"
   },
   {
    "duration": 14,
    "start_time": "2023-05-05T03:18:10.947Z"
   },
   {
    "duration": 246,
    "start_time": "2023-05-05T03:18:18.364Z"
   },
   {
    "duration": 242,
    "start_time": "2023-05-05T03:18:28.433Z"
   },
   {
    "duration": 24,
    "start_time": "2023-05-05T03:18:42.491Z"
   },
   {
    "duration": 247,
    "start_time": "2023-05-05T03:21:48.397Z"
   },
   {
    "duration": 3560,
    "start_time": "2023-05-05T03:26:25.286Z"
   },
   {
    "duration": 3,
    "start_time": "2023-05-05T03:26:28.848Z"
   },
   {
    "duration": 117,
    "start_time": "2023-05-05T03:26:28.853Z"
   },
   {
    "duration": 4,
    "start_time": "2023-05-05T03:26:28.973Z"
   },
   {
    "duration": 60,
    "start_time": "2023-05-05T03:26:28.979Z"
   },
   {
    "duration": 54,
    "start_time": "2023-05-05T03:26:29.041Z"
   },
   {
    "duration": 59,
    "start_time": "2023-05-05T03:26:29.097Z"
   },
   {
    "duration": 58,
    "start_time": "2023-05-05T03:26:29.158Z"
   },
   {
    "duration": 18,
    "start_time": "2023-05-05T03:26:29.218Z"
   },
   {
    "duration": 16,
    "start_time": "2023-05-05T03:26:29.239Z"
   },
   {
    "duration": 32,
    "start_time": "2023-05-05T03:26:29.257Z"
   },
   {
    "duration": 5,
    "start_time": "2023-05-05T03:26:29.291Z"
   },
   {
    "duration": 22,
    "start_time": "2023-05-05T03:26:29.297Z"
   },
   {
    "duration": 21,
    "start_time": "2023-05-05T03:26:29.321Z"
   },
   {
    "duration": 46,
    "start_time": "2023-05-05T03:26:29.344Z"
   },
   {
    "duration": 20,
    "start_time": "2023-05-05T03:26:29.392Z"
   },
   {
    "duration": 3,
    "start_time": "2023-05-05T03:26:29.413Z"
   },
   {
    "duration": 22,
    "start_time": "2023-05-05T03:26:29.417Z"
   },
   {
    "duration": 2,
    "start_time": "2023-05-05T03:26:29.441Z"
   },
   {
    "duration": 48,
    "start_time": "2023-05-05T03:26:29.445Z"
   },
   {
    "duration": 3,
    "start_time": "2023-05-05T03:26:29.495Z"
   },
   {
    "duration": 5,
    "start_time": "2023-05-05T03:26:29.499Z"
   },
   {
    "duration": 11,
    "start_time": "2023-05-05T03:26:29.506Z"
   },
   {
    "duration": 134,
    "start_time": "2023-05-05T03:26:29.519Z"
   },
   {
    "duration": 3,
    "start_time": "2023-05-05T03:26:29.655Z"
   },
   {
    "duration": 8,
    "start_time": "2023-05-05T03:26:29.660Z"
   },
   {
    "duration": 20,
    "start_time": "2023-05-05T03:26:29.669Z"
   },
   {
    "duration": 45,
    "start_time": "2023-05-05T03:26:29.693Z"
   },
   {
    "duration": 26,
    "start_time": "2023-05-05T03:26:29.740Z"
   },
   {
    "duration": 187,
    "start_time": "2023-05-05T03:26:29.768Z"
   },
   {
    "duration": 71,
    "start_time": "2023-05-05T03:26:29.957Z"
   },
   {
    "duration": 222,
    "start_time": "2023-05-05T03:26:30.030Z"
   },
   {
    "duration": 234,
    "start_time": "2023-05-05T03:26:30.254Z"
   },
   {
    "duration": 3997,
    "start_time": "2023-05-05T03:26:30.489Z"
   },
   {
    "duration": 6,
    "start_time": "2023-05-05T03:26:34.488Z"
   },
   {
    "duration": 8,
    "start_time": "2023-05-05T03:26:34.495Z"
   },
   {
    "duration": 11,
    "start_time": "2023-05-05T03:26:34.505Z"
   },
   {
    "duration": 10,
    "start_time": "2023-05-05T03:26:34.518Z"
   },
   {
    "duration": 7,
    "start_time": "2023-05-05T03:26:34.529Z"
   },
   {
    "duration": 7,
    "start_time": "2023-05-05T03:26:34.537Z"
   },
   {
    "duration": 19,
    "start_time": "2023-05-05T03:26:34.546Z"
   },
   {
    "duration": 4,
    "start_time": "2023-05-05T03:26:34.567Z"
   },
   {
    "duration": 829,
    "start_time": "2023-05-05T03:26:34.573Z"
   },
   {
    "duration": 86,
    "start_time": "2023-05-05T03:26:35.404Z"
   },
   {
    "duration": 7952,
    "start_time": "2023-05-05T03:26:35.492Z"
   },
   {
    "duration": 114,
    "start_time": "2023-05-05T03:26:43.445Z"
   },
   {
    "duration": 3,
    "start_time": "2023-05-05T03:26:43.561Z"
   },
   {
    "duration": 490640,
    "start_time": "2023-05-05T03:26:43.565Z"
   },
   {
    "duration": 1649,
    "start_time": "2023-05-05T03:34:54.207Z"
   },
   {
    "duration": 32,
    "start_time": "2023-05-05T03:34:55.859Z"
   },
   {
    "duration": 128,
    "start_time": "2023-05-05T03:34:55.893Z"
   },
   {
    "duration": 0,
    "start_time": "2023-05-05T03:34:56.023Z"
   },
   {
    "duration": 0,
    "start_time": "2023-05-05T03:34:56.024Z"
   },
   {
    "duration": 0,
    "start_time": "2023-05-05T03:34:56.026Z"
   },
   {
    "duration": 0,
    "start_time": "2023-05-05T03:34:56.027Z"
   },
   {
    "duration": 0,
    "start_time": "2023-05-05T03:34:56.029Z"
   },
   {
    "duration": 0,
    "start_time": "2023-05-05T03:34:56.030Z"
   },
   {
    "duration": 0,
    "start_time": "2023-05-05T03:34:56.032Z"
   },
   {
    "duration": 4,
    "start_time": "2023-05-05T03:37:07.865Z"
   },
   {
    "duration": 85618,
    "start_time": "2023-05-05T03:37:32.693Z"
   },
   {
    "duration": 9422,
    "start_time": "2023-05-05T03:38:58.314Z"
   },
   {
    "duration": 11,
    "start_time": "2023-05-05T03:39:07.738Z"
   },
   {
    "duration": 21,
    "start_time": "2023-05-05T03:39:07.751Z"
   },
   {
    "duration": 189,
    "start_time": "2023-05-05T03:39:07.774Z"
   },
   {
    "duration": 11,
    "start_time": "2023-05-05T03:39:07.965Z"
   },
   {
    "duration": 0,
    "start_time": "2023-05-05T03:39:07.977Z"
   },
   {
    "duration": 4,
    "start_time": "2023-05-05T03:40:49.265Z"
   },
   {
    "duration": 270,
    "start_time": "2023-05-05T03:40:51.465Z"
   },
   {
    "duration": 218,
    "start_time": "2023-05-05T03:41:15.560Z"
   },
   {
    "duration": 296,
    "start_time": "2023-05-05T03:42:04.285Z"
   },
   {
    "duration": 42,
    "start_time": "2023-05-05T03:42:29.244Z"
   },
   {
    "duration": 281,
    "start_time": "2023-05-05T03:42:45.176Z"
   },
   {
    "duration": 349,
    "start_time": "2023-05-05T03:43:21.071Z"
   },
   {
    "duration": 5467,
    "start_time": "2023-05-05T10:09:03.641Z"
   },
   {
    "duration": 4,
    "start_time": "2023-05-05T10:09:09.110Z"
   },
   {
    "duration": 263,
    "start_time": "2023-05-05T10:09:09.115Z"
   },
   {
    "duration": 4,
    "start_time": "2023-05-05T10:09:09.380Z"
   },
   {
    "duration": 59,
    "start_time": "2023-05-05T10:09:09.385Z"
   },
   {
    "duration": 42,
    "start_time": "2023-05-05T10:09:09.446Z"
   },
   {
    "duration": 84,
    "start_time": "2023-05-05T10:09:09.489Z"
   },
   {
    "duration": 34,
    "start_time": "2023-05-05T10:09:09.574Z"
   },
   {
    "duration": 40,
    "start_time": "2023-05-05T10:09:09.609Z"
   },
   {
    "duration": 20,
    "start_time": "2023-05-05T10:09:09.652Z"
   },
   {
    "duration": 5,
    "start_time": "2023-05-05T10:09:09.673Z"
   },
   {
    "duration": 17,
    "start_time": "2023-05-05T10:09:09.679Z"
   },
   {
    "duration": 29,
    "start_time": "2023-05-05T10:09:09.697Z"
   },
   {
    "duration": 30,
    "start_time": "2023-05-05T10:09:09.728Z"
   },
   {
    "duration": 45,
    "start_time": "2023-05-05T10:09:09.759Z"
   },
   {
    "duration": 39,
    "start_time": "2023-05-05T10:09:09.806Z"
   },
   {
    "duration": 3,
    "start_time": "2023-05-05T10:09:09.847Z"
   },
   {
    "duration": 59,
    "start_time": "2023-05-05T10:09:09.852Z"
   },
   {
    "duration": 2,
    "start_time": "2023-05-05T10:09:09.913Z"
   },
   {
    "duration": 25,
    "start_time": "2023-05-05T10:09:09.916Z"
   },
   {
    "duration": 2,
    "start_time": "2023-05-05T10:09:09.942Z"
   },
   {
    "duration": 25,
    "start_time": "2023-05-05T10:09:09.946Z"
   },
   {
    "duration": 24,
    "start_time": "2023-05-05T10:09:09.974Z"
   },
   {
    "duration": 126,
    "start_time": "2023-05-05T10:09:09.999Z"
   },
   {
    "duration": 3,
    "start_time": "2023-05-05T10:09:10.126Z"
   },
   {
    "duration": 9,
    "start_time": "2023-05-05T10:09:10.132Z"
   },
   {
    "duration": 7,
    "start_time": "2023-05-05T10:09:10.143Z"
   },
   {
    "duration": 186,
    "start_time": "2023-05-05T10:09:10.152Z"
   },
   {
    "duration": 0,
    "start_time": "2023-05-05T10:09:10.339Z"
   },
   {
    "duration": 155,
    "start_time": "2023-05-05T10:09:10.392Z"
   },
   {
    "duration": 63,
    "start_time": "2023-05-05T10:09:19.814Z"
   },
   {
    "duration": 20,
    "start_time": "2023-05-05T10:09:23.211Z"
   },
   {
    "duration": 154,
    "start_time": "2023-05-05T10:09:24.246Z"
   },
   {
    "duration": 59,
    "start_time": "2023-05-05T10:09:25.416Z"
   },
   {
    "duration": 184,
    "start_time": "2023-05-05T10:09:26.192Z"
   },
   {
    "duration": 202,
    "start_time": "2023-05-05T10:09:26.377Z"
   },
   {
    "duration": 3504,
    "start_time": "2023-05-05T10:09:26.760Z"
   },
   {
    "duration": 6,
    "start_time": "2023-05-05T10:09:30.266Z"
   },
   {
    "duration": 2724,
    "start_time": "2023-05-05T10:09:30.273Z"
   },
   {
    "duration": 4259,
    "start_time": "2023-05-05T10:10:47.568Z"
   },
   {
    "duration": 3,
    "start_time": "2023-05-05T10:10:51.830Z"
   },
   {
    "duration": 409,
    "start_time": "2023-05-05T10:10:51.834Z"
   },
   {
    "duration": 10,
    "start_time": "2023-05-05T10:10:52.245Z"
   },
   {
    "duration": 71,
    "start_time": "2023-05-05T10:10:52.261Z"
   },
   {
    "duration": 43,
    "start_time": "2023-05-05T10:10:52.333Z"
   },
   {
    "duration": 54,
    "start_time": "2023-05-05T10:10:52.378Z"
   },
   {
    "duration": 41,
    "start_time": "2023-05-05T10:10:52.449Z"
   },
   {
    "duration": 18,
    "start_time": "2023-05-05T10:10:52.492Z"
   },
   {
    "duration": 36,
    "start_time": "2023-05-05T10:10:52.513Z"
   },
   {
    "duration": 6,
    "start_time": "2023-05-05T10:10:52.551Z"
   },
   {
    "duration": 24,
    "start_time": "2023-05-05T10:10:52.558Z"
   },
   {
    "duration": 30,
    "start_time": "2023-05-05T10:10:52.584Z"
   },
   {
    "duration": 25,
    "start_time": "2023-05-05T10:10:52.616Z"
   },
   {
    "duration": 28,
    "start_time": "2023-05-05T10:10:52.643Z"
   },
   {
    "duration": 20,
    "start_time": "2023-05-05T10:10:52.673Z"
   },
   {
    "duration": 3,
    "start_time": "2023-05-05T10:10:52.694Z"
   },
   {
    "duration": 23,
    "start_time": "2023-05-05T10:10:52.698Z"
   },
   {
    "duration": 2,
    "start_time": "2023-05-05T10:10:52.722Z"
   },
   {
    "duration": 47,
    "start_time": "2023-05-05T10:10:52.725Z"
   },
   {
    "duration": 2,
    "start_time": "2023-05-05T10:10:52.774Z"
   },
   {
    "duration": 15,
    "start_time": "2023-05-05T10:10:52.777Z"
   },
   {
    "duration": 8,
    "start_time": "2023-05-05T10:10:52.794Z"
   },
   {
    "duration": 122,
    "start_time": "2023-05-05T10:10:53.154Z"
   },
   {
    "duration": 3,
    "start_time": "2023-05-05T10:10:53.278Z"
   },
   {
    "duration": 5,
    "start_time": "2023-05-05T10:10:53.817Z"
   },
   {
    "duration": 3,
    "start_time": "2023-05-05T10:10:53.984Z"
   },
   {
    "duration": 44,
    "start_time": "2023-05-05T10:10:54.068Z"
   },
   {
    "duration": 22,
    "start_time": "2023-05-05T10:10:54.152Z"
   },
   {
    "duration": 154,
    "start_time": "2023-05-05T10:10:54.317Z"
   },
   {
    "duration": 72,
    "start_time": "2023-05-05T10:10:54.901Z"
   },
   {
    "duration": 214,
    "start_time": "2023-05-05T10:10:55.070Z"
   },
   {
    "duration": 201,
    "start_time": "2023-05-05T10:10:55.286Z"
   },
   {
    "duration": 3241,
    "start_time": "2023-05-05T10:10:55.489Z"
   },
   {
    "duration": 7,
    "start_time": "2023-05-05T10:10:58.731Z"
   },
   {
    "duration": 2356,
    "start_time": "2023-05-05T10:10:58.750Z"
   },
   {
    "duration": 3,
    "start_time": "2023-05-05T10:11:01.108Z"
   },
   {
    "duration": 174,
    "start_time": "2023-05-05T10:11:01.112Z"
   },
   {
    "duration": 0,
    "start_time": "2023-05-05T10:11:01.288Z"
   },
   {
    "duration": 0,
    "start_time": "2023-05-05T10:11:01.289Z"
   },
   {
    "duration": 0,
    "start_time": "2023-05-05T10:11:01.291Z"
   },
   {
    "duration": 0,
    "start_time": "2023-05-05T10:11:01.292Z"
   },
   {
    "duration": 9,
    "start_time": "2023-05-05T10:11:24.866Z"
   },
   {
    "duration": 8,
    "start_time": "2023-05-05T10:11:51.496Z"
   },
   {
    "duration": 3638,
    "start_time": "2023-05-05T10:12:00.876Z"
   },
   {
    "duration": 4,
    "start_time": "2023-05-05T10:12:04.517Z"
   },
   {
    "duration": 248,
    "start_time": "2023-05-05T10:12:04.522Z"
   },
   {
    "duration": 5,
    "start_time": "2023-05-05T10:12:04.772Z"
   },
   {
    "duration": 84,
    "start_time": "2023-05-05T10:12:04.778Z"
   },
   {
    "duration": 80,
    "start_time": "2023-05-05T10:12:04.864Z"
   },
   {
    "duration": 55,
    "start_time": "2023-05-05T10:12:04.945Z"
   },
   {
    "duration": 60,
    "start_time": "2023-05-05T10:12:05.002Z"
   },
   {
    "duration": 20,
    "start_time": "2023-05-05T10:12:05.064Z"
   },
   {
    "duration": 15,
    "start_time": "2023-05-05T10:12:05.087Z"
   },
   {
    "duration": 19,
    "start_time": "2023-05-05T10:12:05.103Z"
   },
   {
    "duration": 20,
    "start_time": "2023-05-05T10:12:05.124Z"
   },
   {
    "duration": 36,
    "start_time": "2023-05-05T10:12:05.145Z"
   },
   {
    "duration": 49,
    "start_time": "2023-05-05T10:12:05.183Z"
   },
   {
    "duration": 28,
    "start_time": "2023-05-05T10:12:05.233Z"
   },
   {
    "duration": 16,
    "start_time": "2023-05-05T10:12:05.262Z"
   },
   {
    "duration": 33,
    "start_time": "2023-05-05T10:12:05.280Z"
   },
   {
    "duration": 56,
    "start_time": "2023-05-05T10:12:05.315Z"
   },
   {
    "duration": 3,
    "start_time": "2023-05-05T10:12:13.909Z"
   },
   {
    "duration": 21,
    "start_time": "2023-05-05T10:12:14.045Z"
   },
   {
    "duration": 3,
    "start_time": "2023-05-05T10:12:23.778Z"
   },
   {
    "duration": 2,
    "start_time": "2023-05-05T10:12:24.094Z"
   },
   {
    "duration": 7,
    "start_time": "2023-05-05T10:12:25.721Z"
   },
   {
    "duration": 122,
    "start_time": "2023-05-05T10:12:27.499Z"
   },
   {
    "duration": 4,
    "start_time": "2023-05-05T10:12:30.662Z"
   },
   {
    "duration": 6,
    "start_time": "2023-05-05T10:12:31.708Z"
   },
   {
    "duration": 3,
    "start_time": "2023-05-05T10:12:42.767Z"
   },
   {
    "duration": 59,
    "start_time": "2023-05-05T10:13:04.582Z"
   },
   {
    "duration": 22,
    "start_time": "2023-05-05T10:13:45.645Z"
   },
   {
    "duration": 232,
    "start_time": "2023-05-05T10:13:51.574Z"
   },
   {
    "duration": 57,
    "start_time": "2023-05-05T10:13:55.029Z"
   },
   {
    "duration": 176,
    "start_time": "2023-05-05T10:13:55.566Z"
   },
   {
    "duration": 176,
    "start_time": "2023-05-05T10:13:55.757Z"
   },
   {
    "duration": 3421,
    "start_time": "2023-05-05T10:13:56.185Z"
   },
   {
    "duration": 9,
    "start_time": "2023-05-05T10:13:59.608Z"
   },
   {
    "duration": 2678,
    "start_time": "2023-05-05T10:13:59.619Z"
   },
   {
    "duration": 3,
    "start_time": "2023-05-05T10:14:08.932Z"
   },
   {
    "duration": 118,
    "start_time": "2023-05-05T10:14:09.123Z"
   },
   {
    "duration": 4,
    "start_time": "2023-05-05T10:14:09.742Z"
   },
   {
    "duration": 7,
    "start_time": "2023-05-05T10:14:15.403Z"
   },
   {
    "duration": 3,
    "start_time": "2023-05-05T10:14:15.525Z"
   },
   {
    "duration": 5,
    "start_time": "2023-05-05T10:14:18.325Z"
   },
   {
    "duration": 22,
    "start_time": "2023-05-05T10:14:18.495Z"
   },
   {
    "duration": 2,
    "start_time": "2023-05-05T10:14:28.880Z"
   },
   {
    "duration": 11,
    "start_time": "2023-05-05T10:14:28.980Z"
   },
   {
    "duration": 3,
    "start_time": "2023-05-05T10:14:31.083Z"
   },
   {
    "duration": 804,
    "start_time": "2023-05-05T10:14:32.365Z"
   },
   {
    "duration": 1499,
    "start_time": "2023-05-05T14:04:06.677Z"
   },
   {
    "duration": 0,
    "start_time": "2023-05-05T14:04:08.180Z"
   },
   {
    "duration": 0,
    "start_time": "2023-05-05T14:04:08.181Z"
   },
   {
    "duration": 0,
    "start_time": "2023-05-05T14:04:08.183Z"
   },
   {
    "duration": 0,
    "start_time": "2023-05-05T14:04:08.184Z"
   },
   {
    "duration": 0,
    "start_time": "2023-05-05T14:04:08.185Z"
   },
   {
    "duration": 0,
    "start_time": "2023-05-05T14:04:08.187Z"
   },
   {
    "duration": 0,
    "start_time": "2023-05-05T14:04:08.188Z"
   },
   {
    "duration": 0,
    "start_time": "2023-05-05T14:04:08.189Z"
   },
   {
    "duration": 0,
    "start_time": "2023-05-05T14:04:08.191Z"
   },
   {
    "duration": 0,
    "start_time": "2023-05-05T14:04:08.192Z"
   },
   {
    "duration": 0,
    "start_time": "2023-05-05T14:04:08.193Z"
   },
   {
    "duration": 0,
    "start_time": "2023-05-05T14:04:08.195Z"
   },
   {
    "duration": 0,
    "start_time": "2023-05-05T14:04:08.196Z"
   },
   {
    "duration": 0,
    "start_time": "2023-05-05T14:04:08.198Z"
   },
   {
    "duration": 0,
    "start_time": "2023-05-05T14:04:08.200Z"
   },
   {
    "duration": 0,
    "start_time": "2023-05-05T14:04:08.201Z"
   },
   {
    "duration": 0,
    "start_time": "2023-05-05T14:04:08.202Z"
   },
   {
    "duration": 0,
    "start_time": "2023-05-05T14:04:08.204Z"
   },
   {
    "duration": 0,
    "start_time": "2023-05-05T14:04:08.234Z"
   },
   {
    "duration": 0,
    "start_time": "2023-05-05T14:04:08.235Z"
   },
   {
    "duration": 0,
    "start_time": "2023-05-05T14:04:08.236Z"
   },
   {
    "duration": 0,
    "start_time": "2023-05-05T14:04:08.237Z"
   },
   {
    "duration": 0,
    "start_time": "2023-05-05T14:04:08.239Z"
   },
   {
    "duration": 0,
    "start_time": "2023-05-05T14:04:08.240Z"
   },
   {
    "duration": 0,
    "start_time": "2023-05-05T14:04:08.241Z"
   },
   {
    "duration": 0,
    "start_time": "2023-05-05T14:04:08.242Z"
   },
   {
    "duration": 0,
    "start_time": "2023-05-05T14:04:08.243Z"
   },
   {
    "duration": 0,
    "start_time": "2023-05-05T14:04:08.244Z"
   },
   {
    "duration": 0,
    "start_time": "2023-05-05T14:04:08.245Z"
   },
   {
    "duration": 0,
    "start_time": "2023-05-05T14:04:08.246Z"
   },
   {
    "duration": 0,
    "start_time": "2023-05-05T14:04:08.248Z"
   },
   {
    "duration": 0,
    "start_time": "2023-05-05T14:04:08.249Z"
   },
   {
    "duration": 0,
    "start_time": "2023-05-05T14:04:08.250Z"
   },
   {
    "duration": 0,
    "start_time": "2023-05-05T14:04:08.252Z"
   },
   {
    "duration": 0,
    "start_time": "2023-05-05T14:04:08.253Z"
   },
   {
    "duration": 0,
    "start_time": "2023-05-05T14:04:08.255Z"
   },
   {
    "duration": 0,
    "start_time": "2023-05-05T14:04:08.256Z"
   },
   {
    "duration": 0,
    "start_time": "2023-05-05T14:04:08.257Z"
   },
   {
    "duration": 0,
    "start_time": "2023-05-05T14:04:08.259Z"
   },
   {
    "duration": 0,
    "start_time": "2023-05-05T14:04:08.260Z"
   },
   {
    "duration": 0,
    "start_time": "2023-05-05T14:04:08.261Z"
   },
   {
    "duration": 0,
    "start_time": "2023-05-05T14:04:08.262Z"
   },
   {
    "duration": 0,
    "start_time": "2023-05-05T14:04:08.264Z"
   },
   {
    "duration": 0,
    "start_time": "2023-05-05T14:04:08.265Z"
   },
   {
    "duration": 0,
    "start_time": "2023-05-05T14:04:08.266Z"
   },
   {
    "duration": 0,
    "start_time": "2023-05-05T14:04:08.268Z"
   },
   {
    "duration": 0,
    "start_time": "2023-05-05T14:04:08.269Z"
   },
   {
    "duration": 0,
    "start_time": "2023-05-05T14:04:08.270Z"
   },
   {
    "duration": 0,
    "start_time": "2023-05-05T14:04:08.271Z"
   },
   {
    "duration": 0,
    "start_time": "2023-05-05T14:04:08.272Z"
   },
   {
    "duration": 0,
    "start_time": "2023-05-05T14:04:08.273Z"
   },
   {
    "duration": 0,
    "start_time": "2023-05-05T14:04:08.274Z"
   },
   {
    "duration": 0,
    "start_time": "2023-05-05T14:04:08.275Z"
   },
   {
    "duration": 0,
    "start_time": "2023-05-05T14:04:08.275Z"
   },
   {
    "duration": 0,
    "start_time": "2023-05-05T14:04:08.277Z"
   },
   {
    "duration": 0,
    "start_time": "2023-05-05T14:04:08.278Z"
   },
   {
    "duration": 0,
    "start_time": "2023-05-05T14:04:08.280Z"
   },
   {
    "duration": 6274,
    "start_time": "2023-05-05T14:04:30.302Z"
   },
   {
    "duration": 4,
    "start_time": "2023-05-05T14:04:36.579Z"
   },
   {
    "duration": 617,
    "start_time": "2023-05-05T14:04:36.584Z"
   },
   {
    "duration": 4,
    "start_time": "2023-05-05T14:04:37.202Z"
   },
   {
    "duration": 83,
    "start_time": "2023-05-05T14:04:37.208Z"
   },
   {
    "duration": 35,
    "start_time": "2023-05-05T14:04:37.292Z"
   },
   {
    "duration": 75,
    "start_time": "2023-05-05T14:04:37.329Z"
   },
   {
    "duration": 57,
    "start_time": "2023-05-05T14:04:37.405Z"
   },
   {
    "duration": 19,
    "start_time": "2023-05-05T14:04:37.463Z"
   },
   {
    "duration": 14,
    "start_time": "2023-05-05T14:04:37.484Z"
   },
   {
    "duration": 4,
    "start_time": "2023-05-05T14:04:37.499Z"
   },
   {
    "duration": 11,
    "start_time": "2023-05-05T14:04:37.504Z"
   },
   {
    "duration": 52,
    "start_time": "2023-05-05T14:04:37.516Z"
   },
   {
    "duration": 19,
    "start_time": "2023-05-05T14:04:37.573Z"
   },
   {
    "duration": 22,
    "start_time": "2023-05-05T14:04:37.594Z"
   },
   {
    "duration": 16,
    "start_time": "2023-05-05T14:04:37.617Z"
   },
   {
    "duration": 3,
    "start_time": "2023-05-05T14:04:37.634Z"
   },
   {
    "duration": 27,
    "start_time": "2023-05-05T14:04:37.638Z"
   },
   {
    "duration": 13,
    "start_time": "2023-05-05T14:04:37.669Z"
   },
   {
    "duration": 22,
    "start_time": "2023-05-05T14:04:37.684Z"
   },
   {
    "duration": 2,
    "start_time": "2023-05-05T14:04:37.707Z"
   },
   {
    "duration": 8,
    "start_time": "2023-05-05T14:04:37.710Z"
   },
   {
    "duration": 9,
    "start_time": "2023-05-05T14:04:37.719Z"
   },
   {
    "duration": 160,
    "start_time": "2023-05-05T14:04:37.729Z"
   },
   {
    "duration": 3,
    "start_time": "2023-05-05T14:04:37.891Z"
   },
   {
    "duration": 7,
    "start_time": "2023-05-05T14:04:37.895Z"
   },
   {
    "duration": 8,
    "start_time": "2023-05-05T14:04:37.903Z"
   },
   {
    "duration": 67,
    "start_time": "2023-05-05T14:04:37.912Z"
   },
   {
    "duration": 23,
    "start_time": "2023-05-05T14:04:37.981Z"
   },
   {
    "duration": 187,
    "start_time": "2023-05-05T14:04:38.005Z"
   },
   {
    "duration": 75,
    "start_time": "2023-05-05T14:04:38.193Z"
   },
   {
    "duration": 212,
    "start_time": "2023-05-05T14:04:38.269Z"
   },
   {
    "duration": 210,
    "start_time": "2023-05-05T14:04:38.482Z"
   },
   {
    "duration": 4279,
    "start_time": "2023-05-05T14:04:38.693Z"
   },
   {
    "duration": 6,
    "start_time": "2023-05-05T14:04:42.975Z"
   },
   {
    "duration": 3322,
    "start_time": "2023-05-05T14:04:42.983Z"
   },
   {
    "duration": 3,
    "start_time": "2023-05-05T14:04:46.306Z"
   },
   {
    "duration": 7,
    "start_time": "2023-05-05T14:04:46.310Z"
   },
   {
    "duration": 51,
    "start_time": "2023-05-05T14:04:46.319Z"
   },
   {
    "duration": 15,
    "start_time": "2023-05-05T14:04:46.372Z"
   },
   {
    "duration": 5,
    "start_time": "2023-05-05T14:04:46.391Z"
   },
   {
    "duration": 20,
    "start_time": "2023-05-05T14:04:46.397Z"
   },
   {
    "duration": 2,
    "start_time": "2023-05-05T14:04:46.419Z"
   },
   {
    "duration": 722,
    "start_time": "2023-05-05T14:04:46.422Z"
   },
   {
    "duration": 9,
    "start_time": "2023-05-05T14:04:47.146Z"
   },
   {
    "duration": 7814,
    "start_time": "2023-05-05T14:04:47.158Z"
   },
   {
    "duration": 140,
    "start_time": "2023-05-05T14:04:54.974Z"
   },
   {
    "duration": 4,
    "start_time": "2023-05-05T14:04:55.117Z"
   },
   {
    "duration": 4510,
    "start_time": "2023-05-05T14:08:21.704Z"
   },
   {
    "duration": 3,
    "start_time": "2023-05-05T14:08:26.216Z"
   },
   {
    "duration": 197,
    "start_time": "2023-05-05T14:08:26.220Z"
   },
   {
    "duration": 8,
    "start_time": "2023-05-05T14:08:26.420Z"
   },
   {
    "duration": 99,
    "start_time": "2023-05-05T14:08:26.430Z"
   },
   {
    "duration": 58,
    "start_time": "2023-05-05T14:08:26.531Z"
   },
   {
    "duration": 89,
    "start_time": "2023-05-05T14:08:26.591Z"
   },
   {
    "duration": 32,
    "start_time": "2023-05-05T14:08:26.681Z"
   },
   {
    "duration": 48,
    "start_time": "2023-05-05T14:08:26.715Z"
   },
   {
    "duration": 19,
    "start_time": "2023-05-05T14:08:26.766Z"
   },
   {
    "duration": 5,
    "start_time": "2023-05-05T14:08:26.787Z"
   },
   {
    "duration": 7,
    "start_time": "2023-05-05T14:08:26.794Z"
   },
   {
    "duration": 21,
    "start_time": "2023-05-05T14:08:26.802Z"
   },
   {
    "duration": 29,
    "start_time": "2023-05-05T14:08:26.824Z"
   },
   {
    "duration": 49,
    "start_time": "2023-05-05T14:08:26.855Z"
   },
   {
    "duration": 17,
    "start_time": "2023-05-05T14:08:26.906Z"
   },
   {
    "duration": 3,
    "start_time": "2023-05-05T14:08:26.925Z"
   },
   {
    "duration": 63,
    "start_time": "2023-05-05T14:08:26.930Z"
   },
   {
    "duration": 3,
    "start_time": "2023-05-05T14:08:26.995Z"
   },
   {
    "duration": 28,
    "start_time": "2023-05-05T14:08:27.000Z"
   },
   {
    "duration": 2,
    "start_time": "2023-05-05T14:08:27.030Z"
   },
   {
    "duration": 42,
    "start_time": "2023-05-05T14:08:27.038Z"
   },
   {
    "duration": 10,
    "start_time": "2023-05-05T14:08:27.081Z"
   },
   {
    "duration": 128,
    "start_time": "2023-05-05T14:08:27.093Z"
   },
   {
    "duration": 4,
    "start_time": "2023-05-05T14:08:27.224Z"
   },
   {
    "duration": 49,
    "start_time": "2023-05-05T14:08:27.234Z"
   },
   {
    "duration": 13,
    "start_time": "2023-05-05T14:08:27.285Z"
   },
   {
    "duration": 75,
    "start_time": "2023-05-05T14:08:27.304Z"
   },
   {
    "duration": 31,
    "start_time": "2023-05-05T14:08:27.381Z"
   },
   {
    "duration": 188,
    "start_time": "2023-05-05T14:08:27.414Z"
   },
   {
    "duration": 81,
    "start_time": "2023-05-05T14:08:27.604Z"
   },
   {
    "duration": 223,
    "start_time": "2023-05-05T14:08:27.687Z"
   },
   {
    "duration": 229,
    "start_time": "2023-05-05T14:08:27.911Z"
   },
   {
    "duration": 4332,
    "start_time": "2023-05-05T14:08:28.142Z"
   },
   {
    "duration": 6,
    "start_time": "2023-05-05T14:08:32.476Z"
   },
   {
    "duration": 10,
    "start_time": "2023-05-05T14:08:32.484Z"
   },
   {
    "duration": 14,
    "start_time": "2023-05-05T14:08:32.495Z"
   },
   {
    "duration": 10,
    "start_time": "2023-05-05T14:08:32.511Z"
   },
   {
    "duration": 5,
    "start_time": "2023-05-05T14:08:32.523Z"
   },
   {
    "duration": 51,
    "start_time": "2023-05-05T14:08:32.529Z"
   },
   {
    "duration": 28,
    "start_time": "2023-05-05T14:08:32.581Z"
   },
   {
    "duration": 2,
    "start_time": "2023-05-05T14:08:32.611Z"
   },
   {
    "duration": 825,
    "start_time": "2023-05-05T14:08:32.614Z"
   },
   {
    "duration": 10,
    "start_time": "2023-05-05T14:08:33.447Z"
   },
   {
    "duration": 7551,
    "start_time": "2023-05-05T14:08:33.466Z"
   },
   {
    "duration": 3,
    "start_time": "2023-05-05T14:08:41.018Z"
   },
   {
    "duration": 33,
    "start_time": "2023-05-05T14:08:41.046Z"
   },
   {
    "duration": 536501,
    "start_time": "2023-05-05T14:08:41.080Z"
   },
   {
    "duration": 3,
    "start_time": "2023-05-05T14:17:37.585Z"
   },
   {
    "duration": 14,
    "start_time": "2023-05-05T14:17:37.590Z"
   },
   {
    "duration": 202663,
    "start_time": "2023-05-05T14:17:37.605Z"
   },
   {
    "duration": 7,
    "start_time": "2023-05-05T14:21:00.269Z"
   },
   {
    "duration": 148,
    "start_time": "2023-05-05T14:21:00.277Z"
   },
   {
    "duration": 0,
    "start_time": "2023-05-05T14:21:00.427Z"
   },
   {
    "duration": 0,
    "start_time": "2023-05-05T14:21:00.429Z"
   },
   {
    "duration": 0,
    "start_time": "2023-05-05T14:21:00.430Z"
   },
   {
    "duration": 0,
    "start_time": "2023-05-05T14:21:00.432Z"
   },
   {
    "duration": 2002,
    "start_time": "2023-05-05T14:34:21.917Z"
   },
   {
    "duration": 6,
    "start_time": "2023-05-05T14:34:56.059Z"
   },
   {
    "duration": 181,
    "start_time": "2023-05-05T14:34:58.106Z"
   },
   {
    "duration": 4,
    "start_time": "2023-05-05T14:35:03.163Z"
   },
   {
    "duration": 316,
    "start_time": "2023-05-05T14:35:04.095Z"
   },
   {
    "duration": 298,
    "start_time": "2023-05-05T14:35:48.217Z"
   },
   {
    "duration": 260,
    "start_time": "2023-05-05T14:42:49.106Z"
   },
   {
    "duration": 419,
    "start_time": "2023-05-05T14:44:20.599Z"
   }
  ],
  "kernelspec": {
   "display_name": "Python 3 (ipykernel)",
   "language": "python",
   "name": "python3"
  },
  "language_info": {
   "codemirror_mode": {
    "name": "ipython",
    "version": 3
   },
   "file_extension": ".py",
   "mimetype": "text/x-python",
   "name": "python",
   "nbconvert_exporter": "python",
   "pygments_lexer": "ipython3",
   "version": "3.9.13"
  },
  "toc": {
   "base_numbering": 1,
   "nav_menu": {},
   "number_sections": true,
   "sideBar": true,
   "skip_h1_title": true,
   "title_cell": "Table of Contents",
   "title_sidebar": "Contents",
   "toc_cell": false,
   "toc_position": {
    "height": "calc(100% - 180px)",
    "left": "10px",
    "top": "150px",
    "width": "284.625px"
   },
   "toc_section_display": true,
   "toc_window_display": true
  },
  "varInspector": {
   "cols": {
    "lenName": 16,
    "lenType": 16,
    "lenVar": 40
   },
   "kernels_config": {
    "python": {
     "delete_cmd_postfix": "",
     "delete_cmd_prefix": "del ",
     "library": "var_list.py",
     "varRefreshCmd": "print(var_dic_list())"
    },
    "r": {
     "delete_cmd_postfix": ") ",
     "delete_cmd_prefix": "rm(",
     "library": "var_list.r",
     "varRefreshCmd": "cat(var_dic_list()) "
    }
   },
   "types_to_exclude": [
    "module",
    "function",
    "builtin_function_or_method",
    "instance",
    "_Feature"
   ],
   "window_display": false
  }
 },
 "nbformat": 4,
 "nbformat_minor": 5
}
